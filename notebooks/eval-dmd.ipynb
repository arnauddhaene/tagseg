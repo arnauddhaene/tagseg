{
 "cells": [
  {
   "cell_type": "code",
   "execution_count": null,
   "metadata": {},
   "outputs": [],
   "source": [
    "from typing import Tuple\n",
    "import itertools\n",
    "from pathlib import Path\n",
    "from tqdm.notebook import tqdm\n",
    "\n",
    "import numpy as np\n",
    "import pandas as pd\n",
    "import matplotlib.pyplot as plt\n",
    "\n",
    "from monai.networks import nets, one_hot\n",
    "from monai.metrics import compute_hausdorff_distance\n",
    "\n",
    "import plotly.express as px\n",
    "from plotly.colors import n_colors\n",
    "import plotly.graph_objects as go\n",
    "from plotly.subplots import make_subplots\n",
    "import plotly.io as pio\n",
    "\n",
    "pio.templates.default = \"simple_white\"\n",
    "\n",
    "import seaborn as sns\n",
    "\n",
    "import skimage as skm\n",
    "from scipy import interpolate\n",
    "\n",
    "import torch\n",
    "from torch import nn, optim\n",
    "import torch.nn.functional as F\n",
    "from torch.utils.data import Dataset, random_split, DataLoader\n",
    "from torchvision import transforms\n",
    "\n",
    "import torchio as tio\n",
    "\n",
    "from kedro.extras.datasets.pandas import CSVDataSet\n",
    "from kedro.extras.datasets.pickle import PickleDataSet"
   ]
  },
  {
   "cell_type": "code",
   "execution_count": null,
   "metadata": {},
   "outputs": [],
   "source": [
    "import os, sys\n",
    "sys.path.append(os.path.abspath('../src'))\n",
    "\n",
    "from tagseg.data import ScdEvaluator, MnmEvaluator\n",
    "from tagseg.data.dmd_dataset import DmdH5DataSet, DmdH5Evaluator\n",
    "from tagseg.models.trainer import Trainer\n",
    "from tagseg.models.segmenter import Net\n",
    "from tagseg.metrics.dice import DiceMetric\n",
    "from tagseg.pipelines.model_evaluation.nodes import tag_subjects\n",
    "from tagseg.data.dmd_dataset import DmdDataSet"
   ]
  },
  {
   "cell_type": "code",
   "execution_count": null,
   "metadata": {},
   "outputs": [],
   "source": [
    "top_h_legend = dict(orientation='h', yanchor=\"bottom\", y=1.1)"
   ]
  },
  {
   "cell_type": "code",
   "execution_count": null,
   "metadata": {},
   "outputs": [],
   "source": [
    "index = pd.read_csv('../data/07_model_output/index.csv')\n",
    "index"
   ]
  },
  {
   "cell_type": "code",
   "execution_count": null,
   "metadata": {},
   "outputs": [],
   "source": [
    "pf = PickleDataSet(filepath=f'../data/07_model_output/E150/dmd_results.pt').load()\n",
    "pf = pd.DataFrame(list(pf))"
   ]
  },
  {
   "cell_type": "code",
   "execution_count": null,
   "metadata": {},
   "outputs": [],
   "source": [
    "pf[pf.dice_lv > 0.].dice_lv.mean()"
   ]
  },
  {
   "cell_type": "code",
   "execution_count": null,
   "metadata": {},
   "outputs": [],
   "source": [
    "dfs = [] \n",
    "\n",
    "for _, row in index.iterrows():\n",
    "\n",
    "    for split in ['train', 'test']:\n",
    "\n",
    "        ext = '_train' if split == 'train' else ''\n",
    "\n",
    "        df = PickleDataSet(filepath=f'../data/07_model_output/{row.model}/dmd_results{ext}.pt').load()\n",
    "        df = pd.DataFrame(list(df))\n",
    "\n",
    "        assert 'voxel_spacing' in df.columns\n",
    "\n",
    "        df['architecture'] = row.architecture\n",
    "        df['strategy'] = row.strategy\n",
    "        df['split'] = split\n",
    "\n",
    "        dfs.append(df)"
   ]
  },
  {
   "cell_type": "code",
   "execution_count": null,
   "metadata": {},
   "outputs": [],
   "source": [
    "df = pd.concat(dfs)\n",
    "len(df)"
   ]
  },
  {
   "cell_type": "code",
   "execution_count": null,
   "metadata": {},
   "outputs": [],
   "source": [
    "results = df.pivot_table(index=['architecture', 'strategy'], values=['dice', 'hd95'], columns=['split'], aggfunc=['median', 'mean', 'std']) \\\n",
    "    .sort_index(level=[1, 2], ascending=[True, False], axis=1).reorder_levels([1, 2, 0], axis=1) \\\n",
    "    .sort_index(level=[0, 1], ascending=[False, False]) \\\n",
    "\n",
    "results"
   ]
  },
  {
   "cell_type": "code",
   "execution_count": null,
   "metadata": {},
   "outputs": [],
   "source": [
    "print(results.to_latex(\n",
    "    float_format=\"%.3f\", bold_rows=True, column_format='llrrrrrrrr', multicolumn_format='c', multirow=True,\n",
    "    caption='Something retarded'\n",
    "))"
   ]
  },
  {
   "cell_type": "code",
   "execution_count": null,
   "metadata": {},
   "outputs": [],
   "source": [
    "df = df[df.split == 'test'].reset_index()"
   ]
  },
  {
   "cell_type": "code",
   "execution_count": null,
   "metadata": {},
   "outputs": [],
   "source": [
    "df.patient_id = df.patient_id.astype(str)\n",
    "df.head()"
   ]
  },
  {
   "cell_type": "code",
   "execution_count": null,
   "metadata": {},
   "outputs": [],
   "source": [
    "sorter = ['Scratch', 'Cine', 'Physics-driven', 'CycleGAN']\n",
    "df.strategy = df.strategy.astype('category')\n",
    "df.strategy = df.strategy.cat.set_categories(sorter)\n",
    "df.sort_values('strategy', inplace=True)"
   ]
  },
  {
   "cell_type": "code",
   "execution_count": null,
   "metadata": {},
   "outputs": [],
   "source": [
    "fig = make_subplots(rows=2, cols=2, shared_yaxes=True, shared_xaxes=True, horizontal_spacing=0.02, vertical_spacing=0.10)\n",
    "\n",
    "for m, metric in enumerate(['dice', 'hd95']):\n",
    "    for i, (a, s, d) in enumerate(itertools.product(df.architecture.unique(), df.strategy.unique(), df.disease.unique())):\n",
    "\n",
    "        fdf = df[(df.architecture == a) & (df.strategy == s) & (df.disease == d)]\n",
    "        \n",
    "        fig.add_trace(\n",
    "            go.Violin(\n",
    "                x=fdf.strategy, y=fdf[metric],\n",
    "                legendgroup=d, scalegroup=d, name=d.upper(), side='negative' if d == 'control' else 'positive',\n",
    "                line_color='#197278' if d == 'control' else '#C44536', showlegend=True if i in [0, 1] and m == 1 else False,\n",
    "            ), row=m + 1, col=1 if a == 'nnUnet' else 2\n",
    "        )\n",
    "        \n",
    "        if m == 1:\n",
    "            fig.update_xaxes(title_text=a, row=2, col=1 if a == 'nnUnet' else 2)\n",
    "\n",
    "fig.update_yaxes(title_text='DSC (↑)', range=[0, 1], dtick=0.1, row=1, col=1)\n",
    "fig.update_yaxes(range=[0, 1], row=1, col=2)\n",
    "fig.update_yaxes(title_text='HD-95 [mm] (↓)', range=[0, 25], row=2, col=1)\n",
    "fig.update_yaxes(range=[0, 25], row=2, col=2)\n",
    "fig.update_traces(meanline_visible=True, width=.9, points=False)\n",
    "fig.update_layout(violingap=0, violinmode='overlay', legend=top_h_legend)\n",
    "fig.update_layout(height=800 / 1.62, width=800)\n",
    "fig.show()"
   ]
  },
  {
   "cell_type": "code",
   "execution_count": null,
   "metadata": {},
   "outputs": [],
   "source": [
    "fig.write_image(\"../../figures/disease-perf-violin.pdf\")"
   ]
  },
  {
   "cell_type": "code",
   "execution_count": null,
   "metadata": {},
   "outputs": [],
   "source": [
    "df.melt(id_vars=['patient_id', 'architecture', 'strategy'], value_vars=['dice', 'hd95']).head()"
   ]
  },
  {
   "cell_type": "code",
   "execution_count": null,
   "metadata": {},
   "outputs": [],
   "source": [
    "colors = ['#219EBC', '#FB8500', '#023047', '#C44536']\n",
    "\n",
    "fig = px.strip(\n",
    "    df.melt(id_vars=['patient_id', 'architecture', 'strategy'], value_vars=['dice', 'hd95']), \n",
    "    x='patient_id', y='value', color='strategy', facet_col='architecture', facet_row='variable',\n",
    "    labels=dict(patient_id='Patient ID', variable='Performance metric', strategy='Training strategy', architecture='Model architecture'),\n",
    "    color_discrete_sequence=colors\n",
    ")\n",
    "fig.update_yaxes(matches=None)\n",
    "fig.update_layout(legend=top_h_legend)\n",
    "\n",
    "fig.update_yaxes(title_text='HD-95 [mm] (↓)', range=[0, 25], row=1, col=1)\n",
    "fig.update_yaxes(range=[0, 25], row=1, col=2)\n",
    "for a, s in itertools.product(df.architecture.unique(), df.strategy.unique()):\n",
    "    avg = df[(df.architecture == a) & (df.strategy == s)].hd95.mean()\n",
    "    fig.add_hline(\n",
    "        y=avg, line_width=3, line_dash=\"dot\", line_color=colors[list(df.strategy.unique()).index(s)], row=1, col=int(a == 'nnUnet')\n",
    "    )\n",
    "\n",
    "fig.update_yaxes(title_text='DSC (↑)', range=[0, 1], row=2, col=1)\n",
    "fig.update_yaxes(range=[0, 1], row=2, col=2)\n",
    "for a, s in itertools.product(df.architecture.unique(), df.strategy.unique()):\n",
    "    avg = df[(df.architecture == a) & (df.strategy == s)].dice.mean()\n",
    "    fig.add_hline(\n",
    "        y=avg, line_width=3, line_dash=\"dot\", line_color=colors[list(df.strategy.unique()).index(s)], row=2, col=int(a == 'nnUnet')\n",
    "    )\n",
    "\n",
    "fig.update_layout(height=800 / 1.62, width=800)\n",
    "fig.show()"
   ]
  },
  {
   "cell_type": "code",
   "execution_count": null,
   "metadata": {},
   "outputs": [],
   "source": [
    "fig.write_image(\"../../figures/patient-performance-strip.pdf\")"
   ]
  },
  {
   "cell_type": "code",
   "execution_count": null,
   "metadata": {},
   "outputs": [],
   "source": [
    "colors = n_colors('rgb(25, 114, 120)', 'rgb(196, 69, 54)', 25, colortype='rgb')\n",
    "\n",
    "fig = make_subplots(rows=2, cols=4, shared_yaxes=True, shared_xaxes=True, horizontal_spacing=0.02, vertical_spacing=0.02)\n",
    "\n",
    "for i, architecture in enumerate(df.architecture.unique()):\n",
    "\n",
    "    fig.update_yaxes(title_text=f'{architecture}<br>Timeframe', row=i + 1, col=1)\n",
    "\n",
    "    for j, strategy in enumerate(df.strategy.unique()):\n",
    "\n",
    "        fig.update_xaxes(title_text=f'DSC (↑)<br>{strategy}', row=2, col=j + 1)\n",
    "\n",
    "        data = np.array(list(map(lambda t: np.array(df[(df.timeframe == t) & (df.architecture == architecture) & (df.strategy == strategy)].dice), range(25))))\n",
    "\n",
    "        for t, (data_line, color) in enumerate(zip(data, colors)):\n",
    "            fig.add_trace(go.Violin(name=t + 1, x=data_line, line_color=color), row=i + 1, col=j + 1)\n",
    "            fig.update_xaxes(range=[0.1, 1.2], tickvals=np.arange(0.2, 1.1, 0.1,), row=i + 1, col=j + 1)\n",
    "            fig.update_yaxes(range=[-1, 28], tickvals=np.arange(0, 30, 5), ticktext=np.arange(0, 30, 5), row=i + 1, col=j + 1)\n",
    "        \n",
    "        fig.add_vline(\n",
    "            x=data.mean(),\n",
    "            annotation_text=f\"     {data.mean():.3f}\", annotation_position=\"top right\", \n",
    "            annotation_font_color='rgb(40, 61, 59)',\n",
    "            line_width=3, line_dash=\"dot\", line_color='rgb(40, 61, 59)', row=i + 1, col=j + 1)\n",
    "\n",
    "fig.update_traces(orientation='h', side='positive', width=3, points=False)\n",
    "fig.update_layout(height=800 / 1.62, width=800, showlegend=False)\n",
    "fig.show()"
   ]
  },
  {
   "cell_type": "code",
   "execution_count": null,
   "metadata": {},
   "outputs": [],
   "source": [
    "fig.write_image(\"../../figures/model-performance-violin.pdf\")"
   ]
  },
  {
   "cell_type": "code",
   "execution_count": null,
   "metadata": {},
   "outputs": [],
   "source": [
    "fig, ax = plt.subplots(3, len(df.strategy.unique()), figsize=(12, 9))\n",
    "\n",
    "padding = 50\n",
    "\n",
    "for m, strategy in enumerate(df.strategy.unique()):\n",
    "\n",
    "    subs = df[(df.architecture == 'nnUnet') & (df.strategy == strategy)].copy()\n",
    "\n",
    "    for i, (title, quantile) in enumerate(zip(['Q1', 'Median', 'Q3'], subs.dice.quantile([.25, .5, .75]))):\n",
    "\n",
    "        subs['diff'] = (subs.dice - quantile).abs()\n",
    "\n",
    "        subject = subs.sort_values('diff', ascending=True).iloc[0]\n",
    "\n",
    "        post_process = transforms.Resize(subject.raw_shape)\n",
    "\n",
    "        image = post_process(subject.image.data)[0, 0].numpy()\n",
    "        mask = subject['raw_mask'].data[0, 0].numpy()\n",
    "        pred = subject.pred.data[0, 0].numpy()\n",
    "\n",
    "        center = [list(map(lambda a: a.mean(), np.where(mask == 1))), list(map(lambda a: a.mean(), np.where(pred == 1)))]\n",
    "\n",
    "        ax[i, m].imshow(image, cmap='gray')\n",
    "\n",
    "        # Label only once\n",
    "        for j, contour in enumerate(skm.measure.find_contours(mask, level=.5)):\n",
    "            ax[i, m].plot(*contour[:, ::-1].T, c='b', label='Manual annotation' if j == 0 else None)\n",
    "        for j, contour in enumerate(skm.measure.find_contours(pred, level=.5)):\n",
    "            ax[i, m].plot(*contour[:, ::-1].T, c='r', label='Model prediction' if j == 0 else None)\n",
    "\n",
    "        ax[i, m].get_xaxis().set_ticks([])\n",
    "        ax[i, m].get_yaxis().set_ticks([])\n",
    "\n",
    "        center_y, center_x = np.array(center).mean(axis=0)\n",
    "        ax[i, m].set_xlim(center_x - padding, center_x + padding)\n",
    "        ax[i, m].set_ylim(center_y + padding, center_y - padding)\n",
    "        \n",
    "        ax[i, 0].set_ylabel(title)\n",
    "\n",
    "    ax[0, m].set_title(strategy)\n",
    "\n",
    "ax[0, 0].legend(loc='upper left')\n",
    "\n",
    "plt.tight_layout()\n",
    "plt.savefig('../../figures/qualitative-nnUnet.pdf', bbox_inches='tight')\n",
    "plt.show()"
   ]
  },
  {
   "cell_type": "code",
   "execution_count": null,
   "metadata": {},
   "outputs": [],
   "source": [
    "fig, ax = plt.subplots(3, len(df.strategy.unique()), figsize=(12, 9))\n",
    "\n",
    "padding = 50\n",
    "\n",
    "for m, strategy in enumerate(df.strategy.unique()):\n",
    "\n",
    "    subs = df[(df.architecture == 'ResNetVAE') & (df.strategy == strategy)].copy()\n",
    "\n",
    "    for i, (title, quantile) in enumerate(zip(['Q1', 'Median', 'Q3'], subs.dice.quantile([.25, .5, .75]))):\n",
    "\n",
    "        subs['diff'] = (subs.dice - quantile).abs()\n",
    "\n",
    "        subject = subs.sort_values('diff', ascending=True).iloc[0]\n",
    "\n",
    "        post_process = transforms.Resize(subject.raw_shape)\n",
    "\n",
    "        image = post_process(subject.image.data)[0, 0].numpy()\n",
    "        mask = subject['raw_mask'].data[0, 0].numpy()\n",
    "        pred = subject.pred.data[0, 0].numpy()\n",
    "\n",
    "        center = [list(map(lambda a: a.mean(), np.where(mask == 1))), list(map(lambda a: a.mean(), np.where(pred == 1)))]\n",
    "\n",
    "        ax[i, m].imshow(image, cmap='gray')\n",
    "\n",
    "        # Label only once\n",
    "        for j, contour in enumerate(skm.measure.find_contours(mask, level=.5)):\n",
    "            ax[i, m].plot(*contour[:, ::-1].T, c='b', label='Manual annotation' if j == 0 else None)\n",
    "        for j, contour in enumerate(skm.measure.find_contours(pred, level=.5)):\n",
    "            ax[i, m].plot(*contour[:, ::-1].T, c='r', label='Model prediction' if j == 0 else None)\n",
    "\n",
    "        ax[i, m].get_xaxis().set_ticks([])\n",
    "        ax[i, m].get_yaxis().set_ticks([])\n",
    "\n",
    "        center_y, center_x = np.array(center).mean(axis=0)\n",
    "        ax[i, m].set_xlim(center_x - padding, center_x + padding)\n",
    "        ax[i, m].set_ylim(center_y + padding, center_y - padding)\n",
    "        \n",
    "        ax[i, 0].set_ylabel(title)\n",
    "\n",
    "    ax[0, m].set_title(strategy)\n",
    "\n",
    "ax[0, 0].legend(loc='upper left')\n",
    "\n",
    "plt.tight_layout()\n",
    "plt.savefig('../../figures/qualitative-ResNetVAE.pdf', bbox_inches='tight')\n",
    "plt.show()"
   ]
  }
 ],
 "metadata": {
  "kernelspec": {
   "display_name": "Python 3.8.13 ('tagseg')",
   "language": "python",
   "name": "python3"
  },
  "language_info": {
   "codemirror_mode": {
    "name": "ipython",
    "version": 3
   },
   "file_extension": ".py",
   "mimetype": "text/x-python",
   "name": "python",
   "nbconvert_exporter": "python",
   "pygments_lexer": "ipython3",
   "version": "3.8.13"
  },
  "vscode": {
   "interpreter": {
    "hash": "f96aa06bcc802279cb41a4fef15367898ee8a6505f496b2b6e706331145b8c4d"
   }
  }
 },
 "nbformat": 4,
 "nbformat_minor": 2
}
