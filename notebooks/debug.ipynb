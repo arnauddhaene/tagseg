{
 "cells": [
  {
   "cell_type": "markdown",
   "metadata": {},
   "source": [
    "##### Imports"
   ]
  },
  {
   "cell_type": "code",
   "execution_count": null,
   "metadata": {},
   "outputs": [],
   "source": [
    "from operator import itemgetter\n",
    "\n",
    "import numpy as np\n",
    "import matplotlib.pyplot as plt\n",
    "\n",
    "import aim\n",
    "\n",
    "from skimage.draw import disk\n",
    "\n",
    "from medpy.metric.binary import dc\n",
    "\n",
    "from monai.metrics import DiceMetric, HausdorffDistanceMetric, compute_meandice\n",
    "from monai.transforms import AsDiscrete, EnsureType, Compose\n",
    "from monai.data import decollate_batch\n",
    "from monai.losses import DiceLoss\n",
    "from monai.networks import one_hot\n",
    "\n",
    "import plotly.express as px\n",
    "\n",
    "import kornia.augmentation as K\n",
    "\n",
    "import torch\n",
    "from torch import nn\n",
    "from torch.utils.data.dataloader import default_collate\n",
    "from torch.utils.data import DataLoader, TensorDataset\n",
    "\n",
    "from kedro.extras.datasets.pickle import PickleDataSet"
   ]
  },
  {
   "cell_type": "code",
   "execution_count": null,
   "metadata": {},
   "outputs": [],
   "source": [
    "import os, sys\n",
    "sys.path.append(os.path.abspath('../src'))\n",
    "\n",
    "from tagseg.models.segmenter import Net\n",
    "from tagseg.models.trainer import Trainer\n",
    "from tagseg.metrics.shape import ShapeDistLoss\n",
    "from tagseg.pipelines.data_splitting.nodes import split_data"
   ]
  },
  {
   "cell_type": "markdown",
   "metadata": {},
   "source": [
    "##### Fetch data"
   ]
  },
  {
   "cell_type": "code",
   "execution_count": null,
   "metadata": {},
   "outputs": [],
   "source": [
    "dataset = PickleDataSet(filepath='../data/05_model_input/model_input.pt').load()"
   ]
  },
  {
   "cell_type": "code",
   "execution_count": null,
   "metadata": {},
   "outputs": [],
   "source": [
    "data_params = dict(\n",
    "    train_val_split=.5,\n",
    "    batch_size=8\n",
    ")\n",
    "\n",
    "ds = TensorDataset()\n",
    "ds.tensors = dataset[:128]\n",
    "\n",
    "loaders = split_data(ds, data_params)\n",
    "\n",
    "loader = loaders['loader_val']"
   ]
  },
  {
   "cell_type": "code",
   "execution_count": null,
   "metadata": {},
   "outputs": [],
   "source": [
    "list(map(lambda kv: len(kv[1]), loaders.items()))"
   ]
  },
  {
   "cell_type": "code",
   "execution_count": null,
   "metadata": {},
   "outputs": [],
   "source": [
    "img, lab = next(iter(loaders['loader_val']))\n",
    "img.shape, lab.shape"
   ]
  },
  {
   "cell_type": "code",
   "execution_count": null,
   "metadata": {},
   "outputs": [],
   "source": [
    "model = Net(learning_rate=.01, weight_decay=.001)"
   ]
  },
  {
   "cell_type": "code",
   "execution_count": null,
   "metadata": {},
   "outputs": [],
   "source": [
    "trainer = Trainer(\n",
    "    epochs=10,\n",
    "    device=torch.device('cuda:0'),\n",
    "    logger=aim.Run(experiment='Debugging'),\n",
    "    amp=True\n",
    ")"
   ]
  },
  {
   "cell_type": "code",
   "execution_count": null,
   "metadata": {},
   "outputs": [],
   "source": [
    "trainer.fit(model, loaders['loader_train'], loaders['loader_val'])"
   ]
  },
  {
   "cell_type": "code",
   "execution_count": null,
   "metadata": {},
   "outputs": [],
   "source": [
    "image, label = dataset[150]"
   ]
  },
  {
   "cell_type": "code",
   "execution_count": null,
   "metadata": {},
   "outputs": [],
   "source": [
    "output = model.forward(image.unsqueeze(0))"
   ]
  },
  {
   "cell_type": "markdown",
   "metadata": {},
   "source": [
    "##### Look at input data"
   ]
  },
  {
   "cell_type": "code",
   "execution_count": null,
   "metadata": {},
   "outputs": [],
   "source": [
    "ims, las = next(iter(loader))\n",
    "\n",
    "bs = 8\n",
    "rows = 2\n",
    "fig, ax = plt.subplots(rows, int(bs / rows), figsize=(10, 10))\n",
    "\n",
    "for i in range(bs):\n",
    "    m, n = i % rows, i // rows\n",
    "\n",
    "    ax[m, n].imshow(ims[i, 0].numpy(), cmap='gray'), ax[m, n].axis('off') \n",
    "    ax[m, n].imshow(las[i, 0].numpy(), cmap='Reds', alpha=0.5), ax[m, n].axis('off')"
   ]
  },
  {
   "cell_type": "markdown",
   "metadata": {},
   "source": [
    "##### Look at predictions from loader"
   ]
  },
  {
   "cell_type": "code",
   "execution_count": null,
   "metadata": {},
   "outputs": [],
   "source": [
    "proba: float = 0.2\n",
    "\n",
    "train_aug = K.AugmentationSequential(\n",
    "    K.RandomHorizontalFlip(p=proba),\n",
    "    K.RandomVerticalFlip(p=proba),\n",
    "    K.RandomElasticTransform(p=proba),\n",
    "    K.RandomGaussianNoise(p=proba),\n",
    "    K.RandomSharpness(p=proba),\n",
    "    K.RandomGaussianBlur(kernel_size=(3, 3), sigma=(0.1, 0.1), p=proba),\n",
    "    data_keys=[\"input\", \"mask\"],\n",
    ")\n",
    "\n",
    "ims, las = train_aug(ims, las)\n",
    "\n",
    "with torch.cuda.amp.autocast(enabled=True):\n",
    "    output = model.forward(ims)\n",
    "\n",
    "pred = output.detach().numpy()"
   ]
  },
  {
   "cell_type": "code",
   "execution_count": null,
   "metadata": {},
   "outputs": [],
   "source": [
    "fig, ax = plt.subplots(8, 4, figsize=(10, 20))\n",
    "\n",
    "for i in range(8):\n",
    "    ax[i, 0].imshow(las[i, 0]), ax[i, 0].axis('off')\n",
    "    ax[i, 1].imshow(pred[i, 0]), ax[i, 1].axis('off')\n",
    "    ax[i, 2].imshow(pred[i, 1]), ax[i, 2].axis('off')\n",
    "    ax[i, 3].imshow(output.argmax(dim=1).detach().numpy()[i]), ax[i, 3].axis('off')"
   ]
  },
  {
   "cell_type": "markdown",
   "metadata": {},
   "source": [
    "##### Test loss"
   ]
  },
  {
   "cell_type": "code",
   "execution_count": null,
   "metadata": {},
   "outputs": [],
   "source": [
    "model.loss_fn(output, las)"
   ]
  },
  {
   "cell_type": "code",
   "execution_count": null,
   "metadata": {},
   "outputs": [],
   "source": [
    "dc = DiceLoss(include_background=False, to_onehot_y=True, softmax=True)\n",
    "si = ShapeDistLoss(include_background=False, to_onehot_y=True, smooth_k=.2)\n",
    "ce = nn.CrossEntropyLoss()"
   ]
  },
  {
   "cell_type": "code",
   "execution_count": null,
   "metadata": {},
   "outputs": [],
   "source": [
    "output.shape, las.shape"
   ]
  },
  {
   "cell_type": "code",
   "execution_count": null,
   "metadata": {},
   "outputs": [],
   "source": [
    "dcm = DiceMetric(include_background=False, reduction=\"mean\", get_not_nans=False)"
   ]
  },
  {
   "cell_type": "code",
   "execution_count": null,
   "metadata": {},
   "outputs": [],
   "source": [
    "y_pred = one_hot(output.sigmoid().argmax(dim=1).unsqueeze(1), num_classes=2)\n",
    "y = one_hot(las, num_classes=2)\n",
    "\n",
    "[ dcm(o.unsqueeze(0), l.unsqueeze(0)).item() for o, l in zip(y_pred, y)]"
   ]
  },
  {
   "cell_type": "code",
   "execution_count": null,
   "metadata": {},
   "outputs": [],
   "source": [
    "compute_meandice(y_pred, y, include_background=False)"
   ]
  },
  {
   "cell_type": "code",
   "execution_count": null,
   "metadata": {},
   "outputs": [],
   "source": [
    "dcm(y_pred, y)"
   ]
  },
  {
   "cell_type": "code",
   "execution_count": null,
   "metadata": {},
   "outputs": [],
   "source": [
    "a = dcm.aggregate().item()\n",
    "print(a)\n",
    "dcm.reset()\n",
    "print(a)"
   ]
  },
  {
   "cell_type": "code",
   "execution_count": null,
   "metadata": {},
   "outputs": [],
   "source": [
    "[dc(o.unsqueeze(0), l.unsqueeze(0)).item() for o, l in zip(output, las)]"
   ]
  },
  {
   "cell_type": "code",
   "execution_count": null,
   "metadata": {},
   "outputs": [],
   "source": [
    "[ce(o.unsqueeze(0), l.long()).item() for o, l in zip(output, las)]"
   ]
  },
  {
   "cell_type": "code",
   "execution_count": null,
   "metadata": {},
   "outputs": [],
   "source": [
    "[si(o.unsqueeze(0), l.unsqueeze(0)).item() for o, l in zip(output, las)]"
   ]
  },
  {
   "cell_type": "code",
   "execution_count": null,
   "metadata": {},
   "outputs": [],
   "source": []
  }
 ],
 "metadata": {
  "interpreter": {
   "hash": "0ad42e69c0d21e96d3d26e0b34570ca4969313104102badd5550b873ed7930ce"
  },
  "kernelspec": {
   "display_name": "Python 3.8.12 ('tagroi')",
   "language": "python",
   "name": "python3"
  },
  "language_info": {
   "codemirror_mode": {
    "name": "ipython",
    "version": 3
   },
   "file_extension": ".py",
   "mimetype": "text/x-python",
   "name": "python",
   "nbconvert_exporter": "python",
   "pygments_lexer": "ipython3",
   "version": "3.8.12"
  }
 },
 "nbformat": 4,
 "nbformat_minor": 2
}
