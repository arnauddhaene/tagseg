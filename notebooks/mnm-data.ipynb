{
 "cells": [
  {
   "cell_type": "code",
   "execution_count": null,
   "metadata": {},
   "outputs": [],
   "source": [
    "from pathlib import Path\n",
    "\n",
    "import numpy as np\n",
    "import pandas as pd\n",
    "import matplotlib.pyplot as plt\n",
    "\n",
    "import torch\n",
    "from torch.utils.data import TensorDataset\n",
    "from tqdm import tqdm"
   ]
  },
  {
   "cell_type": "code",
   "execution_count": null,
   "metadata": {},
   "outputs": [],
   "source": [
    "import os, sys\n",
    "sys.path.append(os.path.abspath('../src'))\n",
    "\n",
    "from tagseg.data.utils import load_nii\n",
    "from tagseg.data.mnm_dataset import MnmDataSet"
   ]
  },
  {
   "cell_type": "markdown",
   "metadata": {},
   "source": [
    "### Information from CSV"
   ]
  },
  {
   "cell_type": "code",
   "execution_count": null,
   "metadata": {},
   "outputs": [],
   "source": [
    "raw_path = Path('../data/01_raw/OpenDataset/Training/Labeled')"
   ]
  },
  {
   "cell_type": "code",
   "execution_count": null,
   "metadata": {},
   "outputs": [],
   "source": [
    "df = pd.read_csv('../data/01_raw/OpenDataset/211230_M&Ms_Dataset_information_diagnosis_opendataset.csv', index_col=0)"
   ]
  },
  {
   "cell_type": "code",
   "execution_count": null,
   "metadata": {},
   "outputs": [],
   "source": [
    "df.head()"
   ]
  },
  {
   "cell_type": "markdown",
   "metadata": {},
   "source": [
    "### Loading Dataset with custom loader"
   ]
  },
  {
   "cell_type": "code",
   "execution_count": null,
   "metadata": {},
   "outputs": [],
   "source": [
    "mnm = MnmDataSet(\n",
    "    filepath='../data/03_primary/mnm_train.pt', \n",
    "    load_args=dict(\n",
    "        filepath_raw = '../data/01_raw/OpenDataset/Training/Labeled',\n",
    "        only_myo=True\n",
    "    )\n",
    ")"
   ]
  },
  {
   "cell_type": "code",
   "execution_count": null,
   "metadata": {},
   "outputs": [],
   "source": [
    "!rm ../data/03_primary/mnm_train.pt"
   ]
  },
  {
   "cell_type": "code",
   "execution_count": null,
   "metadata": {},
   "outputs": [],
   "source": [
    "dataset = mnm.load()\n",
    "mnm.save(dataset)"
   ]
  },
  {
   "cell_type": "code",
   "execution_count": null,
   "metadata": {},
   "outputs": [],
   "source": [
    "len(dataset)"
   ]
  },
  {
   "cell_type": "code",
   "execution_count": null,
   "metadata": {},
   "outputs": [],
   "source": [
    "c_slice, c_phase = 6, 9\n",
    "\n",
    "fig, ax = plt.subplots(1, 3, figsize=(20, 7))\n",
    "\n",
    "ax[0].imshow(images[..., c_slice, c_phase], cmap='gray')\n",
    "ax[1].imshow(labels[..., c_slice, c_phase], cmap='viridis')\n",
    "\n",
    "masked = np.ma.masked_where(labels[..., c_slice, c_phase] == 0, labels[..., c_slice, c_phase])\n",
    "ax[2].imshow(images[..., c_slice, c_phase], cmap='gray')\n",
    "ax[2].imshow(masked, cmap='jet', interpolation='nearest', alpha=0.3)"
   ]
  },
  {
   "cell_type": "code",
   "execution_count": null,
   "metadata": {},
   "outputs": [],
   "source": [
    "M, N = 20, 5\n",
    "fig, ax = plt.subplots(M, N, figsize=(20, 100))\n",
    "\n",
    "for i in range(M * N):\n",
    "    m, n = i % M, i // M\n",
    "    ax[m, n].imshow(dataset[i][0][0].cpu(), cmap='gray')\n",
    "    \n",
    "    mask = dataset[i][1].cpu()\n",
    "    mask = np.ma.masked_where(mask == 0, mask)\n",
    "    ax[m, n].imshow(mask, cmap='Reds', alpha=0.8)\n",
    "    \n",
    "    ax[m, n].axis('off')"
   ]
  },
  {
   "cell_type": "code",
   "execution_count": null,
   "metadata": {},
   "outputs": [],
   "source": []
  }
 ],
 "metadata": {
  "interpreter": {
   "hash": "0ad42e69c0d21e96d3d26e0b34570ca4969313104102badd5550b873ed7930ce"
  },
  "kernelspec": {
   "display_name": "Python 3.8.12 ('tagroi')",
   "language": "python",
   "name": "python3"
  },
  "language_info": {
   "codemirror_mode": {
    "name": "ipython",
    "version": 3
   },
   "file_extension": ".py",
   "mimetype": "text/x-python",
   "name": "python",
   "nbconvert_exporter": "python",
   "pygments_lexer": "ipython3",
   "version": "3.8.12"
  }
 },
 "nbformat": 4,
 "nbformat_minor": 2
}
