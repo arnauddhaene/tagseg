{
 "cells": [
  {
   "cell_type": "code",
   "execution_count": 1,
   "metadata": {},
   "outputs": [],
   "source": [
    "from pathlib import Path\n",
    "import shutil\n",
    "\n",
    "import h5py\n",
    "\n",
    "import numpy as np\n",
    "import matplotlib.pyplot as plt\n",
    "from skimage.draw import polygon, polygon2mask\n",
    "\n",
    "from sklearn.model_selection import train_test_split"
   ]
  },
  {
   "cell_type": "code",
   "execution_count": null,
   "metadata": {},
   "outputs": [],
   "source": [
    "from kedro.extras.datasets.pickle import PickleDataSet\n",
    "from kedro.config import ConfigLoader\n",
    "\n",
    "import os, sys\n",
    "sys.path.append(os.path.abspath('..'))\n",
    "sys.path.append(os.path.abspath('../src/'))\n",
    "\n",
    "from src.tagseg.data.acdc_dataset import AcdcDataSet\n",
    "from src.tagseg.data.dmd_dataset import DmdDataSet, DmdTimeDataSet, DmdH5DataSet\n",
    "from src.tagseg.pipelines.data_splitting.nodes import split_data"
   ]
  },
  {
   "cell_type": "code",
   "execution_count": 3,
   "metadata": {},
   "outputs": [],
   "source": [
    "filepath_raw = '../data/01_raw/dmd_alex/all/'"
   ]
  },
  {
   "cell_type": "code",
   "execution_count": 4,
   "metadata": {},
   "outputs": [],
   "source": [
    "ds = DmdH5DataSet(\n",
    "    filepath='../data/03_primary/dmd_alex_wtv.pt'\n",
    ")._load_except(filepath_raw)"
   ]
  },
  {
   "cell_type": "code",
   "execution_count": 5,
   "metadata": {},
   "outputs": [
    {
     "data": {
      "text/plain": [
       "1250"
      ]
     },
     "execution_count": 5,
     "metadata": {},
     "output_type": "execute_result"
    }
   ],
   "source": [
    "len(ds)"
   ]
  },
  {
   "cell_type": "code",
   "execution_count": null,
   "metadata": {},
   "outputs": [],
   "source": []
  },
  {
   "cell_type": "code",
   "execution_count": null,
   "metadata": {},
   "outputs": [],
   "source": [
    "N = 15\n",
    "\n",
    "fig, ax = plt.subplots(len(ds) // N + 1, N, figsize=(40, 200))\n",
    "\n",
    "for i in range(len(ds)):\n",
    "\n",
    "    m, n = i // N, i % N\n",
    "\n",
    "    im, la = ds[i]\n",
    "\n",
    "    ax[m, n].imshow(im[0], cmap='gray')\n",
    "    ax[m, n].imshow(np.ma.masked_where(la[0] == 0, la[0]), alpha=0.3)\n",
    "    ax[m, n].axis('off')\n",
    "\n",
    "    y, x = tuple(map(lambda p: p.mean(), np.where(la == 1)[1:]))\n",
    "\n",
    "    ax[m, n].set_xlim(x - 40, x + 40)\n",
    "    ax[m, n].set_ylim(y - 40, y + 40)"
   ]
  },
  {
   "cell_type": "markdown",
   "metadata": {},
   "source": [
    "Split dataset from /all to /train and /test"
   ]
  },
  {
   "cell_type": "code",
   "execution_count": 4,
   "metadata": {},
   "outputs": [],
   "source": [
    "filepath_all = Path('../data/01_raw/dmd_alex/all/')"
   ]
  },
  {
   "cell_type": "code",
   "execution_count": 5,
   "metadata": {},
   "outputs": [
    {
     "name": "stdout",
     "output_type": "stream",
     "text": [
      "Total of 50 equating to 1250 2D images.\n"
     ]
    }
   ],
   "source": [
    "def get_img_path(roi_path: str):\n",
    "    return roi_path.parent / ('_'.join(roi_path.stem.split('_')[:-1]) + '.h5')\n",
    "\n",
    "subjects = [(get_img_path(roi_path), roi_path) for roi_path in filepath_all.iterdir() if roi_path.stem.split('_')[-1] == 'roi']\n",
    "\n",
    "print(f'Total of {len(subjects)} equating to {len(subjects) * 25} 2D images.')"
   ]
  },
  {
   "cell_type": "code",
   "execution_count": 6,
   "metadata": {},
   "outputs": [],
   "source": [
    "splits_paths = train_test_split(subjects, test_size=0.2)"
   ]
  },
  {
   "cell_type": "code",
   "execution_count": 8,
   "metadata": {},
   "outputs": [],
   "source": [
    "for split, split_path in zip(['train', 'test'], splits_paths):\n",
    "\n",
    "    save_path = Path('../data/01_raw/dmd_alex/') / split\n",
    "    if save_path.exists():\n",
    "        shutil.rmtree(save_path)\n",
    "\n",
    "    save_path.mkdir()\n",
    "\n",
    "    for im_p, la_p in split_path:\n",
    "\n",
    "        shutil.copy(im_p, save_path / im_p.name)\n",
    "        shutil.copy(la_p, save_path / la_p.name)"
   ]
  },
  {
   "cell_type": "code",
   "execution_count": null,
   "metadata": {},
   "outputs": [],
   "source": [
    "dataset = PickleDataSet(filepath='../data/05_model_input/model_input.pt').load()"
   ]
  },
  {
   "cell_type": "code",
   "execution_count": null,
   "metadata": {},
   "outputs": [],
   "source": [
    "len(dataset)"
   ]
  },
  {
   "cell_type": "code",
   "execution_count": null,
   "metadata": {},
   "outputs": [],
   "source": [
    "im, la = dataset[0]"
   ]
  },
  {
   "cell_type": "code",
   "execution_count": null,
   "metadata": {},
   "outputs": [],
   "source": [
    "im.shape, la.shape"
   ]
  },
  {
   "cell_type": "code",
   "execution_count": null,
   "metadata": {},
   "outputs": [],
   "source": []
  }
 ],
 "metadata": {
  "interpreter": {
   "hash": "f96aa06bcc802279cb41a4fef15367898ee8a6505f496b2b6e706331145b8c4d"
  },
  "kernelspec": {
   "display_name": "Python 3.8.13 ('tagseg')",
   "language": "python",
   "name": "python3"
  },
  "language_info": {
   "codemirror_mode": {
    "name": "ipython",
    "version": 3
   },
   "file_extension": ".py",
   "mimetype": "text/x-python",
   "name": "python",
   "nbconvert_exporter": "python",
   "pygments_lexer": "ipython3",
   "version": "3.8.13"
  },
  "orig_nbformat": 4
 },
 "nbformat": 4,
 "nbformat_minor": 2
}
