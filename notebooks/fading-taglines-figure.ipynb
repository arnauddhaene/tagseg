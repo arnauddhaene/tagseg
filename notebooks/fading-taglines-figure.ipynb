{
 "cells": [
  {
   "cell_type": "code",
   "execution_count": null,
   "metadata": {},
   "outputs": [],
   "source": [
    "from typing import Tuple\n",
    "import itertools\n",
    "from pathlib import Path\n",
    "from tqdm.notebook import tqdm\n",
    "\n",
    "import numpy as np\n",
    "import pandas as pd\n",
    "import matplotlib.pyplot as plt\n",
    "\n",
    "from monai.networks import nets, one_hot\n",
    "from monai.metrics import compute_hausdorff_distance\n",
    "\n",
    "import plotly.express as px\n",
    "from plotly.colors import n_colors\n",
    "import plotly.graph_objects as go\n",
    "from plotly.subplots import make_subplots\n",
    "import plotly.io as pio\n",
    "\n",
    "pio.templates.default = \"simple_white\"\n",
    "\n",
    "import skimage as skm\n",
    "from scipy import interpolate\n",
    "\n",
    "import torch\n",
    "from torch import nn, optim\n",
    "import torch.nn.functional as F\n",
    "from torch.utils.data import Dataset, random_split, DataLoader\n",
    "from torchvision import transforms\n",
    "\n",
    "import torchio as tio\n",
    "\n",
    "from kedro.extras.datasets.pandas import CSVDataSet\n",
    "from kedro.extras.datasets.pickle import PickleDataSet"
   ]
  },
  {
   "cell_type": "code",
   "execution_count": null,
   "metadata": {},
   "outputs": [],
   "source": [
    "import os, sys\n",
    "sys.path.append(os.path.abspath('../src'))\n",
    "\n",
    "from tagseg.data import ScdEvaluator, MnmEvaluator\n",
    "from tagseg.data.dmd_dataset import DmdH5DataSet, DmdH5Evaluator\n",
    "from tagseg.models.trainer import Trainer\n",
    "from tagseg.models.segmenter import Net\n",
    "from tagseg.metrics.dice import DiceMetric\n",
    "from tagseg.pipelines.model_evaluation.nodes import tag_subjects\n",
    "from tagseg.data.dmd_dataset import DmdDataSet"
   ]
  },
  {
   "cell_type": "code",
   "execution_count": null,
   "metadata": {},
   "outputs": [],
   "source": [
    "model = 'model_cine_v6_tag_v1_dmd_v2'\n",
    "\n",
    "df = PickleDataSet(filepath=f'../data/07_model_output/{model}/dmd_results.pt').load()\n",
    "df = pd.DataFrame(list(df))"
   ]
  },
  {
   "cell_type": "code",
   "execution_count": null,
   "metadata": {},
   "outputs": [],
   "source": [
    "fig = px.scatter(df, x='timeframe', y='dice', color='patient_id')\n",
    "fig.update_xaxes(title_text='Timeframe')\n",
    "fig.update_yaxes(title_text='DSC', range=[0.65, .95])\n",
    "fig.update_layout(height=800 / 1.62, width=800)\n",
    "fig.show()"
   ]
  },
  {
   "cell_type": "code",
   "execution_count": null,
   "metadata": {},
   "outputs": [],
   "source": [
    "fig.write_image(\"../../figures/patient-008-timeframe-dice.pdf\")"
   ]
  },
  {
   "cell_type": "code",
   "execution_count": null,
   "metadata": {},
   "outputs": [],
   "source": [
    "timeframes = [1, 7, 14, 24]\n",
    "datas = [\n",
    "    list(map(lambda i: df[(df.patient_id == '008') & (df.timeframe == i)][['image', 'raw_mask', 'pred', 'dice']], timeframes)),\n",
    "    list(map(lambda i: df[(df.patient_id == '204') & (df.timeframe == i)][['image', 'raw_mask', 'pred', 'dice']], timeframes)),\n",
    "    list(map(lambda i: df[(df.patient_id == '207') & (df.timeframe == i)][['image', 'raw_mask', 'pred', 'dice']], timeframes))\n",
    "]"
   ]
  },
  {
   "cell_type": "code",
   "execution_count": null,
   "metadata": {},
   "outputs": [],
   "source": [
    "fig, ax = plt.subplots(3, 4, figsize=(8, 7))\n",
    "pids = ['008', '204', '207']\n",
    "\n",
    "for row, data in enumerate(datas):\n",
    "    for i, tf in enumerate(timeframes):\n",
    "        subject = data[i].iloc[0]\n",
    "        raw_shape = subject.raw_mask.shape[2:]\n",
    "        \n",
    "        postprocess = transforms.Resize(raw_shape, interpolation=transforms.InterpolationMode.NEAREST)\n",
    "        ax[row, i].imshow(postprocess(subject.image.data)[0, 0], cmap='gray')\n",
    "\n",
    "        # ground truth\n",
    "        contours = skm.measure.find_contours(subject.raw_mask.data[0, 0].numpy())\n",
    "        for j, contour in enumerate(contours):\n",
    "            ax[row, i].plot(*contour[:, ::-1].T, c='b', alpha=0.8, label='Manual annotation' if j == 0 else None)\n",
    "\n",
    "        cy, cx = np.vstack(contours).mean(axis=0)\n",
    "\n",
    "        # predictions\n",
    "        contours = skm.measure.find_contours(subject.pred.data[0, 0].numpy())\n",
    "        for j, contour in enumerate(contours):\n",
    "            ax[row, i].plot(*contour[:, ::-1].T, c='r', alpha=0.8, label='Model prediction' if j == 0 else None)\n",
    "\n",
    "        if row == 0:\n",
    "            ax[row, i].set_title(f'Timeframe {tf}')\n",
    "        if i == 0:\n",
    "            ax[row, i].set_ylabel(f'Patient {pids[row]}')\n",
    "        ax[row, i].set_xlabel(f'DSC {subject.dice:.3f}')\n",
    "        ax[row, i].set_xticks([])\n",
    "        ax[row, i].set_yticks([])\n",
    "\n",
    "        padding = 40\n",
    "\n",
    "        ax[row, i].set_xlim(cx - padding, cx + padding)\n",
    "        ax[row, i].set_ylim(cy + padding, cy - padding)\n",
    "\n",
    "ax[0, 0].legend(loc='upper left')\n",
    "\n",
    "plt.tight_layout()\n",
    "plt.subplots_adjust(left=0.01, bottom=0.01, right=0.99, top=0.99, hspace=0., wspace=0.)\n",
    "plt.savefig('../../figures/patient-008-example-segs.pdf', bbox_inches='tight')\n",
    "plt.show()"
   ]
  },
  {
   "cell_type": "code",
   "execution_count": null,
   "metadata": {},
   "outputs": [],
   "source": []
  }
 ],
 "metadata": {
  "kernelspec": {
   "display_name": "Python 3.8.13 ('tagseg')",
   "language": "python",
   "name": "python3"
  },
  "language_info": {
   "codemirror_mode": {
    "name": "ipython",
    "version": 3
   },
   "file_extension": ".py",
   "mimetype": "text/x-python",
   "name": "python",
   "nbconvert_exporter": "python",
   "pygments_lexer": "ipython3",
   "version": "3.8.13"
  },
  "vscode": {
   "interpreter": {
    "hash": "f96aa06bcc802279cb41a4fef15367898ee8a6505f496b2b6e706331145b8c4d"
   }
  }
 },
 "nbformat": 4,
 "nbformat_minor": 2
}
