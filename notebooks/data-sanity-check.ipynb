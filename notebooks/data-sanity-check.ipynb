{
 "cells": [
  {
   "cell_type": "markdown",
   "metadata": {},
   "source": [
    "##### Imports"
   ]
  },
  {
   "cell_type": "code",
   "execution_count": null,
   "metadata": {},
   "outputs": [],
   "source": [
    "from operator import itemgetter\n",
    "\n",
    "import numpy as np\n",
    "import pandas as pd\n",
    "import matplotlib.pyplot as plt\n",
    "\n",
    "import aim\n",
    "\n",
    "import plotly.express as px\n",
    "\n",
    "from skimage.draw import disk\n",
    "\n",
    "from medpy.metric.binary import dc\n",
    "\n",
    "from monai.metrics import DiceMetric, HausdorffDistanceMetric, compute_meandice\n",
    "from monai.transforms import AsDiscrete, EnsureType, Compose\n",
    "from monai.data import decollate_batch\n",
    "from monai.losses import DiceLoss\n",
    "from monai.networks import one_hot\n",
    "\n",
    "import plotly.express as px\n",
    "\n",
    "import kornia.augmentation as K\n",
    "\n",
    "import torch\n",
    "from torch import nn\n",
    "from torch.utils.data.dataloader import default_collate\n",
    "from torch.utils.data import DataLoader, TensorDataset\n",
    "\n",
    "from kedro.extras.datasets.pickle import PickleDataSet"
   ]
  },
  {
   "cell_type": "code",
   "execution_count": null,
   "metadata": {},
   "outputs": [],
   "source": [
    "import os, sys\n",
    "sys.path.append(os.path.abspath('../src'))\n",
    "\n",
    "from tagseg.models.segmenter import Net\n",
    "from tagseg.models.trainer import Trainer\n",
    "from tagseg.metrics.shape import ShapeDistLoss\n",
    "from tagseg.pipelines.data_splitting.nodes import split_data"
   ]
  },
  {
   "cell_type": "markdown",
   "metadata": {},
   "source": [
    "##### Fetch data"
   ]
  },
  {
   "cell_type": "code",
   "execution_count": null,
   "metadata": {},
   "outputs": [],
   "source": [
    "dataset = PickleDataSet(filepath='../data/05_model_input/model_input.pt').load()"
   ]
  },
  {
   "cell_type": "code",
   "execution_count": null,
   "metadata": {},
   "outputs": [],
   "source": [
    "len(dataset)"
   ]
  },
  {
   "cell_type": "code",
   "execution_count": null,
   "metadata": {},
   "outputs": [],
   "source": [
    "examples, labels = dataset.tensors"
   ]
  },
  {
   "cell_type": "code",
   "execution_count": null,
   "metadata": {},
   "outputs": [],
   "source": [
    "m, n = 3, 4\n",
    "\n",
    "fig, ax = plt.subplots(m, n, figsize=(20, 15))\n",
    "\n",
    "for a in range(m * n):\n",
    "    i, j = a % m, a // m\n",
    "\n",
    "    ax[i, j].imshow(examples[a, 0], cmap='gray')\n",
    "    ax[i, j].imshow(np.ma.masked_where(labels[a, 0] == 0, labels[a, 0]), cmap='jet', alpha=1)\n",
    "    ax[i, j].axis('off')"
   ]
  },
  {
   "cell_type": "code",
   "execution_count": null,
   "metadata": {},
   "outputs": [],
   "source": [
    "laplace_kernel = nn.Conv2d(1, 1, (3, 3), bias=False)\n",
    "laplace_kernel.weight = torch.nn.Parameter(torch.tensor([[[[0, 1, 0], [1, -4, 1], [0, 1, 0]]]]).double())"
   ]
  },
  {
   "cell_type": "code",
   "execution_count": null,
   "metadata": {},
   "outputs": [],
   "source": [
    "storage = []\n",
    "\n",
    "for image, label in dataset:\n",
    "\n",
    "    information = dict(\n",
    "        mean=image.mean().item(),\n",
    "        std=image.std().item(),\n",
    "        label_pixels=label.sum().item(),\n",
    "        variance_lap=laplace_kernel(image.unsqueeze(0)).var().item()\n",
    "    )\n",
    "\n",
    "    storage.append(information)\n",
    "\n",
    "df = pd.DataFrame(storage)"
   ]
  },
  {
   "cell_type": "code",
   "execution_count": null,
   "metadata": {},
   "outputs": [],
   "source": [
    "df.head()"
   ]
  },
  {
   "cell_type": "code",
   "execution_count": null,
   "metadata": {},
   "outputs": [],
   "source": [
    "px.histogram(df, x=['mean', 'std'])"
   ]
  },
  {
   "cell_type": "code",
   "execution_count": null,
   "metadata": {},
   "outputs": [],
   "source": [
    "px.histogram(df, 'label_pixels')"
   ]
  },
  {
   "cell_type": "code",
   "execution_count": null,
   "metadata": {},
   "outputs": [],
   "source": [
    "px.histogram(df, 'variance_lap')"
   ]
  },
  {
   "cell_type": "code",
   "execution_count": null,
   "metadata": {},
   "outputs": [],
   "source": []
  }
 ],
 "metadata": {
  "kernelspec": {
   "display_name": "Python 3.8.13 ('tagseg')",
   "language": "python",
   "name": "python3"
  },
  "language_info": {
   "codemirror_mode": {
    "name": "ipython",
    "version": 3
   },
   "file_extension": ".py",
   "mimetype": "text/x-python",
   "name": "python",
   "nbconvert_exporter": "python",
   "pygments_lexer": "ipython3",
   "version": "3.8.13"
  },
  "vscode": {
   "interpreter": {
    "hash": "f96aa06bcc802279cb41a4fef15367898ee8a6505f496b2b6e706331145b8c4d"
   }
  }
 },
 "nbformat": 4,
 "nbformat_minor": 2
}
