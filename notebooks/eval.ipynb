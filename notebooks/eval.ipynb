{
 "cells": [
  {
   "cell_type": "code",
   "execution_count": null,
   "metadata": {},
   "outputs": [],
   "source": [
    "from typing import Tuple\n",
    "from pathlib import Path\n",
    "from tqdm.notebook import tqdm\n",
    "\n",
    "import numpy as np\n",
    "import pandas as pd\n",
    "import matplotlib.pyplot as plt\n",
    "\n",
    "from skimage.draw import polygon, polygon2mask\n",
    "from skimage import measure\n",
    "\n",
    "from monai.networks import nets, one_hot\n",
    "from monai.metrics import compute_hausdorff_distance\n",
    "\n",
    "import plotly.express as px\n",
    "\n",
    "import torch\n",
    "from torch import nn, optim\n",
    "import torch.nn.functional as F\n",
    "from torch.utils.data import Dataset, random_split, DataLoader\n",
    "from torchvision import transforms\n",
    "\n",
    "import torchio as tio\n",
    "\n",
    "from kedro.extras.datasets.pandas import CSVDataSet\n",
    "from kedro.extras.datasets.pickle import PickleDataSet"
   ]
  },
  {
   "cell_type": "code",
   "execution_count": null,
   "metadata": {},
   "outputs": [],
   "source": [
    "import os, sys\n",
    "sys.path.append(os.path.abspath('../src'))\n",
    "\n",
    "from tagseg.data import ScdEvaluator, MnmEvaluator, TagSegDataSet\n",
    "from tagseg.data.dmd_dataset import DmdH5DataSet\n",
    "from tagseg.models.trainer import Trainer\n",
    "from tagseg.models.segmenter import Net\n",
    "from tagseg.metrics.dice import DiceMetric\n",
    "from tagseg.pipelines.model_evaluation.nodes import tag_subjects\n",
    "from tagseg.data.dmd_dataset import DmdDataSet"
   ]
  },
  {
   "cell_type": "markdown",
   "metadata": {},
   "source": [
    "##### DMD H5"
   ]
  },
  {
   "cell_type": "code",
   "execution_count": null,
   "metadata": {},
   "outputs": [],
   "source": [
    "dmd = DmdH5DataSet(\n",
    "    filepath='../data/03_primary/dmd_wtv.pt'\n",
    ")._load_except(filepath_raw='../data/01_raw/dmd_alex/train')"
   ]
  },
  {
   "cell_type": "code",
   "execution_count": null,
   "metadata": {},
   "outputs": [],
   "source": [
    "mask = dmd[0][1][0]\n",
    "pred = dmd[14][1][0]"
   ]
  },
  {
   "cell_type": "code",
   "execution_count": null,
   "metadata": {},
   "outputs": [],
   "source": [
    "nmask = measure.label(mask + 1)\n",
    "npred = measure.label(pred + 1)"
   ]
  },
  {
   "cell_type": "code",
   "execution_count": null,
   "metadata": {},
   "outputs": [],
   "source": [
    "dice_metric = DiceMetric(include_background=False)"
   ]
  },
  {
   "cell_type": "code",
   "execution_count": null,
   "metadata": {},
   "outputs": [],
   "source": [
    "nmask_myo = one_hot(torch.tensor(nmask == 2).reshape(1, 1, 256, 256), num_classes=2)\n",
    "nmask_lv = one_hot(torch.tensor(nmask == 3).reshape(1, 1, 256, 256), num_classes=2)\n",
    "\n",
    "npred_myo = one_hot(torch.tensor(npred == 2).reshape(1, 1, 256, 256), num_classes=2)\n",
    "npred_lv = one_hot(torch.tensor(npred == 3).reshape(1, 1, 256, 256), num_classes=2)"
   ]
  },
  {
   "cell_type": "code",
   "execution_count": null,
   "metadata": {},
   "outputs": [],
   "source": [
    "dices = dice_metric(y_pred=npred_myo, y=nmask_myo),  dice_metric(y_pred=npred_lv, y=nmask_lv)\n",
    "hd95 = compute_hausdorff_distance(\n",
    "    one_hot(npred_myo.argmax(dim=1, keepdim=True), num_classes=2), nmask_myo,\n",
    "    include_background=False, percentile=95), \\\n",
    "        compute_hausdorff_distance(\n",
    "    one_hot(npred_lv.argmax(dim=1, keepdim=True), num_classes=2), nmask_lv,\n",
    "    include_background=False, percentile=95)"
   ]
  },
  {
   "cell_type": "code",
   "execution_count": null,
   "metadata": {},
   "outputs": [],
   "source": [
    "dices"
   ]
  },
  {
   "cell_type": "code",
   "execution_count": null,
   "metadata": {},
   "outputs": [],
   "source": [
    "hd95"
   ]
  },
  {
   "cell_type": "code",
   "execution_count": null,
   "metadata": {},
   "outputs": [],
   "source": [
    "plt.imshow(npred)\n",
    "plt.colorbar()"
   ]
  },
  {
   "cell_type": "code",
   "execution_count": null,
   "metadata": {},
   "outputs": [],
   "source": [
    "plt.imshow(nmask)"
   ]
  },
  {
   "cell_type": "markdown",
   "metadata": {},
   "source": [
    "### Rest"
   ]
  },
  {
   "cell_type": "code",
   "execution_count": null,
   "metadata": {},
   "outputs": [],
   "source": [
    "model = Net(\n",
    "    load_model='../data/06_models/model_cine_v6_tag_v1_dmd_v1.pt',\n",
    "    model_type='SegResNetVAE'\n",
    ")"
   ]
  },
  {
   "cell_type": "code",
   "execution_count": null,
   "metadata": {},
   "outputs": [],
   "source": [
    "original_path = '/home/loecher/dmd_org2/GROUP_1/CONTROL/CHOC/16-000297-201/base/tag_cine_SA__Base_fl2d9_grid_10/im_s4983_0006.dcm'"
   ]
  },
  {
   "cell_type": "code",
   "execution_count": null,
   "metadata": {},
   "outputs": [],
   "source": [
    "import pydicom as dicom\n",
    "\n",
    "ds = dicom.dcmread(original_path)"
   ]
  },
  {
   "cell_type": "code",
   "execution_count": null,
   "metadata": {},
   "outputs": [],
   "source": [
    "pixel_spacing = 1.4285714626312"
   ]
  },
  {
   "cell_type": "code",
   "execution_count": null,
   "metadata": {},
   "outputs": [],
   "source": [
    "import h5py\n",
    "\n",
    "img_hf = h5py.File('../data/01_raw/dmd_alex/test/1_C_C_201_base.h5', 'r')\n",
    "roi_hf = h5py.File('../data/01_raw/dmd_alex/test/1_C_C_201_base_roi.h5', 'r')\n",
    "\n",
    "t = 5\n",
    "\n",
    "imt = np.array(img_hf.get('imt')).swapaxes(0, 2)\n",
    "image = imt[t]\n",
    "image = image / image.max()\n",
    "image = TagSegDataSet._preprocess_image(0.456, 0.224)(image).unsqueeze(0)\n",
    "\n",
    "pts_inner = np.array(list(map(lambda i: np.array(roi_hf[roi_hf.get('pts_interp_inner')[i][0]]),\n",
    "                                range(roi_hf.get('pts_interp_inner').shape[0]))))\n",
    "pts_outer = np.array(list(map(lambda i: np.array(roi_hf[roi_hf.get('pts_interp_outer')[i][0]]),\n",
    "                                range(roi_hf.get('pts_interp_inner').shape[0]))))\n",
    "\n",
    "inner = polygon2mask(imt.shape[1:],\n",
    "                        np.array(polygon(pts_inner[t, :, 1], pts_inner[t, :, 0])).T)\n",
    "outer = polygon2mask(imt.shape[1:],\n",
    "                        np.array(polygon(pts_outer[t, :, 1], pts_outer[t, :, 0])).T)\n",
    "\n",
    "label = outer ^ inner\n",
    "label = label.astype(np.float64)\n",
    "# label = TagSegDataSet._preprocess_label()(label).unsqueeze(0)"
   ]
  },
  {
   "cell_type": "code",
   "execution_count": null,
   "metadata": {},
   "outputs": [],
   "source": [
    "imt.shape"
   ]
  },
  {
   "cell_type": "code",
   "execution_count": null,
   "metadata": {},
   "outputs": [],
   "source": [
    "back = transforms.Resize((224, 180))"
   ]
  },
  {
   "cell_type": "code",
   "execution_count": null,
   "metadata": {},
   "outputs": [],
   "source": [
    "# image, label = dmd_test[0]\n",
    "\n",
    "output = model.forward(image).sigmoid()\n",
    "\n",
    "y_pred = one_hot(back(output.argmax(dim=1, keepdim=True)), num_classes=2)\n",
    "y = one_hot(torch.tensor(label[None, None, ...]), num_classes=2)"
   ]
  },
  {
   "cell_type": "code",
   "execution_count": null,
   "metadata": {},
   "outputs": [],
   "source": [
    "compute_hausdorff_distance(y_pred, y,include_background=False, percentile=100) * 1.4285714626312"
   ]
  },
  {
   "cell_type": "code",
   "execution_count": null,
   "metadata": {},
   "outputs": [],
   "source": [
    "compute_hausdorff_distance(y_pred, y,include_background=False, percentile=95)"
   ]
  },
  {
   "cell_type": "code",
   "execution_count": null,
   "metadata": {},
   "outputs": [],
   "source": [
    "import medpy\n",
    "\n",
    "medpy.metric.binary.hd(\n",
    "    back(output.argmax(dim=1, keepdim=True))[0, 0].numpy(),\n",
    "    label,\n",
    "    voxelspacing=1.4285714626312\n",
    ")"
   ]
  },
  {
   "cell_type": "code",
   "execution_count": null,
   "metadata": {},
   "outputs": [],
   "source": [
    "dice = []\n",
    "dice_metric = DiceMetric(include_background=False)\n",
    "\n",
    "for image, label in tqdm(dmd_test):\n",
    "    \n",
    "    output = model.forward(image.unsqueeze(0))\n",
    "\n",
    "    with torch.no_grad():\n",
    "        y_pred = output.sigmoid()\n",
    "        y = one_hot(label.unsqueeze(0), num_classes=2)\n",
    "\n",
    "        dice.append(dice_metric(y_pred=y_pred, y=y))\n",
    "\n",
    "dice = np.array(dice)"
   ]
  },
  {
   "cell_type": "code",
   "execution_count": null,
   "metadata": {},
   "outputs": [],
   "source": [
    "dice.reshape((6, 25)).mean(axis=1)"
   ]
  },
  {
   "cell_type": "code",
   "execution_count": null,
   "metadata": {},
   "outputs": [],
   "source": [
    "output = model.forward(dmd_test[131][0].unsqueeze(0)).detach().sigmoid().argmax(dim=1)[0]\n",
    "\n",
    "plt.imshow(dmd_test[131][0][0], cmap='gray')\n",
    "plt.imshow(np.ma.masked_where(output == 0, output), cmap='Reds', alpha=0.4)"
   ]
  },
  {
   "cell_type": "code",
   "execution_count": null,
   "metadata": {},
   "outputs": [],
   "source": [
    "plt.imshow(dmd_test[131][0][0], cmap='gray')\n",
    "plt.imshow(np.ma.masked_where(dmd_test[131][1][0] == 0, dmd_test[130][1][0]), cmap='Reds', alpha=0.4)"
   ]
  },
  {
   "cell_type": "code",
   "execution_count": null,
   "metadata": {},
   "outputs": [],
   "source": [
    "plt.plot(range(150), dice)"
   ]
  },
  {
   "cell_type": "markdown",
   "metadata": {},
   "source": [
    "##### Case-by-case example"
   ]
  },
  {
   "cell_type": "code",
   "execution_count": null,
   "metadata": {},
   "outputs": [],
   "source": [
    "mnm_data = MnmEvaluator('../data/03_primary/mnm_test_tagged.pt').load()"
   ]
  },
  {
   "cell_type": "code",
   "execution_count": null,
   "metadata": {},
   "outputs": [],
   "source": [
    "model = Net(\n",
    "    load_model='../data/06_models/model_cine_v6_tag_v1.pt',\n",
    "    model_type='SegResNetVAE'\n",
    ")\n",
    "\n",
    "subject = mnm_data[12]\n",
    "\n",
    "batch = subject['image'][tio.DATA], subject['mask'][tio.DATA]\n",
    "batch = Trainer.tensor_tuple_to('cpu', batch)\n",
    "image, label = batch\n",
    "\n",
    "image = 0.18047594 * (image - image.mean()) / image.std() + 0.72535978\n",
    "\n",
    "preds = model.forward(image)\n",
    "\n",
    "y_pred = preds.sigmoid()\n",
    "y = one_hot(label, num_classes=2)"
   ]
  },
  {
   "cell_type": "code",
   "execution_count": null,
   "metadata": {},
   "outputs": [],
   "source": [
    "DiceMetric(include_background=False)(y_pred, y)"
   ]
  },
  {
   "cell_type": "code",
   "execution_count": null,
   "metadata": {},
   "outputs": [],
   "source": [
    "compute_hausdorff_distance(one_hot(y_pred.argmax(dim=1, keepdim=True), num_classes=2), y, percentile=95, include_background=False)"
   ]
  },
  {
   "cell_type": "code",
   "execution_count": null,
   "metadata": {},
   "outputs": [],
   "source": [
    "image.shape"
   ]
  },
  {
   "cell_type": "code",
   "execution_count": null,
   "metadata": {},
   "outputs": [],
   "source": [
    "preds.sigmoid().shape"
   ]
  },
  {
   "cell_type": "code",
   "execution_count": null,
   "metadata": {},
   "outputs": [],
   "source": [
    "pred = y_pred.detach().cpu().numpy()\n",
    "\n",
    "fig, ax = plt.subplots(2, 2)\n",
    "\n",
    "ax[0, 0].imshow(pred[0, 0])\n",
    "ax[0, 1].imshow(pred[0, 1])\n",
    "ax[1, 0].imshow(y[0, 0])\n",
    "ax[1, 1].imshow(y[0, 1])"
   ]
  },
  {
   "cell_type": "code",
   "execution_count": null,
   "metadata": {},
   "outputs": [],
   "source": [
    "plt.imshow(preds.sigmoid().argmax(dim=1)[0].detach())\n",
    "plt.colorbar()"
   ]
  },
  {
   "cell_type": "code",
   "execution_count": null,
   "metadata": {},
   "outputs": [],
   "source": [
    "plt.imshow(image[0, 0], cmap='gray')\n",
    "plt.imshow(np.ma.masked_where(label[0, 0] == 0, label[0, 0]), cmap='jet', alpha=0.4)\n",
    "\n",
    "prediction = y_pred.argmax(dim=1).unsqueeze(0).detach().cpu()[0, 0]\n",
    "plt.imshow(np.ma.masked_where(prediction == 0, prediction), cmap='viridis', alpha=0.4)"
   ]
  },
  {
   "cell_type": "markdown",
   "metadata": {},
   "source": [
    "##### Checking results"
   ]
  },
  {
   "cell_type": "code",
   "execution_count": null,
   "metadata": {},
   "outputs": [],
   "source": [
    "dsets = ['mnm', 'scd']\n",
    "results = {ds: PickleDataSet(f'../data/07_model_output/{ds}_results_unet.pt').load() for ds in dsets}\n",
    "dfs = {ds: pd.read_csv(f'../data/08_reporting/model_cine_v7_tag_v3/{ds}_results.csv', index_col=0) for ds in dsets}"
   ]
  },
  {
   "cell_type": "code",
   "execution_count": null,
   "metadata": {},
   "outputs": [],
   "source": [
    "dicesets = []\n",
    "\n",
    "for ds in dsets:\n",
    "    subds = dfs[ds][['dice']].copy()\n",
    "    subds['dataset'] = ds\n",
    "    dicesets.append(subds)\n",
    "\n",
    "diceset = pd.concat(dicesets)"
   ]
  },
  {
   "cell_type": "code",
   "execution_count": null,
   "metadata": {},
   "outputs": [],
   "source": [
    "diceset[diceset.dice > 0].groupby('dataset').mean()"
   ]
  },
  {
   "cell_type": "code",
   "execution_count": null,
   "metadata": {},
   "outputs": [],
   "source": [
    "px.histogram(diceset[diceset.dice > 0], x='dice', color='dataset', marginal='rug', barmode='overlay', nbins=20, histnorm='probability')"
   ]
  },
  {
   "cell_type": "code",
   "execution_count": null,
   "metadata": {},
   "outputs": [],
   "source": [
    "i = 30\n",
    "\n",
    "print(results['mnm'][i].dice)\n",
    "results['mnm'][i].plot(figsize=(20, 20))"
   ]
  },
  {
   "cell_type": "code",
   "execution_count": null,
   "metadata": {},
   "outputs": [],
   "source": [
    "px.bar(dfs['mnm'].groupby('VendorName').mean().reset_index(), x='VendorName', y='dice')"
   ]
  },
  {
   "cell_type": "code",
   "execution_count": null,
   "metadata": {},
   "outputs": [],
   "source": [
    "px.bar(dfs['mnm'].groupby('Centre').mean().reset_index(), x='Centre', y='dice')"
   ]
  },
  {
   "cell_type": "code",
   "execution_count": null,
   "metadata": {},
   "outputs": [],
   "source": [
    "px.bar(dfs['mnm'].groupby('Pathology').mean().reset_index(), x='Pathology', y='dice')"
   ]
  },
  {
   "cell_type": "code",
   "execution_count": null,
   "metadata": {},
   "outputs": [],
   "source": [
    "px.scatter(dfs['mnm'][dfs['mnm'].dice > 0], x=['Age', 'Height', 'Weight'], facet_col='Sex', y='dice')"
   ]
  },
  {
   "cell_type": "markdown",
   "metadata": {},
   "source": [
    "##### Checking 100 images from dataset"
   ]
  },
  {
   "cell_type": "code",
   "execution_count": null,
   "metadata": {},
   "outputs": [],
   "source": [
    "# M, N = 20, 5\n",
    "# fig, ax = plt.subplots(M, N, figsize=(20, 100))\n",
    "\n",
    "# for i in range(M * N):\n",
    "#     m, n = i % M, i // M\n",
    "#     ax[m, n].imshow(tagged_subjects[i].image.data[0][0].cpu(), cmap='gray')\n",
    "    \n",
    "#     mask = tagged_subjects[i].mask.data[0][0].cpu()\n",
    "#     mask = np.ma.masked_where(mask == 0, mask)\n",
    "#     ax[m, n].imshow(mask, cmap='Reds', alpha=0.8)\n",
    "    \n",
    "#     ax[m, n].axis('off')"
   ]
  }
 ],
 "metadata": {
  "interpreter": {
   "hash": "f96aa06bcc802279cb41a4fef15367898ee8a6505f496b2b6e706331145b8c4d"
  },
  "kernelspec": {
   "display_name": "Python 3.8.13 ('tagseg')",
   "language": "python",
   "name": "python3"
  },
  "language_info": {
   "codemirror_mode": {
    "name": "ipython",
    "version": 3
   },
   "file_extension": ".py",
   "mimetype": "text/x-python",
   "name": "python",
   "nbconvert_exporter": "python",
   "pygments_lexer": "ipython3",
   "version": "3.8.13"
  }
 },
 "nbformat": 4,
 "nbformat_minor": 2
}
