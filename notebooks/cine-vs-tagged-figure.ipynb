{
 "cells": [
  {
   "cell_type": "code",
   "execution_count": null,
   "metadata": {},
   "outputs": [],
   "source": [
    "from pathlib import Path\n",
    "\n",
    "import pydicom\n",
    "\n",
    "import numpy as np\n",
    "import pandas as pd\n",
    "import matplotlib.pyplot as plt\n",
    "\n",
    "from scipy import ndimage\n",
    "\n",
    "import imageio\n",
    "\n",
    "from PIL import Image"
   ]
  },
  {
   "cell_type": "code",
   "execution_count": null,
   "metadata": {},
   "outputs": [],
   "source": [
    "df = pd.read_csv('../data/02_intermediate/dmd_index.csv', index_col=0)"
   ]
  },
  {
   "cell_type": "code",
   "execution_count": null,
   "metadata": {},
   "outputs": [],
   "source": [
    "features = ['group', 'treatment', 'center', 'patient', 'slice', 'modality', 'm', 'dz', 'study_no', 'timepoints']\n",
    "\n",
    "filtered = df[(df.keep) & (df.set == 'train') & (df.treatment == 'CONTROL') & (df.slice == 'mid')][features]\n",
    "\n",
    "filtered.head(10)"
   ]
  },
  {
   "cell_type": "code",
   "execution_count": null,
   "metadata": {},
   "outputs": [],
   "source": [
    "cine_path = df.loc[5].path\n",
    "tagg_path = df.loc[7].path"
   ]
  },
  {
   "cell_type": "code",
   "execution_count": null,
   "metadata": {},
   "outputs": [],
   "source": [
    "def get_images(path: str) -> np.ndarray:\n",
    "    path = Path(path)\n",
    "    dcm_images = [f for f in path.iterdir() if f.is_file() and f.suffix == \".dcm\"]\n",
    "\n",
    "    res = map(\n",
    "        lambda ds: (ds.InstanceNumber, ds.pixel_array),\n",
    "        map(pydicom.dcmread, dcm_images),\n",
    "    )\n",
    "    return np.array(list(zip(*sorted(res, key=lambda item: item[0])))[1])"
   ]
  },
  {
   "cell_type": "code",
   "execution_count": null,
   "metadata": {},
   "outputs": [],
   "source": [
    "tagg = get_images(tagg_path)\n",
    "cine = get_images(cine_path)\n",
    "\n",
    "print(f'Extracted tagged image {tagg.shape} and according cine {cine.shape}')\n",
    "\n",
    "zoom_shape = tuple(np.array(tagg.shape) / np.array(cine.shape))\n",
    "\n",
    "cine = ndimage.zoom(cine, zoom_shape)\n",
    "\n",
    "print(f'Cine downsampled in time to {cine.shape}')"
   ]
  },
  {
   "cell_type": "code",
   "execution_count": null,
   "metadata": {},
   "outputs": [],
   "source": [
    "save_path = Path('../../figures/gifs/cine-vs-tagged')\n",
    "save_path.mkdir(parents=True, exist_ok=True)\n",
    "\n",
    "for t in range(tagg.shape[0]):\n",
    "    fig, ax = plt.subplots(2, 1, figsize=(3, 5))\n",
    "\n",
    "    ax[0].imshow(cine[t], cmap='gray')\n",
    "    ax[1].imshow(tagg[t], cmap='gray')\n",
    "\n",
    "    for axe in ax:\n",
    "        axe.set_xticks([])\n",
    "        axe.set_yticks([])\n",
    "\n",
    "    plt.tight_layout()\n",
    "    plt.savefig(save_path / f'time_{t:02}.png', dpi=300)\n",
    "\n",
    "frames = list(map(imageio.imread, sorted(save_path.iterdir())))"
   ]
  },
  {
   "cell_type": "code",
   "execution_count": null,
   "metadata": {},
   "outputs": [],
   "source": [
    "imageio.mimsave('../../figures/cine_vs_tagged.gif', frames, format='GIF', duration=0.2)"
   ]
  },
  {
   "cell_type": "code",
   "execution_count": null,
   "metadata": {},
   "outputs": [],
   "source": [
    "fig, ax = plt.subplots(2, 3, figsize=(7, 4))\n",
    "\n",
    "for i, t in enumerate([0, 12, 24]):\n",
    "    ax[0, i].imshow(cine[t], cmap='gray'), ax[0, i].axis('off')\n",
    "    ax[0, i].set_title(r'$t_{%s}$' % t)\n",
    "    ax[1, i].imshow(tagg[t], cmap='gray'), ax[1, i].axis('off')\n",
    "\n",
    "plt.tight_layout()\n",
    "plt.savefig('../../figures/cine-vs-tagged.pdf', bbox_inches='tight')\n",
    "plt.show()"
   ]
  },
  {
   "cell_type": "code",
   "execution_count": null,
   "metadata": {},
   "outputs": [],
   "source": []
  }
 ],
 "metadata": {
  "interpreter": {
   "hash": "f96aa06bcc802279cb41a4fef15367898ee8a6505f496b2b6e706331145b8c4d"
  },
  "kernelspec": {
   "display_name": "Python 3.8.13 ('tagseg')",
   "language": "python",
   "name": "python3"
  },
  "language_info": {
   "codemirror_mode": {
    "name": "ipython",
    "version": 3
   },
   "file_extension": ".py",
   "mimetype": "text/x-python",
   "name": "python",
   "nbconvert_exporter": "python",
   "pygments_lexer": "ipython3",
   "version": "3.8.13"
  }
 },
 "nbformat": 4,
 "nbformat_minor": 2
}
