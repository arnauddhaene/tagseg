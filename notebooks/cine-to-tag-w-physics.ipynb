{
 "cells": [
  {
   "cell_type": "code",
   "execution_count": null,
   "metadata": {},
   "outputs": [],
   "source": [
    "import numpy as np\n",
    "import matplotlib.pyplot as plt\n",
    "\n",
    "import torch\n",
    "\n",
    "import skimage as skm\n",
    "\n",
    "from kedro.extras.datasets.pickle import PickleDataSet"
   ]
  },
  {
   "cell_type": "code",
   "execution_count": null,
   "metadata": {},
   "outputs": [],
   "source": [
    "import os, sys\n",
    "sys.path.append(os.path.abspath('../src'))\n",
    "\n",
    "from tagseg.pipelines.data_processing.nodes import prepare_input\n",
    "from tagseg.data.acdc_dataset import AcdcDataSet\n",
    "from tagseg.data.utils import SimulateTags"
   ]
  },
  {
   "cell_type": "code",
   "execution_count": null,
   "metadata": {},
   "outputs": [],
   "source": [
    "dataset = PickleDataSet(filepath='../data/03_primary/acdc_train.pt').load()"
   ]
  },
  {
   "cell_type": "code",
   "execution_count": null,
   "metadata": {},
   "outputs": [],
   "source": [
    "examples, labels = dataset.tensors"
   ]
  },
  {
   "cell_type": "code",
   "execution_count": null,
   "metadata": {},
   "outputs": [],
   "source": [
    "tagger = SimulateTags(\n",
    "    label=dataset[0][1],\n",
    "    myo_index=1\n",
    ")"
   ]
  },
  {
   "cell_type": "code",
   "execution_count": null,
   "metadata": {},
   "outputs": [],
   "source": [
    "def tag(image: torch.tensor) -> torch.tensor:\n",
    "    return tagger(((image - image.min()) / (image.max() - image.min())) * 255)"
   ]
  },
  {
   "cell_type": "code",
   "execution_count": null,
   "metadata": {},
   "outputs": [],
   "source": [
    "fig, ax = plt.subplots(2, 4, figsize=(8, 4))\n",
    "\n",
    "for n, i in enumerate([12, 171, 1076, 75]):\n",
    "    \n",
    "    contours = skm.measure.find_contours(labels[i].numpy())\n",
    "\n",
    "    ax[0, n].imshow(examples[i, 0], cmap='gray')\n",
    "    ax[1, n].imshow(tag(examples[i, 0]), cmap='gray')\n",
    "\n",
    "    for row in range(2):\n",
    "        ax[row, n].get_xaxis().set_ticks([])\n",
    "        ax[row, n].get_yaxis().set_ticks([])\n",
    "\n",
    "        for contour in contours:\n",
    "            ax[row, n].plot(*contour[:, ::-1].T, c='b')\n",
    "\n",
    "    cx, cy = contours[1].mean(axis=0)\n",
    "    padding = 80\n",
    "\n",
    "    for x in ax:\n",
    "        x[n].set_xlim(cx - padding, cx + padding)\n",
    "        x[n].set_ylim(cy + padding, cy - padding)\n",
    "\n",
    "    ax[0, 0].set_ylabel('cine')\n",
    "    ax[1, 0].set_ylabel('tagged')\n",
    "\n",
    "plt.tight_layout()\n",
    "plt.savefig('../../figures/cine2tag-physics.pdf', dpi=300, bbox_inches='tight')\n",
    "plt.show()"
   ]
  },
  {
   "cell_type": "code",
   "execution_count": null,
   "metadata": {},
   "outputs": [],
   "source": []
  }
 ],
 "metadata": {
  "kernelspec": {
   "display_name": "Python 3.8.13 ('tagseg')",
   "language": "python",
   "name": "python3"
  },
  "language_info": {
   "codemirror_mode": {
    "name": "ipython",
    "version": 3
   },
   "file_extension": ".py",
   "mimetype": "text/x-python",
   "name": "python",
   "nbconvert_exporter": "python",
   "pygments_lexer": "ipython3",
   "version": "3.8.13"
  },
  "vscode": {
   "interpreter": {
    "hash": "f96aa06bcc802279cb41a4fef15367898ee8a6505f496b2b6e706331145b8c4d"
   }
  }
 },
 "nbformat": 4,
 "nbformat_minor": 2
}
