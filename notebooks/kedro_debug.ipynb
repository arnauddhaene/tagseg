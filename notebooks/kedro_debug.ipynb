{
 "cells": [
  {
   "cell_type": "code",
   "execution_count": null,
   "metadata": {},
   "outputs": [],
   "source": [
    "from pathlib import Path\n",
    "from typing import List\n",
    "\n",
    "import numpy as np\n",
    "import matplotlib.pyplot as plt\n",
    "\n",
    "from kedro.extras.datasets.pickle import PickleDataSet\n",
    "from kedro.config import ConfigLoader\n",
    "\n",
    "import kornia.augmentation as K\n",
    "\n",
    "import torch\n",
    "from torch.utils.data import DataLoader, TensorDataset, random_split\n",
    "from torchvision.utils import save_image"
   ]
  },
  {
   "cell_type": "code",
   "execution_count": null,
   "metadata": {},
   "outputs": [],
   "source": [
    "import os, sys\n",
    "sys.path.append(os.path.abspath('..'))\n",
    "sys.path.append(os.path.abspath('../src/'))\n",
    "\n",
    "from src.tagseg.data.acdc_dataset import AcdcDataSet\n",
    "from src.tagseg.data.dmd_dataset import DmdDataSet, DmdTimeDataSet\n",
    "from src.tagseg.data.scd_dataset import ScdDataSet\n",
    "from src.tagseg.pipelines.data_processing.nodes import preprocess_acdc\n",
    "from src.tagseg.pipelines.data_splitting.nodes import split_data"
   ]
  },
  {
   "cell_type": "code",
   "execution_count": null,
   "metadata": {},
   "outputs": [],
   "source": [
    "conf_paths = [\"../conf/base\", \"../conf/local\"]\n",
    "conf_loader = ConfigLoader(conf_paths)\n",
    "conf_catalog = conf_loader.get(\"catalog*\", \"catalog*/**\")"
   ]
  },
  {
   "cell_type": "code",
   "execution_count": null,
   "metadata": {},
   "outputs": [],
   "source": [
    "dmd = DmdDataSet(filepath='../' + conf_catalog['dmd_data']['filepath']).load()"
   ]
  },
  {
   "cell_type": "code",
   "execution_count": null,
   "metadata": {},
   "outputs": [],
   "source": [
    "acdc_file = PickleDataSet(filepath='../' + conf_catalog['acdc_data_cine_only_myo']['filepath'])\n",
    "acdc_file_tag = PickleDataSet(filepath='../' + conf_catalog['acdc_data_tagged_only_myo']['filepath'])"
   ]
  },
  {
   "cell_type": "code",
   "execution_count": null,
   "metadata": {},
   "outputs": [],
   "source": [
    "acdc = acdc_file.load()\n",
    "acdc_tag = acdc_file_tag.load()"
   ]
  },
  {
   "cell_type": "code",
   "execution_count": null,
   "metadata": {},
   "outputs": [],
   "source": [
    "def path(sl, group):\n",
    "    return f'../../PyTorch-CycleGAN/datasets/taggedmr/{sl}/{group}/'"
   ]
  },
  {
   "cell_type": "code",
   "execution_count": null,
   "metadata": {},
   "outputs": [],
   "source": [
    "!rm -rf ../../PyTorch-CycleGAN/datasets/taggedmr/*\n",
    "!mkdir ../../PyTorch-CycleGAN/datasets/taggedmr/train\n",
    "!mkdir ../../PyTorch-CycleGAN/datasets/taggedmr/train/A\n",
    "!mkdir ../../PyTorch-CycleGAN/datasets/taggedmr/train/B\n",
    "!mkdir ../../PyTorch-CycleGAN/datasets/taggedmr/test\n",
    "!mkdir ../../PyTorch-CycleGAN/datasets/taggedmr/test/A\n",
    "!mkdir ../../PyTorch-CycleGAN/datasets/taggedmr/test/B"
   ]
  },
  {
   "cell_type": "code",
   "execution_count": null,
   "metadata": {},
   "outputs": [],
   "source": [
    "!mkdir ../../PyTorch-CycleGAN/datasets/taggedmr/train/A/masks\n",
    "!mkdir ../../PyTorch-CycleGAN/datasets/taggedmr/train/B/masks\n",
    "!mkdir ../../PyTorch-CycleGAN/datasets/taggedmr/test/A/masks\n",
    "!mkdir ../../PyTorch-CycleGAN/datasets/taggedmr/test/B/masks"
   ]
  },
  {
   "cell_type": "code",
   "execution_count": null,
   "metadata": {},
   "outputs": [],
   "source": [
    "!mkdir ../../PyTorch-CycleGAN/datasets/taggedmr/train/A/fake_tagged\n",
    "!mkdir ../../PyTorch-CycleGAN/datasets/taggedmr/test/A/fake_tagged"
   ]
  },
  {
   "cell_type": "code",
   "execution_count": null,
   "metadata": {},
   "outputs": [],
   "source": [
    "train_val_split = 0.75\n",
    "\n",
    "for group, dataset in [('A', acdc), ('B', dmd)]:\n",
    "    \n",
    "    n: int = len(dataset)\n",
    "    n_train: int = round(n * train_val_split)\n",
    "    split: List[int] = [n_train, n - n_train]\n",
    "\n",
    "    train_set, val_set = random_split(\n",
    "        dataset, split, generator=torch.Generator().manual_seed(42)\n",
    "    )\n",
    "    loader_train = DataLoader(train_set, batch_size=1, shuffle=True)\n",
    "    loader_val = DataLoader(val_set, batch_size=1, shuffle=False)\n",
    "\n",
    "    for sl, loader in [('train', loader_train), ('test', loader_val)]:\n",
    "        \n",
    "        save_path = path(sl, group)\n",
    "\n",
    "        for idx, (image, mask) in enumerate(loader):\n",
    "\n",
    "            img = image[0][0]\n",
    "            msk = mask[0]\n",
    "\n",
    "            scale = abs(img.min() - img.max())\n",
    "            img = (img - img.min()) / scale\n",
    "\n",
    "            # save_image(img, save_path + f'/img_{sl}_{group}_{idx}.png')\n",
    "            np.savez(\n",
    "                save_path + f'/masks/img_{sl}_{group}_{idx}.npz', \n",
    "                label=np.array(msk)\n",
    "            )"
   ]
  },
  {
   "cell_type": "code",
   "execution_count": null,
   "metadata": {},
   "outputs": [],
   "source": [
    "plt.imshow(dmd[0][0][0])"
   ]
  },
  {
   "cell_type": "code",
   "execution_count": null,
   "metadata": {},
   "outputs": [],
   "source": [
    "dataset = DmdTimeDataSet(filepath='../' + conf_catalog['dmd_time_data']['filepath']).load()"
   ]
  },
  {
   "cell_type": "code",
   "execution_count": null,
   "metadata": {},
   "outputs": [],
   "source": [
    "torch.empty((4, 512, 16, 16)).flatten(start_dim=1, end_dim=3).shape"
   ]
  },
  {
   "cell_type": "code",
   "execution_count": null,
   "metadata": {},
   "outputs": [],
   "source": [
    "proba = .2\n",
    "\n",
    "train_aug = K.AugmentationSequential(\n",
    "    K.RandomHorizontalFlip(p=proba),\n",
    "    K.RandomVerticalFlip(p=proba),\n",
    "    K.RandomElasticTransform(p=proba),\n",
    "    K.RandomGaussianNoise(p=proba),\n",
    "    K.RandomSharpness(p=proba),\n",
    "    K.RandomGaussianBlur(kernel_size=(3, 3), sigma=(0.1, 0.1), p=proba),\n",
    "    data_keys=[\"input\", \"mask\"],\n",
    ")"
   ]
  },
  {
   "cell_type": "code",
   "execution_count": null,
   "metadata": {},
   "outputs": [],
   "source": [
    "a, b = train_aug(data.tensors[0][:8], torch.empty_like(data.tensors[0][:8]))\n",
    "a.shape, b.shape"
   ]
  },
  {
   "cell_type": "code",
   "execution_count": null,
   "metadata": {},
   "outputs": [],
   "source": [
    "videos = dataset.tensors[1]\n",
    "torch.cat(videos[:, 1:].unbind()).unsqueeze(1).shape"
   ]
  },
  {
   "cell_type": "code",
   "execution_count": null,
   "metadata": {},
   "outputs": [],
   "source": [
    "data = DmdDataSet(filepath='../' + conf_catalog['dmd_data']['filepath']).load()"
   ]
  },
  {
   "cell_type": "code",
   "execution_count": null,
   "metadata": {},
   "outputs": [],
   "source": [
    "data.tensors[0].shape"
   ]
  },
  {
   "cell_type": "code",
   "execution_count": null,
   "metadata": {},
   "outputs": [],
   "source": [
    "tagged = AcdcDataSet(\n",
    "            filepath='../' + conf_catalog[\"raw_acdc_data\"][\"filepath\"],\n",
    "            tagged=True,\n",
    "            only_myo=True,\n",
    "        ).load()"
   ]
  },
  {
   "cell_type": "code",
   "execution_count": null,
   "metadata": {},
   "outputs": [],
   "source": [
    "cine = acdc = AcdcDataSet(\n",
    "            filepath='../' + conf_catalog[\"raw_acdc_data\"][\"filepath\"],\n",
    "            tagged=False,\n",
    "            only_myo=True,\n",
    "        ).load()"
   ]
  },
  {
   "cell_type": "code",
   "execution_count": null,
   "metadata": {},
   "outputs": [],
   "source": [
    "len(cine)"
   ]
  },
  {
   "cell_type": "code",
   "execution_count": null,
   "metadata": {},
   "outputs": [],
   "source": [
    "fig, ax = plt.subplots(2, 5, figsize=(20, 8))\n",
    "\n",
    "for i in range(13, 18):\n",
    "    ax[0, i % 5].imshow(cine[4 * i + 21][0][0], cmap='gray');\n",
    "\n",
    "    ax[0, i % 5].axis('off')\n",
    "    \n",
    "    ax[1, i % 5].imshow(tagged[4 * i + 21][0][0], cmap='gray')\n",
    "    ax[1, i % 5].axis('off')"
   ]
  },
  {
   "cell_type": "code",
   "execution_count": null,
   "metadata": {},
   "outputs": [],
   "source": [
    "fig, ax = plt.subplots(2, 10, figsize=(100, 20))\n",
    "\n",
    "for col in range(10):\n",
    "\n",
    "    image, label = dataset[col]\n",
    "\n",
    "    ax[0, col].imshow(image[0], cmap='gray')\n",
    "    ax[1, col].imshow(label)"
   ]
  },
  {
   "cell_type": "code",
   "execution_count": null,
   "metadata": {},
   "outputs": [],
   "source": [
    "loaders = split_data(dataset, 0.75, 32)\n",
    "loader_train, loader_val = loaders['loader_train'], loaders['loader_val']"
   ]
  },
  {
   "cell_type": "code",
   "execution_count": null,
   "metadata": {},
   "outputs": [],
   "source": [
    "images, labels = next(iter(loader_train))\n",
    "images.shape, labels.shape"
   ]
  },
  {
   "cell_type": "code",
   "execution_count": null,
   "metadata": {},
   "outputs": [],
   "source": []
  }
 ],
 "metadata": {
  "interpreter": {
   "hash": "0ad42e69c0d21e96d3d26e0b34570ca4969313104102badd5550b873ed7930ce"
  },
  "kernelspec": {
   "display_name": "Python 3.8.12 ('tagroi')",
   "language": "python",
   "name": "python3"
  },
  "language_info": {
   "codemirror_mode": {
    "name": "ipython",
    "version": 3
   },
   "file_extension": ".py",
   "mimetype": "text/x-python",
   "name": "python",
   "nbconvert_exporter": "python",
   "pygments_lexer": "ipython3",
   "version": "3.8.12"
  }
 },
 "nbformat": 4,
 "nbformat_minor": 2
}
