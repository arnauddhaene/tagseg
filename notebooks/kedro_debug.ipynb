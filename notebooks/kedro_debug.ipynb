{
 "cells": [
  {
   "cell_type": "code",
   "execution_count": 1,
   "metadata": {},
   "outputs": [],
   "source": [
    "from pathlib import Path\n",
    "\n",
    "import matplotlib.pyplot as plt\n",
    "\n",
    "from kedro.extras.datasets.pickle import PickleDataSet\n",
    "from kedro.config import ConfigLoader\n",
    "\n",
    "import kornia.augmentation as K\n",
    "\n",
    "import torch"
   ]
  },
  {
   "cell_type": "code",
   "execution_count": 2,
   "metadata": {},
   "outputs": [],
   "source": [
    "import os, sys\n",
    "sys.path.append(os.path.abspath('..'))\n",
    "sys.path.append(os.path.abspath('../src/'))\n",
    "\n",
    "from src.tagseg.data.acdc_dataset import AcdcDataSet\n",
    "from src.tagseg.data.dmd_dataset import DmdDataSet, DmdTimeDataSet\n",
    "from src.tagseg.pipelines.data_processing.nodes import preprocess_acdc\n",
    "from src.tagseg.pipelines.data_splitting.nodes import split_data"
   ]
  },
  {
   "cell_type": "code",
   "execution_count": 3,
   "metadata": {},
   "outputs": [],
   "source": [
    "conf_paths = [\"../conf/base\", \"../conf/local\"]\n",
    "conf_loader = ConfigLoader(conf_paths)\n",
    "conf_catalog = conf_loader.get(\"catalog*\", \"catalog*/**\")"
   ]
  },
  {
   "cell_type": "code",
   "execution_count": 4,
   "metadata": {},
   "outputs": [],
   "source": [
    "dataset = DmdTimeDataSet(filepath='../' + conf_catalog['dmd_time_data']['filepath']).load()"
   ]
  },
  {
   "cell_type": "code",
   "execution_count": 7,
   "metadata": {},
   "outputs": [
    {
     "data": {
      "text/plain": [
       "torch.Size([4, 131072])"
      ]
     },
     "execution_count": 7,
     "metadata": {},
     "output_type": "execute_result"
    }
   ],
   "source": [
    "torch.empty((4, 512, 16, 16)).flatten(start_dim=1, end_dim=3).shape"
   ]
  },
  {
   "cell_type": "code",
   "execution_count": 25,
   "metadata": {},
   "outputs": [],
   "source": [
    "proba = .2\n",
    "\n",
    "train_aug = K.AugmentationSequential(\n",
    "    K.RandomHorizontalFlip(p=proba),\n",
    "    K.RandomVerticalFlip(p=proba),\n",
    "    K.RandomElasticTransform(p=proba),\n",
    "    K.RandomGaussianNoise(p=proba),\n",
    "    K.RandomSharpness(p=proba),\n",
    "    K.RandomGaussianBlur(kernel_size=(3, 3), sigma=(0.1, 0.1), p=proba),\n",
    "    data_keys=[\"input\", \"mask\"],\n",
    ")"
   ]
  },
  {
   "cell_type": "code",
   "execution_count": 31,
   "metadata": {},
   "outputs": [
    {
     "data": {
      "text/plain": [
       "(torch.Size([8, 1, 256, 256]), torch.Size([8, 1, 256, 256]))"
      ]
     },
     "execution_count": 31,
     "metadata": {},
     "output_type": "execute_result"
    }
   ],
   "source": [
    "a, b = train_aug(data.tensors[0][:8], torch.empty_like(data.tensors[0][:8]))\n",
    "a.shape, b.shape"
   ]
  },
  {
   "cell_type": "code",
   "execution_count": 20,
   "metadata": {},
   "outputs": [
    {
     "data": {
      "text/plain": [
       "torch.Size([1008, 1, 256, 256])"
      ]
     },
     "execution_count": 20,
     "metadata": {},
     "output_type": "execute_result"
    }
   ],
   "source": [
    "videos = dataset.tensors[1]\n",
    "torch.cat(videos[:, 1:].unbind()).unsqueeze(1).shape"
   ]
  },
  {
   "cell_type": "code",
   "execution_count": 21,
   "metadata": {},
   "outputs": [],
   "source": [
    "data = DmdDataSet(filepath='../' + conf_catalog['dmd_data']['filepath']).load()"
   ]
  },
  {
   "cell_type": "code",
   "execution_count": 22,
   "metadata": {},
   "outputs": [
    {
     "data": {
      "text/plain": [
       "torch.Size([42, 1, 256, 256])"
      ]
     },
     "execution_count": 22,
     "metadata": {},
     "output_type": "execute_result"
    }
   ],
   "source": [
    "data.tensors[0].shape"
   ]
  },
  {
   "cell_type": "code",
   "execution_count": null,
   "metadata": {},
   "outputs": [],
   "source": [
    "tagged = AcdcDataSet(\n",
    "            filepath='../' + conf_catalog[\"raw_acdc_data\"][\"filepath\"],\n",
    "            tagged=True,\n",
    "            only_myo=True,\n",
    "        ).load()"
   ]
  },
  {
   "cell_type": "code",
   "execution_count": null,
   "metadata": {},
   "outputs": [],
   "source": [
    "cine = acdc = AcdcDataSet(\n",
    "            filepath='../' + conf_catalog[\"raw_acdc_data\"][\"filepath\"],\n",
    "            tagged=False,\n",
    "            only_myo=True,\n",
    "        ).load()"
   ]
  },
  {
   "cell_type": "code",
   "execution_count": null,
   "metadata": {},
   "outputs": [],
   "source": [
    "len(cine)"
   ]
  },
  {
   "cell_type": "code",
   "execution_count": null,
   "metadata": {},
   "outputs": [],
   "source": [
    "fig, ax = plt.subplots(2, 5, figsize=(20, 8))\n",
    "\n",
    "for i in range(13, 18):\n",
    "    ax[0, i % 5].imshow(cine[4 * i + 21][0][0], cmap='gray');\n",
    "\n",
    "    ax[0, i % 5].axis('off')\n",
    "    \n",
    "    ax[1, i % 5].imshow(tagged[4 * i + 21][0][0], cmap='gray')\n",
    "    ax[1, i % 5].axis('off')"
   ]
  },
  {
   "cell_type": "code",
   "execution_count": null,
   "metadata": {},
   "outputs": [],
   "source": [
    "fig, ax = plt.subplots(2, 10, figsize=(100, 20))\n",
    "\n",
    "for col in range(10):\n",
    "\n",
    "    image, label = dataset[col]\n",
    "\n",
    "    ax[0, col].imshow(image[0], cmap='gray')\n",
    "    ax[1, col].imshow(label)"
   ]
  },
  {
   "cell_type": "code",
   "execution_count": null,
   "metadata": {},
   "outputs": [],
   "source": [
    "loaders = split_data(dataset, 0.75, 32)\n",
    "loader_train, loader_val = loaders['loader_train'], loaders['loader_val']"
   ]
  },
  {
   "cell_type": "code",
   "execution_count": null,
   "metadata": {},
   "outputs": [],
   "source": [
    "images, labels = next(iter(loader_train))\n",
    "images.shape, labels.shape"
   ]
  },
  {
   "cell_type": "code",
   "execution_count": null,
   "metadata": {},
   "outputs": [],
   "source": []
  }
 ],
 "metadata": {
  "interpreter": {
   "hash": "a3f06613ef70e0077a3946fb59913efa2fe631307206539d5a6b527578a64b99"
  },
  "kernelspec": {
   "display_name": "Python 3.8.12 ('sf')",
   "language": "python",
   "name": "python3"
  },
  "language_info": {
   "codemirror_mode": {
    "name": "ipython",
    "version": 3
   },
   "file_extension": ".py",
   "mimetype": "text/x-python",
   "name": "python",
   "nbconvert_exporter": "python",
   "pygments_lexer": "ipython3",
   "version": "3.8.12"
  }
 },
 "nbformat": 4,
 "nbformat_minor": 2
}
