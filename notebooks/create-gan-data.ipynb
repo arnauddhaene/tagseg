{
 "cells": [
  {
   "cell_type": "code",
   "execution_count": null,
   "metadata": {},
   "outputs": [],
   "source": [
    "from pathlib import Path\n",
    "from typing import List\n",
    "\n",
    "import pydicom\n",
    "\n",
    "import numpy as np\n",
    "import pandas as pd\n",
    "from sklearn.model_selection import train_test_split\n",
    "import matplotlib.pyplot as plt\n",
    "\n",
    "from kedro.extras.datasets.pickle import PickleDataSet\n",
    "from kedro.config import ConfigLoader\n",
    "\n",
    "import kornia.augmentation as K\n",
    "import plotly.express as px\n",
    "\n",
    "from PIL import Image\n",
    "\n",
    "import torch\n",
    "from torch.utils.data import DataLoader, TensorDataset, random_split\n",
    "from torchvision.utils import save_image\n",
    "from torchvision import transforms"
   ]
  },
  {
   "cell_type": "code",
   "execution_count": null,
   "metadata": {},
   "outputs": [],
   "source": [
    "import os, sys\n",
    "sys.path.append(os.path.abspath('..'))\n",
    "sys.path.append(os.path.abspath('../src/'))\n",
    "\n",
    "from src.tagseg.data.acdc_dataset import AcdcDataSet\n",
    "from src.tagseg.data.dmd_dataset import DmdDataSet, DmdTimeDataSet, Slice\n",
    "from src.tagseg.data.scd_dataset import ScdDataSet\n",
    "from src.tagseg.pipelines.data_processing.nodes import preprocess_acdc\n",
    "from src.tagseg.pipelines.data_splitting.nodes import split_data"
   ]
  },
  {
   "cell_type": "code",
   "execution_count": null,
   "metadata": {},
   "outputs": [],
   "source": [
    "conf_paths = [\"../conf/base\", \"../conf/local\"]\n",
    "conf_loader = ConfigLoader(conf_paths)\n",
    "conf_catalog = conf_loader.get(\"catalog*\", \"catalog*/**\")"
   ]
  },
  {
   "cell_type": "code",
   "execution_count": null,
   "metadata": {},
   "outputs": [],
   "source": [
    "storage = []\n",
    "\n",
    "base_path = Path('../data/01_raw/dmd_org2/')\n",
    "\n",
    "groups = [gr for gr in base_path.iterdir() if gr.is_dir()]\n",
    "for group in groups:\n",
    "\n",
    "    treatments = [tr for tr in group.iterdir() if tr.is_dir()]\n",
    "    for treatment in treatments:\n",
    "\n",
    "        if treatment.stem == 'DMD':\n",
    "            directories = [di for di in treatment.iterdir() if di.is_dir()]\n",
    "        else:\n",
    "            directories = [treatment]    \n",
    "        \n",
    "        for directory in directories:\n",
    "\n",
    "            centers = [ce for ce in directory.iterdir() if ce.is_dir()]\n",
    "            for center in centers:\n",
    "\n",
    "                patients = [pa for pa in center.iterdir() if pa.is_dir()]\n",
    "                for patient in patients:\n",
    "\n",
    "                    slices = [mo for mo in patient.iterdir() if mo.is_dir()]\n",
    "                    for slic in slices:\n",
    "\n",
    "                        scans = [s for s in slic.iterdir() if s.is_dir()]\n",
    "                        for scan in scans:\n",
    "                            \n",
    "                            not_dcm = [f for f in scan.iterdir() if f.is_file() and f.suffix != \".dcm\"]\n",
    "                            \n",
    "                            if len(not_dcm) > 0:\n",
    "                                print(not_dcm)\n",
    "\n",
    "                            # cine or tag\n",
    "                            study_info = scan.name.split('_')\n",
    "                            modality = study_info[0]\n",
    "\n",
    "                            element = dict(\n",
    "                                group=group.stem,\n",
    "                                treatment=treatment.stem,\n",
    "                                center=center.stem,\n",
    "                                patient=patient.stem,\n",
    "                                slice=slic.stem,\n",
    "                                modality=modality,\n",
    "                                m=study_info[1][1:] if modality == 'cine' else np.nan,\n",
    "                                dz=study_info[2][2:] if modality == 'cine' else np.nan,\n",
    "                                study_no=study_info[-1],\n",
    "                                path=scan,\n",
    "                                annotated=(scan / 'roi_pts.npz').exists(),\n",
    "                                timepoints=len([f for f in scan.iterdir() if f.is_file() and f.suffix == \".dcm\"])\n",
    "                            )\n",
    "\n",
    "                            storage.append(element)"
   ]
  },
  {
   "cell_type": "code",
   "execution_count": null,
   "metadata": {},
   "outputs": [],
   "source": [
    "df = pd.DataFrame(storage)\n",
    "df.dz = df.dz.astype(np.float32)"
   ]
  },
  {
   "cell_type": "code",
   "execution_count": null,
   "metadata": {},
   "outputs": [],
   "source": [
    "train_ids, _ = train_test_split(df.patient.unique(), test_size=0.15, shuffle=False)"
   ]
  },
  {
   "cell_type": "code",
   "execution_count": null,
   "metadata": {},
   "outputs": [],
   "source": [
    "df['set'] = df.patient.apply(lambda patient_id: 'train' if patient_id in train_ids else 'test')"
   ]
  },
  {
   "cell_type": "code",
   "execution_count": null,
   "metadata": {},
   "outputs": [],
   "source": [
    "# keep all tagged data\n",
    "df['keep'] = df.modality == 'tag'\n",
    "\n",
    "# choose best according cine for each patient slice\n",
    "for (patient, slice), group in df.groupby(['patient', 'slice']):\n",
    "\n",
    "    sorted_cines = group[(group.modality == 'cine') & (group.timepoints.isin([25, 30]))] \\\n",
    "        .sort_values(['m', 'dz', 'study_no'], ascending=[True, True, False])\n",
    "\n",
    "    if len(sorted_cines) > 0:\n",
    "        best_cine = sorted_cines.iloc[0].name\n",
    "        df.loc[best_cine, 'keep'] = True"
   ]
  },
  {
   "cell_type": "code",
   "execution_count": null,
   "metadata": {},
   "outputs": [],
   "source": [
    "df.tail(10)"
   ]
  },
  {
   "cell_type": "code",
   "execution_count": null,
   "metadata": {},
   "outputs": [],
   "source": [
    "df.to_csv('../data/02_intermediate/dmd_index.csv')"
   ]
  },
  {
   "cell_type": "code",
   "execution_count": null,
   "metadata": {},
   "outputs": [],
   "source": [
    "path = df.loc[58].path\n",
    "\n",
    "dcm_images = [f for f in path.iterdir() if f.is_file() and f.suffix == \".dcm\"]\n",
    "if len(dcm_images) > 0:\n",
    "    res = map(\n",
    "        lambda ds: (ds.InstanceNumber, ds.pixel_array),\n",
    "        map(pydicom.dcmread, dcm_images),\n",
    "    )\n",
    "    image = np.array(list(zip(*sorted(res, key=lambda item: item[0])))[1])\n",
    "\n",
    "rows = 5\n",
    "cols = image.shape[0] // rows\n",
    "if image.shape[0] % rows > 0:\n",
    "    cols += 1\n",
    "\n",
    "cols = 3\n",
    "fig, ax = plt.subplots(cols, rows, figsize=(20, 15))\n",
    "\n",
    "for i in range(image.shape[0])[:15]:\n",
    "    ax[i // rows, i % rows].imshow(image[i], cmap='gray')\n",
    "    ax[i // rows, i % rows].axis('off')"
   ]
  },
  {
   "cell_type": "markdown",
   "metadata": {},
   "source": [
    "Save it for GAN to process"
   ]
  },
  {
   "cell_type": "code",
   "execution_count": null,
   "metadata": {},
   "outputs": [],
   "source": [
    "tr_A = df[(df.set == 'train') & (df.keep) & (df.modality == 'cine')].timepoints.sum()\n",
    "tr_B = df[(df.set == 'train') & (df.keep) & (df.modality == 'tag')].timepoints.sum()\n",
    "te_A = df[(df.set == 'test') & (df.keep) & (df.modality == 'cine')].timepoints.sum()\n",
    "te_B = df[(df.set == 'test') & (df.keep) & (df.modality == 'tag')].timepoints.sum()\n",
    "\n",
    "print('\\t \\t Train \\t Test')\n",
    "print(f'A (cine) \\t {tr_A} \\t {te_A}')\n",
    "print(f'B (tag) \\t {tr_B} \\t {te_B}')"
   ]
  },
  {
   "cell_type": "code",
   "execution_count": null,
   "metadata": {},
   "outputs": [],
   "source": [
    "!rm -rf ../data/05_model_input/taggedmr-dmd/"
   ]
  },
  {
   "cell_type": "code",
   "execution_count": null,
   "metadata": {},
   "outputs": [],
   "source": [
    "base_path = Path('../data/05_model_input/taggedmr-dmd/')\n",
    "\n",
    "base_path.mkdir()\n",
    "(base_path / 'train').mkdir()\n",
    "(base_path / 'train' / 'A').mkdir()\n",
    "(base_path / 'train' / 'B').mkdir()\n",
    "(base_path / 'test').mkdir()\n",
    "(base_path / 'test' / 'A').mkdir()\n",
    "(base_path / 'test' / 'B').mkdir()"
   ]
  },
  {
   "cell_type": "code",
   "execution_count": null,
   "metadata": {},
   "outputs": [],
   "source": [
    "preprocess = transforms.Compose(\n",
    "    [\n",
    "        transforms.ToTensor(),\n",
    "        transforms.Normalize(mean=0.456, std=0.224),\n",
    "        transforms.Resize((256, 256)),\n",
    "    ]\n",
    ")"
   ]
  },
  {
   "cell_type": "code",
   "execution_count": null,
   "metadata": {},
   "outputs": [],
   "source": [
    "group = dict(cine='A', tag='B')\n",
    "\n",
    "for _, row in df.iterrows():\n",
    "\n",
    "    if row.keep:\n",
    "        save_path = base_path / row.set / group.get(row.modality)\n",
    "        identifier = '_'.join([row.group, row.treatment, row.center, row.patient, row.slice, row.modality, row.study_no])\n",
    "\n",
    "        dcm_images = [f for f in row.path.iterdir() if f.is_file() and f.suffix == \".dcm\"]\n",
    "        \n",
    "        if len(dcm_images) > 0:\n",
    "            res = map(\n",
    "                lambda ds: (ds.InstanceNumber, ds.pixel_array),\n",
    "                map(pydicom.dcmread, dcm_images),\n",
    "            )\n",
    "            images = np.array(list(zip(*sorted(res, key=lambda item: item[0])))[1])\n",
    "\n",
    "        for no, img in enumerate(images):\n",
    "            \n",
    "            img = img.astype(np.float64)\n",
    "            img = preprocess(img)\n",
    "\n",
    "            scale = abs(img.min() - img.max())\n",
    "            img = (img - img.min()) / scale\n",
    "\n",
    "            save_image(img, save_path / f'img_{identifier}_{no}.png')"
   ]
  },
  {
   "cell_type": "code",
   "execution_count": null,
   "metadata": {},
   "outputs": [],
   "source": [
    "im = Image.open('../data/05_model_input/taggedmr-dmd/train/A/img_GROUP_1_CONTROL_UCLA_16-000297-001_apex_cine_120_0.png').convert('L')\n",
    "\n",
    "plt.imshow(im, cmap='gray') "
   ]
  },
  {
   "cell_type": "code",
   "execution_count": null,
   "metadata": {},
   "outputs": [],
   "source": []
  }
 ],
 "metadata": {
  "interpreter": {
   "hash": "0ad42e69c0d21e96d3d26e0b34570ca4969313104102badd5550b873ed7930ce"
  },
  "kernelspec": {
   "display_name": "Python 3.8.12 ('tagroi')",
   "language": "python",
   "name": "python3"
  },
  "language_info": {
   "codemirror_mode": {
    "name": "ipython",
    "version": 3
   },
   "file_extension": ".py",
   "mimetype": "text/x-python",
   "name": "python",
   "nbconvert_exporter": "python",
   "pygments_lexer": "ipython3",
   "version": "3.8.12"
  }
 },
 "nbformat": 4,
 "nbformat_minor": 2
}
