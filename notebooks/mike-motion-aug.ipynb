{
 "cells": [
  {
   "cell_type": "code",
   "execution_count": null,
   "metadata": {},
   "outputs": [],
   "source": [
    "import numpy as np\n",
    "import matplotlib.pyplot as plt\n",
    "from load_dcm_folder import load_dcm_folder"
   ]
  },
  {
   "cell_type": "code",
   "execution_count": null,
   "metadata": {},
   "outputs": [],
   "source": [
    "data_folder = '../../data/cine/NIH_SA_RealTime_CINE_base_RETRO_54/'\n",
    "res  = load_dcm_folder(data_folder)\n",
    "res = res[next(iter(res))]\n",
    "imt = res[0].squeeze()"
   ]
  },
  {
   "cell_type": "code",
   "execution_count": null,
   "metadata": {},
   "outputs": [],
   "source": [
    "def fourier_shift(im, shift=0, axis=0):\n",
    "    k = np.fft.ifftshift(np.fft.fft2(np.fft.fftshift(im)))\n",
    "\n",
    "    if axis == 0:\n",
    "        mod = (np.arange(im.shape[axis])[:,None] - im.shape[axis]/2)/im.shape[axis]\n",
    "    elif axis == 1:\n",
    "        mod = (np.arange(im.shape[axis])[None,:] - im.shape[axis]/2)/im.shape[axis]\n",
    "    \n",
    "    k *= np.exp(1j * mod * shift * 2 * np.pi)\n",
    "    im =np.fft.ifftshift(np.fft.ifft2(np.fft.fftshift(k)))\n",
    "\n",
    "    return np.real(im)"
   ]
  },
  {
   "cell_type": "code",
   "execution_count": null,
   "metadata": {},
   "outputs": [],
   "source": [
    "# Testing the fourier shift function here\n",
    "\n",
    "plt.figure(dpi=200)\n",
    "plt.imshow(imt[:,:,0], cmap='gray')\n",
    "\n",
    "plt.figure(dpi=200)\n",
    "plt.imshow(fourier_shift(imt[:,:,0], 30, axis=0), cmap='gray')"
   ]
  },
  {
   "cell_type": "code",
   "execution_count": null,
   "metadata": {},
   "outputs": [],
   "source": [
    "# Testing a very simple respiratory shift selector\n",
    "\n",
    "resp_dur = 3000  # duration of a respiratory cycle [ms]\n",
    "tt = np.arange(6000)  # ms\n",
    "shift = np.sin(tt/resp_dur * 2 * np.pi)\n",
    "\n",
    "plt.plot(tt, shift)\n"
   ]
  },
  {
   "cell_type": "code",
   "execution_count": null,
   "metadata": {},
   "outputs": [],
   "source": [
    "Nt = imt.shape[2]\n",
    "axis = 0\n",
    "Nk = imt.shape[axis]\n",
    "N_seg = 4\n",
    "seg_dur = 8  # ms\n",
    "RR_t = N_seg * seg_dur * Nt  # ms\n",
    "print('RR_t:', RR_t)\n",
    "\n",
    "resp_dur = 1600\n",
    "resp_mag = 4  # pixels\n",
    "\n",
    "total_acq = int(Nt * N_seg * np.ceil(Nk/N_seg))  # Round up by heartbeat\n",
    "# print(total_acq, Nk*Nt)\n",
    "\n",
    "kt_m = np.zeros(imt.shape, complex)\n",
    "\n",
    "for it in range(total_acq):\n",
    "    tt = it * seg_dur  # Scan time in ms\n",
    "    \n",
    "    i_hb = it // (N_seg * Nt)  # This is the heartbeat number\n",
    "    i_seg = it % N_seg  # This is where we are in a segment\n",
    "    i_line = i_hb * N_seg + i_seg  # k-space line number\n",
    "    i_frame = (it // N_seg) % Nt  # This is the timeframe we are in\n",
    "    \n",
    "    # print('{:4d}  {:4d}  {:4d}  {:4d}  {:4d}'.format(it, i_hb, i_seg, i_line, i_frame))\n",
    "\n",
    "    if i_line < Nk:\n",
    "        # These two are the motion lines\n",
    "        shift = resp_mag*np.sin(tt/resp_dur * 2 * np.pi)\n",
    "        im_shift = fourier_shift(imt[:,:,i_frame], shift, axis=axis)\n",
    "        k = np.fft.ifftshift(np.fft.fft2(np.fft.fftshift(im_shift)))\n",
    "        if axis == 0:\n",
    "            kt_m[i_line, :, i_frame] = k[i_line, :]\n",
    "        elif axis == 1:\n",
    "            kt_m[:, i_line, i_frame] = k[:, i_line]\n",
    "\n",
    "imt_m = np.abs(np.fft.ifftshift(np.fft.ifftn(np.fft.fftshift(kt_m, axes=(0,1)), axes=(0,1)), axes=(0,1)))"
   ]
  },
  {
   "cell_type": "code",
   "execution_count": null,
   "metadata": {},
   "outputs": [],
   "source": [
    "plt.figure(dpi=200)\n",
    "plt.imshow(imt[:,:,0], cmap='gray')\n",
    "\n",
    "plt.figure(dpi=200)\n",
    "plt.imshow(imt_m[:,:,0], cmap='gray')"
   ]
  }
 ],
 "metadata": {
  "interpreter": {
   "hash": "c757ce7a76e26498491e5d84107a309606cac27046bef65a14260d0343f5e7da"
  },
  "kernelspec": {
   "display_name": "Python 3.9.5 ('base')",
   "language": "python",
   "name": "python3"
  },
  "language_info": {
   "codemirror_mode": {
    "name": "ipython",
    "version": 3
   },
   "file_extension": ".py",
   "mimetype": "text/x-python",
   "name": "python",
   "nbconvert_exporter": "python",
   "pygments_lexer": "ipython3",
   "version": "3.9.5"
  }
 },
 "nbformat": 4,
 "nbformat_minor": 2
}
