{
 "cells": [
  {
   "cell_type": "code",
   "execution_count": null,
   "metadata": {},
   "outputs": [],
   "source": [
    "from pathlib import Path\n",
    "\n",
    "import numpy as np\n",
    "import matplotlib.pyplot as plt\n",
    "\n",
    "import torch\n",
    "from torch.utils.data import random_split, DataLoader\n",
    "from torchvision import transforms"
   ]
  },
  {
   "cell_type": "code",
   "execution_count": null,
   "metadata": {},
   "outputs": [],
   "source": [
    "import os, sys\n",
    "sys.path.append(os.path.abspath('..'))\n",
    "\n",
    "from src.metrics_acdc import load_nii\n",
    "from src.data.cine2gridtag import sim_gridtag, mod_contrast\n",
    "\n",
    "from src.data.utils import Patient\n",
    "from src.data.datasets import ACDCDataset"
   ]
  },
  {
   "cell_type": "code",
   "execution_count": null,
   "metadata": {},
   "outputs": [],
   "source": [
    "acdc_filepath = Path('../../training')\n",
    "\n",
    "example = acdc_filepath / 'patient002' / 'patient002_frame01.nii.gz'\n",
    "example_gt = acdc_filepath / 'patient001' / 'patient001_frame01_gt.nii.gz'"
   ]
  },
  {
   "cell_type": "code",
   "execution_count": null,
   "metadata": {},
   "outputs": [],
   "source": [
    "imt, _, _ = load_nii(example)\n",
    "gt, _, _ = load_nii(example_gt)"
   ]
  },
  {
   "cell_type": "code",
   "execution_count": null,
   "metadata": {},
   "outputs": [],
   "source": [
    "# mask = gt[:, :, 0]\n",
    "# mask = mask.astype(np.float64)\n",
    "\n",
    "# tt = transforms.ToTensor()\n",
    "# rs = transforms.Resize((256, 256), interpolation=transforms.InterpolationMode.NEAREST)\n",
    "\n",
    "# mask = rs(tt(mask)).unique().numpy()"
   ]
  },
  {
   "cell_type": "code",
   "execution_count": null,
   "metadata": {},
   "outputs": [],
   "source": [
    "# fig, ax = plt.subplots(10, 3, figsize=(15, 30))\n",
    "\n",
    "# for i in range(10):\n",
    "#     ax[i, 0].imshow(imt[:, :, i], cmap='gray')\n",
    "#     ax[i, 1].imshow(gt[:, :, i])\n",
    "#     ax[i, 2].imshow(sim_gridtag(imt[:, :, i] ** 0.4, 5), cmap='gray')"
   ]
  },
  {
   "cell_type": "code",
   "execution_count": null,
   "metadata": {},
   "outputs": [],
   "source": [
    "# p = Patient(acdc_filepath / 'patient001')"
   ]
  },
  {
   "cell_type": "code",
   "execution_count": null,
   "metadata": {},
   "outputs": [],
   "source": [
    "dataset = ACDCDataset(acdc_filepath, tagged=True, recompute=True, verbose=1)"
   ]
  },
  {
   "cell_type": "code",
   "execution_count": null,
   "metadata": {},
   "outputs": [],
   "source": [
    "image, mask = dataset[0]"
   ]
  },
  {
   "cell_type": "code",
   "execution_count": null,
   "metadata": {},
   "outputs": [],
   "source": [
    "image.isnan().sum(), mask.isnan().sum()"
   ]
  },
  {
   "cell_type": "code",
   "execution_count": null,
   "metadata": {},
   "outputs": [],
   "source": [
    "set(label.unique().numpy()).issubset(set([0, 1, 2, 3]))"
   ]
  },
  {
   "cell_type": "code",
   "execution_count": null,
   "metadata": {},
   "outputs": [],
   "source": [
    "not all([_class in [0., 1., 2., 3.] for _class in label.unique()])"
   ]
  },
  {
   "cell_type": "code",
   "execution_count": null,
   "metadata": {},
   "outputs": [],
   "source": [
    "means, stds = zip(*[(img[0][0].mean().item(), img[0][0].std().item()) for img in dataset])"
   ]
  },
  {
   "cell_type": "code",
   "execution_count": null,
   "metadata": {},
   "outputs": [],
   "source": [
    "plt.hist(means[1:])"
   ]
  },
  {
   "cell_type": "code",
   "execution_count": null,
   "metadata": {},
   "outputs": [],
   "source": [
    "fix, ax = plt.subplots(1, 2, figsize=(10, 5))\n",
    "\n",
    "ax[0].imshow(dataset[212][0][0, ...], cmap='gray'), ax[0].axis('off')\n",
    "ax[1].imshow(dataset[212][1][...]), ax[1].axis('off')\n",
    "\n",
    "plt.show()"
   ]
  },
  {
   "cell_type": "code",
   "execution_count": null,
   "metadata": {},
   "outputs": [],
   "source": []
  }
 ],
 "metadata": {
  "interpreter": {
   "hash": "a3f06613ef70e0077a3946fb59913efa2fe631307206539d5a6b527578a64b99"
  },
  "kernelspec": {
   "display_name": "Python 3.8.12 ('sf')",
   "language": "python",
   "name": "python3"
  },
  "language_info": {
   "codemirror_mode": {
    "name": "ipython",
    "version": 3
   },
   "file_extension": ".py",
   "mimetype": "text/x-python",
   "name": "python",
   "nbconvert_exporter": "python",
   "pygments_lexer": "ipython3",
   "version": "3.8.12"
  }
 },
 "nbformat": 4,
 "nbformat_minor": 2
}
