{
 "cells": [
  {
   "cell_type": "code",
   "execution_count": null,
   "metadata": {},
   "outputs": [],
   "source": [
    "import numpy as np\n",
    "import matplotlib.pyplot as plt\n",
    "import pydicom\n",
    "\n",
    "import os, sys\n",
    "sys.path.append(os.path.abspath('..'))\n",
    "\n",
    "from src.cine2gridtag import sim_gridtag, mod_contrast"
   ]
  },
  {
   "cell_type": "code",
   "execution_count": null,
   "metadata": {},
   "outputs": [],
   "source": [
    "# Load sample cine dicom\n",
    "filepath = '../sample_data/im_s0035_0002.dcm'\n",
    "ds = pydicom.read_file(filepath)\n",
    "\n",
    "# This particular dataset is weirdly transposed, hence the [::-1] and .T\n",
    "im = ds.pixel_array.astype(float).T[:, ::-1]\n",
    "\n",
    "# This isn't really necessary, but helps window level consistency\n",
    "im /= im.max()"
   ]
  },
  {
   "cell_type": "code",
   "execution_count": null,
   "metadata": {},
   "outputs": [],
   "source": [
    "im_c = mod_contrast(im)\n",
    "\n",
    "im_grid = sim_gridtag(im_c, 3.5)\n",
    "\n",
    "fig, ax = plt.subplots(1, 3, figsize=(18, 6))\n",
    "\n",
    "# fat is really bright in these images, right now I just manually set window level (clim)\n",
    "ax[0].imshow(im, cmap='gray', clim=(0, 0.2)), ax[0].axis('off')\n",
    "ax[1].imshow(im_c, cmap='gray', clim=(0, 0.7)), ax[1].axis('off')\n",
    "ax[2].imshow(im_grid, cmap='gray', clim=(0, 0.7)), ax[2].axis('off')"
   ]
  },
  {
   "cell_type": "code",
   "execution_count": null,
   "metadata": {},
   "outputs": [],
   "source": [
    "40/8"
   ]
  },
  {
   "cell_type": "code",
   "execution_count": null,
   "metadata": {},
   "outputs": [],
   "source": []
  }
 ],
 "metadata": {
  "interpreter": {
   "hash": "b23d08dfe1d979c998ad7960ec492ddf70d6bd8e6505133e42e82871e3b2f6c0"
  },
  "kernelspec": {
   "display_name": "Python 3.9.5 ('base')",
   "language": "python",
   "name": "python3"
  },
  "language_info": {
   "codemirror_mode": {
    "name": "ipython",
    "version": 3
   },
   "file_extension": ".py",
   "mimetype": "text/x-python",
   "name": "python",
   "nbconvert_exporter": "python",
   "pygments_lexer": "ipython3",
   "version": "3.8.12"
  }
 },
 "nbformat": 4,
 "nbformat_minor": 2
}
