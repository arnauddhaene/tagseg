{
 "cells": [
  {
   "cell_type": "code",
   "execution_count": null,
   "metadata": {},
   "outputs": [],
   "source": [
    "from pathlib import Path\n",
    "from typing import List\n",
    "\n",
    "import pydicom\n",
    "\n",
    "import numpy as np\n",
    "import pandas as pd\n",
    "from sklearn.model_selection import train_test_split\n",
    "import matplotlib.pyplot as plt\n",
    "\n",
    "from kedro.extras.datasets.pickle import PickleDataSet\n",
    "from kedro.config import ConfigLoader\n",
    "\n",
    "from monai.transforms import (\n",
    "    HistogramNormalized,\n",
    "    Compose,\n",
    "    RandSpatialCropSamplesd,\n",
    "    RandAxisFlipd,\n",
    "    RandAffined,\n",
    "    Rand2DElasticd,\n",
    "    RandBiasFieldd,\n",
    "    RandGaussianNoised,\n",
    "    RandGaussianSmoothd,\n",
    "    RandGaussianSharpend,\n",
    "    RandKSpaceSpikeNoised,\n",
    "    EnsureTyped\n",
    ")\n",
    "from monai.data import list_data_collate, CacheDataset\n",
    "\n",
    "import torch\n",
    "from torch.utils.data import TensorDataset, random_split, DataLoader\n",
    "\n",
    "import kornia.augmentation as K\n",
    "import plotly.express as px\n",
    "\n",
    "from PIL import Image\n",
    "\n",
    "import torch\n",
    "from torch.utils.data import DataLoader, TensorDataset, random_split\n",
    "from torchvision.utils import save_image\n",
    "from torchvision import transforms\n",
    "\n",
    "from torch.autograd import Variable"
   ]
  },
  {
   "cell_type": "code",
   "execution_count": null,
   "metadata": {},
   "outputs": [],
   "source": [
    "import os, sys\n",
    "sys.path.append(os.path.abspath('..'))\n",
    "sys.path.append(os.path.abspath('../src/'))\n",
    "\n",
    "from src.tagseg.data.acdc_dataset import AcdcDataSet\n",
    "from src.tagseg.data.dmd_dataset import DmdDataSet, DmdTimeDataSet, Slice\n",
    "from src.tagseg.pipelines.data_splitting.nodes import split_data"
   ]
  },
  {
   "cell_type": "code",
   "execution_count": null,
   "metadata": {},
   "outputs": [],
   "source": [
    "conf_paths = [\"../conf/base\", \"../conf/local\"]\n",
    "conf_loader = ConfigLoader(conf_paths)\n",
    "conf_catalog = conf_loader.get(\"catalog*\", \"catalog*/**\")"
   ]
  },
  {
   "cell_type": "code",
   "execution_count": null,
   "metadata": {},
   "outputs": [],
   "source": [
    "dataset = PickleDataSet(filepath='../' + conf_catalog['model_input']['filepath']).load()"
   ]
  },
  {
   "cell_type": "code",
   "execution_count": null,
   "metadata": {},
   "outputs": [],
   "source": [
    "dataset = list(map(lambda b: (b[0].cpu(), b[1].cpu(),), dataset))"
   ]
  },
  {
   "cell_type": "code",
   "execution_count": null,
   "metadata": {},
   "outputs": [],
   "source": [
    "train_val_split: float = .75\n",
    "batch_size: int = 8\n",
    "\n",
    "n: int = len(dataset)\n",
    "n_train: int = round(n * train_val_split)\n",
    "split: List[int] = [n_train, n - n_train]\n",
    "\n",
    "dataset = [dict(image=image, label=label) for image, label in dataset]\n",
    "\n",
    "train_set, val_set = random_split(\n",
    "    dataset, split, generator=torch.Generator().manual_seed(42)\n",
    ")\n",
    "\n",
    "print(f\"Split dataset into {split} train/val.\")\n",
    "print(f\"Dataset length is {len(train_set)}/{len(val_set)} train/val.\")\n",
    "\n",
    "probability: float = 0.15\n",
    "\n",
    "train_transforms = Compose(\n",
    "    [\n",
    "        HistogramNormalized(keys=[\"image\"]),\n",
    "        RandSpatialCropSamplesd(\n",
    "            keys=[\"image\", \"label\"],\n",
    "            roi_size=(128, 128),\n",
    "            num_samples=4,\n",
    "            random_center=True,\n",
    "            random_size=False,\n",
    "        ),\n",
    "        RandAxisFlipd(keys=[\"image\", \"label\"], prob=probability),\n",
    "        RandAffined(keys=[\"image\", \"label\"], prob=probability),\n",
    "        Rand2DElasticd(\n",
    "            keys=[\"image\", \"label\"],\n",
    "            prob=probability,\n",
    "            spacing=(16, 16),\n",
    "            magnitude_range=(1, 2),\n",
    "            rotate_range=0.25,\n",
    "            padding_mode='zeros'\n",
    "        ),\n",
    "        RandBiasFieldd(keys=[\"image\"], prob=probability),\n",
    "        RandGaussianNoised(keys=[\"image\"], prob=probability),\n",
    "        RandGaussianSmoothd(keys=[\"image\"], prob=probability),\n",
    "        RandGaussianSharpend(keys=[\"image\"], prob=probability),\n",
    "        RandKSpaceSpikeNoised(keys=[\"image\"], prob=probability),\n",
    "        EnsureTyped(keys=[\"image\", \"label\"]),\n",
    "    ]\n",
    ")\n",
    "\n",
    "val_transforms = Compose(\n",
    "    [\n",
    "        HistogramNormalized(keys=[\"image\"]),\n",
    "        EnsureTyped(keys=[\"image\", \"label\"]),\n",
    "    ]\n",
    ")\n",
    "\n",
    "train_ds = CacheDataset(data=train_set, transform=train_transforms, cache_rate=1.0)\n",
    "val_ds = CacheDataset(data=val_set, transform=val_transforms, cache_rate=1.0)\n",
    "\n",
    "loader_train = DataLoader(\n",
    "    train_ds, batch_size=batch_size, shuffle=True, collate_fn=list_data_collate)\n",
    "\n",
    "loader_val = DataLoader(val_ds, batch_size=1)"
   ]
  },
  {
   "cell_type": "code",
   "execution_count": null,
   "metadata": {},
   "outputs": [],
   "source": [
    "batch = next(iter(loader_train))"
   ]
  },
  {
   "cell_type": "code",
   "execution_count": null,
   "metadata": {},
   "outputs": [],
   "source": [
    "batch['image'].shape"
   ]
  },
  {
   "cell_type": "code",
   "execution_count": null,
   "metadata": {},
   "outputs": [],
   "source": [
    "batch['image']"
   ]
  },
  {
   "cell_type": "code",
   "execution_count": null,
   "metadata": {},
   "outputs": [],
   "source": [
    "M, N = 20, 5\n",
    "fig, ax = plt.subplots(M, N, figsize=(20, 100))\n",
    "\n",
    "for i in range(M * N):\n",
    "    m, n = i % M, i // M\n",
    "    ax[m, n].imshow(dataset[i][0][0].cpu(), cmap='gray')\n",
    "    ax[m, n].imshow(dataset[i][1].cpu(), cmap='Reds', alpha=0.3)\n",
    "    ax[m, n].axis('off')"
   ]
  },
  {
   "cell_type": "code",
   "execution_count": null,
   "metadata": {},
   "outputs": [],
   "source": []
  }
 ],
 "metadata": {
  "interpreter": {
   "hash": "0ad42e69c0d21e96d3d26e0b34570ca4969313104102badd5550b873ed7930ce"
  },
  "kernelspec": {
   "display_name": "Python 3.8.12 ('tagroi')",
   "language": "python",
   "name": "python3"
  },
  "language_info": {
   "codemirror_mode": {
    "name": "ipython",
    "version": 3
   },
   "file_extension": ".py",
   "mimetype": "text/x-python",
   "name": "python",
   "nbconvert_exporter": "python",
   "pygments_lexer": "ipython3",
   "version": "3.8.12"
  }
 },
 "nbformat": 4,
 "nbformat_minor": 2
}
