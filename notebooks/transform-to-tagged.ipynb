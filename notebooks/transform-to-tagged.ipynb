{
 "cells": [
  {
   "cell_type": "code",
   "execution_count": null,
   "metadata": {},
   "outputs": [],
   "source": [
    "from pathlib import Path\n",
    "from typing import List\n",
    "\n",
    "import pydicom\n",
    "\n",
    "import numpy as np\n",
    "import pandas as pd\n",
    "from sklearn.model_selection import train_test_split\n",
    "import matplotlib.pyplot as plt\n",
    "\n",
    "from kedro.extras.datasets.pickle import PickleDataSet\n",
    "from kedro.config import ConfigLoader\n",
    "\n",
    "import kornia.augmentation as K\n",
    "import plotly.express as px\n",
    "\n",
    "from PIL import Image\n",
    "\n",
    "import torch\n",
    "from torch.utils.data import DataLoader, TensorDataset, random_split\n",
    "from torchvision.utils import save_image\n",
    "from torchvision import transforms\n",
    "\n",
    "from torch.autograd import Variable"
   ]
  },
  {
   "cell_type": "code",
   "execution_count": null,
   "metadata": {},
   "outputs": [],
   "source": [
    "import os, sys\n",
    "sys.path.append(os.path.abspath('..'))\n",
    "sys.path.append(os.path.abspath('../src/'))\n",
    "\n",
    "from src.tagseg.data.acdc_dataset import AcdcDataSet\n",
    "from src.tagseg.data.dmd_dataset import DmdDataSet, DmdTimeDataSet, Slice\n",
    "from src.tagseg.pipelines.data_splitting.nodes import split_data"
   ]
  },
  {
   "cell_type": "code",
   "execution_count": null,
   "metadata": {},
   "outputs": [],
   "source": [
    "conf_paths = [\"../conf/base\", \"../conf/local\"]\n",
    "conf_loader = ConfigLoader(conf_paths)\n",
    "conf_catalog = conf_loader.get(\"catalog*\", \"catalog*/**\")"
   ]
  },
  {
   "cell_type": "code",
   "execution_count": null,
   "metadata": {},
   "outputs": [],
   "source": [
    "params = {\n",
    "    'filepath': '../data/03_primary/acdc_train.pt',\n",
    "    'load_args': {'filepath_raw': '../data/01_raw/acdc-training', 'only_myo': True}\n",
    "}\n",
    "\n",
    "acdc = AcdcDataSet(**params)"
   ]
  },
  {
   "cell_type": "code",
   "execution_count": null,
   "metadata": {},
   "outputs": [],
   "source": [
    "acdc.save(acdc.load())"
   ]
  },
  {
   "cell_type": "code",
   "execution_count": null,
   "metadata": {},
   "outputs": [],
   "source": [
    "dataset = acdc.load()"
   ]
  },
  {
   "cell_type": "code",
   "execution_count": null,
   "metadata": {},
   "outputs": [],
   "source": [
    "dataset = PickleDataSet(filepath='../' + conf_catalog['model_input']['filepath']).load()"
   ]
  },
  {
   "cell_type": "code",
   "execution_count": null,
   "metadata": {},
   "outputs": [],
   "source": [
    "len(dataset)"
   ]
  },
  {
   "cell_type": "code",
   "execution_count": null,
   "metadata": {},
   "outputs": [],
   "source": [
    "M, N = 20, 5\n",
    "fig, ax = plt.subplots(M, N, figsize=(20, 100))\n",
    "\n",
    "for i in range(M * N):\n",
    "    m, n = i % M, i // M\n",
    "    ax[m, n].imshow(dataset[i][0][0].cpu(), cmap='gray')\n",
    "    ax[m, n].imshow(dataset[i][1].cpu(), cmap='Reds', alpha=0.3)\n",
    "    ax[m, n].axis('off')"
   ]
  },
  {
   "cell_type": "code",
   "execution_count": null,
   "metadata": {},
   "outputs": [],
   "source": []
  }
 ],
 "metadata": {
  "interpreter": {
   "hash": "0ad42e69c0d21e96d3d26e0b34570ca4969313104102badd5550b873ed7930ce"
  },
  "kernelspec": {
   "display_name": "Python 3.8.12 ('tagroi')",
   "language": "python",
   "name": "python3"
  },
  "language_info": {
   "codemirror_mode": {
    "name": "ipython",
    "version": 3
   },
   "file_extension": ".py",
   "mimetype": "text/x-python",
   "name": "python",
   "nbconvert_exporter": "python",
   "pygments_lexer": "ipython3",
   "version": "3.8.12"
  }
 },
 "nbformat": 4,
 "nbformat_minor": 2
}
