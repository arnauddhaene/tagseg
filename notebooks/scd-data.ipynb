{
 "cells": [
  {
   "cell_type": "code",
   "execution_count": 1,
   "metadata": {},
   "outputs": [],
   "source": [
    "from pathlib import Path\n",
    "from typing import Tuple\n",
    "import functools\n",
    "\n",
    "import pydicom\n",
    "\n",
    "import numpy as np\n",
    "import pandas as pd\n",
    "import matplotlib.pyplot as plt\n",
    "from skimage.draw import polygon, polygon2mask\n",
    "\n",
    "\n",
    "import torch\n",
    "from torch.utils.data import random_split, DataLoader\n",
    "from torchvision import transforms"
   ]
  },
  {
   "cell_type": "code",
   "execution_count": 2,
   "metadata": {},
   "outputs": [],
   "source": [
    "import os, sys\n",
    "sys.path.append(os.path.abspath('..'))"
   ]
  },
  {
   "cell_type": "code",
   "execution_count": 3,
   "metadata": {},
   "outputs": [],
   "source": [
    "def get_points(path: Path) -> np.ndarray:\n",
    "    with open(path, 'r') as f:\n",
    "        lines = f.read().split('\\n')\n",
    "    \n",
    "    # remove last line if empty\n",
    "    if lines[-1] == '':\n",
    "        lines = lines[:-1]\n",
    "    return np.array([x_y.split(' ') for x_y in lines]).astype(np.float64)"
   ]
  },
  {
   "cell_type": "code",
   "execution_count": 4,
   "metadata": {},
   "outputs": [],
   "source": [
    "def get_mask(shape: Tuple[int, int], path: Path) -> np.ndarray:\n",
    "\n",
    "    pts = get_points(path)\n",
    "    pg = polygon(pts[:, 1], pts[:, 0], shape)\n",
    "    mask = polygon2mask(shape, np.array(pg).T)\n",
    "\n",
    "    return mask"
   ]
  },
  {
   "cell_type": "code",
   "execution_count": 9,
   "metadata": {},
   "outputs": [],
   "source": [
    "images: torch.Tensor = torch.Tensor()\n",
    "labels: torch.Tensor = torch.Tensor()\n",
    "\n",
    "folders = [\n",
    "    (\n",
    "        Path('../data/01_raw/Sunnybrook Cardiac MR Database ContoursPart1/OnlineDataContours'),\n",
    "        Path('../data/01_raw/Sunnybrook Cardiac MR Database DICOMPart1/OnlineDataDICOM'),\n",
    "    ),\n",
    "    (\n",
    "        Path('../data/01_raw/Sunnybrook Cardiac MR Database ContoursPart2/ValidationDataContours'),\n",
    "        Path('../data/01_raw/Sunnybrook Cardiac MR Database DICOMPart2/ValidationDataDICOM'),\n",
    "    ),\n",
    "    (\n",
    "        Path('../data/01_raw/Sunnybrook Cardiac MR Database ContoursPart3/TrainingDataContours'),\n",
    "        Path('../data/01_raw/Sunnybrook Cardiac MR Database DICOMPart3/TrainingDataDICOM'),\n",
    "    )\n",
    "]\n",
    "\n",
    "for contour_folder, dicom_folder in folders:\n",
    "\n",
    "    patients = [d for d in contour_folder.iterdir() if d.is_dir()]\n",
    "\n",
    "    for patient in patients:\n",
    "        \n",
    "        if patient.name == 'file-listings':\n",
    "            continue\n",
    "\n",
    "        contours = [f for f in (patient / 'contours-manual' / 'IRCCI-expert').iterdir() \n",
    "                        if (f.is_file() and f.suffix == '.txt')]\n",
    "        \n",
    "        cont_ptr = {}\n",
    "        for contour in contours:\n",
    "            _, _, no, _, _ = contour.stem.split('-')\n",
    "\n",
    "            no = f\"IM-0001-{int(no):04}\"\n",
    "\n",
    "            if no not in cont_ptr.keys():\n",
    "                cont_ptr[no] = [contour]\n",
    "            else:\n",
    "                cont_ptr[no].append(contour)\n",
    "\n",
    "        for no, conts in cont_ptr.items():\n",
    "            # choose only inner and outer\n",
    "            conts = [cont for cont in conts if ('icontour' in str(cont) or 'ocontour' in str(cont))]\n",
    "            \n",
    "            # skip annotations that don't include endo- and epi-cardial wall\n",
    "            if len(conts) < 2:\n",
    "                continue\n",
    "\n",
    "            image_path = dicom_folder / patient.name / 'DICOM' / (no + '.dcm')\n",
    "            image = pydicom.dcmread(image_path).pixel_array\n",
    "\n",
    "            mask_me = functools.partial(get_mask, image.shape)\n",
    "            # alphabetical sorting will yield inner before outer\n",
    "            inner, outer = tuple(map(mask_me, sorted(conts)))\n",
    "\n",
    "            label = (outer ^ inner).astype(np.float64)\n",
    "\n",
    "            images = torch.cat((images, torch.Tensor(image).unsqueeze(0)), axis=0)\n",
    "            labels = torch.cat((labels, torch.Tensor(label).unsqueeze(0)), axis=0)\n"
   ]
  },
  {
   "cell_type": "code",
   "execution_count": 10,
   "metadata": {},
   "outputs": [
    {
     "data": {
      "text/plain": [
       "420"
      ]
     },
     "execution_count": 10,
     "metadata": {},
     "output_type": "execute_result"
    }
   ],
   "source": [
    "len(images)"
   ]
  },
  {
   "cell_type": "code",
   "execution_count": 27,
   "metadata": {},
   "outputs": [
    {
     "data": {
      "text/plain": [
       "<matplotlib.collections.PathCollection at 0x7f4a8f7bfcd0>"
      ]
     },
     "execution_count": 27,
     "metadata": {},
     "output_type": "execute_result"
    },
    {
     "data": {
      "image/png": "[encoded data removed]",
      "text/plain": [
       "<Figure size 432x288 with 1 Axes>"
      ]
     },
     "metadata": {
      "needs_background": "light"
     },
     "output_type": "display_data"
    }
   ],
   "source": [
    "x = np.array(range(420))\n",
    "y = x % 42\n",
    "z = x % 10\n",
    "plt.scatter(x, y)\n",
    "plt.scatter(x, z)"
   ]
  },
  {
   "cell_type": "code",
   "execution_count": null,
   "metadata": {},
   "outputs": [],
   "source": []
  }
 ],
 "metadata": {
  "interpreter": {
   "hash": "0ad42e69c0d21e96d3d26e0b34570ca4969313104102badd5550b873ed7930ce"
  },
  "kernelspec": {
   "display_name": "Python 3.8.12 ('tagroi')",
   "language": "python",
   "name": "python3"
  },
  "language_info": {
   "codemirror_mode": {
    "name": "ipython",
    "version": 3
   },
   "file_extension": ".py",
   "mimetype": "text/x-python",
   "name": "python",
   "nbconvert_exporter": "python",
   "pygments_lexer": "ipython3",
   "version": "3.8.12"
  },
  "orig_nbformat": 4
 },
 "nbformat": 4,
 "nbformat_minor": 2
}
