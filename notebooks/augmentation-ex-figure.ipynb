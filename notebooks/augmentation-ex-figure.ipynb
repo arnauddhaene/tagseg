{
 "cells": [
  {
   "cell_type": "code",
   "execution_count": null,
   "metadata": {},
   "outputs": [],
   "source": [
    "import re\n",
    "from pathlib import Path\n",
    "from typing import List\n",
    "\n",
    "import numpy as np\n",
    "import matplotlib.pyplot as plt\n",
    "\n",
    "from kedro.extras.datasets.pickle import PickleDataSet\n",
    "from kedro.config import ConfigLoader\n",
    "\n",
    "from PIL import Image\n",
    "\n",
    "import kornia.augmentation as K\n",
    "\n",
    "import torch\n",
    "from torch.utils.data import DataLoader, TensorDataset, random_split\n",
    "from torchvision.utils import save_image"
   ]
  },
  {
   "cell_type": "code",
   "execution_count": null,
   "metadata": {},
   "outputs": [],
   "source": [
    "import os, sys\n",
    "sys.path.append(os.path.abspath('../src/'))\n",
    "\n",
    "from tagseg.data.acdc_dataset import AcdcDataSet"
   ]
  },
  {
   "cell_type": "code",
   "execution_count": null,
   "metadata": {},
   "outputs": [],
   "source": [
    "dataset = AcdcDataSet(filepath='../data/03_primary/acdc_train.pt').load()"
   ]
  },
  {
   "cell_type": "code",
   "execution_count": null,
   "metadata": {},
   "outputs": [],
   "source": [
    "proba = 1.\n",
    "\n",
    "augmentations = [\n",
    "    K.RandomHorizontalFlip(p=proba),\n",
    "    K.RandomVerticalFlip(p=proba),\n",
    "    K.RandomElasticTransform(p=proba),\n",
    "    K.RandomGaussianNoise(p=proba),\n",
    "    K.RandomSharpness(p=proba),\n",
    "    K.RandomGaussianBlur(kernel_size=(7, 7), sigma=(3., 3.), p=proba)\n",
    "]\n",
    "\n",
    "augmentations = [K.AugmentationSequential(aug, data_keys=[\"input\", \"mask\"]) for aug in augmentations]"
   ]
  },
  {
   "cell_type": "code",
   "execution_count": null,
   "metadata": {},
   "outputs": [],
   "source": [
    "def camel_to_words(name: str) -> str:\n",
    "  name = re.sub('(.)([A-Z][a-z]+)', r'\\1 \\2', name)\n",
    "  return re.sub('([a-z0-9])([A-Z])', r'\\1 \\2', name)"
   ]
  },
  {
   "cell_type": "code",
   "execution_count": null,
   "metadata": {},
   "outputs": [],
   "source": [
    "fig, ax = plt.subplots(2, 3, figsize=(7.5, 5))\n",
    "\n",
    "for i, aug in enumerate(augmentations):\n",
    "\n",
    "    m, n = i % 2, i // 2\n",
    "\n",
    "    im, la = aug(*dataset[1503])\n",
    "\n",
    "    ax[m, n].imshow(im[0, 0], cmap='gray')  # , vmin=None, vmax=1.)\n",
    "    ax[m, n]\n",
    "    ax[m, n].axis('off')\n",
    "    ax[m, n].set_title(' '.join(map(lambda s: s.capitalize(), camel_to_words(aug[0].__class__.__name__).split(' ')[1:])))\n",
    "\n",
    "plt.tight_layout()\n",
    "plt.savefig('../../figures/augmentations.pdf', bbox_inches='tight')\n",
    "plt.show()"
   ]
  },
  {
   "cell_type": "code",
   "execution_count": null,
   "metadata": {},
   "outputs": [],
   "source": []
  }
 ],
 "metadata": {
  "kernelspec": {
   "display_name": "Python 3.8.13 ('tagseg')",
   "language": "python",
   "name": "python3"
  },
  "language_info": {
   "codemirror_mode": {
    "name": "ipython",
    "version": 3
   },
   "file_extension": ".py",
   "mimetype": "text/x-python",
   "name": "python",
   "nbconvert_exporter": "python",
   "pygments_lexer": "ipython3",
   "version": "3.8.13"
  },
  "vscode": {
   "interpreter": {
    "hash": "f96aa06bcc802279cb41a4fef15367898ee8a6505f496b2b6e706331145b8c4d"
   }
  }
 },
 "nbformat": 4,
 "nbformat_minor": 2
}
