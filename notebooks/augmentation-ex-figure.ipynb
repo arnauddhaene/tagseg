{
 "cells": [
  {
   "cell_type": "code",
   "execution_count": null,
   "metadata": {},
   "outputs": [],
   "source": [
    "from pathlib import Path\n",
    "from typing import List\n",
    "\n",
    "import numpy as np\n",
    "import matplotlib.pyplot as plt\n",
    "\n",
    "from kedro.extras.datasets.pickle import PickleDataSet\n",
    "from kedro.config import ConfigLoader\n",
    "\n",
    "from PIL import Image\n",
    "\n",
    "import kornia.augmentation as K\n",
    "\n",
    "import torch\n",
    "from torch.utils.data import DataLoader, TensorDataset, random_split\n",
    "from torchvision.utils import save_image"
   ]
  },
  {
   "cell_type": "code",
   "execution_count": null,
   "metadata": {},
   "outputs": [],
   "source": [
    "import os, sys\n",
    "sys.path.append(os.path.abspath('..'))\n",
    "sys.path.append(os.path.abspath('../src/'))\n",
    "\n",
    "from src.tagseg.data.acdc_dataset import AcdcDataSet\n",
    "from src.tagseg.data.dmd_dataset import DmdDataSet, DmdTimeDataSet\n",
    "from src.tagseg.data.scd_dataset import ScdDataSet\n",
    "from src.tagseg.pipelines.data_processing.nodes import preprocess_acdc\n",
    "from src.tagseg.pipelines.data_splitting.nodes import split_data"
   ]
  },
  {
   "cell_type": "code",
   "execution_count": null,
   "metadata": {},
   "outputs": [],
   "source": [
    "conf_paths = [\"../conf/base\", \"../conf/local\"]\n",
    "conf_loader = ConfigLoader(conf_paths)\n",
    "conf_catalog = conf_loader.get(\"catalog*\", \"catalog*/**\")"
   ]
  },
  {
   "cell_type": "code",
   "execution_count": null,
   "metadata": {},
   "outputs": [],
   "source": [
    "path_in = Path('../../PyTorch-CycleGAN/datasets/taggedmr-v1/test/A')\n",
    "path_out = Path('../../PyTorch-CycleGAN/output/B')\n",
    "\n",
    "# input_imgs = list(sorted(filter(lambda p: p.suffix == '.png', path_in.iterdir()), key=lambda p: int(p.stem.split('_')[-1])))\n",
    "# output_imgs = list(sorted(filter(lambda p: p.suffix == '.png', path_out.iterdir()), key=lambda p: int(p.stem.split('_')[-1])))\n",
    "\n",
    "input_imgs = list(sorted(filter(lambda p: p.is_file(), path_in.iterdir()), key=lambda p: p.stem))\n",
    "output_imgs = list(sorted(filter(lambda p: p.is_file(), path_out.iterdir()), key=lambda p: p.stem))"
   ]
  },
  {
   "cell_type": "code",
   "execution_count": null,
   "metadata": {},
   "outputs": [],
   "source": [
    "fig, ax = plt.subplots(2, 5, figsize=(20, 8))\n",
    "\n",
    "for i in range(15, 20):\n",
    "    ax[0, i % 5].imshow(Image.open(input_imgs[i]).convert('L'), cmap='gray')\n",
    "    ax[0, i % 5].axis('off')\n",
    "    ax[1, i % 5].imshow(Image.open(output_imgs[i]).convert('L'), cmap='gray')\n",
    "    ax[1, i % 5].axis('off')"
   ]
  },
  {
   "cell_type": "code",
   "execution_count": null,
   "metadata": {},
   "outputs": [],
   "source": []
  }
 ],
 "metadata": {
  "interpreter": {
   "hash": "0ad42e69c0d21e96d3d26e0b34570ca4969313104102badd5550b873ed7930ce"
  },
  "kernelspec": {
   "display_name": "Python 3.8.12 ('tagroi')",
   "language": "python",
   "name": "python3"
  },
  "language_info": {
   "codemirror_mode": {
    "name": "ipython",
    "version": 3
   },
   "file_extension": ".py",
   "mimetype": "text/x-python",
   "name": "python",
   "nbconvert_exporter": "python",
   "pygments_lexer": "ipython3",
   "version": "3.8.12"
  }
 },
 "nbformat": 4,
 "nbformat_minor": 2
}
