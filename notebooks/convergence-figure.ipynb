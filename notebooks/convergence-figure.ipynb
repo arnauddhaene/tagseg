{
 "cells": [
  {
   "cell_type": "code",
   "execution_count": null,
   "metadata": {},
   "outputs": [],
   "source": [
    "import pandas as pd\n",
    "\n",
    "import plotly.express as px\n",
    "import plotly.io as pio\n",
    "pio.templates.default = \"simple_white\"\n",
    "\n",
    "from aim import Repo"
   ]
  },
  {
   "cell_type": "code",
   "execution_count": null,
   "metadata": {},
   "outputs": [],
   "source": [
    "repo = Repo.from_path('../.aim/')"
   ]
  },
  {
   "cell_type": "code",
   "execution_count": null,
   "metadata": {},
   "outputs": [],
   "source": [
    "metrics = repo.query_metrics(\n",
    "    query=\"run.hparams.training.checkpoint in ['data/06_models/model_dmd_v2.pt', 'data/06_models/model_cine_v8_simtag_v1_dmd_v1.pt', 'data/06_models/model_cine_v8_tag_v1_dmd_v2.pt', 'data/06_models/model_cine_v8_dmd_v0.pt', \\\n",
    "            'data/06_models/model_dmd_v1.pt', 'data/06_models/model_cine_v4_dmd_v0.pt', 'data/06_models/model_cine_v6_simtag_v1_dmd_v1.pt', 'data/06_models/model_cine_v6_tag_v1_dmd_v2.pt']\"\n",
    ")"
   ]
  },
  {
   "cell_type": "code",
   "execution_count": null,
   "metadata": {},
   "outputs": [],
   "source": [
    "df = metrics.dataframe(include_run=True)"
   ]
  },
  {
   "cell_type": "code",
   "execution_count": null,
   "metadata": {},
   "outputs": [],
   "source": [
    "def parse_strategy(checkpoint_path: str):\n",
    "    if 'simtag' in checkpoint_path:\n",
    "        return 'Physics-driven'\n",
    "    elif 'tag' in checkpoint_path:\n",
    "        return 'CycleGAN'\n",
    "    elif 'cine' in checkpoint_path:\n",
    "        return 'Cine'\n",
    "    else:\n",
    "        return 'Scratch'"
   ]
  },
  {
   "cell_type": "code",
   "execution_count": null,
   "metadata": {},
   "outputs": [],
   "source": [
    "df = df.astype({'epoch': int}, errors='ignore')"
   ]
  },
  {
   "cell_type": "code",
   "execution_count": null,
   "metadata": {},
   "outputs": [],
   "source": [
    "df['strategy'] = df['run.hparams.training.checkpoint'].apply(parse_strategy)"
   ]
  },
  {
   "cell_type": "code",
   "execution_count": null,
   "metadata": {},
   "outputs": [],
   "source": [
    "df.rename(columns={\n",
    "    'metric.name': 'metric',\n",
    "    'run.hparams.training.model_type': 'architecture',\n",
    "    'metric.context.subset': 'split',\n",
    "}, inplace=True)"
   ]
  },
  {
   "cell_type": "code",
   "execution_count": null,
   "metadata": {},
   "outputs": [],
   "source": [
    "df['architecture'].replace('DynUNet', 'nnUnet', inplace=True)\n",
    "df['architecture'].replace('SegResNetVAE', 'ResNetVAE', inplace=True)"
   ]
  },
  {
   "cell_type": "code",
   "execution_count": null,
   "metadata": {},
   "outputs": [],
   "source": [
    "colors = ['#023047', '#219EBC', '#FB8500', '#C44536']\n",
    "\n",
    "sort_kwargs = dict(\n",
    "    by=['split', 'strategy', 'architecture', 'metric', 'epoch'], \n",
    "    ascending=[True, False, False, True, False]\n",
    ")\n",
    "\n",
    "fig = px.line(\n",
    "    df[(df['metric'].isin(['dice', 'loss']))].sort_values(**sort_kwargs),\n",
    "    x='epoch', y='value', facet_row='metric', color='strategy', facet_col='architecture', line_dash='split',\n",
    "    color_discrete_sequence=colors, facet_col_spacing=0.03\n",
    ")\n",
    "\n",
    "fig.update_yaxes(matches=None)\n",
    "top_h_legend = dict(orientation='h', yanchor=\"bottom\", y=1.1)\n",
    "fig.update_layout(legend=top_h_legend)\n",
    "\n",
    "fig.update_xaxes(range=[0, 150], dtick=25)\n",
    "\n",
    "fig.update_yaxes(title_text='DSC (↑)', range=[0, 1], dtick=.1, row=2, col=1)\n",
    "fig.update_yaxes(range=[0, 1], row=2, col=2)\n",
    "\n",
    "fig.update_yaxes(title_text='Loss (↓)', range=[-3.5, -1.6], type=\"log\", row=1, col=1)\n",
    "fig.update_yaxes(range=[-3.5, -1.6], type=\"log\", row=1, col=2)\n",
    "\n",
    "fig.update_layout(height=800 / 1.62, width=800)\n",
    "fig.show()"
   ]
  },
  {
   "cell_type": "code",
   "execution_count": null,
   "metadata": {},
   "outputs": [],
   "source": [
    "fig.write_image(\"../../figures/training-convergence.pdf\")"
   ]
  },
  {
   "cell_type": "code",
   "execution_count": null,
   "metadata": {},
   "outputs": [],
   "source": []
  }
 ],
 "metadata": {
  "kernelspec": {
   "display_name": "Python 3.8.13 ('tagseg')",
   "language": "python",
   "name": "python3"
  },
  "language_info": {
   "codemirror_mode": {
    "name": "ipython",
    "version": 3
   },
   "file_extension": ".py",
   "mimetype": "text/x-python",
   "name": "python",
   "nbconvert_exporter": "python",
   "pygments_lexer": "ipython3",
   "version": "3.8.13"
  },
  "vscode": {
   "interpreter": {
    "hash": "f96aa06bcc802279cb41a4fef15367898ee8a6505f496b2b6e706331145b8c4d"
   }
  }
 },
 "nbformat": 4,
 "nbformat_minor": 2
}
