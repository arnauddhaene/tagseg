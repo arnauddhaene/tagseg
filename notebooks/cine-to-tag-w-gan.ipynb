{
 "cells": [
  {
   "cell_type": "code",
   "execution_count": null,
   "metadata": {},
   "outputs": [],
   "source": [
    "import numpy as np\n",
    "import matplotlib.pyplot as plt\n",
    "\n",
    "from kedro.extras.datasets.pickle import PickleDataSet"
   ]
  },
  {
   "cell_type": "code",
   "execution_count": null,
   "metadata": {},
   "outputs": [],
   "source": [
    "import os, sys\n",
    "sys.path.append(os.path.abspath('../src'))\n",
    "\n",
    "from tagseg.pipelines.data_processing.nodes import prepare_input\n",
    "from tagseg.data.acdc_dataset import AcdcDataSet"
   ]
  },
  {
   "cell_type": "code",
   "execution_count": null,
   "metadata": {},
   "outputs": [],
   "source": [
    "dataset = PickleDataSet(filepath='../data/03_primary/acdc_train.pt').load()"
   ]
  },
  {
   "cell_type": "code",
   "execution_count": null,
   "metadata": {},
   "outputs": [],
   "source": [
    "transformation_params = dict(\n",
    "    perform=True,\n",
    "    generator_model=None,\n",
    "    batch_size=None,\n",
    "    physics=True,\n",
    ")\n",
    "\n",
    "tagged = prepare_input(dataset, transformation_params)"
   ]
  },
  {
   "cell_type": "code",
   "execution_count": null,
   "metadata": {},
   "outputs": [],
   "source": [
    "examples, labels = dataset.tensors"
   ]
  },
  {
   "cell_type": "code",
   "execution_count": null,
   "metadata": {},
   "outputs": [],
   "source": [
    "m, n = 3, 4\n",
    "\n",
    "fig, ax = plt.subplots(m, n, figsize=(20, 15))\n",
    "\n",
    "for a in range(m * n):\n",
    "    i, j = a % m, a // m\n",
    "\n",
    "    ax[i, j].imshow(examples[a, 0], cmap='gray')\n",
    "    ax[i, j].imshow(np.ma.masked_where(labels[a] == 0, labels[a]), cmap='jet', alpha=1)\n",
    "    ax[i, j].axis('off')"
   ]
  },
  {
   "cell_type": "code",
   "execution_count": null,
   "metadata": {},
   "outputs": [],
   "source": [
    "examples, labels = tagged.tensors"
   ]
  },
  {
   "cell_type": "code",
   "execution_count": null,
   "metadata": {},
   "outputs": [],
   "source": [
    "m, n = 3, 4\n",
    "\n",
    "fig, ax = plt.subplots(m, n, figsize=(20, 15))\n",
    "\n",
    "for a in range(m * n):\n",
    "    i, j = a % m, a // m\n",
    "\n",
    "    ax[i, j].imshow(examples[a, 0], cmap='gray')\n",
    "    ax[i, j].imshow(np.ma.masked_where(labels[a, 0] == 0, labels[a, 0]), cmap='jet', alpha=1)\n",
    "    ax[i, j].axis('off')"
   ]
  },
  {
   "cell_type": "code",
   "execution_count": null,
   "metadata": {},
   "outputs": [],
   "source": []
  }
 ],
 "metadata": {
  "kernelspec": {
   "display_name": "Python 3.8.13 ('tagseg')",
   "language": "python",
   "name": "python3"
  },
  "language_info": {
   "codemirror_mode": {
    "name": "ipython",
    "version": 3
   },
   "file_extension": ".py",
   "mimetype": "text/x-python",
   "name": "python",
   "nbconvert_exporter": "python",
   "pygments_lexer": "ipython3",
   "version": "3.8.13"
  },
  "vscode": {
   "interpreter": {
    "hash": "f96aa06bcc802279cb41a4fef15367898ee8a6505f496b2b6e706331145b8c4d"
   }
  }
 },
 "nbformat": 4,
 "nbformat_minor": 2
}
