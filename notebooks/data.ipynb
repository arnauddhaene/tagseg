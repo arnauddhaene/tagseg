{
 "cells": [
  {
   "cell_type": "markdown",
   "metadata": {},
   "source": [
    "### Imports"
   ]
  },
  {
   "cell_type": "code",
   "execution_count": null,
   "metadata": {},
   "outputs": [],
   "source": [
    "from typing import Tuple\n",
    "from pathlib import Path\n",
    "from tqdm.notebook import tqdm\n",
    "\n",
    "import numpy as np\n",
    "import matplotlib.pyplot as plt\n",
    "\n",
    "import torch\n",
    "from torch import nn, optim\n",
    "import torch.nn.functional as F\n",
    "from torch.utils.data import Dataset, random_split, DataLoader\n",
    "\n",
    "import aim"
   ]
  },
  {
   "cell_type": "code",
   "execution_count": null,
   "metadata": {},
   "outputs": [],
   "source": [
    "import os, sys\n",
    "sys.path.append(os.path.abspath('..'))\n",
    "\n",
    "from src.models.unet import UNet\n",
    "from src.training.metrics import dice_loss\n",
    "from src.training.metrics import evaluate\n",
    "from src.training.train import train\n",
    "from src.data.datasets import ACDCDataset\n"
   ]
  },
  {
   "cell_type": "markdown",
   "metadata": {},
   "source": [
    "### Fetch dataset"
   ]
  },
  {
   "cell_type": "code",
   "execution_count": null,
   "metadata": {},
   "outputs": [],
   "source": [
    "\n",
    "dataset = ACDCDataset(path='../../training/', tagged=False, verbose=1)"
   ]
  },
  {
   "cell_type": "code",
   "execution_count": null,
   "metadata": {},
   "outputs": [],
   "source": [
    "train_set, val_set = random_split(dataset, [704, 248], generator=torch.Generator().manual_seed(42))\n",
    "loader_train = DataLoader(train_set, batch_size=16, shuffle=True)\n",
    "loader_val = DataLoader(val_set, batch_size=32, shuffle=False)"
   ]
  },
  {
   "cell_type": "markdown",
   "metadata": {},
   "source": [
    "### Instantiate model"
   ]
  },
  {
   "cell_type": "code",
   "execution_count": null,
   "metadata": {},
   "outputs": [],
   "source": [
    "device = torch.device('cuda' if torch.cuda.is_available() else 'cpu')\n",
    "device"
   ]
  },
  {
   "cell_type": "code",
   "execution_count": null,
   "metadata": {},
   "outputs": [],
   "source": [
    "model = UNet(n_channels=1, n_classes=4, bilinear=True).double()\n",
    "saved_model = torch.load('../checkpoints/model/model_cine_v0.pt')\n",
    "if isinstance(saved_model, nn.DataParallel):  # Extract UNet if saved model is parallelized\n",
    "    saved_model = saved_model.module\n",
    "model.load_state_dict(saved_model.state_dict())\n",
    "\n",
    "if device.type == 'cuda':\n",
    "    model = nn.DataParallel(model).to(device)\n",
    "    model.n_classes = model.module.n_classes"
   ]
  },
  {
   "cell_type": "markdown",
   "metadata": {},
   "source": [
    "### Train model"
   ]
  },
  {
   "cell_type": "code",
   "execution_count": null,
   "metadata": {},
   "outputs": [],
   "source": [
    "# train(model, run=aim.Run(), loader_train=loader_train, loader_val=loader_val, device=device)"
   ]
  },
  {
   "cell_type": "markdown",
   "metadata": {},
   "source": [
    "### Evaluate model outputs on validation set"
   ]
  },
  {
   "cell_type": "code",
   "execution_count": null,
   "metadata": {},
   "outputs": [],
   "source": [
    "example, label = next(iter(loader_val))\n",
    "out = model(example.double().to(device))\n",
    "\n",
    "example.shape, label.shape, out.shape"
   ]
  },
  {
   "cell_type": "code",
   "execution_count": null,
   "metadata": {},
   "outputs": [],
   "source": [
    "predicted_mask = F.softmax(out, dim=1).argmax(dim=1).cpu().detach().numpy().copy()\n",
    "\n",
    "fig, ax = plt.subplots(4, 5, figsize=(10, 10))\n",
    "\n",
    "for i in range(12, 16):\n",
    "    for j in range(4):\n",
    "        ax[i % 4, j].imshow(out.cpu().detach().numpy()[i, j])\n",
    "        ax[i % 4, j].axis('off')\n",
    "\n",
    "    ax[i % 4, 4].imshow(predicted_mask[i]), ax[i % 4, 4].axis('off')"
   ]
  },
  {
   "cell_type": "code",
   "execution_count": null,
   "metadata": {},
   "outputs": [],
   "source": [
    "fig, ax = plt.subplots(3, 4, figsize=(20, 15))\n",
    "\n",
    "for i in range(8, 12):\n",
    "    ax[0, i % 4].imshow(example[i, 0], cmap='gray')\n",
    "    ax[1, i % 4].imshow(label[i], alpha=1)\n",
    "    ax[2, i % 4].imshow(predicted_mask[i], alpha=1.)\n",
    "    ax[0, i % 4].axis('off'), ax[1, i % 4].axis('off'), ax[2, i % 4].axis('off')"
   ]
  },
  {
   "cell_type": "code",
   "execution_count": null,
   "metadata": {},
   "outputs": [],
   "source": []
  }
 ],
 "metadata": {
  "interpreter": {
   "hash": "a3f06613ef70e0077a3946fb59913efa2fe631307206539d5a6b527578a64b99"
  },
  "kernelspec": {
   "display_name": "Python 3.8.12 ('sf')",
   "language": "python",
   "name": "python3"
  },
  "language_info": {
   "codemirror_mode": {
    "name": "ipython",
    "version": 3
   },
   "file_extension": ".py",
   "mimetype": "text/x-python",
   "name": "python",
   "nbconvert_exporter": "python",
   "pygments_lexer": "ipython3",
   "version": "3.8.12"
  }
 },
 "nbformat": 4,
 "nbformat_minor": 2
}
