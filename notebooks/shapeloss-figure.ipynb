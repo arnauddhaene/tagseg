{
 "cells": [
  {
   "cell_type": "code",
   "execution_count": 37,
   "metadata": {},
   "outputs": [],
   "source": [
    "from typing import Tuple\n",
    "import itertools\n",
    "from pathlib import Path\n",
    "from tqdm.notebook import tqdm\n",
    "\n",
    "import numpy as np\n",
    "import pandas as pd\n",
    "import matplotlib.pyplot as plt\n",
    "\n",
    "from monai.networks import nets, one_hot\n",
    "from monai.metrics import compute_hausdorff_distance\n",
    "\n",
    "import plotly.express as px\n",
    "from plotly.colors import n_colors\n",
    "import plotly.graph_objects as go\n",
    "from plotly.subplots import make_subplots\n",
    "import plotly.io as pio\n",
    "\n",
    "pio.templates.default = \"simple_white\"\n",
    "\n",
    "import skimage as skm\n",
    "from scipy import interpolate\n",
    "\n",
    "import torch\n",
    "from torch import nn, optim\n",
    "import torch.nn.functional as F\n",
    "from torch.utils.data import Dataset, random_split, DataLoader\n",
    "from torchvision import transforms\n",
    "\n",
    "import torchio as tio\n",
    "\n",
    "from kedro.extras.datasets.pandas import CSVDataSet\n",
    "from kedro.extras.datasets.pickle import PickleDataSet"
   ]
  },
  {
   "cell_type": "code",
   "execution_count": 38,
   "metadata": {},
   "outputs": [],
   "source": [
    "import os, sys\n",
    "sys.path.append(os.path.abspath('../src'))\n",
    "\n",
    "from tagseg.data import ScdEvaluator, MnmEvaluator\n",
    "from tagseg.data.dmd_dataset import DmdH5DataSet, DmdH5Evaluator\n",
    "from tagseg.models.trainer import Trainer\n",
    "from tagseg.models.segmenter import Net\n",
    "from tagseg.metrics.dice import DiceMetric\n",
    "from tagseg.pipelines.model_evaluation.nodes import tag_subjects\n",
    "from tagseg.data.dmd_dataset import DmdDataSet"
   ]
  },
  {
   "cell_type": "code",
   "execution_count": 39,
   "metadata": {},
   "outputs": [],
   "source": [
    "top_h_legend = dict(orientation='h', yanchor=\"bottom\", y=1.1)"
   ]
  },
  {
   "cell_type": "code",
   "execution_count": 40,
   "metadata": {},
   "outputs": [
    {
     "data": {
      "text/html": [
       "<div>\n",
       "<style scoped>\n",
       "    .dataframe tbody tr th:only-of-type {\n",
       "        vertical-align: middle;\n",
       "    }\n",
       "\n",
       "    .dataframe tbody tr th {\n",
       "        vertical-align: top;\n",
       "    }\n",
       "\n",
       "    .dataframe thead th {\n",
       "        text-align: right;\n",
       "    }\n",
       "</style>\n",
       "<table border=\"1\" class=\"dataframe\">\n",
       "  <thead>\n",
       "    <tr style=\"text-align: right;\">\n",
       "      <th></th>\n",
       "      <th>model</th>\n",
       "      <th>gamma</th>\n",
       "    </tr>\n",
       "  </thead>\n",
       "  <tbody>\n",
       "    <tr>\n",
       "      <th>0</th>\n",
       "      <td>model_dmd_v8</td>\n",
       "      <td>0.001</td>\n",
       "    </tr>\n",
       "    <tr>\n",
       "      <th>1</th>\n",
       "      <td>model_dmd_v7</td>\n",
       "      <td>0.005</td>\n",
       "    </tr>\n",
       "    <tr>\n",
       "      <th>2</th>\n",
       "      <td>model_dmd_v6</td>\n",
       "      <td>0.050</td>\n",
       "    </tr>\n",
       "    <tr>\n",
       "      <th>3</th>\n",
       "      <td>model_dmd_v5</td>\n",
       "      <td>0.100</td>\n",
       "    </tr>\n",
       "    <tr>\n",
       "      <th>4</th>\n",
       "      <td>model_dmd_v4</td>\n",
       "      <td>0.500</td>\n",
       "    </tr>\n",
       "    <tr>\n",
       "      <th>5</th>\n",
       "      <td>model_dmd_v3</td>\n",
       "      <td>1.000</td>\n",
       "    </tr>\n",
       "    <tr>\n",
       "      <th>6</th>\n",
       "      <td>model_dmd_v1</td>\n",
       "      <td>0.000</td>\n",
       "    </tr>\n",
       "  </tbody>\n",
       "</table>\n",
       "</div>"
      ],
      "text/plain": [
       "          model  gamma\n",
       "0  model_dmd_v8  0.001\n",
       "1  model_dmd_v7  0.005\n",
       "2  model_dmd_v6  0.050\n",
       "3  model_dmd_v5  0.100\n",
       "4  model_dmd_v4  0.500\n",
       "5  model_dmd_v3  1.000\n",
       "6  model_dmd_v1  0.000"
      ]
     },
     "execution_count": 40,
     "metadata": {},
     "output_type": "execute_result"
    }
   ],
   "source": [
    "index = pd.read_csv('../data/07_model_output/index_gamma.csv')\n",
    "index"
   ]
  },
  {
   "cell_type": "code",
   "execution_count": 41,
   "metadata": {},
   "outputs": [],
   "source": [
    "dfs = [] \n",
    "\n",
    "for _, row in index.iterrows():\n",
    "\n",
    "    for split in ['train', 'test']:\n",
    "\n",
    "        ext = '_train' if split == 'train' else ''\n",
    "\n",
    "        df = PickleDataSet(filepath=f'../data/07_model_output/{row.model}/dmd_results{ext}.pt').load()\n",
    "        df = pd.DataFrame(list(df))\n",
    "\n",
    "        df['gamma'] = row.gamma\n",
    "        df['split'] = split\n",
    "\n",
    "        dfs.append(df)"
   ]
  },
  {
   "cell_type": "code",
   "execution_count": 42,
   "metadata": {},
   "outputs": [
    {
     "data": {
      "text/plain": [
       "8750"
      ]
     },
     "execution_count": 42,
     "metadata": {},
     "output_type": "execute_result"
    }
   ],
   "source": [
    "df = pd.concat(dfs)\n",
    "len(df)"
   ]
  },
  {
   "cell_type": "code",
   "execution_count": 43,
   "metadata": {},
   "outputs": [
    {
     "data": {
      "text/html": [
       "<div>\n",
       "<style scoped>\n",
       "    .dataframe tbody tr th:only-of-type {\n",
       "        vertical-align: middle;\n",
       "    }\n",
       "\n",
       "    .dataframe tbody tr th {\n",
       "        vertical-align: top;\n",
       "    }\n",
       "\n",
       "    .dataframe thead tr th {\n",
       "        text-align: left;\n",
       "    }\n",
       "\n",
       "    .dataframe thead tr:last-of-type th {\n",
       "        text-align: right;\n",
       "    }\n",
       "</style>\n",
       "<table border=\"1\" class=\"dataframe\">\n",
       "  <thead>\n",
       "    <tr>\n",
       "      <th></th>\n",
       "      <th colspan=\"6\" halign=\"left\">dice</th>\n",
       "      <th colspan=\"6\" halign=\"left\">hd95</th>\n",
       "    </tr>\n",
       "    <tr>\n",
       "      <th>split</th>\n",
       "      <th colspan=\"3\" halign=\"left\">train</th>\n",
       "      <th colspan=\"3\" halign=\"left\">test</th>\n",
       "      <th colspan=\"3\" halign=\"left\">train</th>\n",
       "      <th colspan=\"3\" halign=\"left\">test</th>\n",
       "    </tr>\n",
       "    <tr>\n",
       "      <th></th>\n",
       "      <th>mean</th>\n",
       "      <th>median</th>\n",
       "      <th>std</th>\n",
       "      <th>mean</th>\n",
       "      <th>median</th>\n",
       "      <th>std</th>\n",
       "      <th>mean</th>\n",
       "      <th>median</th>\n",
       "      <th>std</th>\n",
       "      <th>mean</th>\n",
       "      <th>median</th>\n",
       "      <th>std</th>\n",
       "    </tr>\n",
       "    <tr>\n",
       "      <th>gamma</th>\n",
       "      <th></th>\n",
       "      <th></th>\n",
       "      <th></th>\n",
       "      <th></th>\n",
       "      <th></th>\n",
       "      <th></th>\n",
       "      <th></th>\n",
       "      <th></th>\n",
       "      <th></th>\n",
       "      <th></th>\n",
       "      <th></th>\n",
       "      <th></th>\n",
       "    </tr>\n",
       "  </thead>\n",
       "  <tbody>\n",
       "    <tr>\n",
       "      <th>0.000</th>\n",
       "      <td>0.880232</td>\n",
       "      <td>0.882577</td>\n",
       "      <td>0.024945</td>\n",
       "      <td>0.768306</td>\n",
       "      <td>0.795023</td>\n",
       "      <td>0.094106</td>\n",
       "      <td>3.082279</td>\n",
       "      <td>2.857143</td>\n",
       "      <td>0.667756</td>\n",
       "      <td>7.700583</td>\n",
       "      <td>5.677400</td>\n",
       "      <td>8.967411</td>\n",
       "    </tr>\n",
       "    <tr>\n",
       "      <th>0.001</th>\n",
       "      <td>0.814916</td>\n",
       "      <td>0.815458</td>\n",
       "      <td>0.025202</td>\n",
       "      <td>0.771155</td>\n",
       "      <td>0.778124</td>\n",
       "      <td>0.045115</td>\n",
       "      <td>3.375328</td>\n",
       "      <td>3.194383</td>\n",
       "      <td>0.771494</td>\n",
       "      <td>5.358341</td>\n",
       "      <td>4.285714</td>\n",
       "      <td>5.945617</td>\n",
       "    </tr>\n",
       "    <tr>\n",
       "      <th>0.005</th>\n",
       "      <td>0.886200</td>\n",
       "      <td>0.888520</td>\n",
       "      <td>0.023161</td>\n",
       "      <td>0.769605</td>\n",
       "      <td>0.791245</td>\n",
       "      <td>0.102393</td>\n",
       "      <td>2.975902</td>\n",
       "      <td>2.857143</td>\n",
       "      <td>0.657751</td>\n",
       "      <td>7.627853</td>\n",
       "      <td>5.714286</td>\n",
       "      <td>9.414131</td>\n",
       "    </tr>\n",
       "    <tr>\n",
       "      <th>0.050</th>\n",
       "      <td>0.872231</td>\n",
       "      <td>0.874556</td>\n",
       "      <td>0.027364</td>\n",
       "      <td>0.800767</td>\n",
       "      <td>0.810722</td>\n",
       "      <td>0.064837</td>\n",
       "      <td>3.301001</td>\n",
       "      <td>3.194383</td>\n",
       "      <td>0.746071</td>\n",
       "      <td>5.615966</td>\n",
       "      <td>5.150788</td>\n",
       "      <td>1.989304</td>\n",
       "    </tr>\n",
       "    <tr>\n",
       "      <th>0.100</th>\n",
       "      <td>0.864842</td>\n",
       "      <td>0.866619</td>\n",
       "      <td>0.025859</td>\n",
       "      <td>0.797951</td>\n",
       "      <td>0.814230</td>\n",
       "      <td>0.082669</td>\n",
       "      <td>3.546927</td>\n",
       "      <td>3.194383</td>\n",
       "      <td>0.849212</td>\n",
       "      <td>6.423004</td>\n",
       "      <td>5.150788</td>\n",
       "      <td>5.313870</td>\n",
       "    </tr>\n",
       "    <tr>\n",
       "      <th>0.500</th>\n",
       "      <td>0.788529</td>\n",
       "      <td>0.791260</td>\n",
       "      <td>0.022610</td>\n",
       "      <td>0.735523</td>\n",
       "      <td>0.750099</td>\n",
       "      <td>0.049619</td>\n",
       "      <td>3.496116</td>\n",
       "      <td>3.194383</td>\n",
       "      <td>0.958205</td>\n",
       "      <td>6.449163</td>\n",
       "      <td>4.285714</td>\n",
       "      <td>10.824556</td>\n",
       "    </tr>\n",
       "    <tr>\n",
       "      <th>1.000</th>\n",
       "      <td>0.584712</td>\n",
       "      <td>0.589724</td>\n",
       "      <td>0.035122</td>\n",
       "      <td>0.556093</td>\n",
       "      <td>0.565265</td>\n",
       "      <td>0.041282</td>\n",
       "      <td>4.838324</td>\n",
       "      <td>4.132524</td>\n",
       "      <td>3.671633</td>\n",
       "      <td>5.714876</td>\n",
       "      <td>5.150788</td>\n",
       "      <td>1.975448</td>\n",
       "    </tr>\n",
       "  </tbody>\n",
       "</table>\n",
       "</div>"
      ],
      "text/plain": [
       "           dice                                                        hd95  \\\n",
       "split     train                          test                         train   \n",
       "           mean    median       std      mean    median       std      mean   \n",
       "gamma                                                                         \n",
       "0.000  0.880232  0.882577  0.024945  0.768306  0.795023  0.094106  3.082279   \n",
       "0.001  0.814916  0.815458  0.025202  0.771155  0.778124  0.045115  3.375328   \n",
       "0.005  0.886200  0.888520  0.023161  0.769605  0.791245  0.102393  2.975902   \n",
       "0.050  0.872231  0.874556  0.027364  0.800767  0.810722  0.064837  3.301001   \n",
       "0.100  0.864842  0.866619  0.025859  0.797951  0.814230  0.082669  3.546927   \n",
       "0.500  0.788529  0.791260  0.022610  0.735523  0.750099  0.049619  3.496116   \n",
       "1.000  0.584712  0.589724  0.035122  0.556093  0.565265  0.041282  4.838324   \n",
       "\n",
       "                                                          \n",
       "split                          test                       \n",
       "         median       std      mean    median        std  \n",
       "gamma                                                     \n",
       "0.000  2.857143  0.667756  7.700583  5.677400   8.967411  \n",
       "0.001  3.194383  0.771494  5.358341  4.285714   5.945617  \n",
       "0.005  2.857143  0.657751  7.627853  5.714286   9.414131  \n",
       "0.050  3.194383  0.746071  5.615966  5.150788   1.989304  \n",
       "0.100  3.194383  0.849212  6.423004  5.150788   5.313870  \n",
       "0.500  3.194383  0.958205  6.449163  4.285714  10.824556  \n",
       "1.000  4.132524  3.671633  5.714876  5.150788   1.975448  "
      ]
     },
     "execution_count": 43,
     "metadata": {},
     "output_type": "execute_result"
    }
   ],
   "source": [
    "results = df.pivot_table(index=['gamma'], values=['dice', 'hd95'], columns=['split'], aggfunc=['mean', 'median', 'std']) \\\n",
    "    .sort_index(level=[1, 2], ascending=[True, False], axis=1).reorder_levels([1, 2, 0], axis=1) \\\n",
    "\n",
    "results"
   ]
  },
  {
   "cell_type": "code",
   "execution_count": 44,
   "metadata": {},
   "outputs": [],
   "source": [
    "dices = np.array(results[('dice', 'test', 'mean')].sort_values(ascending=False))\n",
    "hds = np.array(results[('hd95', 'test', 'mean')].sort_values(ascending=True))"
   ]
  },
  {
   "cell_type": "code",
   "execution_count": 45,
   "metadata": {},
   "outputs": [],
   "source": [
    "results['dice_rank'] = results[('dice', 'test', 'mean')].apply(lambda d: np.where(np.isclose(dices, d))[0][0]) + 1\n",
    "results['hd_rank'] = results[('hd95', 'test', 'mean')].apply(lambda hd: np.where(np.isclose(hds, hd))[0][0]) + 1 \n",
    "\n",
    "results['rank'] = results['dice_rank'] + results['hd_rank']"
   ]
  },
  {
   "cell_type": "code",
   "execution_count": 46,
   "metadata": {},
   "outputs": [
    {
     "data": {
      "text/html": [
       "<div>\n",
       "<style scoped>\n",
       "    .dataframe tbody tr th:only-of-type {\n",
       "        vertical-align: middle;\n",
       "    }\n",
       "\n",
       "    .dataframe tbody tr th {\n",
       "        vertical-align: top;\n",
       "    }\n",
       "\n",
       "    .dataframe thead tr th {\n",
       "        text-align: left;\n",
       "    }\n",
       "\n",
       "    .dataframe thead tr:last-of-type th {\n",
       "        text-align: right;\n",
       "    }\n",
       "</style>\n",
       "<table border=\"1\" class=\"dataframe\">\n",
       "  <thead>\n",
       "    <tr>\n",
       "      <th></th>\n",
       "      <th colspan=\"6\" halign=\"left\">dice</th>\n",
       "      <th colspan=\"6\" halign=\"left\">hd95</th>\n",
       "      <th>dice_rank</th>\n",
       "      <th>hd_rank</th>\n",
       "      <th>rank</th>\n",
       "    </tr>\n",
       "    <tr>\n",
       "      <th>split</th>\n",
       "      <th colspan=\"3\" halign=\"left\">train</th>\n",
       "      <th colspan=\"3\" halign=\"left\">test</th>\n",
       "      <th colspan=\"3\" halign=\"left\">train</th>\n",
       "      <th colspan=\"3\" halign=\"left\">test</th>\n",
       "      <th></th>\n",
       "      <th></th>\n",
       "      <th></th>\n",
       "    </tr>\n",
       "    <tr>\n",
       "      <th></th>\n",
       "      <th>mean</th>\n",
       "      <th>median</th>\n",
       "      <th>std</th>\n",
       "      <th>mean</th>\n",
       "      <th>median</th>\n",
       "      <th>std</th>\n",
       "      <th>mean</th>\n",
       "      <th>median</th>\n",
       "      <th>std</th>\n",
       "      <th>mean</th>\n",
       "      <th>median</th>\n",
       "      <th>std</th>\n",
       "      <th></th>\n",
       "      <th></th>\n",
       "      <th></th>\n",
       "    </tr>\n",
       "    <tr>\n",
       "      <th>gamma</th>\n",
       "      <th></th>\n",
       "      <th></th>\n",
       "      <th></th>\n",
       "      <th></th>\n",
       "      <th></th>\n",
       "      <th></th>\n",
       "      <th></th>\n",
       "      <th></th>\n",
       "      <th></th>\n",
       "      <th></th>\n",
       "      <th></th>\n",
       "      <th></th>\n",
       "      <th></th>\n",
       "      <th></th>\n",
       "      <th></th>\n",
       "    </tr>\n",
       "  </thead>\n",
       "  <tbody>\n",
       "    <tr>\n",
       "      <th>0.000</th>\n",
       "      <td>0.880232</td>\n",
       "      <td>0.882577</td>\n",
       "      <td>0.024945</td>\n",
       "      <td>0.768306</td>\n",
       "      <td>0.795023</td>\n",
       "      <td>0.094106</td>\n",
       "      <td>3.082279</td>\n",
       "      <td>2.857143</td>\n",
       "      <td>0.667756</td>\n",
       "      <td>7.700583</td>\n",
       "      <td>5.677400</td>\n",
       "      <td>8.967411</td>\n",
       "      <td>5</td>\n",
       "      <td>7</td>\n",
       "      <td>12</td>\n",
       "    </tr>\n",
       "    <tr>\n",
       "      <th>0.001</th>\n",
       "      <td>0.814916</td>\n",
       "      <td>0.815458</td>\n",
       "      <td>0.025202</td>\n",
       "      <td>0.771155</td>\n",
       "      <td>0.778124</td>\n",
       "      <td>0.045115</td>\n",
       "      <td>3.375328</td>\n",
       "      <td>3.194383</td>\n",
       "      <td>0.771494</td>\n",
       "      <td>5.358341</td>\n",
       "      <td>4.285714</td>\n",
       "      <td>5.945617</td>\n",
       "      <td>3</td>\n",
       "      <td>1</td>\n",
       "      <td>4</td>\n",
       "    </tr>\n",
       "    <tr>\n",
       "      <th>0.005</th>\n",
       "      <td>0.886200</td>\n",
       "      <td>0.888520</td>\n",
       "      <td>0.023161</td>\n",
       "      <td>0.769605</td>\n",
       "      <td>0.791245</td>\n",
       "      <td>0.102393</td>\n",
       "      <td>2.975902</td>\n",
       "      <td>2.857143</td>\n",
       "      <td>0.657751</td>\n",
       "      <td>7.627853</td>\n",
       "      <td>5.714286</td>\n",
       "      <td>9.414131</td>\n",
       "      <td>4</td>\n",
       "      <td>6</td>\n",
       "      <td>10</td>\n",
       "    </tr>\n",
       "    <tr>\n",
       "      <th>0.050</th>\n",
       "      <td>0.872231</td>\n",
       "      <td>0.874556</td>\n",
       "      <td>0.027364</td>\n",
       "      <td>0.800767</td>\n",
       "      <td>0.810722</td>\n",
       "      <td>0.064837</td>\n",
       "      <td>3.301001</td>\n",
       "      <td>3.194383</td>\n",
       "      <td>0.746071</td>\n",
       "      <td>5.615966</td>\n",
       "      <td>5.150788</td>\n",
       "      <td>1.989304</td>\n",
       "      <td>1</td>\n",
       "      <td>2</td>\n",
       "      <td>3</td>\n",
       "    </tr>\n",
       "    <tr>\n",
       "      <th>0.100</th>\n",
       "      <td>0.864842</td>\n",
       "      <td>0.866619</td>\n",
       "      <td>0.025859</td>\n",
       "      <td>0.797951</td>\n",
       "      <td>0.814230</td>\n",
       "      <td>0.082669</td>\n",
       "      <td>3.546927</td>\n",
       "      <td>3.194383</td>\n",
       "      <td>0.849212</td>\n",
       "      <td>6.423004</td>\n",
       "      <td>5.150788</td>\n",
       "      <td>5.313870</td>\n",
       "      <td>2</td>\n",
       "      <td>4</td>\n",
       "      <td>6</td>\n",
       "    </tr>\n",
       "    <tr>\n",
       "      <th>0.500</th>\n",
       "      <td>0.788529</td>\n",
       "      <td>0.791260</td>\n",
       "      <td>0.022610</td>\n",
       "      <td>0.735523</td>\n",
       "      <td>0.750099</td>\n",
       "      <td>0.049619</td>\n",
       "      <td>3.496116</td>\n",
       "      <td>3.194383</td>\n",
       "      <td>0.958205</td>\n",
       "      <td>6.449163</td>\n",
       "      <td>4.285714</td>\n",
       "      <td>10.824556</td>\n",
       "      <td>6</td>\n",
       "      <td>5</td>\n",
       "      <td>11</td>\n",
       "    </tr>\n",
       "    <tr>\n",
       "      <th>1.000</th>\n",
       "      <td>0.584712</td>\n",
       "      <td>0.589724</td>\n",
       "      <td>0.035122</td>\n",
       "      <td>0.556093</td>\n",
       "      <td>0.565265</td>\n",
       "      <td>0.041282</td>\n",
       "      <td>4.838324</td>\n",
       "      <td>4.132524</td>\n",
       "      <td>3.671633</td>\n",
       "      <td>5.714876</td>\n",
       "      <td>5.150788</td>\n",
       "      <td>1.975448</td>\n",
       "      <td>7</td>\n",
       "      <td>3</td>\n",
       "      <td>10</td>\n",
       "    </tr>\n",
       "  </tbody>\n",
       "</table>\n",
       "</div>"
      ],
      "text/plain": [
       "           dice                                                        hd95  \\\n",
       "split     train                          test                         train   \n",
       "           mean    median       std      mean    median       std      mean   \n",
       "gamma                                                                         \n",
       "0.000  0.880232  0.882577  0.024945  0.768306  0.795023  0.094106  3.082279   \n",
       "0.001  0.814916  0.815458  0.025202  0.771155  0.778124  0.045115  3.375328   \n",
       "0.005  0.886200  0.888520  0.023161  0.769605  0.791245  0.102393  2.975902   \n",
       "0.050  0.872231  0.874556  0.027364  0.800767  0.810722  0.064837  3.301001   \n",
       "0.100  0.864842  0.866619  0.025859  0.797951  0.814230  0.082669  3.546927   \n",
       "0.500  0.788529  0.791260  0.022610  0.735523  0.750099  0.049619  3.496116   \n",
       "1.000  0.584712  0.589724  0.035122  0.556093  0.565265  0.041282  4.838324   \n",
       "\n",
       "                                                         dice_rank hd_rank  \\\n",
       "split                          test                                          \n",
       "         median       std      mean    median        std                     \n",
       "gamma                                                                        \n",
       "0.000  2.857143  0.667756  7.700583  5.677400   8.967411         5       7   \n",
       "0.001  3.194383  0.771494  5.358341  4.285714   5.945617         3       1   \n",
       "0.005  2.857143  0.657751  7.627853  5.714286   9.414131         4       6   \n",
       "0.050  3.194383  0.746071  5.615966  5.150788   1.989304         1       2   \n",
       "0.100  3.194383  0.849212  6.423004  5.150788   5.313870         2       4   \n",
       "0.500  3.194383  0.958205  6.449163  4.285714  10.824556         6       5   \n",
       "1.000  4.132524  3.671633  5.714876  5.150788   1.975448         7       3   \n",
       "\n",
       "      rank  \n",
       "split       \n",
       "            \n",
       "gamma       \n",
       "0.000   12  \n",
       "0.001    4  \n",
       "0.005   10  \n",
       "0.050    3  \n",
       "0.100    6  \n",
       "0.500   11  \n",
       "1.000   10  "
      ]
     },
     "execution_count": 46,
     "metadata": {},
     "output_type": "execute_result"
    }
   ],
   "source": [
    "results"
   ]
  },
  {
   "cell_type": "code",
   "execution_count": 47,
   "metadata": {},
   "outputs": [
    {
     "name": "stdout",
     "output_type": "stream",
     "text": [
      "\\begin{table}\n",
      "\\centering\n",
      "\\caption{Something retarded}\n",
      "\\begin{tabular}{llrrrrrrrr}\n",
      "\\toprule\n",
      "{} & \\multicolumn{6}{c}{dice} & \\multicolumn{6}{c}{hd95} & dice\\_rank & hd\\_rank & rank \\\\\n",
      "\\textbf{split} & \\multicolumn{3}{c}{train} & \\multicolumn{3}{c}{test} & \\multicolumn{3}{c}{train} & \\multicolumn{6}{c}{test} \\\\\n",
      "{} &  mean & median &   std &  mean & median &   std &  mean & median &   std &  mean & median & \\multicolumn{4}{c}{std} \\\\\n",
      "\\textbf{gamma} &       &        &       &       &        &       &       &        &       &       &        &        &           &         &      \\\\\n",
      "\\midrule\n",
      "\\textbf{0.000} & 0.880 &  0.883 & 0.025 & 0.768 &  0.795 & 0.094 & 3.082 &  2.857 & 0.668 & 7.701 &  5.677 &  8.967 &         5 &       7 &   12 \\\\\n",
      "\\textbf{0.001} & 0.815 &  0.815 & 0.025 & 0.771 &  0.778 & 0.045 & 3.375 &  3.194 & 0.771 & 5.358 &  4.286 &  5.946 &         3 &       1 &    4 \\\\\n",
      "\\textbf{0.005} & 0.886 &  0.889 & 0.023 & 0.770 &  0.791 & 0.102 & 2.976 &  2.857 & 0.658 & 7.628 &  5.714 &  9.414 &         4 &       6 &   10 \\\\\n",
      "\\textbf{0.050} & 0.872 &  0.875 & 0.027 & 0.801 &  0.811 & 0.065 & 3.301 &  3.194 & 0.746 & 5.616 &  5.151 &  1.989 &         1 &       2 &    3 \\\\\n",
      "\\textbf{0.100} & 0.865 &  0.867 & 0.026 & 0.798 &  0.814 & 0.083 & 3.547 &  3.194 & 0.849 & 6.423 &  5.151 &  5.314 &         2 &       4 &    6 \\\\\n",
      "\\textbf{0.500} & 0.789 &  0.791 & 0.023 & 0.736 &  0.750 & 0.050 & 3.496 &  3.194 & 0.958 & 6.449 &  4.286 & 10.825 &         6 &       5 &   11 \\\\\n",
      "\\textbf{1.000} & 0.585 &  0.590 & 0.035 & 0.556 &  0.565 & 0.041 & 4.838 &  4.133 & 3.672 & 5.715 &  5.151 &  1.975 &         7 &       3 &   10 \\\\\n",
      "\\bottomrule\n",
      "\\end{tabular}\n",
      "\\end{table}\n",
      "\n"
     ]
    },
    {
     "name": "stderr",
     "output_type": "stream",
     "text": [
      "/tmp/ipykernel_46354/318273618.py:1: FutureWarning:\n",
      "\n",
      "In future versions `DataFrame.to_latex` is expected to utilise the base implementation of `Styler.to_latex` for formatting and rendering. The arguments signature may therefore change. It is recommended instead to use `DataFrame.style.to_latex` which also contains additional functionality.\n",
      "\n"
     ]
    }
   ],
   "source": [
    "print(results.to_latex(\n",
    "    float_format=\"%.3f\", bold_rows=True, column_format='llrrrrrrrr', multicolumn_format='c', multirow=True,\n",
    "    caption='Something retarded'\n",
    "))"
   ]
  },
  {
   "cell_type": "code",
   "execution_count": 48,
   "metadata": {},
   "outputs": [],
   "source": [
    "res = results.reset_index().melt(id_vars=[('gamma',      '',     '')])\n",
    "res.columns = ['gamma', 'metric', 'split', 'statistic', 'value']\n",
    "res = res.pivot(index=['gamma', 'metric', 'split'], columns=['statistic']).reset_index()"
   ]
  },
  {
   "cell_type": "code",
   "execution_count": 49,
   "metadata": {},
   "outputs": [],
   "source": [
    "res.columns = ['gamma', 'metric', 'split', 'bad', 'mean', 'median', 'std']\n",
    "res = res.sort_values(by=['gamma', 'split'], ascending=[True, False])"
   ]
  },
  {
   "cell_type": "code",
   "execution_count": 50,
   "metadata": {},
   "outputs": [
    {
     "name": "stderr",
     "output_type": "stream",
     "text": [
      "/opt/conda/envs/tagseg/lib/python3.8/site-packages/plotly/io/_renderers.py:395: DeprecationWarning:\n",
      "\n",
      "distutils Version classes are deprecated. Use packaging.version instead.\n",
      "\n"
     ]
    },
    {
     "data": {
      "application/vnd.plotly.v1+json": {
       "config": {
        "plotlyServerURL": "https://plot.ly"
       },
       "data": [
        {
         "error_y": {
          "array": [
           0.024944886824430423,
           0.02520161376657868,
           0.023160536731140352,
           0.027363781247571828,
           0.02585919597012058,
           0.022609792236821493,
           0.03512193584066773
          ]
         },
         "hovertemplate": "split=train<br>metric=dice<br>gamma=%{x}<br>mean=%{y}<extra></extra>",
         "legendgroup": "train",
         "marker": {
          "color": "#1F77B4",
          "symbol": "circle"
         },
         "mode": "markers",
         "name": "train",
         "orientation": "v",
         "showlegend": true,
         "type": "scatter",
         "x": [
          0,
          0.001,
          0.005,
          0.05,
          0.1,
          0.5,
          1
         ],
         "xaxis": "x",
         "y": [
          0.8802317362714113,
          0.8149162887366989,
          0.8862002776212505,
          0.8722313410935013,
          0.8648418861621013,
          0.7885292606346062,
          0.5847121075073176
         ],
         "yaxis": "y"
        },
        {
         "error_y": {
          "array": [
           0.6677563753910096,
           0.7714943611837912,
           0.6577512697334087,
           0.7460709819386473,
           0.8492117860546743,
           0.9582048570514073,
           3.671632505066986
          ]
         },
         "hovertemplate": "split=train<br>metric=hd95<br>gamma=%{x}<br>mean=%{y}<extra></extra>",
         "legendgroup": "train",
         "marker": {
          "color": "#1F77B4",
          "symbol": "circle"
         },
         "mode": "markers",
         "name": "train",
         "orientation": "v",
         "showlegend": false,
         "type": "scatter",
         "x": [
          0,
          0.001,
          0.005,
          0.05,
          0.1,
          0.5,
          1
         ],
         "xaxis": "x2",
         "y": [
          3.082278810773537,
          3.375327548986782,
          2.9759018893841622,
          3.3010013127103726,
          3.546927348635684,
          3.4961157082694703,
          4.838323738853505
         ],
         "yaxis": "y2"
        },
        {
         "error_y": {
          "array": [
           0.09410599262164847,
           0.04511538648112185,
           0.10239282295114352,
           0.06483702622225876,
           0.08266890804473823,
           0.04961943035237374,
           0.041281681611058094
          ]
         },
         "hovertemplate": "split=test<br>metric=dice<br>gamma=%{x}<br>mean=%{y}<extra></extra>",
         "legendgroup": "test",
         "marker": {
          "color": "#FF7F0E",
          "symbol": "circle"
         },
         "mode": "markers",
         "name": "test",
         "orientation": "v",
         "showlegend": true,
         "type": "scatter",
         "x": [
          0,
          0.001,
          0.005,
          0.05,
          0.1,
          0.5,
          1
         ],
         "xaxis": "x",
         "y": [
          0.7683058973689846,
          0.771155336342784,
          0.7696054778122702,
          0.8007669255983737,
          0.7979510145183984,
          0.7355233832875901,
          0.5560926929591687
         ],
         "yaxis": "y"
        },
        {
         "error_y": {
          "array": [
           8.967411419112258,
           5.94561742391358,
           9.414130995748417,
           1.9893038224001172,
           5.313870427811325,
           10.824556279473123,
           1.9754478098253645
          ]
         },
         "hovertemplate": "split=test<br>metric=hd95<br>gamma=%{x}<br>mean=%{y}<extra></extra>",
         "legendgroup": "test",
         "marker": {
          "color": "#FF7F0E",
          "symbol": "circle"
         },
         "mode": "markers",
         "name": "test",
         "orientation": "v",
         "showlegend": false,
         "type": "scatter",
         "x": [
          0,
          0.001,
          0.005,
          0.05,
          0.1,
          0.5,
          1
         ],
         "xaxis": "x2",
         "y": [
          7.700582527937593,
          5.358340722075046,
          7.62785291498196,
          5.615966202424972,
          6.42300384931082,
          6.449162603752413,
          5.714875544915966
         ],
         "yaxis": "y2"
        },
        {
         "error_y": {
          "array": [
           null,
           null,
           null,
           null,
           null,
           null,
           null
          ]
         },
         "hovertemplate": "split=<br>metric=dice_rank<br>gamma=%{x}<br>mean=%{y}<extra></extra>",
         "legendgroup": "",
         "marker": {
          "color": "#2CA02C",
          "symbol": "circle"
         },
         "mode": "markers",
         "name": "",
         "orientation": "v",
         "showlegend": false,
         "type": "scatter",
         "x": [
          0,
          0.001,
          0.005,
          0.05,
          0.1,
          0.5,
          1
         ],
         "xaxis": "x3",
         "y": [
          null,
          null,
          null,
          null,
          null,
          null,
          null
         ],
         "yaxis": "y3"
        },
        {
         "error_y": {
          "array": [
           null,
           null,
           null,
           null,
           null,
           null,
           null
          ]
         },
         "hovertemplate": "split=<br>metric=hd_rank<br>gamma=%{x}<br>mean=%{y}<extra></extra>",
         "legendgroup": "",
         "marker": {
          "color": "#2CA02C",
          "symbol": "circle"
         },
         "mode": "markers",
         "name": "",
         "orientation": "v",
         "showlegend": false,
         "type": "scatter",
         "x": [
          0,
          0.001,
          0.005,
          0.05,
          0.1,
          0.5,
          1
         ],
         "xaxis": "x4",
         "y": [
          null,
          null,
          null,
          null,
          null,
          null,
          null
         ],
         "yaxis": "y4"
        },
        {
         "error_y": {
          "array": [
           null,
           null,
           null,
           null,
           null,
           null,
           null
          ]
         },
         "hovertemplate": "split=<br>metric=rank<br>gamma=%{x}<br>mean=%{y}<extra></extra>",
         "legendgroup": "",
         "marker": {
          "color": "#2CA02C",
          "symbol": "circle"
         },
         "mode": "markers",
         "name": "",
         "orientation": "v",
         "showlegend": false,
         "type": "scatter",
         "x": [
          0,
          0.001,
          0.005,
          0.05,
          0.1,
          0.5,
          1
         ],
         "xaxis": "x5",
         "y": [
          null,
          null,
          null,
          null,
          null,
          null,
          null
         ],
         "yaxis": "y5"
        }
       ],
       "layout": {
        "annotations": [
         {
          "font": {},
          "showarrow": false,
          "text": "metric=dice",
          "x": 0.09200000000000001,
          "xanchor": "center",
          "xref": "paper",
          "y": 1,
          "yanchor": "bottom",
          "yref": "paper"
         },
         {
          "font": {},
          "showarrow": false,
          "text": "metric=hd95",
          "x": 0.29600000000000004,
          "xanchor": "center",
          "xref": "paper",
          "y": 1,
          "yanchor": "bottom",
          "yref": "paper"
         },
         {
          "font": {},
          "showarrow": false,
          "text": "metric=dice_rank",
          "x": 0.5,
          "xanchor": "center",
          "xref": "paper",
          "y": 1,
          "yanchor": "bottom",
          "yref": "paper"
         },
         {
          "font": {},
          "showarrow": false,
          "text": "metric=hd_rank",
          "x": 0.7040000000000002,
          "xanchor": "center",
          "xref": "paper",
          "y": 1,
          "yanchor": "bottom",
          "yref": "paper"
         },
         {
          "font": {},
          "showarrow": false,
          "text": "metric=rank",
          "x": 0.908,
          "xanchor": "center",
          "xref": "paper",
          "y": 1,
          "yanchor": "bottom",
          "yref": "paper"
         }
        ],
        "legend": {
         "orientation": "h",
         "title": {
          "text": "split"
         },
         "tracegroupgap": 0,
         "y": 1.1,
         "yanchor": "bottom"
        },
        "margin": {
         "t": 60
        },
        "template": {
         "data": {
          "bar": [
           {
            "error_x": {
             "color": "rgb(36,36,36)"
            },
            "error_y": {
             "color": "rgb(36,36,36)"
            },
            "marker": {
             "line": {
              "color": "white",
              "width": 0.5
             },
             "pattern": {
              "fillmode": "overlay",
              "size": 10,
              "solidity": 0.2
             }
            },
            "type": "bar"
           }
          ],
          "barpolar": [
           {
            "marker": {
             "line": {
              "color": "white",
              "width": 0.5
             },
             "pattern": {
              "fillmode": "overlay",
              "size": 10,
              "solidity": 0.2
             }
            },
            "type": "barpolar"
           }
          ],
          "carpet": [
           {
            "aaxis": {
             "endlinecolor": "rgb(36,36,36)",
             "gridcolor": "white",
             "linecolor": "white",
             "minorgridcolor": "white",
             "startlinecolor": "rgb(36,36,36)"
            },
            "baxis": {
             "endlinecolor": "rgb(36,36,36)",
             "gridcolor": "white",
             "linecolor": "white",
             "minorgridcolor": "white",
             "startlinecolor": "rgb(36,36,36)"
            },
            "type": "carpet"
           }
          ],
          "choropleth": [
           {
            "colorbar": {
             "outlinewidth": 1,
             "tickcolor": "rgb(36,36,36)",
             "ticks": "outside"
            },
            "type": "choropleth"
           }
          ],
          "contour": [
           {
            "colorbar": {
             "outlinewidth": 1,
             "tickcolor": "rgb(36,36,36)",
             "ticks": "outside"
            },
            "colorscale": [
             [
              0,
              "#440154"
             ],
             [
              0.1111111111111111,
              "#482878"
             ],
             [
              0.2222222222222222,
              "#3e4989"
             ],
             [
              0.3333333333333333,
              "#31688e"
             ],
             [
              0.4444444444444444,
              "#26828e"
             ],
             [
              0.5555555555555556,
              "#1f9e89"
             ],
             [
              0.6666666666666666,
              "#35b779"
             ],
             [
              0.7777777777777778,
              "#6ece58"
             ],
             [
              0.8888888888888888,
              "#b5de2b"
             ],
             [
              1,
              "#fde725"
             ]
            ],
            "type": "contour"
           }
          ],
          "contourcarpet": [
           {
            "colorbar": {
             "outlinewidth": 1,
             "tickcolor": "rgb(36,36,36)",
             "ticks": "outside"
            },
            "type": "contourcarpet"
           }
          ],
          "heatmap": [
           {
            "colorbar": {
             "outlinewidth": 1,
             "tickcolor": "rgb(36,36,36)",
             "ticks": "outside"
            },
            "colorscale": [
             [
              0,
              "#440154"
             ],
             [
              0.1111111111111111,
              "#482878"
             ],
             [
              0.2222222222222222,
              "#3e4989"
             ],
             [
              0.3333333333333333,
              "#31688e"
             ],
             [
              0.4444444444444444,
              "#26828e"
             ],
             [
              0.5555555555555556,
              "#1f9e89"
             ],
             [
              0.6666666666666666,
              "#35b779"
             ],
             [
              0.7777777777777778,
              "#6ece58"
             ],
             [
              0.8888888888888888,
              "#b5de2b"
             ],
             [
              1,
              "#fde725"
             ]
            ],
            "type": "heatmap"
           }
          ],
          "heatmapgl": [
           {
            "colorbar": {
             "outlinewidth": 1,
             "tickcolor": "rgb(36,36,36)",
             "ticks": "outside"
            },
            "colorscale": [
             [
              0,
              "#440154"
             ],
             [
              0.1111111111111111,
              "#482878"
             ],
             [
              0.2222222222222222,
              "#3e4989"
             ],
             [
              0.3333333333333333,
              "#31688e"
             ],
             [
              0.4444444444444444,
              "#26828e"
             ],
             [
              0.5555555555555556,
              "#1f9e89"
             ],
             [
              0.6666666666666666,
              "#35b779"
             ],
             [
              0.7777777777777778,
              "#6ece58"
             ],
             [
              0.8888888888888888,
              "#b5de2b"
             ],
             [
              1,
              "#fde725"
             ]
            ],
            "type": "heatmapgl"
           }
          ],
          "histogram": [
           {
            "marker": {
             "line": {
              "color": "white",
              "width": 0.6
             }
            },
            "type": "histogram"
           }
          ],
          "histogram2d": [
           {
            "colorbar": {
             "outlinewidth": 1,
             "tickcolor": "rgb(36,36,36)",
             "ticks": "outside"
            },
            "colorscale": [
             [
              0,
              "#440154"
             ],
             [
              0.1111111111111111,
              "#482878"
             ],
             [
              0.2222222222222222,
              "#3e4989"
             ],
             [
              0.3333333333333333,
              "#31688e"
             ],
             [
              0.4444444444444444,
              "#26828e"
             ],
             [
              0.5555555555555556,
              "#1f9e89"
             ],
             [
              0.6666666666666666,
              "#35b779"
             ],
             [
              0.7777777777777778,
              "#6ece58"
             ],
             [
              0.8888888888888888,
              "#b5de2b"
             ],
             [
              1,
              "#fde725"
             ]
            ],
            "type": "histogram2d"
           }
          ],
          "histogram2dcontour": [
           {
            "colorbar": {
             "outlinewidth": 1,
             "tickcolor": "rgb(36,36,36)",
             "ticks": "outside"
            },
            "colorscale": [
             [
              0,
              "#440154"
             ],
             [
              0.1111111111111111,
              "#482878"
             ],
             [
              0.2222222222222222,
              "#3e4989"
             ],
             [
              0.3333333333333333,
              "#31688e"
             ],
             [
              0.4444444444444444,
              "#26828e"
             ],
             [
              0.5555555555555556,
              "#1f9e89"
             ],
             [
              0.6666666666666666,
              "#35b779"
             ],
             [
              0.7777777777777778,
              "#6ece58"
             ],
             [
              0.8888888888888888,
              "#b5de2b"
             ],
             [
              1,
              "#fde725"
             ]
            ],
            "type": "histogram2dcontour"
           }
          ],
          "mesh3d": [
           {
            "colorbar": {
             "outlinewidth": 1,
             "tickcolor": "rgb(36,36,36)",
             "ticks": "outside"
            },
            "type": "mesh3d"
           }
          ],
          "parcoords": [
           {
            "line": {
             "colorbar": {
              "outlinewidth": 1,
              "tickcolor": "rgb(36,36,36)",
              "ticks": "outside"
             }
            },
            "type": "parcoords"
           }
          ],
          "pie": [
           {
            "automargin": true,
            "type": "pie"
           }
          ],
          "scatter": [
           {
            "fillpattern": {
             "fillmode": "overlay",
             "size": 10,
             "solidity": 0.2
            },
            "type": "scatter"
           }
          ],
          "scatter3d": [
           {
            "line": {
             "colorbar": {
              "outlinewidth": 1,
              "tickcolor": "rgb(36,36,36)",
              "ticks": "outside"
             }
            },
            "marker": {
             "colorbar": {
              "outlinewidth": 1,
              "tickcolor": "rgb(36,36,36)",
              "ticks": "outside"
             }
            },
            "type": "scatter3d"
           }
          ],
          "scattercarpet": [
           {
            "marker": {
             "colorbar": {
              "outlinewidth": 1,
              "tickcolor": "rgb(36,36,36)",
              "ticks": "outside"
             }
            },
            "type": "scattercarpet"
           }
          ],
          "scattergeo": [
           {
            "marker": {
             "colorbar": {
              "outlinewidth": 1,
              "tickcolor": "rgb(36,36,36)",
              "ticks": "outside"
             }
            },
            "type": "scattergeo"
           }
          ],
          "scattergl": [
           {
            "marker": {
             "colorbar": {
              "outlinewidth": 1,
              "tickcolor": "rgb(36,36,36)",
              "ticks": "outside"
             }
            },
            "type": "scattergl"
           }
          ],
          "scattermapbox": [
           {
            "marker": {
             "colorbar": {
              "outlinewidth": 1,
              "tickcolor": "rgb(36,36,36)",
              "ticks": "outside"
             }
            },
            "type": "scattermapbox"
           }
          ],
          "scatterpolar": [
           {
            "marker": {
             "colorbar": {
              "outlinewidth": 1,
              "tickcolor": "rgb(36,36,36)",
              "ticks": "outside"
             }
            },
            "type": "scatterpolar"
           }
          ],
          "scatterpolargl": [
           {
            "marker": {
             "colorbar": {
              "outlinewidth": 1,
              "tickcolor": "rgb(36,36,36)",
              "ticks": "outside"
             }
            },
            "type": "scatterpolargl"
           }
          ],
          "scatterternary": [
           {
            "marker": {
             "colorbar": {
              "outlinewidth": 1,
              "tickcolor": "rgb(36,36,36)",
              "ticks": "outside"
             }
            },
            "type": "scatterternary"
           }
          ],
          "surface": [
           {
            "colorbar": {
             "outlinewidth": 1,
             "tickcolor": "rgb(36,36,36)",
             "ticks": "outside"
            },
            "colorscale": [
             [
              0,
              "#440154"
             ],
             [
              0.1111111111111111,
              "#482878"
             ],
             [
              0.2222222222222222,
              "#3e4989"
             ],
             [
              0.3333333333333333,
              "#31688e"
             ],
             [
              0.4444444444444444,
              "#26828e"
             ],
             [
              0.5555555555555556,
              "#1f9e89"
             ],
             [
              0.6666666666666666,
              "#35b779"
             ],
             [
              0.7777777777777778,
              "#6ece58"
             ],
             [
              0.8888888888888888,
              "#b5de2b"
             ],
             [
              1,
              "#fde725"
             ]
            ],
            "type": "surface"
           }
          ],
          "table": [
           {
            "cells": {
             "fill": {
              "color": "rgb(237,237,237)"
             },
             "line": {
              "color": "white"
             }
            },
            "header": {
             "fill": {
              "color": "rgb(217,217,217)"
             },
             "line": {
              "color": "white"
             }
            },
            "type": "table"
           }
          ]
         },
         "layout": {
          "annotationdefaults": {
           "arrowhead": 0,
           "arrowwidth": 1
          },
          "autotypenumbers": "strict",
          "coloraxis": {
           "colorbar": {
            "outlinewidth": 1,
            "tickcolor": "rgb(36,36,36)",
            "ticks": "outside"
           }
          },
          "colorscale": {
           "diverging": [
            [
             0,
             "rgb(103,0,31)"
            ],
            [
             0.1,
             "rgb(178,24,43)"
            ],
            [
             0.2,
             "rgb(214,96,77)"
            ],
            [
             0.3,
             "rgb(244,165,130)"
            ],
            [
             0.4,
             "rgb(253,219,199)"
            ],
            [
             0.5,
             "rgb(247,247,247)"
            ],
            [
             0.6,
             "rgb(209,229,240)"
            ],
            [
             0.7,
             "rgb(146,197,222)"
            ],
            [
             0.8,
             "rgb(67,147,195)"
            ],
            [
             0.9,
             "rgb(33,102,172)"
            ],
            [
             1,
             "rgb(5,48,97)"
            ]
           ],
           "sequential": [
            [
             0,
             "#440154"
            ],
            [
             0.1111111111111111,
             "#482878"
            ],
            [
             0.2222222222222222,
             "#3e4989"
            ],
            [
             0.3333333333333333,
             "#31688e"
            ],
            [
             0.4444444444444444,
             "#26828e"
            ],
            [
             0.5555555555555556,
             "#1f9e89"
            ],
            [
             0.6666666666666666,
             "#35b779"
            ],
            [
             0.7777777777777778,
             "#6ece58"
            ],
            [
             0.8888888888888888,
             "#b5de2b"
            ],
            [
             1,
             "#fde725"
            ]
           ],
           "sequentialminus": [
            [
             0,
             "#440154"
            ],
            [
             0.1111111111111111,
             "#482878"
            ],
            [
             0.2222222222222222,
             "#3e4989"
            ],
            [
             0.3333333333333333,
             "#31688e"
            ],
            [
             0.4444444444444444,
             "#26828e"
            ],
            [
             0.5555555555555556,
             "#1f9e89"
            ],
            [
             0.6666666666666666,
             "#35b779"
            ],
            [
             0.7777777777777778,
             "#6ece58"
            ],
            [
             0.8888888888888888,
             "#b5de2b"
            ],
            [
             1,
             "#fde725"
            ]
           ]
          },
          "colorway": [
           "#1F77B4",
           "#FF7F0E",
           "#2CA02C",
           "#D62728",
           "#9467BD",
           "#8C564B",
           "#E377C2",
           "#7F7F7F",
           "#BCBD22",
           "#17BECF"
          ],
          "font": {
           "color": "rgb(36,36,36)"
          },
          "geo": {
           "bgcolor": "white",
           "lakecolor": "white",
           "landcolor": "white",
           "showlakes": true,
           "showland": true,
           "subunitcolor": "white"
          },
          "hoverlabel": {
           "align": "left"
          },
          "hovermode": "closest",
          "mapbox": {
           "style": "light"
          },
          "paper_bgcolor": "white",
          "plot_bgcolor": "white",
          "polar": {
           "angularaxis": {
            "gridcolor": "rgb(232,232,232)",
            "linecolor": "rgb(36,36,36)",
            "showgrid": false,
            "showline": true,
            "ticks": "outside"
           },
           "bgcolor": "white",
           "radialaxis": {
            "gridcolor": "rgb(232,232,232)",
            "linecolor": "rgb(36,36,36)",
            "showgrid": false,
            "showline": true,
            "ticks": "outside"
           }
          },
          "scene": {
           "xaxis": {
            "backgroundcolor": "white",
            "gridcolor": "rgb(232,232,232)",
            "gridwidth": 2,
            "linecolor": "rgb(36,36,36)",
            "showbackground": true,
            "showgrid": false,
            "showline": true,
            "ticks": "outside",
            "zeroline": false,
            "zerolinecolor": "rgb(36,36,36)"
           },
           "yaxis": {
            "backgroundcolor": "white",
            "gridcolor": "rgb(232,232,232)",
            "gridwidth": 2,
            "linecolor": "rgb(36,36,36)",
            "showbackground": true,
            "showgrid": false,
            "showline": true,
            "ticks": "outside",
            "zeroline": false,
            "zerolinecolor": "rgb(36,36,36)"
           },
           "zaxis": {
            "backgroundcolor": "white",
            "gridcolor": "rgb(232,232,232)",
            "gridwidth": 2,
            "linecolor": "rgb(36,36,36)",
            "showbackground": true,
            "showgrid": false,
            "showline": true,
            "ticks": "outside",
            "zeroline": false,
            "zerolinecolor": "rgb(36,36,36)"
           }
          },
          "shapedefaults": {
           "fillcolor": "black",
           "line": {
            "width": 0
           },
           "opacity": 0.3
          },
          "ternary": {
           "aaxis": {
            "gridcolor": "rgb(232,232,232)",
            "linecolor": "rgb(36,36,36)",
            "showgrid": false,
            "showline": true,
            "ticks": "outside"
           },
           "baxis": {
            "gridcolor": "rgb(232,232,232)",
            "linecolor": "rgb(36,36,36)",
            "showgrid": false,
            "showline": true,
            "ticks": "outside"
           },
           "bgcolor": "white",
           "caxis": {
            "gridcolor": "rgb(232,232,232)",
            "linecolor": "rgb(36,36,36)",
            "showgrid": false,
            "showline": true,
            "ticks": "outside"
           }
          },
          "title": {
           "x": 0.05
          },
          "xaxis": {
           "automargin": true,
           "gridcolor": "rgb(232,232,232)",
           "linecolor": "rgb(36,36,36)",
           "showgrid": false,
           "showline": true,
           "ticks": "outside",
           "title": {
            "standoff": 15
           },
           "zeroline": false,
           "zerolinecolor": "rgb(36,36,36)"
          },
          "yaxis": {
           "automargin": true,
           "gridcolor": "rgb(232,232,232)",
           "linecolor": "rgb(36,36,36)",
           "showgrid": false,
           "showline": true,
           "ticks": "outside",
           "title": {
            "standoff": 15
           },
           "zeroline": false,
           "zerolinecolor": "rgb(36,36,36)"
          }
         }
        },
        "xaxis": {
         "anchor": "y",
         "domain": [
          0,
          0.18400000000000002
         ],
         "title": {
          "text": "gamma"
         },
         "type": "log"
        },
        "xaxis2": {
         "anchor": "y2",
         "domain": [
          0.20400000000000001,
          0.388
         ],
         "matches": "x",
         "title": {
          "text": "gamma"
         },
         "type": "log"
        },
        "xaxis3": {
         "anchor": "y3",
         "domain": [
          0.40800000000000003,
          0.5920000000000001
         ],
         "matches": "x",
         "title": {
          "text": "gamma"
         },
         "type": "log"
        },
        "xaxis4": {
         "anchor": "y4",
         "domain": [
          0.6120000000000001,
          0.7960000000000002
         ],
         "matches": "x",
         "title": {
          "text": "gamma"
         },
         "type": "log"
        },
        "xaxis5": {
         "anchor": "y5",
         "domain": [
          0.8160000000000001,
          1
         ],
         "matches": "x",
         "title": {
          "text": "gamma"
         },
         "type": "log"
        },
        "yaxis": {
         "anchor": "x",
         "domain": [
          0,
          1
         ],
         "title": {
          "text": "mean"
         }
        },
        "yaxis2": {
         "anchor": "x2",
         "domain": [
          0,
          1
         ],
         "showticklabels": false
        },
        "yaxis3": {
         "anchor": "x3",
         "domain": [
          0,
          1
         ],
         "showticklabels": false
        },
        "yaxis4": {
         "anchor": "x4",
         "domain": [
          0,
          1
         ],
         "showticklabels": false
        },
        "yaxis5": {
         "anchor": "x5",
         "domain": [
          0,
          1
         ],
         "showticklabels": false
        }
       }
      },
      "text/html": [
       "<div>                            <div id=\"a9a9eaab-5b41-4074-b1d5-069ebfa7ef25\" class=\"plotly-graph-div\" style=\"height:525px; width:100%;\"></div>            <script type=\"text/javascript\">                require([\"plotly\"], function(Plotly) {                    window.PLOTLYENV=window.PLOTLYENV || {};                                    if (document.getElementById(\"a9a9eaab-5b41-4074-b1d5-069ebfa7ef25\")) {                    Plotly.newPlot(                        \"a9a9eaab-5b41-4074-b1d5-069ebfa7ef25\",                        [{\"error_y\":{\"array\":[0.024944886824430423,0.02520161376657868,0.023160536731140352,0.027363781247571828,0.02585919597012058,0.022609792236821493,0.03512193584066773]},\"hovertemplate\":\"split=train<br>metric=dice<br>gamma=%{x}<br>mean=%{y}<extra></extra>\",\"legendgroup\":\"train\",\"marker\":{\"color\":\"#1F77B4\",\"symbol\":\"circle\"},\"mode\":\"markers\",\"name\":\"train\",\"orientation\":\"v\",\"showlegend\":true,\"x\":[0.0,0.001,0.005,0.05,0.1,0.5,1.0],\"xaxis\":\"x\",\"y\":[0.8802317362714113,0.8149162887366989,0.8862002776212505,0.8722313410935013,0.8648418861621013,0.7885292606346062,0.5847121075073176],\"yaxis\":\"y\",\"type\":\"scatter\"},{\"error_y\":{\"array\":[0.6677563753910096,0.7714943611837912,0.6577512697334087,0.7460709819386473,0.8492117860546743,0.9582048570514073,3.671632505066986]},\"hovertemplate\":\"split=train<br>metric=hd95<br>gamma=%{x}<br>mean=%{y}<extra></extra>\",\"legendgroup\":\"train\",\"marker\":{\"color\":\"#1F77B4\",\"symbol\":\"circle\"},\"mode\":\"markers\",\"name\":\"train\",\"orientation\":\"v\",\"showlegend\":false,\"x\":[0.0,0.001,0.005,0.05,0.1,0.5,1.0],\"xaxis\":\"x2\",\"y\":[3.082278810773537,3.375327548986782,2.9759018893841622,3.3010013127103726,3.546927348635684,3.4961157082694703,4.838323738853505],\"yaxis\":\"y2\",\"type\":\"scatter\"},{\"error_y\":{\"array\":[0.09410599262164847,0.04511538648112185,0.10239282295114352,0.06483702622225876,0.08266890804473823,0.04961943035237374,0.041281681611058094]},\"hovertemplate\":\"split=test<br>metric=dice<br>gamma=%{x}<br>mean=%{y}<extra></extra>\",\"legendgroup\":\"test\",\"marker\":{\"color\":\"#FF7F0E\",\"symbol\":\"circle\"},\"mode\":\"markers\",\"name\":\"test\",\"orientation\":\"v\",\"showlegend\":true,\"x\":[0.0,0.001,0.005,0.05,0.1,0.5,1.0],\"xaxis\":\"x\",\"y\":[0.7683058973689846,0.771155336342784,0.7696054778122702,0.8007669255983737,0.7979510145183984,0.7355233832875901,0.5560926929591687],\"yaxis\":\"y\",\"type\":\"scatter\"},{\"error_y\":{\"array\":[8.967411419112258,5.94561742391358,9.414130995748417,1.9893038224001172,5.313870427811325,10.824556279473123,1.9754478098253645]},\"hovertemplate\":\"split=test<br>metric=hd95<br>gamma=%{x}<br>mean=%{y}<extra></extra>\",\"legendgroup\":\"test\",\"marker\":{\"color\":\"#FF7F0E\",\"symbol\":\"circle\"},\"mode\":\"markers\",\"name\":\"test\",\"orientation\":\"v\",\"showlegend\":false,\"x\":[0.0,0.001,0.005,0.05,0.1,0.5,1.0],\"xaxis\":\"x2\",\"y\":[7.700582527937593,5.358340722075046,7.62785291498196,5.615966202424972,6.42300384931082,6.449162603752413,5.714875544915966],\"yaxis\":\"y2\",\"type\":\"scatter\"},{\"error_y\":{\"array\":[null,null,null,null,null,null,null]},\"hovertemplate\":\"split=<br>metric=dice_rank<br>gamma=%{x}<br>mean=%{y}<extra></extra>\",\"legendgroup\":\"\",\"marker\":{\"color\":\"#2CA02C\",\"symbol\":\"circle\"},\"mode\":\"markers\",\"name\":\"\",\"orientation\":\"v\",\"showlegend\":false,\"x\":[0.0,0.001,0.005,0.05,0.1,0.5,1.0],\"xaxis\":\"x3\",\"y\":[null,null,null,null,null,null,null],\"yaxis\":\"y3\",\"type\":\"scatter\"},{\"error_y\":{\"array\":[null,null,null,null,null,null,null]},\"hovertemplate\":\"split=<br>metric=hd_rank<br>gamma=%{x}<br>mean=%{y}<extra></extra>\",\"legendgroup\":\"\",\"marker\":{\"color\":\"#2CA02C\",\"symbol\":\"circle\"},\"mode\":\"markers\",\"name\":\"\",\"orientation\":\"v\",\"showlegend\":false,\"x\":[0.0,0.001,0.005,0.05,0.1,0.5,1.0],\"xaxis\":\"x4\",\"y\":[null,null,null,null,null,null,null],\"yaxis\":\"y4\",\"type\":\"scatter\"},{\"error_y\":{\"array\":[null,null,null,null,null,null,null]},\"hovertemplate\":\"split=<br>metric=rank<br>gamma=%{x}<br>mean=%{y}<extra></extra>\",\"legendgroup\":\"\",\"marker\":{\"color\":\"#2CA02C\",\"symbol\":\"circle\"},\"mode\":\"markers\",\"name\":\"\",\"orientation\":\"v\",\"showlegend\":false,\"x\":[0.0,0.001,0.005,0.05,0.1,0.5,1.0],\"xaxis\":\"x5\",\"y\":[null,null,null,null,null,null,null],\"yaxis\":\"y5\",\"type\":\"scatter\"}],                        {\"template\":{\"data\":{\"histogram2dcontour\":[{\"type\":\"histogram2dcontour\",\"colorbar\":{\"outlinewidth\":1,\"tickcolor\":\"rgb(36,36,36)\",\"ticks\":\"outside\"},\"colorscale\":[[0.0,\"#440154\"],[0.1111111111111111,\"#482878\"],[0.2222222222222222,\"#3e4989\"],[0.3333333333333333,\"#31688e\"],[0.4444444444444444,\"#26828e\"],[0.5555555555555556,\"#1f9e89\"],[0.6666666666666666,\"#35b779\"],[0.7777777777777778,\"#6ece58\"],[0.8888888888888888,\"#b5de2b\"],[1.0,\"#fde725\"]]}],\"choropleth\":[{\"type\":\"choropleth\",\"colorbar\":{\"outlinewidth\":1,\"tickcolor\":\"rgb(36,36,36)\",\"ticks\":\"outside\"}}],\"histogram2d\":[{\"type\":\"histogram2d\",\"colorbar\":{\"outlinewidth\":1,\"tickcolor\":\"rgb(36,36,36)\",\"ticks\":\"outside\"},\"colorscale\":[[0.0,\"#440154\"],[0.1111111111111111,\"#482878\"],[0.2222222222222222,\"#3e4989\"],[0.3333333333333333,\"#31688e\"],[0.4444444444444444,\"#26828e\"],[0.5555555555555556,\"#1f9e89\"],[0.6666666666666666,\"#35b779\"],[0.7777777777777778,\"#6ece58\"],[0.8888888888888888,\"#b5de2b\"],[1.0,\"#fde725\"]]}],\"heatmap\":[{\"type\":\"heatmap\",\"colorbar\":{\"outlinewidth\":1,\"tickcolor\":\"rgb(36,36,36)\",\"ticks\":\"outside\"},\"colorscale\":[[0.0,\"#440154\"],[0.1111111111111111,\"#482878\"],[0.2222222222222222,\"#3e4989\"],[0.3333333333333333,\"#31688e\"],[0.4444444444444444,\"#26828e\"],[0.5555555555555556,\"#1f9e89\"],[0.6666666666666666,\"#35b779\"],[0.7777777777777778,\"#6ece58\"],[0.8888888888888888,\"#b5de2b\"],[1.0,\"#fde725\"]]}],\"heatmapgl\":[{\"type\":\"heatmapgl\",\"colorbar\":{\"outlinewidth\":1,\"tickcolor\":\"rgb(36,36,36)\",\"ticks\":\"outside\"},\"colorscale\":[[0.0,\"#440154\"],[0.1111111111111111,\"#482878\"],[0.2222222222222222,\"#3e4989\"],[0.3333333333333333,\"#31688e\"],[0.4444444444444444,\"#26828e\"],[0.5555555555555556,\"#1f9e89\"],[0.6666666666666666,\"#35b779\"],[0.7777777777777778,\"#6ece58\"],[0.8888888888888888,\"#b5de2b\"],[1.0,\"#fde725\"]]}],\"contourcarpet\":[{\"type\":\"contourcarpet\",\"colorbar\":{\"outlinewidth\":1,\"tickcolor\":\"rgb(36,36,36)\",\"ticks\":\"outside\"}}],\"contour\":[{\"type\":\"contour\",\"colorbar\":{\"outlinewidth\":1,\"tickcolor\":\"rgb(36,36,36)\",\"ticks\":\"outside\"},\"colorscale\":[[0.0,\"#440154\"],[0.1111111111111111,\"#482878\"],[0.2222222222222222,\"#3e4989\"],[0.3333333333333333,\"#31688e\"],[0.4444444444444444,\"#26828e\"],[0.5555555555555556,\"#1f9e89\"],[0.6666666666666666,\"#35b779\"],[0.7777777777777778,\"#6ece58\"],[0.8888888888888888,\"#b5de2b\"],[1.0,\"#fde725\"]]}],\"surface\":[{\"type\":\"surface\",\"colorbar\":{\"outlinewidth\":1,\"tickcolor\":\"rgb(36,36,36)\",\"ticks\":\"outside\"},\"colorscale\":[[0.0,\"#440154\"],[0.1111111111111111,\"#482878\"],[0.2222222222222222,\"#3e4989\"],[0.3333333333333333,\"#31688e\"],[0.4444444444444444,\"#26828e\"],[0.5555555555555556,\"#1f9e89\"],[0.6666666666666666,\"#35b779\"],[0.7777777777777778,\"#6ece58\"],[0.8888888888888888,\"#b5de2b\"],[1.0,\"#fde725\"]]}],\"mesh3d\":[{\"type\":\"mesh3d\",\"colorbar\":{\"outlinewidth\":1,\"tickcolor\":\"rgb(36,36,36)\",\"ticks\":\"outside\"}}],\"scatter\":[{\"fillpattern\":{\"fillmode\":\"overlay\",\"size\":10,\"solidity\":0.2},\"type\":\"scatter\"}],\"parcoords\":[{\"type\":\"parcoords\",\"line\":{\"colorbar\":{\"outlinewidth\":1,\"tickcolor\":\"rgb(36,36,36)\",\"ticks\":\"outside\"}}}],\"scatterpolargl\":[{\"type\":\"scatterpolargl\",\"marker\":{\"colorbar\":{\"outlinewidth\":1,\"tickcolor\":\"rgb(36,36,36)\",\"ticks\":\"outside\"}}}],\"bar\":[{\"error_x\":{\"color\":\"rgb(36,36,36)\"},\"error_y\":{\"color\":\"rgb(36,36,36)\"},\"marker\":{\"line\":{\"color\":\"white\",\"width\":0.5},\"pattern\":{\"fillmode\":\"overlay\",\"size\":10,\"solidity\":0.2}},\"type\":\"bar\"}],\"scattergeo\":[{\"type\":\"scattergeo\",\"marker\":{\"colorbar\":{\"outlinewidth\":1,\"tickcolor\":\"rgb(36,36,36)\",\"ticks\":\"outside\"}}}],\"scatterpolar\":[{\"type\":\"scatterpolar\",\"marker\":{\"colorbar\":{\"outlinewidth\":1,\"tickcolor\":\"rgb(36,36,36)\",\"ticks\":\"outside\"}}}],\"histogram\":[{\"marker\":{\"line\":{\"color\":\"white\",\"width\":0.6}},\"type\":\"histogram\"}],\"scattergl\":[{\"type\":\"scattergl\",\"marker\":{\"colorbar\":{\"outlinewidth\":1,\"tickcolor\":\"rgb(36,36,36)\",\"ticks\":\"outside\"}}}],\"scatter3d\":[{\"type\":\"scatter3d\",\"line\":{\"colorbar\":{\"outlinewidth\":1,\"tickcolor\":\"rgb(36,36,36)\",\"ticks\":\"outside\"}},\"marker\":{\"colorbar\":{\"outlinewidth\":1,\"tickcolor\":\"rgb(36,36,36)\",\"ticks\":\"outside\"}}}],\"scattermapbox\":[{\"type\":\"scattermapbox\",\"marker\":{\"colorbar\":{\"outlinewidth\":1,\"tickcolor\":\"rgb(36,36,36)\",\"ticks\":\"outside\"}}}],\"scatterternary\":[{\"type\":\"scatterternary\",\"marker\":{\"colorbar\":{\"outlinewidth\":1,\"tickcolor\":\"rgb(36,36,36)\",\"ticks\":\"outside\"}}}],\"scattercarpet\":[{\"type\":\"scattercarpet\",\"marker\":{\"colorbar\":{\"outlinewidth\":1,\"tickcolor\":\"rgb(36,36,36)\",\"ticks\":\"outside\"}}}],\"carpet\":[{\"aaxis\":{\"endlinecolor\":\"rgb(36,36,36)\",\"gridcolor\":\"white\",\"linecolor\":\"white\",\"minorgridcolor\":\"white\",\"startlinecolor\":\"rgb(36,36,36)\"},\"baxis\":{\"endlinecolor\":\"rgb(36,36,36)\",\"gridcolor\":\"white\",\"linecolor\":\"white\",\"minorgridcolor\":\"white\",\"startlinecolor\":\"rgb(36,36,36)\"},\"type\":\"carpet\"}],\"table\":[{\"cells\":{\"fill\":{\"color\":\"rgb(237,237,237)\"},\"line\":{\"color\":\"white\"}},\"header\":{\"fill\":{\"color\":\"rgb(217,217,217)\"},\"line\":{\"color\":\"white\"}},\"type\":\"table\"}],\"barpolar\":[{\"marker\":{\"line\":{\"color\":\"white\",\"width\":0.5},\"pattern\":{\"fillmode\":\"overlay\",\"size\":10,\"solidity\":0.2}},\"type\":\"barpolar\"}],\"pie\":[{\"automargin\":true,\"type\":\"pie\"}]},\"layout\":{\"autotypenumbers\":\"strict\",\"colorway\":[\"#1F77B4\",\"#FF7F0E\",\"#2CA02C\",\"#D62728\",\"#9467BD\",\"#8C564B\",\"#E377C2\",\"#7F7F7F\",\"#BCBD22\",\"#17BECF\"],\"font\":{\"color\":\"rgb(36,36,36)\"},\"hovermode\":\"closest\",\"hoverlabel\":{\"align\":\"left\"},\"paper_bgcolor\":\"white\",\"plot_bgcolor\":\"white\",\"polar\":{\"bgcolor\":\"white\",\"angularaxis\":{\"gridcolor\":\"rgb(232,232,232)\",\"linecolor\":\"rgb(36,36,36)\",\"showgrid\":false,\"showline\":true,\"ticks\":\"outside\"},\"radialaxis\":{\"gridcolor\":\"rgb(232,232,232)\",\"linecolor\":\"rgb(36,36,36)\",\"showgrid\":false,\"showline\":true,\"ticks\":\"outside\"}},\"ternary\":{\"bgcolor\":\"white\",\"aaxis\":{\"gridcolor\":\"rgb(232,232,232)\",\"linecolor\":\"rgb(36,36,36)\",\"showgrid\":false,\"showline\":true,\"ticks\":\"outside\"},\"baxis\":{\"gridcolor\":\"rgb(232,232,232)\",\"linecolor\":\"rgb(36,36,36)\",\"showgrid\":false,\"showline\":true,\"ticks\":\"outside\"},\"caxis\":{\"gridcolor\":\"rgb(232,232,232)\",\"linecolor\":\"rgb(36,36,36)\",\"showgrid\":false,\"showline\":true,\"ticks\":\"outside\"}},\"coloraxis\":{\"colorbar\":{\"outlinewidth\":1,\"tickcolor\":\"rgb(36,36,36)\",\"ticks\":\"outside\"}},\"colorscale\":{\"sequential\":[[0.0,\"#440154\"],[0.1111111111111111,\"#482878\"],[0.2222222222222222,\"#3e4989\"],[0.3333333333333333,\"#31688e\"],[0.4444444444444444,\"#26828e\"],[0.5555555555555556,\"#1f9e89\"],[0.6666666666666666,\"#35b779\"],[0.7777777777777778,\"#6ece58\"],[0.8888888888888888,\"#b5de2b\"],[1.0,\"#fde725\"]],\"sequentialminus\":[[0.0,\"#440154\"],[0.1111111111111111,\"#482878\"],[0.2222222222222222,\"#3e4989\"],[0.3333333333333333,\"#31688e\"],[0.4444444444444444,\"#26828e\"],[0.5555555555555556,\"#1f9e89\"],[0.6666666666666666,\"#35b779\"],[0.7777777777777778,\"#6ece58\"],[0.8888888888888888,\"#b5de2b\"],[1.0,\"#fde725\"]],\"diverging\":[[0.0,\"rgb(103,0,31)\"],[0.1,\"rgb(178,24,43)\"],[0.2,\"rgb(214,96,77)\"],[0.3,\"rgb(244,165,130)\"],[0.4,\"rgb(253,219,199)\"],[0.5,\"rgb(247,247,247)\"],[0.6,\"rgb(209,229,240)\"],[0.7,\"rgb(146,197,222)\"],[0.8,\"rgb(67,147,195)\"],[0.9,\"rgb(33,102,172)\"],[1.0,\"rgb(5,48,97)\"]]},\"xaxis\":{\"gridcolor\":\"rgb(232,232,232)\",\"linecolor\":\"rgb(36,36,36)\",\"showgrid\":false,\"showline\":true,\"ticks\":\"outside\",\"title\":{\"standoff\":15},\"zerolinecolor\":\"rgb(36,36,36)\",\"automargin\":true,\"zeroline\":false},\"yaxis\":{\"gridcolor\":\"rgb(232,232,232)\",\"linecolor\":\"rgb(36,36,36)\",\"showgrid\":false,\"showline\":true,\"ticks\":\"outside\",\"title\":{\"standoff\":15},\"zerolinecolor\":\"rgb(36,36,36)\",\"automargin\":true,\"zeroline\":false},\"scene\":{\"xaxis\":{\"backgroundcolor\":\"white\",\"gridcolor\":\"rgb(232,232,232)\",\"linecolor\":\"rgb(36,36,36)\",\"showbackground\":true,\"showgrid\":false,\"showline\":true,\"ticks\":\"outside\",\"zerolinecolor\":\"rgb(36,36,36)\",\"gridwidth\":2,\"zeroline\":false},\"yaxis\":{\"backgroundcolor\":\"white\",\"gridcolor\":\"rgb(232,232,232)\",\"linecolor\":\"rgb(36,36,36)\",\"showbackground\":true,\"showgrid\":false,\"showline\":true,\"ticks\":\"outside\",\"zerolinecolor\":\"rgb(36,36,36)\",\"gridwidth\":2,\"zeroline\":false},\"zaxis\":{\"backgroundcolor\":\"white\",\"gridcolor\":\"rgb(232,232,232)\",\"linecolor\":\"rgb(36,36,36)\",\"showbackground\":true,\"showgrid\":false,\"showline\":true,\"ticks\":\"outside\",\"zerolinecolor\":\"rgb(36,36,36)\",\"gridwidth\":2,\"zeroline\":false}},\"shapedefaults\":{\"fillcolor\":\"black\",\"line\":{\"width\":0},\"opacity\":0.3},\"annotationdefaults\":{\"arrowhead\":0,\"arrowwidth\":1},\"geo\":{\"bgcolor\":\"white\",\"landcolor\":\"white\",\"subunitcolor\":\"white\",\"showland\":true,\"showlakes\":true,\"lakecolor\":\"white\"},\"title\":{\"x\":0.05},\"mapbox\":{\"style\":\"light\"}}},\"xaxis\":{\"anchor\":\"y\",\"domain\":[0.0,0.18400000000000002],\"title\":{\"text\":\"gamma\"},\"type\":\"log\"},\"yaxis\":{\"anchor\":\"x\",\"domain\":[0.0,1.0],\"title\":{\"text\":\"mean\"}},\"xaxis2\":{\"anchor\":\"y2\",\"domain\":[0.20400000000000001,0.388],\"matches\":\"x\",\"title\":{\"text\":\"gamma\"},\"type\":\"log\"},\"yaxis2\":{\"anchor\":\"x2\",\"domain\":[0.0,1.0],\"showticklabels\":false},\"xaxis3\":{\"anchor\":\"y3\",\"domain\":[0.40800000000000003,0.5920000000000001],\"matches\":\"x\",\"title\":{\"text\":\"gamma\"},\"type\":\"log\"},\"yaxis3\":{\"anchor\":\"x3\",\"domain\":[0.0,1.0],\"showticklabels\":false},\"xaxis4\":{\"anchor\":\"y4\",\"domain\":[0.6120000000000001,0.7960000000000002],\"matches\":\"x\",\"title\":{\"text\":\"gamma\"},\"type\":\"log\"},\"yaxis4\":{\"anchor\":\"x4\",\"domain\":[0.0,1.0],\"showticklabels\":false},\"xaxis5\":{\"anchor\":\"y5\",\"domain\":[0.8160000000000001,1.0],\"matches\":\"x\",\"title\":{\"text\":\"gamma\"},\"type\":\"log\"},\"yaxis5\":{\"anchor\":\"x5\",\"domain\":[0.0,1.0],\"showticklabels\":false},\"annotations\":[{\"font\":{},\"showarrow\":false,\"text\":\"metric=dice\",\"x\":0.09200000000000001,\"xanchor\":\"center\",\"xref\":\"paper\",\"y\":1.0,\"yanchor\":\"bottom\",\"yref\":\"paper\"},{\"font\":{},\"showarrow\":false,\"text\":\"metric=hd95\",\"x\":0.29600000000000004,\"xanchor\":\"center\",\"xref\":\"paper\",\"y\":1.0,\"yanchor\":\"bottom\",\"yref\":\"paper\"},{\"font\":{},\"showarrow\":false,\"text\":\"metric=dice_rank\",\"x\":0.5,\"xanchor\":\"center\",\"xref\":\"paper\",\"y\":1.0,\"yanchor\":\"bottom\",\"yref\":\"paper\"},{\"font\":{},\"showarrow\":false,\"text\":\"metric=hd_rank\",\"x\":0.7040000000000002,\"xanchor\":\"center\",\"xref\":\"paper\",\"y\":1.0,\"yanchor\":\"bottom\",\"yref\":\"paper\"},{\"font\":{},\"showarrow\":false,\"text\":\"metric=rank\",\"x\":0.908,\"xanchor\":\"center\",\"xref\":\"paper\",\"y\":1.0,\"yanchor\":\"bottom\",\"yref\":\"paper\"}],\"legend\":{\"title\":{\"text\":\"split\"},\"tracegroupgap\":0,\"orientation\":\"h\",\"yanchor\":\"bottom\",\"y\":1.1},\"margin\":{\"t\":60}},                        {\"responsive\": true}                    ).then(function(){\n",
       "                            \n",
       "var gd = document.getElementById('a9a9eaab-5b41-4074-b1d5-069ebfa7ef25');\n",
       "var x = new MutationObserver(function (mutations, observer) {{\n",
       "        var display = window.getComputedStyle(gd).display;\n",
       "        if (!display || display === 'none') {{\n",
       "            console.log([gd, 'removed!']);\n",
       "            Plotly.purge(gd);\n",
       "            observer.disconnect();\n",
       "        }}\n",
       "}});\n",
       "\n",
       "// Listen for the removal of the full notebook cells\n",
       "var notebookContainer = gd.closest('#notebook-container');\n",
       "if (notebookContainer) {{\n",
       "    x.observe(notebookContainer, {childList: true});\n",
       "}}\n",
       "\n",
       "// Listen for the clearing of the current output cell\n",
       "var outputEl = gd.closest('.output');\n",
       "if (outputEl) {{\n",
       "    x.observe(outputEl, {childList: true});\n",
       "}}\n",
       "\n",
       "                        })                };                });            </script>        </div>"
      ]
     },
     "metadata": {},
     "output_type": "display_data"
    }
   ],
   "source": [
    "fig = px.scatter(res, x='gamma', y='mean', facet_col='metric', color='split', error_y='std')\n",
    "\n",
    "top_h_legend = dict(orientation='h', yanchor=\"bottom\", y=1.1)\n",
    "fig.update_layout(legend=top_h_legend)\n",
    "\n",
    "fig.update_yaxes(matches=None)\n",
    "fig.update_xaxes(type='log')\n",
    "\n",
    "fig.show()"
   ]
  },
  {
   "cell_type": "code",
   "execution_count": 51,
   "metadata": {},
   "outputs": [
    {
     "data": {
      "text/html": [
       "<div>\n",
       "<style scoped>\n",
       "    .dataframe tbody tr th:only-of-type {\n",
       "        vertical-align: middle;\n",
       "    }\n",
       "\n",
       "    .dataframe tbody tr th {\n",
       "        vertical-align: top;\n",
       "    }\n",
       "\n",
       "    .dataframe thead th {\n",
       "        text-align: right;\n",
       "    }\n",
       "</style>\n",
       "<table border=\"1\" class=\"dataframe\">\n",
       "  <thead>\n",
       "    <tr style=\"text-align: right;\">\n",
       "      <th></th>\n",
       "      <th>gamma</th>\n",
       "      <th>dice</th>\n",
       "    </tr>\n",
       "  </thead>\n",
       "  <tbody>\n",
       "    <tr>\n",
       "      <th>0</th>\n",
       "      <td>0.001</td>\n",
       "      <td>0.648157</td>\n",
       "    </tr>\n",
       "    <tr>\n",
       "      <th>1</th>\n",
       "      <td>0.001</td>\n",
       "      <td>0.683179</td>\n",
       "    </tr>\n",
       "    <tr>\n",
       "      <th>2</th>\n",
       "      <td>0.001</td>\n",
       "      <td>0.725001</td>\n",
       "    </tr>\n",
       "    <tr>\n",
       "      <th>3</th>\n",
       "      <td>0.001</td>\n",
       "      <td>0.781284</td>\n",
       "    </tr>\n",
       "    <tr>\n",
       "      <th>4</th>\n",
       "      <td>0.001</td>\n",
       "      <td>0.808099</td>\n",
       "    </tr>\n",
       "    <tr>\n",
       "      <th>...</th>\n",
       "      <td>...</td>\n",
       "      <td>...</td>\n",
       "    </tr>\n",
       "    <tr>\n",
       "      <th>245</th>\n",
       "      <td>0.000</td>\n",
       "      <td>0.813295</td>\n",
       "    </tr>\n",
       "    <tr>\n",
       "      <th>246</th>\n",
       "      <td>0.000</td>\n",
       "      <td>0.807323</td>\n",
       "    </tr>\n",
       "    <tr>\n",
       "      <th>247</th>\n",
       "      <td>0.000</td>\n",
       "      <td>0.782610</td>\n",
       "    </tr>\n",
       "    <tr>\n",
       "      <th>248</th>\n",
       "      <td>0.000</td>\n",
       "      <td>0.778035</td>\n",
       "    </tr>\n",
       "    <tr>\n",
       "      <th>249</th>\n",
       "      <td>0.000</td>\n",
       "      <td>0.750647</td>\n",
       "    </tr>\n",
       "  </tbody>\n",
       "</table>\n",
       "<p>1750 rows × 2 columns</p>\n",
       "</div>"
      ],
      "text/plain": [
       "     gamma      dice\n",
       "0    0.001  0.648157\n",
       "1    0.001  0.683179\n",
       "2    0.001  0.725001\n",
       "3    0.001  0.781284\n",
       "4    0.001  0.808099\n",
       "..     ...       ...\n",
       "245  0.000  0.813295\n",
       "246  0.000  0.807323\n",
       "247  0.000  0.782610\n",
       "248  0.000  0.778035\n",
       "249  0.000  0.750647\n",
       "\n",
       "[1750 rows x 2 columns]"
      ]
     },
     "execution_count": 51,
     "metadata": {},
     "output_type": "execute_result"
    }
   ],
   "source": [
    "df[(df.split == 'test')][['gamma', 'dice']]"
   ]
  },
  {
   "cell_type": "code",
   "execution_count": 52,
   "metadata": {},
   "outputs": [],
   "source": [
    "df = df[(df.split == 'test')]"
   ]
  },
  {
   "cell_type": "code",
   "execution_count": 62,
   "metadata": {},
   "outputs": [
    {
     "data": {
      "text/html": [
       "<div>\n",
       "<style scoped>\n",
       "    .dataframe tbody tr th:only-of-type {\n",
       "        vertical-align: middle;\n",
       "    }\n",
       "\n",
       "    .dataframe tbody tr th {\n",
       "        vertical-align: top;\n",
       "    }\n",
       "\n",
       "    .dataframe thead th {\n",
       "        text-align: right;\n",
       "    }\n",
       "</style>\n",
       "<table border=\"1\" class=\"dataframe\">\n",
       "  <thead>\n",
       "    <tr style=\"text-align: right;\">\n",
       "      <th></th>\n",
       "      <th>hd95</th>\n",
       "      <th>timeframe</th>\n",
       "    </tr>\n",
       "    <tr>\n",
       "      <th>gamma</th>\n",
       "      <th></th>\n",
       "      <th></th>\n",
       "    </tr>\n",
       "  </thead>\n",
       "  <tbody>\n",
       "    <tr>\n",
       "      <th>0.05</th>\n",
       "      <td>5.150788</td>\n",
       "      <td>12.0</td>\n",
       "    </tr>\n",
       "    <tr>\n",
       "      <th>0.10</th>\n",
       "      <td>5.150788</td>\n",
       "      <td>12.0</td>\n",
       "    </tr>\n",
       "  </tbody>\n",
       "</table>\n",
       "</div>"
      ],
      "text/plain": [
       "           hd95  timeframe\n",
       "gamma                     \n",
       "0.05   5.150788       12.0\n",
       "0.10   5.150788       12.0"
      ]
     },
     "execution_count": 62,
     "metadata": {},
     "output_type": "execute_result"
    }
   ],
   "source": [
    "df[df.gamma.isin([0.05, 0.1])][['hd95', 'timeframe', 'disease', 'patient_id', 'slice', 'gamma']].groupby('gamma').median()"
   ]
  },
  {
   "cell_type": "code",
   "execution_count": 64,
   "metadata": {},
   "outputs": [
    {
     "data": {
      "text/plain": [
       "184     2.857143\n",
       "183     2.857143\n",
       "182     2.857143\n",
       "217     2.857143\n",
       "220     2.857143\n",
       "         ...    \n",
       "62     10.935241\n",
       "46     10.964106\n",
       "38     11.373682\n",
       "25     11.428572\n",
       "61     12.777532\n",
       "Name: hd95, Length: 250, dtype: float64"
      ]
     },
     "execution_count": 64,
     "metadata": {},
     "output_type": "execute_result"
    }
   ],
   "source": [
    "df[df.gamma == 0.05].sort_values('hd95').hd95"
   ]
  },
  {
   "cell_type": "code",
   "execution_count": 65,
   "metadata": {},
   "outputs": [
    {
     "data": {
      "text/plain": [
       "101     2.857143\n",
       "224     2.857143\n",
       "223     2.857143\n",
       "102     2.857143\n",
       "103     3.194383\n",
       "         ...    \n",
       "59     28.758866\n",
       "77     35.015296\n",
       "62     40.312872\n",
       "60     43.384837\n",
       "61     46.676111\n",
       "Name: hd95, Length: 250, dtype: float64"
      ]
     },
     "execution_count": 65,
     "metadata": {},
     "output_type": "execute_result"
    }
   ],
   "source": [
    "df[df.gamma == 0.1].sort_values('hd95').hd95"
   ]
  },
  {
   "cell_type": "code",
   "execution_count": 90,
   "metadata": {},
   "outputs": [
    {
     "data": {
      "text/plain": [
       "(2.8571429252624, 2.8571429252624)"
      ]
     },
     "execution_count": 90,
     "metadata": {},
     "output_type": "execute_result"
    }
   ],
   "source": [
    "subject_1.hd95, subject_2.hd95"
   ]
  },
  {
   "cell_type": "code",
   "execution_count": 88,
   "metadata": {},
   "outputs": [
    {
     "data": {
      "text/plain": [
       "(140.0, 70.0)"
      ]
     },
     "execution_count": 88,
     "metadata": {},
     "output_type": "execute_result"
    },
    {
     "data": {
      "image/png": "[encoded data removed]",
      "text/plain": [
       "<Figure size 720x360 with 2 Axes>"
      ]
     },
     "metadata": {
      "needs_background": "light"
     },
     "output_type": "display_data"
    }
   ],
   "source": [
    "from skimage import measure\n",
    "\n",
    "subject_1 = df[df.gamma == 0.05].iloc[184]\n",
    "subject_2 = df[df.gamma == 0.1].iloc[101]\n",
    "\n",
    "plt.figure(figsize=(10, 5))\n",
    "\n",
    "plt.subplot(1, 2, 1)\n",
    "raw_shape = subject_1.raw_mask.data[0, 0].shape\n",
    "postprocess = transforms.Resize(raw_shape, interpolation=transforms.InterpolationMode.NEAREST)\n",
    "plt.imshow(postprocess(subject_1.image.data)[0, 0], cmap='gray')\n",
    "mask = subject_1.raw_mask.data[0, 0].numpy()\n",
    "pred = subject_1.pred.data[0, 0].numpy()\n",
    "for i, (contour_m, contour_p) in enumerate(zip(measure.find_contours(mask), measure.find_contours(pred))):\n",
    "    plt.plot(*contour_m[:, ::-1].T, c='b')\n",
    "    plt.plot(*contour_p[:, ::-1].T, c='r')\n",
    "plt.xlim(70, 140)\n",
    "plt.ylim(150, 75)\n",
    "\n",
    "plt.subplot(1, 2, 2)\n",
    "raw_shape = subject_2.raw_mask.data[0, 0].shape\n",
    "postprocess = transforms.Resize(raw_shape, interpolation=transforms.InterpolationMode.NEAREST)\n",
    "plt.imshow(postprocess(subject_2.image.data)[0, 0], cmap='gray')\n",
    "mask = subject_2.raw_mask.data[0, 0].numpy()\n",
    "pred = subject_2.pred.data[0, 0].numpy()\n",
    "for i, (contour_m, contour_p) in enumerate(zip(measure.find_contours(mask), measure.find_contours(pred))):\n",
    "    plt.plot(*contour_m[:, ::-1].T, c='b')\n",
    "    plt.plot(*contour_p[:, ::-1].T, c='r')\n",
    "plt.xlim(40, 100)\n",
    "plt.ylim(140, 70)"
   ]
  },
  {
   "cell_type": "code",
   "execution_count": 53,
   "metadata": {},
   "outputs": [
    {
     "name": "stderr",
     "output_type": "stream",
     "text": [
      "/opt/conda/envs/tagseg/lib/python3.8/site-packages/plotly/io/_renderers.py:395: DeprecationWarning:\n",
      "\n",
      "distutils Version classes are deprecated. Use packaging.version instead.\n",
      "\n"
     ]
    },
    {
     "data": {
      "application/vnd.plotly.v1+json": {
       "config": {
        "plotlyServerURL": "https://plot.ly"
       },
       "data": [
        {
         "box": {
          "visible": true
         },
         "line": {
          "color": "rgb(25.0, 114.0, 120.0)"
         },
         "meanline": {
          "visible": false
         },
         "name": "0.0",
         "orientation": "h",
         "points": false,
         "side": "positive",
         "type": "violin",
         "width": 3,
         "x": [
          0.6532515797388339,
          0.7637126111284337,
          0.7813818558269939,
          0.8266597425494385,
          0.821100492384838,
          0.8347276518663361,
          0.8236010617684694,
          0.8097052411512735,
          0.8122973586582253,
          0.8082392145146307,
          0.8383036585226579,
          0.8204239950994509,
          0.8162778575866471,
          0.8314227878808967,
          0.8228309072161437,
          0.8208385047564659,
          0.8088509945644984,
          0.8099907544886605,
          0.8097994176776022,
          0.8038464395496606,
          0.7799088266154005,
          0.7653216180648604,
          0.7720215145015037,
          0.7648220838031733,
          0.7440555799602151,
          0.5703969068834105,
          0.6225129089142843,
          0.6775976936321811,
          0.7605170197315143,
          0.7926500318302755,
          0.7752478484739471,
          0.7486342584571457,
          0.6359203372994169,
          0.4506598286232937,
          0.36480959431225324,
          0.2915340170979824,
          0.3110993503537532,
          0.6872081070406397,
          0.624236979978345,
          0.6502098060042699,
          0.6896955548690681,
          0.6732321498347392,
          0.6996237564853363,
          0.6667386192330118,
          0.5816982538952562,
          0.552187146258534,
          0.5661384011206688,
          0.5069609499890281,
          0.4414658012896539,
          0.5325139248027697,
          0.8286957349884568,
          0.7981123963755594,
          0.85026539816871,
          0.865278513944521,
          0.8235350524018475,
          0.7784774406875408,
          0.7725508468362726,
          0.7712910414760361,
          0.723626026444173,
          0.6952612425902353,
          0.6854133263397758,
          0.6628524291070172,
          0.646472579592283,
          0.729853547914171,
          0.7725463882053816,
          0.8439887228102951,
          0.8510365748688694,
          0.8612355586890094,
          0.8829858916622119,
          0.8841989611666382,
          0.8794786286150628,
          0.8723998710314519,
          0.8669887770088339,
          0.8494065102541867,
          0.8359706973022227,
          0.7256772765407072,
          0.8027475446396919,
          0.7346913132811551,
          0.6949804314801764,
          0.8142009744977833,
          0.8229558235919828,
          0.7936557815278908,
          0.795976525718079,
          0.8000179176167526,
          0.770990252224501,
          0.8207188739178897,
          0.7233539502710852,
          0.7461252007911956,
          0.7985205173500838,
          0.8145570802168555,
          0.8082653741910382,
          0.833572422340165,
          0.7925513061460757,
          0.7481384212689307,
          0.7473642913257685,
          0.7231245689067303,
          0.7210880305916771,
          0.7178723895338072,
          0.7626940599084817,
          0.762750714041532,
          0.8065553892679509,
          0.836472992614119,
          0.8691294224121693,
          0.8835067118168758,
          0.8584815302617089,
          0.8224027101567745,
          0.7520125016011046,
          0.7617278837687803,
          0.7732695326477663,
          0.7684463693902501,
          0.7558458757396905,
          0.7536529098481946,
          0.715073289017671,
          0.7079729839530766,
          0.7090932854073289,
          0.7299349032305259,
          0.7433523205663608,
          0.7068126600469276,
          0.7310821908879894,
          0.7357755794592442,
          0.7459389832135226,
          0.7050965528479276,
          0.6389148690930785,
          0.5820840500485386,
          0.584874726946427,
          0.8387842035015907,
          0.8189678651408265,
          0.8256493829937157,
          0.829227287052214,
          0.8471047794727781,
          0.8482475660758454,
          0.832357094235965,
          0.8272946341811074,
          0.8235989903096925,
          0.8229598667842692,
          0.7964703492011252,
          0.8131923120002637,
          0.8103446723688488,
          0.7971452566056122,
          0.7740355214505112,
          0.8009910695434705,
          0.808065665169754,
          0.8162529439357735,
          0.8354533853754875,
          0.8414627053189805,
          0.8473057874353767,
          0.8444591792109071,
          0.8485799389192787,
          0.850518849321495,
          0.8615725357800931,
          0.7448627507105114,
          0.6615469146594419,
          0.6616568957364936,
          0.6953521425628414,
          0.7164623524889188,
          0.7209678208319885,
          0.7057357156434408,
          0.6947966274423523,
          0.7079203222884534,
          0.7200773493080519,
          0.7188599503154052,
          0.7194500372625711,
          0.7149628518401716,
          0.7050015427242707,
          0.7005275193163767,
          0.6630172919762474,
          0.6362767176910802,
          0.6421983932235455,
          0.6359516539334165,
          0.6687462048836603,
          0.6797214807337593,
          0.6919192566563597,
          0.7115712987447883,
          0.7471987186057886,
          0.7564556463730496,
          0.8532995360141321,
          0.8596090737396986,
          0.8496877081563897,
          0.8809433105787183,
          0.8939788059870019,
          0.8986837866258074,
          0.9049930349427799,
          0.9061805030126946,
          0.8845272697611025,
          0.8763267327728278,
          0.8757527269013827,
          0.8656095280357503,
          0.841674256414304,
          0.8433376167136021,
          0.8472461655801492,
          0.8586106552536921,
          0.8413118832402667,
          0.8268618206490229,
          0.82836592374282,
          0.8206665266481066,
          0.8024942200010442,
          0.7919795469448329,
          0.7987092002896912,
          0.8387659194662601,
          0.8405938227319234,
          0.8027872532108337,
          0.8549701118151913,
          0.8590355604157639,
          0.8487932840575363,
          0.8054913165226808,
          0.7649482000735401,
          0.7983403759404343,
          0.8034760770957099,
          0.7955881920197474,
          0.7702589035893385,
          0.7442995444084123,
          0.7254066416023,
          0.7434007468199806,
          0.7881861441991103,
          0.7944581952546671,
          0.8203749067466988,
          0.8151203232283817,
          0.853284816705256,
          0.8569433454733909,
          0.86169699128276,
          0.8651803308742757,
          0.8665533855169597,
          0.8221774109954723,
          0.8124614046312809,
          0.8079029982098543,
          0.7486406581617422,
          0.7592488189752273,
          0.7879650624995638,
          0.8332888266826295,
          0.8455763938256664,
          0.8438796000671096,
          0.8384926233952975,
          0.8022227141713207,
          0.7901458670863023,
          0.680600352280314,
          0.7071102888003128,
          0.7261243810503722,
          0.753053850617393,
          0.7378050994932903,
          0.7934211020059329,
          0.8053546137473885,
          0.7930451913228633,
          0.79637682671642,
          0.8021549148440948,
          0.8045278358829899,
          0.8132950766341227,
          0.8073226506489333,
          0.7826095379025056,
          0.7780352214539141,
          0.7506470808179978
         ],
         "xaxis": "x",
         "yaxis": "y"
        },
        {
         "box": {
          "visible": true
         },
         "line": {
          "color": "rgb(27.5, 105.16666666666667, 109.83333333333333)"
         },
         "meanline": {
          "visible": false
         },
         "name": "0.001",
         "orientation": "h",
         "points": false,
         "side": "positive",
         "type": "violin",
         "width": 3,
         "x": [
          0.6481574693364601,
          0.6831790607230755,
          0.7250010646954475,
          0.7812838973927516,
          0.8080994965937344,
          0.8175660649765417,
          0.812241145503114,
          0.8261120811924472,
          0.8206583214558065,
          0.8158431395052766,
          0.8071913886365807,
          0.8007937046204511,
          0.7961014779883399,
          0.8073430302644061,
          0.7967161714612857,
          0.7775999283353096,
          0.7633870090511403,
          0.7674954794237095,
          0.7781932886866854,
          0.7819814534554249,
          0.7659839310494764,
          0.7553859964608429,
          0.7599701132869361,
          0.7600456021829943,
          0.747589652538179,
          0.64585115811987,
          0.6822496595123162,
          0.740723872890397,
          0.8263499621339755,
          0.8210689540310083,
          0.8274224939797258,
          0.809135386829797,
          0.7984507961918853,
          0.7978511208551016,
          0.7975368698072687,
          0.7589529568701732,
          0.790817139957683,
          0.8046737362409939,
          0.7204502472685579,
          0.749613202452785,
          0.781939923585331,
          0.7817077182817601,
          0.7829325397903623,
          0.7498642744948757,
          0.7324602557213029,
          0.7303192801611668,
          0.7417640246572765,
          0.6803405480792252,
          0.7050346682417821,
          0.7063348672366563,
          0.8287290475597611,
          0.8062710130672401,
          0.8224009512658507,
          0.8289355088736265,
          0.8010106801201422,
          0.7780551345116291,
          0.7818075261174073,
          0.7924363718824183,
          0.7759684757850743,
          0.7422911946429315,
          0.7591920478401598,
          0.7488210856027301,
          0.7258095647263011,
          0.8106240889599768,
          0.8360760654695698,
          0.823987812343316,
          0.8150757403917935,
          0.8220256080923091,
          0.8300998264146024,
          0.8327259822698357,
          0.8408007486301026,
          0.8305508742089327,
          0.8210802738792499,
          0.8064658012547208,
          0.8135389933272511,
          0.6978260583069509,
          0.5420250048609266,
          0.5557359422842589,
          0.7372147716994174,
          0.7594953553745895,
          0.7805578127741564,
          0.7755422844874122,
          0.7453332665973771,
          0.7221775320966665,
          0.6850642064564336,
          0.74403340006556,
          0.7433113955224473,
          0.7072250737828829,
          0.7605708760232669,
          0.8025510203964111,
          0.782659867560919,
          0.7912523563751933,
          0.7729958436976513,
          0.781712428172128,
          0.7858481482813848,
          0.7880473111661492,
          0.7776934261396458,
          0.7599241262080757,
          0.7904345988762056,
          0.824824028522818,
          0.7715359867402382,
          0.7476592086836219,
          0.8069975141879101,
          0.8241897516551213,
          0.8147958410332108,
          0.8053163036507796,
          0.7655698990876632,
          0.7462946870814248,
          0.7517021122334075,
          0.7290801977544353,
          0.7118890273416821,
          0.7110338260919719,
          0.7044531818378875,
          0.7339610305287491,
          0.7213932889523869,
          0.7466303077039634,
          0.7495694307125886,
          0.7227006305059303,
          0.7181981862573231,
          0.7379161484722173,
          0.7548463936448521,
          0.7543608884089633,
          0.7628624538691803,
          0.7593509573228908,
          0.7725866937644961,
          0.7861972296557924,
          0.7485125054603454,
          0.7428673967278542,
          0.7584883584057815,
          0.784644368546313,
          0.7918843876455505,
          0.7800007991863941,
          0.7867559650927703,
          0.781029571460727,
          0.789128763748659,
          0.7794446218782797,
          0.8196258923206372,
          0.8007455610136194,
          0.7833849219077946,
          0.7815748805641738,
          0.7959997978025365,
          0.7832275219322442,
          0.7687333702397156,
          0.7680545207188629,
          0.7784617573124385,
          0.774993342617528,
          0.7679236358136242,
          0.7726571536239162,
          0.778008302238732,
          0.8005346981995339,
          0.7316073524922624,
          0.7330977088617119,
          0.7591374604899512,
          0.7770323713980533,
          0.7845685687280604,
          0.7659596867943775,
          0.7524876349751468,
          0.7503955550942623,
          0.7650078298778661,
          0.774113903278635,
          0.7697920619280196,
          0.7589635718908084,
          0.7595945849753917,
          0.7441442546519357,
          0.7325772290701997,
          0.706974625020977,
          0.6881303018007747,
          0.7021511816007608,
          0.6916492023181964,
          0.7010862675320537,
          0.7078029020492088,
          0.700467522291012,
          0.6963663743228734,
          0.7350084447849522,
          0.7598208010798239,
          0.8142327600566927,
          0.8062687560414017,
          0.781480808051196,
          0.7667235278470234,
          0.786887262783841,
          0.8153296275830533,
          0.8416487698911093,
          0.8495576019155725,
          0.8503056371718363,
          0.8550838879123454,
          0.836725613932292,
          0.8036247871296206,
          0.7863758692849038,
          0.7966157942375136,
          0.7960812531671949,
          0.7961680973110867,
          0.7912877608667219,
          0.7759293587467273,
          0.7901580238170303,
          0.7996504646390639,
          0.7860887339917284,
          0.7962701141847431,
          0.7998559734774014,
          0.793603330315027,
          0.7912462974154395,
          0.7907013648542633,
          0.8319231040543553,
          0.835887067656609,
          0.8245053431495957,
          0.8119975368486199,
          0.7942212759596124,
          0.800305306705422,
          0.7991107153190958,
          0.7832788621181797,
          0.7687135119394777,
          0.7639198545522546,
          0.7456777902396398,
          0.751698369111958,
          0.7731784933620447,
          0.7657073450156746,
          0.7843443173230171,
          0.7865088927883992,
          0.827168487487034,
          0.825735013325911,
          0.8177805499468852,
          0.8124312398718683,
          0.8287032051114722,
          0.8288556520538832,
          0.8347156282621032,
          0.8244069930667727,
          0.7290217044329784,
          0.7324190468864422,
          0.7557505646567083,
          0.7835156040379134,
          0.7926319657885199,
          0.8134318640641873,
          0.7937723447646826,
          0.7643983432210877,
          0.731524271312622,
          0.7252746002003319,
          0.7341626545209574,
          0.7029985231811952,
          0.6475242857916735,
          0.6445348784769844,
          0.7475298619795495,
          0.7650443643036297,
          0.7813430213891516,
          0.768226140111401,
          0.7791780351063734,
          0.7694642581677937,
          0.7734245199239075,
          0.7771401955212279,
          0.7610226119204231,
          0.7813857096381664,
          0.7831258362857874
         ],
         "xaxis": "x",
         "yaxis": "y"
        },
        {
         "box": {
          "visible": true
         },
         "line": {
          "color": "rgb(30.0, 96.33333333333333, 99.66666666666667)"
         },
         "meanline": {
          "visible": false
         },
         "name": "0.005",
         "orientation": "h",
         "points": false,
         "side": "positive",
         "type": "violin",
         "width": 3,
         "x": [
          0.7562109632547652,
          0.7471046018544721,
          0.7916976419089722,
          0.8109108296699412,
          0.8544680548510273,
          0.8599337033204949,
          0.8773035401963001,
          0.8779984158304746,
          0.8838169943778601,
          0.8805634411672044,
          0.8636411458308393,
          0.8464379251554419,
          0.8395342050924972,
          0.8668767956837147,
          0.858474738534886,
          0.8597126003120007,
          0.8424288308920788,
          0.8413742081630536,
          0.8464031102599274,
          0.8394780729200255,
          0.8265708174068493,
          0.815892088834328,
          0.8199473886901741,
          0.8312181372822505,
          0.8223031015785897,
          0.6745600185093222,
          0.6970336535345905,
          0.7488387331798226,
          0.8304913343324866,
          0.844709055916288,
          0.8367823050072778,
          0.7948692629914204,
          0.6699105624279914,
          0.5542538980917288,
          0.5917799101282827,
          0.6174178418744154,
          0.6701344155248794,
          0.7009990832717689,
          0.6942569980566751,
          0.720791572208189,
          0.7026352404588289,
          0.6957630579946674,
          0.727875100468906,
          0.7027099602336622,
          0.6730683382457743,
          0.6897847464931987,
          0.7036966374019752,
          0.6565032382127393,
          0.6579064807310102,
          0.684623580679299,
          0.8675508319586182,
          0.7508267145813009,
          0.7903164700773831,
          0.8226641119150219,
          0.8005895687550774,
          0.7650060807517993,
          0.7418352387175836,
          0.7452209766135075,
          0.5852526556495337,
          0.5209129037767342,
          0.3385584536082715,
          0.2251318410136801,
          0.2643239571302554,
          0.3535574161900741,
          0.4755599827410857,
          0.7854119323570922,
          0.8462299178309355,
          0.8495519217254245,
          0.8658405027681446,
          0.8597176376491898,
          0.8705812871014337,
          0.8624600988141633,
          0.8600930654512494,
          0.8506875236115634,
          0.8613552835208154,
          0.6152454774971046,
          0.5875054253136262,
          0.4933250695103199,
          0.6235716330195077,
          0.6980946630739153,
          0.6980775169000936,
          0.6827856232205023,
          0.736558626993954,
          0.7761105005960807,
          0.7860634198010319,
          0.795940661661945,
          0.5222455224654637,
          0.416734068369656,
          0.765122507479518,
          0.7792978186569822,
          0.7857965940709265,
          0.7226937058990442,
          0.6702081632471201,
          0.6512688710741682,
          0.6880969052418328,
          0.7389873459466336,
          0.729890372582926,
          0.7263263608649694,
          0.7607716677322933,
          0.809977973889455,
          0.6943859160335109,
          0.7718807735650058,
          0.8410225995291121,
          0.8357498356902396,
          0.8602339015326416,
          0.8183058074475777,
          0.7347108413474118,
          0.7314376979423608,
          0.7176830948437412,
          0.6915916626750394,
          0.6797729727480349,
          0.6709140882885155,
          0.6437789835341275,
          0.6688041660043509,
          0.6682373361010309,
          0.6602764775674183,
          0.6841759976370037,
          0.6835515257746844,
          0.6933989127629783,
          0.7140131981853007,
          0.7071316763416243,
          0.6684484260199876,
          0.6340928875744949,
          0.6547726616476622,
          0.6701024198325897,
          0.8252536086639418,
          0.8141716797424557,
          0.8126643234771146,
          0.8004205005328602,
          0.8214264975843868,
          0.8086742341260262,
          0.7839192717485644,
          0.7836693768324013,
          0.7830847760266714,
          0.7865253427454275,
          0.7769396230173234,
          0.8236076658474536,
          0.8193410064398939,
          0.7982764532843123,
          0.8007510040105552,
          0.8321610574246789,
          0.8157245706355767,
          0.8202481772509799,
          0.8192487481855063,
          0.8249086606666856,
          0.8313509108642647,
          0.8342118691468788,
          0.8409767529009669,
          0.8413598858724314,
          0.86214097153627,
          0.7622917655910254,
          0.7441167631601175,
          0.7704942443805812,
          0.7923097481980425,
          0.8032111340486666,
          0.7904848041132059,
          0.7695851222526637,
          0.7552842400130897,
          0.7698659255856745,
          0.790719750440329,
          0.791359242493657,
          0.7745483611123186,
          0.7630754029470929,
          0.7586930411067491,
          0.7684357871161459,
          0.7505370285700156,
          0.7219601254555783,
          0.739183243925263,
          0.7245829025515426,
          0.7310207239825673,
          0.7403835221498355,
          0.7563626844430583,
          0.7770351342698795,
          0.7911310972658655,
          0.7792531473237303,
          0.8460993966022813,
          0.8515392101301255,
          0.8324513577768168,
          0.8347862678072197,
          0.8467133120129541,
          0.8635552726381859,
          0.8863371758872596,
          0.8946858452721576,
          0.8589602033173352,
          0.8465399536542274,
          0.8441469028080232,
          0.8530887881776845,
          0.8434668192379547,
          0.8152680482114338,
          0.8051175932534894,
          0.8259397825077731,
          0.822495549967389,
          0.8136795462573116,
          0.8186586597148003,
          0.824318499810908,
          0.8129234911830611,
          0.8121324554268696,
          0.8254230806853822,
          0.8266086800706467,
          0.8343185053328072,
          0.8450027316997567,
          0.8870133090840626,
          0.8971871974024913,
          0.880264132639475,
          0.8645529534971101,
          0.8401309482671919,
          0.8384553320914326,
          0.8420310133774416,
          0.8472278653105153,
          0.8419312062456333,
          0.8471129493902947,
          0.826904618659128,
          0.8367874631920605,
          0.8557417729537635,
          0.8460495360337823,
          0.8588131132040977,
          0.8646896057957072,
          0.8751549934272328,
          0.8812437525635414,
          0.8900903416458168,
          0.8978107288389304,
          0.8955772980493363,
          0.8809175739074794,
          0.8690492794736062,
          0.8651789710706956,
          0.7295535004714496,
          0.7307766907517431,
          0.7605675962567543,
          0.7880941197772575,
          0.7956172081193605,
          0.8230272320843116,
          0.8407791597442101,
          0.8313821115319626,
          0.8265346134262233,
          0.8252459971109565,
          0.8199097934499843,
          0.7884179957659093,
          0.7521028691782717,
          0.6873408502499103,
          0.7223137504861122,
          0.7661238308653285,
          0.7737810484396861,
          0.7584151363085956,
          0.7638977608131909,
          0.7628530224712902,
          0.7728932606471445,
          0.7638636146663644,
          0.7332570992300482,
          0.7406604834721917,
          0.732702602035438
         ],
         "xaxis": "x",
         "yaxis": "y"
        },
        {
         "box": {
          "visible": true
         },
         "line": {
          "color": "rgb(32.5, 87.5, 89.5)"
         },
         "meanline": {
          "visible": false
         },
         "name": "0.05",
         "orientation": "h",
         "points": false,
         "side": "positive",
         "type": "violin",
         "width": 3,
         "x": [
          0.6373326727743432,
          0.6467241436564569,
          0.7549017193740173,
          0.7855531972879567,
          0.8140051222920224,
          0.8273353374293085,
          0.8233030588788229,
          0.8169746086693666,
          0.8203089080913214,
          0.8154614300565931,
          0.7956511429817187,
          0.7597324165084867,
          0.7641869369101459,
          0.8250796446761095,
          0.811204081319683,
          0.8033292255855821,
          0.7938251518067727,
          0.8052409349359686,
          0.8102403876564989,
          0.8032325402560332,
          0.8039486924594521,
          0.8058949832651686,
          0.8130514737755912,
          0.792871316119166,
          0.7615233573422393,
          0.647806724693561,
          0.7608962635740463,
          0.7503683092263972,
          0.8428757143598078,
          0.8488667000163082,
          0.8293083861890728,
          0.800546917842178,
          0.7945000075588796,
          0.7697511556571714,
          0.7251838369499146,
          0.724293070277024,
          0.7107100758348044,
          0.7138124494385581,
          0.6978735832220622,
          0.7258182613611904,
          0.7395970775727262,
          0.7198140662227812,
          0.7623499844919575,
          0.7601680569044393,
          0.7041144090237108,
          0.6564397205481676,
          0.6925623209950758,
          0.6852978641029799,
          0.696075649488544,
          0.709210837563265,
          0.8871730910594128,
          0.8682468603124092,
          0.8897011763715469,
          0.8878371615019767,
          0.8439715416313072,
          0.8229090857226589,
          0.8230289255763892,
          0.8243782821004207,
          0.7697123669843497,
          0.7033745223397128,
          0.6654112086554832,
          0.6030739089460736,
          0.6099168834109602,
          0.6969170487618236,
          0.763896106370866,
          0.8421460202283853,
          0.8583303963883328,
          0.8619820946158863,
          0.8847827266736977,
          0.8779365377273272,
          0.8796943886983773,
          0.8713131408191295,
          0.8695498731297528,
          0.8617578437128065,
          0.8577669773500115,
          0.872066066005552,
          0.7376268249679249,
          0.7437437022692838,
          0.7744823174592058,
          0.8087334549937318,
          0.8265084771910061,
          0.8093801871382755,
          0.8382517465470751,
          0.8388275957269937,
          0.8452434512759888,
          0.820103673771781,
          0.8028138860681918,
          0.8462130576916539,
          0.8476073977014219,
          0.853302359664972,
          0.8435414408451616,
          0.8549966940403717,
          0.8657300734612703,
          0.8444436272522643,
          0.8420837282476022,
          0.8278880423711842,
          0.8256341494364191,
          0.8166019852461661,
          0.8164486620289052,
          0.8401209504240494,
          0.7326833972829144,
          0.686999553758556,
          0.7768886690059097,
          0.834088596608525,
          0.8499362913526934,
          0.8516360998049847,
          0.8009849327637011,
          0.7984278730678774,
          0.8036586903995461,
          0.7734149712913486,
          0.7656024075082778,
          0.761789457945306,
          0.7361923503065138,
          0.7093233592925025,
          0.6893908649557569,
          0.735741143377665,
          0.7835852006228075,
          0.7792529017778292,
          0.7769838219470326,
          0.7810347128634251,
          0.7910251896102711,
          0.7608838327798159,
          0.7076974912442686,
          0.6856774403550265,
          0.6770345970269843,
          0.8549732679259764,
          0.8333036914505869,
          0.8465406114591322,
          0.8320853445647782,
          0.8762515885277671,
          0.8751921785344959,
          0.8600107996668087,
          0.8579368945242702,
          0.8577125880529669,
          0.8637243250301336,
          0.8525108269429952,
          0.8716096810069233,
          0.8657121664385349,
          0.8411513322094013,
          0.8342557451396563,
          0.8558340982522564,
          0.8535905109113476,
          0.8547000743299759,
          0.8527784174217311,
          0.8612303199726136,
          0.8613438640673678,
          0.8548999604496489,
          0.8519938536431385,
          0.8574099999762564,
          0.8686591924368228,
          0.7053294457934735,
          0.6994558133020071,
          0.699616234506741,
          0.7195555372651221,
          0.7348956770246805,
          0.7505084569599102,
          0.7338870701420893,
          0.7239152108647144,
          0.7310789723995194,
          0.7465858987951303,
          0.744314545857873,
          0.7386628378863354,
          0.7504539716065983,
          0.7520430145036913,
          0.7571425779459566,
          0.725894709124847,
          0.7068920540944826,
          0.7078618784344793,
          0.7002823761427782,
          0.7036317516645102,
          0.6982184429832936,
          0.6957838218483632,
          0.6929924980675343,
          0.7055724875339715,
          0.7024368127701872,
          0.8537024510296358,
          0.8639547255372706,
          0.8407095363865076,
          0.8628308463478644,
          0.8609932504659008,
          0.8703787437855396,
          0.891728994535407,
          0.9069396519975124,
          0.9021678212934704,
          0.896705904059143,
          0.8716405450349005,
          0.8407747076779901,
          0.8215933861507795,
          0.8087027690813015,
          0.790663262344655,
          0.8095580222613858,
          0.796029794088457,
          0.7847592879205406,
          0.7897018610737786,
          0.7824187209276169,
          0.7800893425751907,
          0.7637346532881244,
          0.7650967976422455,
          0.7684518403363783,
          0.7960660779410444,
          0.8730408260022631,
          0.897422457079582,
          0.8954920316814627,
          0.8875822279432145,
          0.8764438719304346,
          0.8570404814836313,
          0.8631696830079773,
          0.8450640267586229,
          0.8399081080368468,
          0.8146059482172139,
          0.8175821164113163,
          0.8077965125642045,
          0.8127105272714983,
          0.8245460817970296,
          0.8295978676585704,
          0.8773930736901582,
          0.8675525109063971,
          0.9070812037093291,
          0.9035137088790322,
          0.9009868697529262,
          0.9035779356189326,
          0.8913343784837361,
          0.8985113895412719,
          0.9051114250918966,
          0.8935084060273306,
          0.7818946222864052,
          0.7894955134548853,
          0.7955822369196466,
          0.8278261362323808,
          0.8439980017886703,
          0.857907756837054,
          0.8506005640518329,
          0.8300520633214138,
          0.8433414490418506,
          0.8473639274821798,
          0.831960155085422,
          0.7983802783287404,
          0.7475851124618204,
          0.7157094025445307,
          0.7894695058068715,
          0.8370408795514427,
          0.8371291267296596,
          0.8126081794187603,
          0.8060977345733329,
          0.8026585512248082,
          0.7949632447112462,
          0.7826108673328321,
          0.764675916353171,
          0.7893317034092328,
          0.8047688817753266
         ],
         "xaxis": "x",
         "yaxis": "y"
        },
        {
         "box": {
          "visible": true
         },
         "line": {
          "color": "rgb(35.0, 78.66666666666666, 79.33333333333334)"
         },
         "meanline": {
          "visible": false
         },
         "name": "0.1",
         "orientation": "h",
         "points": false,
         "side": "positive",
         "type": "violin",
         "width": 3,
         "x": [
          0.7396684839818917,
          0.7264292695675968,
          0.7976516311785449,
          0.8187902712477689,
          0.8436421658139341,
          0.8504641560057351,
          0.8544445674624271,
          0.8499726596166532,
          0.8622162092506241,
          0.8767933652744064,
          0.8734997413297702,
          0.8609144456742834,
          0.8539728868303035,
          0.8378366521846131,
          0.8195447785837038,
          0.8275088924833508,
          0.8124450209367815,
          0.8159071484707996,
          0.8200315884123756,
          0.8108700056169243,
          0.7922294367971542,
          0.7850356955948846,
          0.7577786036561047,
          0.7916520700350247,
          0.7866201451332284,
          0.7751940367804149,
          0.792624216225228,
          0.8103591904330081,
          0.8920221562497302,
          0.8639460409827197,
          0.8738356460401593,
          0.8628801418055114,
          0.8492266308406082,
          0.8175943608498782,
          0.8253960563623662,
          0.8312680408236496,
          0.8191263947736105,
          0.8286999084854638,
          0.7623788018105047,
          0.7736404893898172,
          0.8207158346556889,
          0.8092533612436043,
          0.8098833665437517,
          0.7752096013293507,
          0.7720996093884559,
          0.7449339767645454,
          0.748982707217849,
          0.7017812232904188,
          0.7133525241944455,
          0.7351218071365861,
          0.8413189749394473,
          0.8276967917494233,
          0.8599126662882572,
          0.8684779533161064,
          0.8692643103954156,
          0.8484998665627671,
          0.8295241666158336,
          0.8274836563621591,
          0.7652306200450755,
          0.6427822750045331,
          0.32554423700206464,
          0.20079659778804043,
          0.29266255839036387,
          0.5119052600613192,
          0.7218819418753479,
          0.8585780276119245,
          0.8617303223618736,
          0.8441660680090259,
          0.8593806834096661,
          0.8459758769920597,
          0.8433413877819949,
          0.8333065904668852,
          0.8034245678663133,
          0.7854237915950115,
          0.8009421812432447,
          0.8765506727458484,
          0.7242802791970899,
          0.7347630974886247,
          0.8432849394860978,
          0.8676888100404929,
          0.8903213387913237,
          0.8449731727571802,
          0.8307235678324417,
          0.8177419461824093,
          0.7884955354483957,
          0.8000160619159677,
          0.8192273680824154,
          0.8579122655371642,
          0.8383367976167571,
          0.8605976170868114,
          0.890500395125835,
          0.8797604847308887,
          0.8371693193953997,
          0.7912002425858463,
          0.7711009021255328,
          0.7474238936227385,
          0.7536161343726557,
          0.7587606097801723,
          0.7616087934287792,
          0.7735946291160444,
          0.803827503817672,
          0.8371431123845026,
          0.9104425854365364,
          0.8938382508304517,
          0.8808689291169903,
          0.8628914408487868,
          0.8293835303308122,
          0.8539900425210722,
          0.8734909307455151,
          0.8572163068512071,
          0.8444224546592983,
          0.8292284799532189,
          0.7953301115788057,
          0.7911055123154991,
          0.7594646663823248,
          0.7243095368989382,
          0.7446224618432243,
          0.7164430865603859,
          0.7092518967987075,
          0.7131445558100443,
          0.7019280645171818,
          0.6712280797254289,
          0.6495509929233573,
          0.6433880331175491,
          0.6332690338343829,
          0.8402304055997492,
          0.7947928189301221,
          0.80215986781629,
          0.8177184485865405,
          0.870248274753215,
          0.8618698066316058,
          0.836433813480508,
          0.8442236982640694,
          0.8471342101169788,
          0.8410578430897137,
          0.8306237842677482,
          0.8688577223851673,
          0.8762211935761173,
          0.8702598752850293,
          0.8590114906972405,
          0.8721014764939075,
          0.8547059823591735,
          0.838638111834326,
          0.8300222884264643,
          0.8227499936937719,
          0.8294162739224746,
          0.8226702185751582,
          0.8141152497743687,
          0.8201445429823163,
          0.8376145860373773,
          0.776714510776645,
          0.747270490439751,
          0.7544694607100927,
          0.7722888947478562,
          0.7751328101491546,
          0.777239610187725,
          0.7591191109799204,
          0.76249418488292,
          0.7821571335565953,
          0.8005293707905952,
          0.7974263946707492,
          0.7798411654817933,
          0.7694685274266906,
          0.7637740622627508,
          0.7754907650048227,
          0.758900114345805,
          0.7279135612974726,
          0.7299271596097914,
          0.7245406752208059,
          0.7320680413894576,
          0.7386808968579195,
          0.7453893423350226,
          0.7516070654397313,
          0.7614277679373305,
          0.7755667832665558,
          0.7860111016555164,
          0.8186794325376533,
          0.8118411272102104,
          0.8171068562782987,
          0.8262388063498537,
          0.8444976963791945,
          0.8635820711472735,
          0.8794165828865504,
          0.8470072557442265,
          0.8143448894531126,
          0.8135650897167038,
          0.8442552744010678,
          0.8333322813931973,
          0.8261343122418167,
          0.8049759438414154,
          0.7697443761034932,
          0.7358386617759864,
          0.7251668026756939,
          0.730670894495838,
          0.7291216872769815,
          0.7203520230394908,
          0.7003902003376973,
          0.7143893273233046,
          0.7484319754865133,
          0.7601477663745739,
          0.867525700405234,
          0.8863664111363306,
          0.8745956529268757,
          0.8684337678448455,
          0.8644177325287514,
          0.8484273330449356,
          0.8431001248829154,
          0.8434340585329911,
          0.8332532491761898,
          0.8166196633388777,
          0.8128295536810441,
          0.8013668857223611,
          0.8023412965165136,
          0.8146201306650813,
          0.8244800883562566,
          0.8379845569860607,
          0.8517021945088833,
          0.8993976856161101,
          0.8917733610362037,
          0.898548476668541,
          0.8932989237595671,
          0.9006890621319746,
          0.8969641372842886,
          0.8935920898389972,
          0.8929963824537436,
          0.7585798116467246,
          0.7388705725505769,
          0.766503810347402,
          0.7900346553223181,
          0.8140274184073155,
          0.8568620520093578,
          0.8518111816909366,
          0.8356635539813447,
          0.8215411591774959,
          0.8008145315322691,
          0.7977626683491915,
          0.7770062505448283,
          0.7444233024248169,
          0.7282600823736156,
          0.7748952752171911,
          0.8044022986755817,
          0.8016894634935309,
          0.7648942912869322,
          0.7435368738758227,
          0.7364102437114114,
          0.7368835997310139,
          0.7115818885818089,
          0.6792668418066204,
          0.7090963281352346,
          0.742348779424445
         ],
         "xaxis": "x",
         "yaxis": "y"
        },
        {
         "box": {
          "visible": true
         },
         "line": {
          "color": "rgb(37.5, 69.83333333333333, 69.16666666666667)"
         },
         "meanline": {
          "visible": false
         },
         "name": "0.5",
         "orientation": "h",
         "points": false,
         "side": "positive",
         "type": "violin",
         "width": 3,
         "x": [
          0.5987313814481774,
          0.6016588986357306,
          0.6781673362919574,
          0.745197100971077,
          0.7630798463984587,
          0.7963315777212355,
          0.7876016916995545,
          0.7919470201678499,
          0.7797805560086181,
          0.7611840467328324,
          0.765393646435975,
          0.7694564646811275,
          0.7780763086154122,
          0.7859513091102192,
          0.7726544962087005,
          0.7492382471379208,
          0.7408187157147017,
          0.7449198511504361,
          0.7501978704516014,
          0.7548764012463173,
          0.7500090146297389,
          0.747538136730353,
          0.7331174779044927,
          0.7122181395419416,
          0.7080980027752294,
          0.6960103505446299,
          0.6958054358690824,
          0.6863117581467277,
          0.7255106325262188,
          0.7424832951245962,
          0.7429732298781287,
          0.7352830778513019,
          0.7170165941238797,
          0.6105657043350998,
          0.5573500576318035,
          0.6408711561323177,
          0.6587678343581717,
          0.658524022018703,
          0.6397847557253493,
          0.6712422314836181,
          0.6891795092393772,
          0.6774188056058053,
          0.6752015108475213,
          0.6710130198987128,
          0.6557643087636442,
          0.6420313019379538,
          0.6555506783596123,
          0.6545961242298761,
          0.6469540368410102,
          0.651283239820689,
          0.8065830882907113,
          0.7701693459933654,
          0.7897689698710993,
          0.7995994495091701,
          0.7724058033362676,
          0.7466169001334104,
          0.7391297911489948,
          0.7407886764462298,
          0.7139779248359719,
          0.6723013329200123,
          0.6490342799166872,
          0.6466099966837924,
          0.6255051024590873,
          0.7268187249512377,
          0.7811627915256382,
          0.7797282676773667,
          0.7886373572911721,
          0.7836734370573079,
          0.7940271591114402,
          0.7870922273925539,
          0.7917775655235253,
          0.7952653604784354,
          0.7856750883205789,
          0.7794082035217307,
          0.7826366824148802,
          0.8032714408861156,
          0.618685812886008,
          0.6921480304193732,
          0.7447581661109003,
          0.7648240963704693,
          0.7693930753516247,
          0.7315020239535301,
          0.7136123405417141,
          0.7042418795170684,
          0.6989021405621728,
          0.746596254647577,
          0.7449359706128893,
          0.7502351406148406,
          0.767645715795834,
          0.780668200512067,
          0.7719038654275151,
          0.7888374492932045,
          0.7865638958922611,
          0.7799968071282579,
          0.7663268687172875,
          0.7549688188768783,
          0.7469330714941858,
          0.7357264548351427,
          0.7534825396706542,
          0.7695842648805955,
          0.7526853680867696,
          0.6921160831726183,
          0.7552423800277079,
          0.7878781757298299,
          0.7972165223029044,
          0.7891960636949326,
          0.745757441855856,
          0.7385069210317816,
          0.7381140971526546,
          0.7223031662846608,
          0.716048086809613,
          0.7123921859945117,
          0.6805946705345626,
          0.6751498122067855,
          0.658840841653468,
          0.6819820547231445,
          0.7412316501572104,
          0.7322395280507435,
          0.7447974829739643,
          0.762093587935041,
          0.7645205338312225,
          0.7433622008931601,
          0.6927944706598849,
          0.6690750319260418,
          0.6581319409251005,
          0.7518440816686298,
          0.7512994424682173,
          0.7403927293546996,
          0.7430687171680747,
          0.7747092784598122,
          0.7790069470249469,
          0.7605864463174653,
          0.754680241974668,
          0.7404996439072616,
          0.7393626343575588,
          0.7294376636127985,
          0.7587774532851435,
          0.748399856862452,
          0.7207268365735432,
          0.7095216749797975,
          0.7422460594912594,
          0.7501887337058702,
          0.7518845868270487,
          0.7582751829789888,
          0.7557485460469668,
          0.7567932797968024,
          0.7511026068537825,
          0.7559684081915553,
          0.7586514768322766,
          0.7681667397581887,
          0.6873974801700183,
          0.6502407536421078,
          0.6294992892814357,
          0.671662096780603,
          0.6810558841237524,
          0.6828124136137469,
          0.6745381866051054,
          0.6610859006111162,
          0.6709074179237712,
          0.69098271058103,
          0.6942950096552457,
          0.678536516844418,
          0.6560053136249792,
          0.6558344717685856,
          0.6633071482858878,
          0.654219483155147,
          0.6347002377623119,
          0.6474647410221137,
          0.6473612390749082,
          0.6620314726986763,
          0.6643475607422186,
          0.6746322217649643,
          0.6736702380412171,
          0.6920294094973147,
          0.7018996210648605,
          0.7732492993416946,
          0.7695328682417663,
          0.7830226741167041,
          0.7937540374377795,
          0.7906336879286362,
          0.7947669640391911,
          0.8121836987774578,
          0.8205937446047163,
          0.8061105508324856,
          0.7883091035494039,
          0.7836631830984742,
          0.7800258067596756,
          0.7736699719993755,
          0.7746220737168793,
          0.7597456961273807,
          0.7622593719239126,
          0.7551568666746596,
          0.7530747598273096,
          0.7615434460768743,
          0.7614732940896353,
          0.7521100822556546,
          0.7538881787347324,
          0.7476876062772335,
          0.7517273700791552,
          0.7481398888797159,
          0.7676788557936522,
          0.7924073486384489,
          0.776426635702528,
          0.7608863277621075,
          0.7715750039360693,
          0.7604371477051162,
          0.7570938216276697,
          0.745818702307093,
          0.7438169992805991,
          0.7328650716157273,
          0.725331541093453,
          0.7118519073711875,
          0.7114219513534985,
          0.7236379652843746,
          0.7407250763684674,
          0.7568278808825207,
          0.757068279778586,
          0.7955755292045342,
          0.7932552109234309,
          0.789662773542825,
          0.7873075945907917,
          0.7944784600375722,
          0.7972565949539893,
          0.7982382292551261,
          0.7868494894694675,
          0.7010885054628065,
          0.7314943391392928,
          0.7514229249443053,
          0.7840506978008072,
          0.7983111121120549,
          0.8043192658440325,
          0.8014433063937979,
          0.7839220717047054,
          0.7795832020741967,
          0.763420426019816,
          0.7540245421235297,
          0.7321246566548901,
          0.7182773292071205,
          0.7088036810234636,
          0.7568978437947675,
          0.7694135269337834,
          0.7638655067605168,
          0.7542415654555554,
          0.7593448182037199,
          0.7544741037695186,
          0.7601284110703012,
          0.7545474013088077,
          0.7466377554098308,
          0.7555444177999869,
          0.7620253400567628
         ],
         "xaxis": "x",
         "yaxis": "y"
        },
        {
         "box": {
          "visible": true
         },
         "line": {
          "color": "rgb(40.0, 61.0, 59.0)"
         },
         "meanline": {
          "visible": false
         },
         "name": "1.0",
         "orientation": "h",
         "points": false,
         "side": "positive",
         "type": "violin",
         "width": 3,
         "x": [
          0.44313354257446247,
          0.44646650850252617,
          0.5198316763455666,
          0.5636048258203866,
          0.5959654985311217,
          0.609563611614241,
          0.6174256118876863,
          0.6164934789555493,
          0.6151482089675153,
          0.618299957044931,
          0.6144763192396646,
          0.5861789629854408,
          0.5972526364272142,
          0.5964181833850809,
          0.5553769436584044,
          0.5499294546499792,
          0.5354341589778754,
          0.5389753157050732,
          0.5438293709636042,
          0.5433223768527417,
          0.5385076126880611,
          0.537563227403607,
          0.5284195656158693,
          0.5258018315760727,
          0.5218302971963628,
          0.45230581496698247,
          0.46623057978145993,
          0.47909939327488854,
          0.5243400462466852,
          0.5250847809897019,
          0.5562001357604089,
          0.5478097533167964,
          0.48747347991342327,
          0.41644891715971616,
          0.47803117723691835,
          0.5137230120293552,
          0.5324220144771701,
          0.5184996753261017,
          0.46301072433306817,
          0.4773792517805681,
          0.4913077448256531,
          0.4857000196783536,
          0.49956251786745237,
          0.46978254497732197,
          0.43725910502765597,
          0.42461687809064197,
          0.4396328925648455,
          0.4633389252490455,
          0.4619492665691127,
          0.47156298257248874,
          0.5741158644290204,
          0.5544051739715062,
          0.5806913762725177,
          0.5665972050278678,
          0.5503118123095394,
          0.5438665528962668,
          0.5541722974248434,
          0.5581703822635504,
          0.5383516196685472,
          0.5264877811675718,
          0.5403666117434598,
          0.49760666892166244,
          0.5253892255767791,
          0.57362056436012,
          0.5746038729457987,
          0.5937027813088408,
          0.5985116214992118,
          0.5893782764541289,
          0.5950284603613776,
          0.5918287532406399,
          0.5944407513791863,
          0.589534424249869,
          0.5818670701333614,
          0.5780767745461782,
          0.5826316740774181,
          0.5482034763588177,
          0.5090880924699857,
          0.5198918432920931,
          0.5445348927697922,
          0.579849603434005,
          0.5655136773034164,
          0.5487048450865116,
          0.5660541875946958,
          0.5707355261254066,
          0.5883538375545472,
          0.5786095218607267,
          0.5731576357223904,
          0.561091062154574,
          0.5700219385228645,
          0.5964485619592864,
          0.6045164239151728,
          0.6129892417881867,
          0.6061054498552957,
          0.5966288064275616,
          0.5855529016836057,
          0.580287470836328,
          0.580952464454992,
          0.5776657280852027,
          0.5801129376360484,
          0.5859721052502455,
          0.5145316585767052,
          0.5151499293766338,
          0.5387854170370698,
          0.5514270168410229,
          0.5686188474787665,
          0.56312421422131,
          0.5106592464897121,
          0.49949561992217983,
          0.5216272458677079,
          0.5129936866061411,
          0.5268807531097236,
          0.5390444666192014,
          0.5108034365147813,
          0.5233437760113996,
          0.5065691996367576,
          0.5255992820337121,
          0.5608105070780055,
          0.5565804185977373,
          0.5588173076150651,
          0.5661516280778113,
          0.5650568030796722,
          0.5211100463616483,
          0.4748102481497968,
          0.48485604776034574,
          0.47582082685094534,
          0.5829591999054454,
          0.5339459417491936,
          0.54590347813628,
          0.5536362475844884,
          0.5679630858149313,
          0.5716964058976007,
          0.5664849319407941,
          0.5654741019728544,
          0.5465849204639966,
          0.5319866563271155,
          0.5176437126792645,
          0.544518667931071,
          0.5745360015045068,
          0.5746783927166954,
          0.5771842174864273,
          0.6008043100638442,
          0.576269767788978,
          0.5556800192018969,
          0.5505533069409044,
          0.5591040235504819,
          0.5591958694641666,
          0.5491892554094139,
          0.5475627783482947,
          0.5553793638602319,
          0.5805579109721781,
          0.5771840553317774,
          0.5598738975329521,
          0.5750181994613132,
          0.5852261788114529,
          0.5915595885915776,
          0.586098042448387,
          0.5830817927875104,
          0.5783483229353884,
          0.5867080313803402,
          0.5896816947095628,
          0.5777473031261755,
          0.5724145487208416,
          0.5697490138183993,
          0.5686759302002502,
          0.5744890355240195,
          0.5628257746761228,
          0.5443290028480543,
          0.5432139416761883,
          0.5627300053597247,
          0.5632398338970954,
          0.5648944261333895,
          0.5615266743749938,
          0.5569556531447759,
          0.5701666826548941,
          0.5740105784040495,
          0.5817294449873479,
          0.5946137179938491,
          0.5876882675610166,
          0.6110084928500338,
          0.6115201678585646,
          0.6081003303998385,
          0.6190631035097625,
          0.6197844843491955,
          0.6083867327851015,
          0.5947311532292406,
          0.5878289944125954,
          0.5940163469161526,
          0.6052154992154737,
          0.5830165252820789,
          0.5542213187321181,
          0.566360164030079,
          0.5692181811465072,
          0.573242608385964,
          0.5850936011185964,
          0.580573899101494,
          0.5674280698481962,
          0.5713059079801835,
          0.5744811992984306,
          0.575853743230026,
          0.5728017746291779,
          0.5995606695171668,
          0.6138485787764425,
          0.6069526413813514,
          0.6051032768317439,
          0.5930230933021661,
          0.5806618616355521,
          0.583460083190398,
          0.5777817141113764,
          0.5722438752325762,
          0.5698210229109657,
          0.5676243060143175,
          0.5554857252309987,
          0.5560864262178593,
          0.5728999749879264,
          0.5632723991579714,
          0.5730378847872956,
          0.5766518216696571,
          0.6053523002172118,
          0.6087001987327963,
          0.6090970339559512,
          0.6121430066334151,
          0.6197828196828827,
          0.6123388602721916,
          0.6116035062322408,
          0.6067387701217231,
          0.49154551276610486,
          0.49676879938978913,
          0.5360494422388119,
          0.5625115248377339,
          0.5846172395522532,
          0.5907989593455553,
          0.5961710709181969,
          0.5835990556776611,
          0.5753403087623303,
          0.5683030358782482,
          0.5650451731657218,
          0.5456088740719224,
          0.5456064359409146,
          0.515557468954855,
          0.5529353679218283,
          0.5596354410087384,
          0.564760927081435,
          0.5519594998216183,
          0.5406022124741647,
          0.5357663252506634,
          0.5308533530314439,
          0.5139787139246444,
          0.4934928087978995,
          0.4895194826566521,
          0.4928615805377702
         ],
         "xaxis": "x",
         "yaxis": "y"
        },
        {
         "box": {
          "visible": true
         },
         "line": {
          "color": "rgb(25.0, 114.0, 120.0)"
         },
         "meanline": {
          "visible": false
         },
         "name": "0.0",
         "orientation": "h",
         "points": false,
         "side": "positive",
         "type": "violin",
         "width": 3,
         "x": [
          8.32993147695132,
          5.7142858505248,
          4.517539622232711,
          4.224438359556306,
          4.517539622232711,
          4.770838837012164,
          5.15078765918138,
          5.15078765918138,
          5.15078765918138,
          5.89015103417155,
          4.517539622232711,
          4.517539622232711,
          5.15078765918138,
          4.040610274544425,
          4.517539622232711,
          4.517539622232711,
          5.15078765918138,
          4.517539622232711,
          4.517539622232711,
          5.15078765918138,
          5.15078765918138,
          5.15078765918138,
          5.696864310762528,
          5.89015103417155,
          6.208448087542844,
          27.41181075505779,
          11.4285717010496,
          10.0000002384184,
          7.693092765038203,
          7.529581164830228,
          9.035079244465422,
          10.0000002384184,
          26.609839293247024,
          35.9190227948738,
          36.58928222911493,
          42.70137568588855,
          38.06701374152937,
          9.583148703478992,
          10.0000002384184,
          10.0000002384184,
          8.5714287757872,
          10.879676124911361,
          9.645676433719894,
          11.401126922242682,
          14.708043409219668,
          14.568627529036549,
          13.170778110148273,
          15.7142860889432,
          17.231886519687635,
          14.811383674486027,
          4.2857143878936,
          5.15078765918138,
          4.2857143878936,
          4.040610274544425,
          4.517539622232711,
          5.15078765918138,
          5.15078765918138,
          5.15078765918138,
          5.89015103417155,
          7.142857313156,
          7.468264314752237,
          7.142857313156,
          7.220658361405248,
          5.7142858505248,
          5.7142858505248,
          3.194382901159664,
          3.321317007167359,
          4.040610274544425,
          4.040610274544425,
          3.194382901159664,
          3.194382901159664,
          3.194382901159664,
          3.194382901159664,
          4.040610274544425,
          4.040610274544425,
          11.517511343596583,
          4.2857143878936,
          7.638069219849985,
          6.388765802319328,
          5.15078765918138,
          4.2857143878936,
          4.517539622232711,
          4.549202024080134,
          5.15078765918138,
          5.15078765918138,
          4.2857143878936,
          6.208448087542844,
          6.388765802319328,
          5.7142858505248,
          4.2857143878936,
          4.517539622232711,
          4.040610274544425,
          4.2857143878936,
          5.7142858505248,
          5.7142858505248,
          6.388765802319328,
          7.142857313156,
          7.142857313156,
          7.142857313156,
          5.872564515806876,
          5.7142858505248,
          2.8571429252624,
          4.175417536886466,
          2.8571429252624,
          3.194382901159664,
          4.320488173044468,
          5.15078765918138,
          5.15078765918138,
          5.15078765918138,
          5.055800453639075,
          5.7142858505248,
          5.488886573987429,
          6.388765802319328,
          7.142857313156,
          6.91662985990499,
          7.142857313156,
          7.693092765038203,
          8.5714287757872,
          7.6726538150122,
          7.142857313156,
          8.202563734568685,
          9.803449347367591,
          12.528224220564768,
          14.285714626312,
          15.370588520971193,
          4.040610274544425,
          4.517539622232711,
          4.1141415085491735,
          4.517539622232711,
          5.15078765918138,
          5.460711664420251,
          5.15078765918138,
          5.15078765918138,
          5.7142858505248,
          5.7142858505248,
          5.898689253053802,
          5.89015103417155,
          6.388765802319328,
          6.043838974052129,
          6.331400887151478,
          5.758252146436488,
          5.7142858505248,
          5.7142858505248,
          4.517539622232711,
          4.320488173044468,
          4.2857143878936,
          4.040610274544425,
          4.040610274544425,
          4.040610274544425,
          4.089631097214257,
          8.5714287757872,
          8.689660964746386,
          9.614031840837203,
          8.948724674535663,
          10.0000002384184,
          10.0000002384184,
          10.0000002384184,
          10.0000002384184,
          10.0000002384184,
          8.5714287757872,
          8.5714287757872,
          7.884144378612127,
          8.378230936718492,
          8.5714287757872,
          8.39030580166029,
          9.583148703478992,
          10.0000002384184,
          10.0000002384184,
          10.0000002384184,
          8.689660964746386,
          8.5714287757872,
          8.438605261427464,
          8.40238066660208,
          7.693092765038203,
          7.820460507420819,
          4.273459182226139,
          4.040610274544425,
          4.040610274544425,
          3.194382901159664,
          3.0594869108007567,
          2.8571429252624,
          2.8571429252624,
          2.9583149180315735,
          3.490562481844325,
          3.194382901159664,
          3.194382901159664,
          3.194382901159664,
          4.040610274544425,
          4.2857143878936,
          4.2857143878936,
          4.040610274544425,
          4.390035743346198,
          4.517539622232711,
          4.3436706964783784,
          4.517539622232711,
          5.15078765918138,
          5.15078765918138,
          4.517539622232711,
          4.517539622232711,
          4.517539622232711,
          5.793425183165836,
          4.040610274544425,
          4.040610274544425,
          4.2857143878936,
          4.2857143878936,
          6.060915411816636,
          5.89015103417155,
          5.15078765918138,
          5.89015103417155,
          6.388765802319328,
          6.388765802319328,
          6.5018795289448335,
          7.142857313156,
          5.740665628071814,
          5.15078765918138,
          4.517539622232711,
          4.2857143878936,
          3.194382901159664,
          3.194382901159664,
          4.2857143878936,
          4.2857143878936,
          4.2857143878936,
          5.15078765918138,
          5.15078765918138,
          5.15078765918138,
          7.570459064882219,
          7.142857313156,
          5.7142858505248,
          4.517539622232711,
          4.040610274544425,
          3.9982989058751772,
          4.2857143878936,
          5.15078765918138,
          5.7142858505248,
          75.81063254516141,
          74.85767082722667,
          21.90341797032156,
          6.501879528944811,
          7.142857313156,
          5.7142858505248,
          5.15078765918138,
          5.15078765918138,
          5.7142858505248,
          5.657936031390445,
          5.7142858505248,
          5.629761121823284,
          5.15078765918138,
          5.7142858505248,
          5.7142858505248,
          70.56622474087699
         ],
         "xaxis": "x2",
         "yaxis": "y2"
        },
        {
         "box": {
          "visible": true
         },
         "line": {
          "color": "rgb(27.5, 105.16666666666667, 109.83333333333333)"
         },
         "meanline": {
          "visible": false
         },
         "name": "0.001",
         "orientation": "h",
         "points": false,
         "side": "positive",
         "type": "violin",
         "width": 3,
         "x": [
          6.577288680028496,
          6.060915411816636,
          5.15078765918138,
          4.2857143878936,
          4.2857143878936,
          3.194382901159664,
          3.194382901159664,
          3.194382901159664,
          3.194382901159664,
          4.05286548021188,
          4.040610274544425,
          4.040610274544425,
          4.040610274544425,
          3.194382901159664,
          3.194382901159664,
          4.2857143878936,
          4.675851631469878,
          4.2857143878936,
          4.273459182226139,
          4.2857143878936,
          4.2857143878936,
          4.517539622232711,
          4.401627005063156,
          4.2857143878936,
          4.517539622232711,
          10.101525686361061,
          7.2843137645182745,
          5.89015103417155,
          3.321317007167359,
          3.194382901159664,
          4.040610274544425,
          4.2857143878936,
          4.401627005063156,
          4.517539622232711,
          5.15078765918138,
          94.76601711100233,
          6.060915411816636,
          5.89015103417155,
          7.270168119382044,
          7.142857313156,
          5.7142858505248,
          4.517539622232711,
          4.2857143878936,
          5.119125257333939,
          6.388765802319328,
          6.060915411816636,
          5.7142858505248,
          7.2843137645182745,
          7.693092765038203,
          7.693092765038203,
          3.194382901159664,
          4.3436706964783784,
          3.194382901159664,
          3.194382901159664,
          4.040610274544425,
          4.2857143878936,
          4.101886302881719,
          4.040610274544425,
          4.517539622232711,
          5.15078765918138,
          5.89015103417155,
          5.15078765918138,
          5.802218442348176,
          3.194382901159664,
          2.8571429252624,
          4.040610274544425,
          4.040610274544425,
          3.913676168536706,
          3.194382901159664,
          3.575185219182797,
          3.194382901159664,
          3.194382901159664,
          2.8571429252624,
          3.194382901159664,
          3.194382901159664,
          8.40238066660208,
          12.460009714322997,
          12.825298540063942,
          7.142857313156,
          4.739176435164741,
          4.2857143878936,
          5.7142858505248,
          6.060915411816636,
          5.89015103417155,
          7.142857313156,
          4.517539622232711,
          4.517539622232711,
          5.15078765918138,
          4.2857143878936,
          3.2790056384981354,
          4.2857143878936,
          4.2857143878936,
          5.15078765918138,
          4.2857143878936,
          4.065120685879341,
          4.2857143878936,
          4.2857143878936,
          4.2857143878936,
          4.2857143878936,
          2.8571429252624,
          4.040610274544425,
          4.2857143878936,
          3.194382901159664,
          2.8571429252624,
          2.8571429252624,
          3.194382901159664,
          4.040610274544425,
          4.834163640707045,
          5.9915894995582635,
          5.629761121823284,
          6.388765802319328,
          7.142857313156,
          6.388765802319328,
          5.15078765918138,
          5.15078765918138,
          4.040610274544425,
          4.2857143878936,
          5.7142858505248,
          5.828598219895189,
          5.7142858505248,
          4.413218266780107,
          4.2857143878936,
          4.2857143878936,
          4.2857143878936,
          4.2857143878936,
          4.040610274544425,
          5.749458887254148,
          7.142857313156,
          5.15078765918138,
          4.2857143878936,
          3.2366942698288876,
          4.101886302881719,
          4.040610274544425,
          4.040610274544425,
          4.040610274544425,
          4.517539622232711,
          3.194382901159664,
          4.05286548021188,
          7.142857313156,
          7.142857313156,
          6.208448087542844,
          5.7142858505248,
          5.15078765918138,
          5.15078765918138,
          4.517539622232711,
          5.15078765918138,
          5.15078765918138,
          4.517539622232711,
          4.517539622232711,
          4.517539622232711,
          8.5714287757872,
          7.2843137645182745,
          5.872564515806876,
          5.7142858505248,
          5.863771256624537,
          7.142857313156,
          7.2843137645182745,
          8.5714287757872,
          7.225392630938334,
          7.142857313156,
          7.406947464674246,
          8.5714287757872,
          8.5714287757872,
          8.583251994683119,
          8.5714287757872,
          9.391324392824247,
          10.060915507183996,
          10.0000002384184,
          10.0000002384184,
          9.172096609218814,
          8.595075213579037,
          8.5714287757872,
          8.5714287757872,
          8.5714287757872,
          8.32993147695132,
          3.194382901159664,
          2.8571429252624,
          4.2857143878936,
          5.15078765918138,
          4.517539622232711,
          4.2857143878936,
          2.8571429252624,
          2.8571429252624,
          2.8571429252624,
          2.8571429252624,
          3.194382901159664,
          4.2857143878936,
          4.2857143878936,
          4.163162331219012,
          3.194382901159664,
          2.8571429252624,
          3.194382901159664,
          4.2857143878936,
          4.2857143878936,
          4.126396714216635,
          4.2857143878936,
          4.2857143878936,
          4.2857143878936,
          4.2857143878936,
          4.2857143878936,
          4.2857143878936,
          3.194382901159664,
          2.8571429252624,
          3.194382901159664,
          4.2857143878936,
          4.517539622232711,
          5.15078765918138,
          5.15078765918138,
          5.7142858505248,
          5.723079109707134,
          5.915765690818315,
          6.110092970392042,
          5.89015103417155,
          5.15078765918138,
          5.15078765918138,
          4.2857143878936,
          4.040610274544425,
          2.8571429252624,
          2.8571429252624,
          4.067448090546795,
          4.2857143878936,
          3.194382901159664,
          4.040610274544425,
          3.194382901159664,
          4.2857143878936,
          4.517539622232711,
          5.15078765918138,
          4.2857143878936,
          4.040610274544425,
          4.040610274544425,
          3.194382901159664,
          4.2857143878936,
          4.2857143878936,
          4.517539622232711,
          4.2857143878936,
          4.2857143878936,
          5.793425183165836,
          8.5714287757872,
          7.590898014908221,
          4.2857143878936,
          4.2857143878936,
          4.2857143878936,
          4.040610274544425,
          4.261203976558677,
          4.2857143878936,
          4.2857143878936,
          4.2857143878936,
          4.2857143878936,
          4.236693565223761,
          4.224438359556306
         ],
         "xaxis": "x2",
         "yaxis": "y2"
        },
        {
         "box": {
          "visible": true
         },
         "line": {
          "color": "rgb(30.0, 96.33333333333333, 99.66666666666667)"
         },
         "meanline": {
          "visible": false
         },
         "name": "0.005",
         "orientation": "h",
         "points": false,
         "side": "positive",
         "type": "violin",
         "width": 3,
         "x": [
          5.15078765918138,
          5.89015103417155,
          5.15078765918138,
          4.2857143878936,
          4.517539622232711,
          4.040610274544425,
          3.194382901159664,
          3.194382901159664,
          3.829053431198235,
          4.040610274544425,
          3.194382901159664,
          4.2857143878936,
          4.2857143878936,
          3.194382901159664,
          3.194382901159664,
          3.194382901159664,
          4.040610274544425,
          4.040610274544425,
          3.194382901159664,
          3.194382901159664,
          4.366853219912287,
          4.517539622232711,
          4.517539622232711,
          3.490562481844325,
          4.040610274544425,
          10.71184451261824,
          10.36565356264643,
          7.142857313156,
          5.15078765918138,
          4.517539622232711,
          5.15078765918138,
          9.035079244465422,
          85.15504062538582,
          101.02636743091996,
          28.03727955597214,
          27.93092811533133,
          18.952536724110363,
          14.285714626312,
          10.30157531836276,
          9.035079244465422,
          7.693092765038203,
          8.5714287757872,
          7.142857313156,
          8.061814159886314,
          10.759796401844854,
          9.113648163434737,
          8.5714287757872,
          10.663892623391641,
          10.101525686361061,
          9.365234630378861,
          4.517539622232711,
          10.151538094361486,
          7.142857313156,
          5.7142858505248,
          5.7142858505248,
          6.060915411816636,
          7.105152737614158,
          7.142857313156,
          13.552618866698133,
          24.98547029796045,
          40.45143247772324,
          43.55937578296758,
          40.632751406839226,
          28.344803838760694,
          17.88274748127834,
          9.08558783523141,
          5.15078765918138,
          5.15078765918138,
          4.517539622232711,
          5.15078765918138,
          4.517539622232711,
          4.517539622232711,
          4.517539622232711,
          5.15078765918138,
          4.517539622232711,
          11.263903028208121,
          12.691759853019061,
          21.34602980919376,
          8.5714287757872,
          5.89015103417155,
          6.388765802319328,
          7.142857313156,
          9.040691310106086,
          10.101525686361061,
          6.077307931341766,
          5.686110940957622,
          16.455459740051325,
          17.285060113528978,
          6.388765802319328,
          4.517539622232711,
          4.2857143878936,
          5.7142858505248,
          7.142857313156,
          7.142857313156,
          5.89015103417155,
          5.15078765918138,
          4.517539622232711,
          5.15078765918138,
          4.707514033317301,
          4.101886302881719,
          6.08959694143065,
          5.15078765918138,
          4.2857143878936,
          4.3436706964783784,
          3.617496587852044,
          4.2857143878936,
          7.213585538837138,
          7.24187682910959,
          7.6726538150122,
          8.5714287757872,
          8.5714287757872,
          8.143398281054466,
          8.595075213579037,
          9.035079244465422,
          8.093656095481968,
          7.142857313156,
          5.89015103417155,
          5.89015103417155,
          5.7142858505248,
          5.7142858505248,
          5.89015103417155,
          7.029743586530495,
          9.786830318133482,
          9.113648163434737,
          9.744196334076491,
          4.517539622232711,
          4.2857143878936,
          4.517539622232711,
          5.15078765918138,
          5.404361845285913,
          5.15078765918138,
          5.15078765918138,
          5.7142858505248,
          5.7142858505248,
          5.7142858505248,
          5.749458887254148,
          5.749458887254148,
          6.388765802319328,
          5.89015103417155,
          6.388765802319328,
          5.723079109707134,
          5.15078765918138,
          5.15078765918138,
          5.15078765918138,
          4.580864425927574,
          4.517539622232711,
          5.15078765918138,
          5.15078765918138,
          4.739176435164741,
          5.15078765918138,
          7.693092765038203,
          8.32993147695132,
          6.388765802319328,
          5.7142858505248,
          5.7142858505248,
          6.289042848689764,
          6.464174953402991,
          7.142857313156,
          5.89015103417155,
          6.114527679838044,
          6.690402406654001,
          7.142857313156,
          7.171148603428453,
          7.2843137645182745,
          7.142857313156,
          7.345630614596265,
          9.089886190366776,
          10.0000002384184,
          10.0000002384184,
          9.035079244465422,
          8.5714287757872,
          8.5714287757872,
          8.5714287757872,
          7.693092765038203,
          7.75677663622951,
          4.2857143878936,
          4.2857143878936,
          4.040610274544425,
          4.2857143878936,
          4.517539622232711,
          4.2857143878936,
          3.194382901159664,
          3.194382901159664,
          4.040610274544425,
          4.040610274544425,
          4.2857143878936,
          4.040610274544425,
          4.2857143878936,
          4.2857143878936,
          4.297305649610552,
          4.2857143878936,
          4.2857143878936,
          4.2857143878936,
          4.2857143878936,
          4.2857143878936,
          4.517539622232711,
          4.517539622232711,
          4.2857143878936,
          4.2857143878936,
          4.2857143878936,
          4.2857143878936,
          3.194382901159664,
          3.194382901159664,
          4.040610274544425,
          4.163162331219012,
          5.15078765918138,
          5.15078765918138,
          5.15078765918138,
          5.15078765918138,
          5.7142858505248,
          5.7142858505248,
          5.949918566347329,
          5.15078765918138,
          5.15078765918138,
          5.15078765918138,
          4.2857143878936,
          3.194382901159664,
          4.040610274544425,
          3.194382901159664,
          2.8571429252624,
          2.8571429252624,
          2.8571429252624,
          3.194382901159664,
          3.194382901159664,
          4.040610274544425,
          6.91662985990499,
          5.863771256624537,
          5.89015103417155,
          5.15078765918138,
          4.517539622232711,
          4.2857143878936,
          4.2857143878936,
          4.2857143878936,
          4.2857143878936,
          5.115912736378756,
          4.2857143878936,
          5.7142858505248,
          7.142857313156,
          7.248949651677705,
          6.039735464615875,
          5.7142858505248,
          5.7142858505248,
          6.388765802319328,
          7.067448162072316,
          7.142857313156,
          7.142857313156,
          7.142857313156,
          7.256022474245817,
          7.142857313156,
          7.142857313156
         ],
         "xaxis": "x2",
         "yaxis": "y2"
        },
        {
         "box": {
          "visible": true
         },
         "line": {
          "color": "rgb(32.5, 87.5, 89.5)"
         },
         "meanline": {
          "visible": false
         },
         "name": "0.05",
         "orientation": "h",
         "points": false,
         "side": "positive",
         "type": "violin",
         "width": 3,
         "x": [
          9.102424032153406,
          8.724202792718287,
          5.15078765918138,
          4.2857143878936,
          4.517539622232711,
          4.37844448162924,
          4.517539622232711,
          5.15078765918138,
          5.15078765918138,
          5.89015103417155,
          5.573411302688945,
          5.9840714418763445,
          5.15078765918138,
          4.224438359556306,
          4.2857143878936,
          4.2857143878936,
          5.15078765918138,
          4.2857143878936,
          4.2857143878936,
          4.2857143878936,
          4.2857143878936,
          4.2857143878936,
          4.040610274544425,
          5.15078765918138,
          5.7142858505248,
          11.4285717010496,
          7.945375824671115,
          7.693092765038203,
          4.517539622232711,
          4.2857143878936,
          5.15078765918138,
          5.89015103417155,
          7.142857313156,
          7.142857313156,
          8.498979586136432,
          8.5714287757872,
          8.46275499131105,
          8.5714287757872,
          11.373682143435765,
          10.0000002384184,
          8.107037927781715,
          8.5714287757872,
          7.142857313156,
          7.142857313156,
          10.0000002384184,
          10.310567768760048,
          10.964105595908583,
          10.663892623391641,
          10.0000002384184,
          10.0000002384184,
          3.194382901159664,
          3.194382901159664,
          2.8571429252624,
          3.617496587852044,
          4.517539622232711,
          5.15078765918138,
          5.15078765918138,
          5.15078765918138,
          6.388765802319328,
          7.142857313156,
          7.555533902067651,
          12.777531604638655,
          10.935240860534051,
          6.388765802319328,
          5.7142858505248,
          4.040610274544425,
          5.15078765918138,
          4.517539622232711,
          4.040610274544425,
          4.390035743346198,
          4.37844448162924,
          4.040610274544425,
          3.194382901159664,
          4.040610274544425,
          4.040610274544425,
          3.194382901159664,
          10.44610051999991,
          10.265653987618563,
          7.142857313156,
          5.7142858505248,
          5.376186935718751,
          6.388765802319328,
          7.142857313156,
          7.142857313156,
          6.060915411816636,
          4.2857143878936,
          4.1509071255515515,
          3.194382901159664,
          4.040610274544425,
          3.194382901159664,
          4.040610274544425,
          4.040610274544425,
          4.040610274544425,
          3.194382901159664,
          3.194382901159664,
          4.040610274544425,
          4.040610274544425,
          4.040610274544425,
          4.2857143878936,
          4.040610274544425,
          5.89015103417155,
          5.966995004111837,
          5.460711664420251,
          4.2857143878936,
          4.2857143878936,
          4.320488173044468,
          4.2857143878936,
          4.401627005063156,
          4.517539622232711,
          4.4827658370818435,
          5.15078765918138,
          5.7142858505248,
          6.388765802319328,
          7.142857313156,
          7.142857313156,
          6.039735464615875,
          5.7142858505248,
          5.178962568748541,
          5.686110940957622,
          5.15078765918138,
          5.601586212256106,
          6.388765802319328,
          8.32993147695132,
          8.5714287757872,
          8.654191308058628,
          4.040610274544425,
          4.248948770891222,
          4.040610274544425,
          4.2857143878936,
          4.248948770891222,
          3.194382901159664,
          4.040610274544425,
          4.2857143878936,
          4.517539622232711,
          5.7142858505248,
          5.7142858505248,
          5.7142858505248,
          5.881357774989211,
          5.89015103417155,
          6.323195724218784,
          5.15078765918138,
          5.15078765918138,
          5.15078765918138,
          4.517539622232711,
          4.355261958195329,
          4.413218266780107,
          4.517539622232711,
          4.517539622232711,
          4.366853219912287,
          4.126396714216635,
          7.142857313156,
          7.142857313156,
          7.142857313156,
          7.142857313156,
          7.142857313156,
          7.142857313156,
          7.3047527145442634,
          8.366156071776702,
          7.498979562294576,
          7.73639439505366,
          7.795748103243405,
          7.500510356879435,
          7.417975039097102,
          8.088343969875242,
          7.178221425996569,
          8.595075213579037,
          9.979157661671426,
          8.648279698610672,
          8.630544870266792,
          8.176177570950136,
          8.5714287757872,
          8.5714287757872,
          8.5714287757872,
          8.378230936718492,
          7.206512716269022,
          4.040610274544425,
          3.194382901159664,
          3.194382901159664,
          4.040610274544425,
          4.040610274544425,
          4.187672742553929,
          3.194382901159664,
          2.8571429252624,
          2.8571429252624,
          2.8571429252624,
          4.040610274544425,
          4.517539622232711,
          4.2857143878936,
          4.517539622232711,
          4.517539622232711,
          4.2857143878936,
          5.15078765918138,
          5.348012026151573,
          4.770838837012164,
          5.348012026151573,
          5.15078765918138,
          5.7142858505248,
          5.723079109707134,
          5.7142858505248,
          5.7142858505248,
          4.040610274544425,
          2.8571429252624,
          2.8571429252624,
          3.194382901159664,
          3.194382901159664,
          4.040610274544425,
          4.040610274544425,
          4.308896911327509,
          5.15078765918138,
          5.89015103417155,
          5.89015103417155,
          6.060915411816636,
          5.15078765918138,
          4.739176435164741,
          4.517539622232711,
          3.194382901159664,
          4.261203976558684,
          2.8571429252624,
          3.913676168536706,
          3.1437969047750727,
          2.8571429252624,
          2.8571429252624,
          3.194382901159664,
          2.8571429252624,
          3.532873850513573,
          6.186421816780962,
          5.629761121823284,
          5.7142858505248,
          5.7142858505248,
          4.401627005063156,
          4.505948360515752,
          4.2857143878936,
          4.517539622232711,
          4.390035743346198,
          4.2857143878936,
          4.2857143878936,
          5.7142858505248,
          7.142857313156,
          8.511054451078229,
          6.614993255570317,
          4.517539622232711,
          4.505948360515752,
          5.657936031390445,
          5.7142858505248,
          5.7142858505248,
          6.287593809550145,
          7.142857313156,
          7.142857313156,
          5.89015103417155,
          5.7142858505248
         ],
         "xaxis": "x2",
         "yaxis": "y2"
        },
        {
         "box": {
          "visible": true
         },
         "line": {
          "color": "rgb(35.0, 78.66666666666666, 79.33333333333334)"
         },
         "meanline": {
          "visible": false
         },
         "name": "0.1",
         "orientation": "h",
         "points": false,
         "side": "positive",
         "type": "violin",
         "width": 3,
         "x": [
          5.15078765918138,
          5.89015103417155,
          5.15078765918138,
          4.040610274544425,
          4.040610274544425,
          3.532873850513549,
          4.040610274544425,
          3.194382901159664,
          3.194382901159664,
          3.194382901159664,
          3.194382901159664,
          3.194382901159664,
          3.194382901159664,
          3.194382901159664,
          3.194382901159664,
          3.194382901159664,
          4.040610274544425,
          3.9982989058751772,
          3.194382901159664,
          3.194382901159664,
          4.2857143878936,
          4.2857143878936,
          4.865826042554468,
          4.2857143878936,
          4.897488444401908,
          7.142857313156,
          6.388765802319328,
          7.142857313156,
          4.37844448162924,
          4.517539622232711,
          4.517539622232711,
          5.15078765918138,
          5.7142858505248,
          7.693092765038203,
          6.1643891566528195,
          5.7142858505248,
          7.142857313156,
          7.142857313156,
          8.5714287757872,
          9.035079244465422,
          5.7142858505248,
          5.7142858505248,
          7.142857313156,
          7.142857313156,
          8.267753744985702,
          7.964782213873651,
          8.5714287757872,
          11.4285717010496,
          10.639916678778347,
          8.5714287757872,
          4.2857143878936,
          4.517539622232711,
          4.040610274544425,
          4.718251023537491,
          4.224438359556306,
          5.15078765918138,
          5.15078765918138,
          5.15078765918138,
          6.060915411816636,
          28.75886556600483,
          43.384836573634075,
          46.6761107541477,
          40.312872370642374,
          16.086230461225945,
          6.8035161332794845,
          4.040610274544425,
          4.2857143878936,
          4.2857143878936,
          4.040610274544425,
          5.15078765918138,
          5.15078765918138,
          4.675851631469878,
          5.15078765918138,
          6.060915411816636,
          5.15078765918138,
          3.2366942698288876,
          17.15657549819038,
          35.015296315790664,
          6.077307931341766,
          4.040610274544425,
          3.194382901159664,
          4.040610274544425,
          4.517539622232711,
          4.517539622232711,
          5.7142858505248,
          4.2857143878936,
          5.828598219895189,
          4.2857143878936,
          4.040610274544425,
          3.194382901159664,
          3.194382901159664,
          3.490562481844325,
          3.194382901159664,
          4.040610274544425,
          4.2857143878936,
          5.15078765918138,
          5.15078765918138,
          5.15078765918138,
          5.657936031390461,
          5.15078765918138,
          5.7142858505248,
          2.8571429252624,
          2.8571429252624,
          3.194382901159664,
          4.2857143878936,
          4.2857143878936,
          4.770838837012183,
          4.401627005063156,
          4.040610274544425,
          4.040610274544425,
          4.040610274544425,
          4.040610274544425,
          4.517539622232711,
          4.517539622232711,
          5.7142858505248,
          7.406947464674246,
          8.32993147695132,
          10.111528167961142,
          11.114703578791712,
          11.37435732144464,
          13.123875446414175,
          14.324741082163186,
          15.33611988547762,
          16.453478419471335,
          17.039553752056854,
          4.2857143878936,
          5.15078765918138,
          5.15078765918138,
          5.15078765918138,
          4.2857143878936,
          5.15078765918138,
          4.992475649944213,
          4.517539622232711,
          4.517539622232711,
          4.549202024080134,
          5.15078765918138,
          5.15078765918138,
          5.207137478315719,
          4.517539622232711,
          5.15078765918138,
          4.517539622232711,
          5.15078765918138,
          4.517539622232711,
          5.15078765918138,
          4.517539622232711,
          5.119125257333939,
          5.15078765918138,
          5.119125257333939,
          4.739176435164741,
          5.15078765918138,
          7.142857313156,
          7.693092765038203,
          7.142857313156,
          7.142857313156,
          7.2843137645182745,
          7.142857313156,
          8.07519599218607,
          8.5714287757872,
          7.142857313156,
          5.96494324939372,
          6.388765802319328,
          7.142857313156,
          7.142857313156,
          7.142857313156,
          7.142857313156,
          7.157002958292226,
          8.5714287757872,
          8.5714287757872,
          8.5714287757872,
          7.2843137645182745,
          7.142857313156,
          7.142857313156,
          7.142857313156,
          7.142857313156,
          7.142857313156,
          5.15078765918138,
          4.517539622232711,
          4.2857143878936,
          4.2857143878936,
          4.2857143878936,
          5.7142858505248,
          4.2857143878936,
          4.040610274544425,
          3.194382901159664,
          4.2857143878936,
          4.2857143878936,
          4.2857143878936,
          5.235587359207957,
          4.517539622232711,
          4.2857143878936,
          4.517539622232711,
          5.7142858505248,
          7.142857313156,
          5.89015103417155,
          5.7142858505248,
          5.89015103417155,
          6.060915411816636,
          5.89015103417155,
          5.7142858505248,
          5.7142858505248,
          3.490562481844325,
          3.194382901159664,
          3.194382901159664,
          3.194382901159664,
          3.194382901159664,
          4.494357098798801,
          5.15078765918138,
          4.517539622232711,
          5.7142858505248,
          5.941380347465074,
          6.060915411816636,
          6.060915411816636,
          5.7142858505248,
          5.775838664801162,
          5.15078765918138,
          4.19992794822139,
          3.194382901159664,
          3.194382901159664,
          3.194382901159664,
          4.040610274544425,
          4.077375891546803,
          4.065120685879341,
          3.194382901159664,
          2.8571429252624,
          2.8571429252624,
          7.142857313156,
          7.142857313156,
          7.142857313156,
          5.7142858505248,
          5.7142858505248,
          4.505948360515752,
          4.2857143878936,
          5.15078765918138,
          5.7142858505248,
          6.516504173663776,
          6.70441011551145,
          7.863515519589276,
          8.5714287757872,
          7.2843137645182745,
          7.142857313156,
          5.7142858505248,
          5.881357774989211,
          7.142857313156,
          8.547279045903608,
          8.32993147695132,
          8.5714287757872,
          9.785714519023712,
          10.340430923388475,
          9.404451155732456,
          8.5714287757872
         ],
         "xaxis": "x2",
         "yaxis": "y2"
        },
        {
         "box": {
          "visible": true
         },
         "line": {
          "color": "rgb(37.5, 69.83333333333333, 69.16666666666667)"
         },
         "meanline": {
          "visible": false
         },
         "name": "0.5",
         "orientation": "h",
         "points": false,
         "side": "positive",
         "type": "violin",
         "width": 3,
         "x": [
          8.08122054908885,
          8.08122054908885,
          5.8725645158068716,
          5.15078765918138,
          4.517539622232711,
          4.040610274544425,
          4.040610274544425,
          4.040610274544425,
          4.040610274544425,
          5.15078765918138,
          5.15078765918138,
          4.2857143878936,
          4.644189229622437,
          3.194382901159664,
          3.194382901159664,
          4.2857143878936,
          4.2857143878936,
          4.2857143878936,
          4.2857143878936,
          4.2857143878936,
          4.2857143878936,
          4.517539622232711,
          5.15078765918138,
          4.517539622232711,
          5.15078765918138,
          7.142857313156,
          7.142857313156,
          7.142857313156,
          5.15078765918138,
          4.2857143878936,
          4.517539622232711,
          4.517539622232711,
          5.7142858505248,
          101.14901292666262,
          102.00490371223098,
          98.99495172633841,
          7.142857313156,
          7.142857313156,
          8.32993147695132,
          7.263095296813933,
          6.035300755169872,
          6.323195724218784,
          5.89015103417155,
          7.142857313156,
          8.66010291750659,
          8.32993147695132,
          7.2843137645182745,
          8.32993147695132,
          8.45068012636926,
          8.32993147695132,
          2.8571429252624,
          4.040610274544425,
          3.194382901159664,
          4.040610274544425,
          4.2857143878936,
          5.15078765918138,
          5.15078765918138,
          5.15078765918138,
          5.7142858505248,
          6.321317807139879,
          7.142857313156,
          5.740665628071814,
          7.142857313156,
          4.2857143878936,
          4.040610274544425,
          4.2857143878936,
          4.0773758915467955,
          4.040610274544425,
          4.040610274544425,
          4.040610274544425,
          4.040610274544425,
          3.194382901159664,
          3.2790056384981354,
          4.040610274544425,
          4.040610274544425,
          2.8571429252624,
          11.157499803024825,
          9.136096425997401,
          5.723079109707134,
          4.2857143878936,
          4.2857143878936,
          5.15078765918138,
          5.15078765918138,
          5.15078765918138,
          5.15078765918138,
          4.2857143878936,
          5.15078765918138,
          5.89015103417155,
          4.2857143878936,
          3.194382901159664,
          3.194382901159664,
          3.194382901159664,
          3.194382901159664,
          3.194382901159664,
          4.040610274544425,
          4.2857143878936,
          4.320488173044468,
          4.517539622232711,
          4.2857143878936,
          4.040610274544425,
          4.2857143878936,
          5.15078765918138,
          4.2857143878936,
          2.8571429252624,
          2.8571429252624,
          2.8571429252624,
          3.2790056384981354,
          4.040610274544425,
          4.471174575364885,
          4.248948770891222,
          5.15078765918138,
          5.15078765918138,
          5.7142858505248,
          5.7142858505248,
          5.758252146436488,
          5.119125257333939,
          4.2857143878936,
          4.2857143878936,
          4.2857143878936,
          4.040610274544425,
          3.194382901159664,
          4.2857143878936,
          5.7142858505248,
          8.08122054908885,
          8.5714287757872,
          4.297305649610552,
          4.2857143878936,
          4.517539622232711,
          4.401627005063156,
          3.913676168536706,
          3.194382901159664,
          4.040610274544425,
          4.2857143878936,
          5.15078765918138,
          5.7142858505248,
          5.7142858505248,
          5.915765690818315,
          6.388765802319328,
          7.142857313156,
          7.142857313156,
          5.9243039097005665,
          5.15078765918138,
          4.2857143878936,
          4.517539622232711,
          4.517539622232711,
          4.2857143878936,
          4.2857143878936,
          4.040610274544425,
          4.040610274544425,
          4.040610274544425,
          8.5714287757872,
          8.176177570950136,
          7.631775914960211,
          8.5714287757872,
          9.662277890534863,
          8.896911932577805,
          9.017808330479467,
          9.583148703478992,
          8.5714287757872,
          8.366156071776702,
          7.2843137645182745,
          8.5714287757872,
          9.958315084924461,
          10.0000002384184,
          8.666014526954546,
          9.00053741649352,
          10.0000002384184,
          10.0000002384184,
          10.0000002384184,
          8.689660964746386,
          8.5714287757872,
          8.5714287757872,
          8.5714287757872,
          8.5714287757872,
          8.5714287757872,
          4.040610274544425,
          2.992038915621298,
          4.2857143878936,
          4.2857143878936,
          4.126396714216635,
          4.1509071255515515,
          3.194382901159664,
          2.8571429252624,
          2.8908669228521244,
          3.194382901159664,
          4.040610274544425,
          4.2857143878936,
          4.2857143878936,
          4.2857143878936,
          4.2857143878936,
          4.2857143878936,
          4.2857143878936,
          4.2857143878936,
          4.2857143878936,
          4.040610274544425,
          4.2857143878936,
          4.2857143878936,
          4.05286548021188,
          4.2857143878936,
          4.2857143878936,
          4.1509071255515515,
          2.8571429252624,
          3.194382901159664,
          4.040610274544425,
          3.194382901159664,
          3.194382901159664,
          4.040610274544425,
          4.366853219912287,
          5.15078765918138,
          5.949918566347329,
          5.89015103417155,
          5.89015103417155,
          6.388765802319328,
          5.915765690818315,
          5.15078765918138,
          3.194382901159664,
          3.194382901159664,
          2.8571429252624,
          2.8571429252624,
          2.8571429252624,
          3.194382901159664,
          2.9920389156213076,
          2.8571429252624,
          2.8571429252624,
          3.194382901159664,
          42.01554720130719,
          4.2857143878936,
          4.517539622232711,
          4.2857143878936,
          4.2857143878936,
          4.040610274544425,
          4.040610274544425,
          4.040610274544425,
          4.2857143878936,
          4.2857143878936,
          4.2857143878936,
          5.404361845285913,
          5.7142858505248,
          6.018224317405364,
          4.355261958195329,
          4.2857143878936,
          4.2857143878936,
          4.2857143878936,
          4.2857143878936,
          4.2857143878936,
          4.2857143878936,
          4.2857143878936,
          4.471174575364885,
          4.2857143878936,
          4.2857143878936
         ],
         "xaxis": "x2",
         "yaxis": "y2"
        },
        {
         "box": {
          "visible": true
         },
         "line": {
          "color": "rgb(40.0, 61.0, 59.0)"
         },
         "meanline": {
          "visible": false
         },
         "name": "1.0",
         "orientation": "h",
         "points": false,
         "side": "positive",
         "type": "violin",
         "width": 3,
         "x": [
          8.08122054908885,
          9.035079244465422,
          6.001147879640852,
          4.2857143878936,
          4.2857143878936,
          4.040610274544425,
          4.2857143878936,
          4.517539622232711,
          4.2857143878936,
          4.2857143878936,
          4.517539622232711,
          5.7142858505248,
          5.15078765918138,
          4.040610274544425,
          4.2857143878936,
          4.517539622232711,
          5.7142858505248,
          5.7142858505248,
          5.7142858505248,
          5.601586212256106,
          5.15078765918138,
          5.15078765918138,
          5.898689253053802,
          5.863771256624537,
          5.7142858505248,
          12.259875627210617,
          9.035079244465422,
          8.5714287757872,
          6.69040240665398,
          5.89015103417155,
          5.15078765918138,
          5.7142858505248,
          8.5714287757872,
          12.936264791477802,
          9.035079244465422,
          7.142857313156,
          5.89015103417155,
          7.213585538837138,
          10.0000002384184,
          8.5714287757872,
          7.234804006541475,
          7.693092765038203,
          7.142857313156,
          8.5714287757872,
          11.517511343596583,
          11.517511343596583,
          10.23155794716216,
          9.035079244465422,
          9.583148703478992,
          9.035079244465422,
          4.517539622232711,
          5.291662207017235,
          4.517539622232711,
          5.15078765918138,
          5.15078765918138,
          5.7142858505248,
          5.7142858505248,
          5.7142858505248,
          7.142857313156,
          7.142857313156,
          7.751311932645801,
          9.583148703478992,
          7.142857313156,
          4.2857143878936,
          5.15078765918138,
          4.040610274544425,
          4.0773758915467955,
          4.2857143878936,
          4.040610274544425,
          4.1509071255515515,
          4.517539622232711,
          4.517539622232711,
          4.2857143878936,
          4.2857143878936,
          4.2857143878936,
          5.15078765918138,
          15.185922951681265,
          10.821866044256504,
          5.846184738259862,
          4.2857143878936,
          5.15078765918138,
          6.1920555680177145,
          5.15078765918138,
          4.517539622232711,
          5.15078765918138,
          5.15078765918138,
          4.2857143878936,
          5.7142858505248,
          4.2857143878936,
          3.0763489095956236,
          3.194382901159664,
          2.8571429252624,
          3.194382901159664,
          4.19992794822139,
          4.065120685879341,
          4.517539622232711,
          5.15078765918138,
          5.15078765918138,
          5.15078765918138,
          5.15078765918138,
          5.7142858505248,
          5.15078765918138,
          4.2857143878936,
          4.2857143878936,
          4.2857143878936,
          4.2857143878936,
          5.15078765918138,
          5.235312387882896,
          4.2857143878936,
          4.517539622232711,
          4.2857143878936,
          4.834163640707045,
          5.89015103417155,
          7.142857313156,
          7.142857313156,
          5.7142858505248,
          4.2857143878936,
          5.15078765918138,
          5.573411302688945,
          4.459583313647933,
          4.2857143878936,
          6.388765802319328,
          10.94351868185931,
          8.974553022831266,
          10.900722457626195,
          4.040610274544425,
          5.15078765918138,
          4.517539622232711,
          5.15078765918138,
          4.366853219912287,
          4.517539622232711,
          4.897488444401908,
          5.15078765918138,
          5.89015103417155,
          5.89015103417155,
          6.388765802319328,
          6.388765802319328,
          5.7142858505248,
          5.15078765918138,
          5.15078765918138,
          4.040610274544425,
          4.517539622232711,
          5.89015103417155,
          5.819804960712849,
          5.15078765918138,
          5.15078765918138,
          5.15078765918138,
          4.517539622232711,
          4.517539622232711,
          4.040610274544425,
          7.142857313156,
          7.199439893700907,
          7.142857313156,
          7.142857313156,
          7.142857313156,
          7.220658361405248,
          8.5714287757872,
          8.5714287757872,
          7.724934700633847,
          7.2843137645182745,
          7.2843137645182745,
          7.2843137645182745,
          7.142857313156,
          7.157002958292226,
          7.142857313156,
          7.693092765038203,
          8.5714287757872,
          8.5714287757872,
          8.498979586136432,
          7.2843137645182745,
          7.142857313156,
          7.142857313156,
          7.2843137645182745,
          7.142857313156,
          7.142857313156,
          4.2857143878936,
          3.194382901159664,
          5.15078765918138,
          4.101886302881719,
          4.2857143878936,
          4.2857143878936,
          4.2857143878936,
          3.194382901159664,
          3.194382901159664,
          3.194382901159664,
          4.2857143878936,
          4.2857143878936,
          5.415099293451778,
          5.7142858505248,
          6.08959694143065,
          5.7142858505248,
          4.517539622232711,
          4.2857143878936,
          4.2857143878936,
          4.2857143878936,
          4.2857143878936,
          4.2857143878936,
          4.517539622232711,
          4.2857143878936,
          4.2857143878936,
          3.194382901159664,
          2.8571429252624,
          2.8571429252624,
          2.8571429252624,
          3.194382901159664,
          4.2857143878936,
          5.15078765918138,
          5.7142858505248,
          5.7142858505248,
          5.723079109707134,
          5.740665628071814,
          5.7142858505248,
          5.7142858505248,
          5.15078765918138,
          5.142857265472312,
          4.517539622232711,
          3.744430693859764,
          3.194382901159664,
          2.8571429252624,
          2.8571429252624,
          2.8571429252624,
          2.8571429252624,
          2.8571429252624,
          2.8571429252624,
          3.194382901159664,
          8.5714287757872,
          7.142857313156,
          5.7142858505248,
          5.7142858505248,
          4.2857143878936,
          3.9982989058751772,
          4.040610274544425,
          4.2857143878936,
          4.390035743346198,
          5.15078765918138,
          4.92915084624935,
          5.7142858505248,
          5.89015103417155,
          7.142857313156,
          5.7142858505248,
          5.7142858505248,
          5.7142858505248,
          5.7142858505248,
          5.7142858505248,
          5.811011701530509,
          6.035300755169872,
          7.029743586530495,
          7.583045674661753,
          8.52312931602002,
          8.5714287757872
         ],
         "xaxis": "x2",
         "yaxis": "y2"
        }
       ],
       "layout": {
        "annotations": [
         {
          "font": {
           "color": "rgb(40, 61, 59)"
          },
          "showarrow": false,
          "text": "    0.743",
          "x": 0.7427715325553672,
          "xanchor": "left",
          "xref": "x",
          "y": 1,
          "yanchor": "top",
          "yref": "y domain"
         },
         {
          "font": {
           "color": "rgb(40, 61, 59)"
          },
          "showarrow": false,
          "text": "    6.413",
          "x": 6.412826337914112,
          "xanchor": "left",
          "xref": "x2",
          "y": 1,
          "yanchor": "top",
          "yref": "y2 domain"
         }
        ],
        "height": 493.82716049382714,
        "shapes": [
         {
          "line": {
           "color": "rgb(40, 61, 59)",
           "dash": "dot",
           "width": 3
          },
          "type": "line",
          "x0": 0.7427715325553672,
          "x1": 0.7427715325553672,
          "xref": "x",
          "y0": 0,
          "y1": 1,
          "yref": "y domain"
         },
         {
          "line": {
           "color": "rgb(40, 61, 59)",
           "dash": "dot",
           "width": 3
          },
          "type": "line",
          "x0": 6.412826337914112,
          "x1": 6.412826337914112,
          "xref": "x2",
          "y0": 0,
          "y1": 1,
          "yref": "y2 domain"
         }
        ],
        "showlegend": false,
        "template": {
         "data": {
          "bar": [
           {
            "error_x": {
             "color": "rgb(36,36,36)"
            },
            "error_y": {
             "color": "rgb(36,36,36)"
            },
            "marker": {
             "line": {
              "color": "white",
              "width": 0.5
             },
             "pattern": {
              "fillmode": "overlay",
              "size": 10,
              "solidity": 0.2
             }
            },
            "type": "bar"
           }
          ],
          "barpolar": [
           {
            "marker": {
             "line": {
              "color": "white",
              "width": 0.5
             },
             "pattern": {
              "fillmode": "overlay",
              "size": 10,
              "solidity": 0.2
             }
            },
            "type": "barpolar"
           }
          ],
          "carpet": [
           {
            "aaxis": {
             "endlinecolor": "rgb(36,36,36)",
             "gridcolor": "white",
             "linecolor": "white",
             "minorgridcolor": "white",
             "startlinecolor": "rgb(36,36,36)"
            },
            "baxis": {
             "endlinecolor": "rgb(36,36,36)",
             "gridcolor": "white",
             "linecolor": "white",
             "minorgridcolor": "white",
             "startlinecolor": "rgb(36,36,36)"
            },
            "type": "carpet"
           }
          ],
          "choropleth": [
           {
            "colorbar": {
             "outlinewidth": 1,
             "tickcolor": "rgb(36,36,36)",
             "ticks": "outside"
            },
            "type": "choropleth"
           }
          ],
          "contour": [
           {
            "colorbar": {
             "outlinewidth": 1,
             "tickcolor": "rgb(36,36,36)",
             "ticks": "outside"
            },
            "colorscale": [
             [
              0,
              "#440154"
             ],
             [
              0.1111111111111111,
              "#482878"
             ],
             [
              0.2222222222222222,
              "#3e4989"
             ],
             [
              0.3333333333333333,
              "#31688e"
             ],
             [
              0.4444444444444444,
              "#26828e"
             ],
             [
              0.5555555555555556,
              "#1f9e89"
             ],
             [
              0.6666666666666666,
              "#35b779"
             ],
             [
              0.7777777777777778,
              "#6ece58"
             ],
             [
              0.8888888888888888,
              "#b5de2b"
             ],
             [
              1,
              "#fde725"
             ]
            ],
            "type": "contour"
           }
          ],
          "contourcarpet": [
           {
            "colorbar": {
             "outlinewidth": 1,
             "tickcolor": "rgb(36,36,36)",
             "ticks": "outside"
            },
            "type": "contourcarpet"
           }
          ],
          "heatmap": [
           {
            "colorbar": {
             "outlinewidth": 1,
             "tickcolor": "rgb(36,36,36)",
             "ticks": "outside"
            },
            "colorscale": [
             [
              0,
              "#440154"
             ],
             [
              0.1111111111111111,
              "#482878"
             ],
             [
              0.2222222222222222,
              "#3e4989"
             ],
             [
              0.3333333333333333,
              "#31688e"
             ],
             [
              0.4444444444444444,
              "#26828e"
             ],
             [
              0.5555555555555556,
              "#1f9e89"
             ],
             [
              0.6666666666666666,
              "#35b779"
             ],
             [
              0.7777777777777778,
              "#6ece58"
             ],
             [
              0.8888888888888888,
              "#b5de2b"
             ],
             [
              1,
              "#fde725"
             ]
            ],
            "type": "heatmap"
           }
          ],
          "heatmapgl": [
           {
            "colorbar": {
             "outlinewidth": 1,
             "tickcolor": "rgb(36,36,36)",
             "ticks": "outside"
            },
            "colorscale": [
             [
              0,
              "#440154"
             ],
             [
              0.1111111111111111,
              "#482878"
             ],
             [
              0.2222222222222222,
              "#3e4989"
             ],
             [
              0.3333333333333333,
              "#31688e"
             ],
             [
              0.4444444444444444,
              "#26828e"
             ],
             [
              0.5555555555555556,
              "#1f9e89"
             ],
             [
              0.6666666666666666,
              "#35b779"
             ],
             [
              0.7777777777777778,
              "#6ece58"
             ],
             [
              0.8888888888888888,
              "#b5de2b"
             ],
             [
              1,
              "#fde725"
             ]
            ],
            "type": "heatmapgl"
           }
          ],
          "histogram": [
           {
            "marker": {
             "line": {
              "color": "white",
              "width": 0.6
             }
            },
            "type": "histogram"
           }
          ],
          "histogram2d": [
           {
            "colorbar": {
             "outlinewidth": 1,
             "tickcolor": "rgb(36,36,36)",
             "ticks": "outside"
            },
            "colorscale": [
             [
              0,
              "#440154"
             ],
             [
              0.1111111111111111,
              "#482878"
             ],
             [
              0.2222222222222222,
              "#3e4989"
             ],
             [
              0.3333333333333333,
              "#31688e"
             ],
             [
              0.4444444444444444,
              "#26828e"
             ],
             [
              0.5555555555555556,
              "#1f9e89"
             ],
             [
              0.6666666666666666,
              "#35b779"
             ],
             [
              0.7777777777777778,
              "#6ece58"
             ],
             [
              0.8888888888888888,
              "#b5de2b"
             ],
             [
              1,
              "#fde725"
             ]
            ],
            "type": "histogram2d"
           }
          ],
          "histogram2dcontour": [
           {
            "colorbar": {
             "outlinewidth": 1,
             "tickcolor": "rgb(36,36,36)",
             "ticks": "outside"
            },
            "colorscale": [
             [
              0,
              "#440154"
             ],
             [
              0.1111111111111111,
              "#482878"
             ],
             [
              0.2222222222222222,
              "#3e4989"
             ],
             [
              0.3333333333333333,
              "#31688e"
             ],
             [
              0.4444444444444444,
              "#26828e"
             ],
             [
              0.5555555555555556,
              "#1f9e89"
             ],
             [
              0.6666666666666666,
              "#35b779"
             ],
             [
              0.7777777777777778,
              "#6ece58"
             ],
             [
              0.8888888888888888,
              "#b5de2b"
             ],
             [
              1,
              "#fde725"
             ]
            ],
            "type": "histogram2dcontour"
           }
          ],
          "mesh3d": [
           {
            "colorbar": {
             "outlinewidth": 1,
             "tickcolor": "rgb(36,36,36)",
             "ticks": "outside"
            },
            "type": "mesh3d"
           }
          ],
          "parcoords": [
           {
            "line": {
             "colorbar": {
              "outlinewidth": 1,
              "tickcolor": "rgb(36,36,36)",
              "ticks": "outside"
             }
            },
            "type": "parcoords"
           }
          ],
          "pie": [
           {
            "automargin": true,
            "type": "pie"
           }
          ],
          "scatter": [
           {
            "fillpattern": {
             "fillmode": "overlay",
             "size": 10,
             "solidity": 0.2
            },
            "type": "scatter"
           }
          ],
          "scatter3d": [
           {
            "line": {
             "colorbar": {
              "outlinewidth": 1,
              "tickcolor": "rgb(36,36,36)",
              "ticks": "outside"
             }
            },
            "marker": {
             "colorbar": {
              "outlinewidth": 1,
              "tickcolor": "rgb(36,36,36)",
              "ticks": "outside"
             }
            },
            "type": "scatter3d"
           }
          ],
          "scattercarpet": [
           {
            "marker": {
             "colorbar": {
              "outlinewidth": 1,
              "tickcolor": "rgb(36,36,36)",
              "ticks": "outside"
             }
            },
            "type": "scattercarpet"
           }
          ],
          "scattergeo": [
           {
            "marker": {
             "colorbar": {
              "outlinewidth": 1,
              "tickcolor": "rgb(36,36,36)",
              "ticks": "outside"
             }
            },
            "type": "scattergeo"
           }
          ],
          "scattergl": [
           {
            "marker": {
             "colorbar": {
              "outlinewidth": 1,
              "tickcolor": "rgb(36,36,36)",
              "ticks": "outside"
             }
            },
            "type": "scattergl"
           }
          ],
          "scattermapbox": [
           {
            "marker": {
             "colorbar": {
              "outlinewidth": 1,
              "tickcolor": "rgb(36,36,36)",
              "ticks": "outside"
             }
            },
            "type": "scattermapbox"
           }
          ],
          "scatterpolar": [
           {
            "marker": {
             "colorbar": {
              "outlinewidth": 1,
              "tickcolor": "rgb(36,36,36)",
              "ticks": "outside"
             }
            },
            "type": "scatterpolar"
           }
          ],
          "scatterpolargl": [
           {
            "marker": {
             "colorbar": {
              "outlinewidth": 1,
              "tickcolor": "rgb(36,36,36)",
              "ticks": "outside"
             }
            },
            "type": "scatterpolargl"
           }
          ],
          "scatterternary": [
           {
            "marker": {
             "colorbar": {
              "outlinewidth": 1,
              "tickcolor": "rgb(36,36,36)",
              "ticks": "outside"
             }
            },
            "type": "scatterternary"
           }
          ],
          "surface": [
           {
            "colorbar": {
             "outlinewidth": 1,
             "tickcolor": "rgb(36,36,36)",
             "ticks": "outside"
            },
            "colorscale": [
             [
              0,
              "#440154"
             ],
             [
              0.1111111111111111,
              "#482878"
             ],
             [
              0.2222222222222222,
              "#3e4989"
             ],
             [
              0.3333333333333333,
              "#31688e"
             ],
             [
              0.4444444444444444,
              "#26828e"
             ],
             [
              0.5555555555555556,
              "#1f9e89"
             ],
             [
              0.6666666666666666,
              "#35b779"
             ],
             [
              0.7777777777777778,
              "#6ece58"
             ],
             [
              0.8888888888888888,
              "#b5de2b"
             ],
             [
              1,
              "#fde725"
             ]
            ],
            "type": "surface"
           }
          ],
          "table": [
           {
            "cells": {
             "fill": {
              "color": "rgb(237,237,237)"
             },
             "line": {
              "color": "white"
             }
            },
            "header": {
             "fill": {
              "color": "rgb(217,217,217)"
             },
             "line": {
              "color": "white"
             }
            },
            "type": "table"
           }
          ]
         },
         "layout": {
          "annotationdefaults": {
           "arrowhead": 0,
           "arrowwidth": 1
          },
          "autotypenumbers": "strict",
          "coloraxis": {
           "colorbar": {
            "outlinewidth": 1,
            "tickcolor": "rgb(36,36,36)",
            "ticks": "outside"
           }
          },
          "colorscale": {
           "diverging": [
            [
             0,
             "rgb(103,0,31)"
            ],
            [
             0.1,
             "rgb(178,24,43)"
            ],
            [
             0.2,
             "rgb(214,96,77)"
            ],
            [
             0.3,
             "rgb(244,165,130)"
            ],
            [
             0.4,
             "rgb(253,219,199)"
            ],
            [
             0.5,
             "rgb(247,247,247)"
            ],
            [
             0.6,
             "rgb(209,229,240)"
            ],
            [
             0.7,
             "rgb(146,197,222)"
            ],
            [
             0.8,
             "rgb(67,147,195)"
            ],
            [
             0.9,
             "rgb(33,102,172)"
            ],
            [
             1,
             "rgb(5,48,97)"
            ]
           ],
           "sequential": [
            [
             0,
             "#440154"
            ],
            [
             0.1111111111111111,
             "#482878"
            ],
            [
             0.2222222222222222,
             "#3e4989"
            ],
            [
             0.3333333333333333,
             "#31688e"
            ],
            [
             0.4444444444444444,
             "#26828e"
            ],
            [
             0.5555555555555556,
             "#1f9e89"
            ],
            [
             0.6666666666666666,
             "#35b779"
            ],
            [
             0.7777777777777778,
             "#6ece58"
            ],
            [
             0.8888888888888888,
             "#b5de2b"
            ],
            [
             1,
             "#fde725"
            ]
           ],
           "sequentialminus": [
            [
             0,
             "#440154"
            ],
            [
             0.1111111111111111,
             "#482878"
            ],
            [
             0.2222222222222222,
             "#3e4989"
            ],
            [
             0.3333333333333333,
             "#31688e"
            ],
            [
             0.4444444444444444,
             "#26828e"
            ],
            [
             0.5555555555555556,
             "#1f9e89"
            ],
            [
             0.6666666666666666,
             "#35b779"
            ],
            [
             0.7777777777777778,
             "#6ece58"
            ],
            [
             0.8888888888888888,
             "#b5de2b"
            ],
            [
             1,
             "#fde725"
            ]
           ]
          },
          "colorway": [
           "#1F77B4",
           "#FF7F0E",
           "#2CA02C",
           "#D62728",
           "#9467BD",
           "#8C564B",
           "#E377C2",
           "#7F7F7F",
           "#BCBD22",
           "#17BECF"
          ],
          "font": {
           "color": "rgb(36,36,36)"
          },
          "geo": {
           "bgcolor": "white",
           "lakecolor": "white",
           "landcolor": "white",
           "showlakes": true,
           "showland": true,
           "subunitcolor": "white"
          },
          "hoverlabel": {
           "align": "left"
          },
          "hovermode": "closest",
          "mapbox": {
           "style": "light"
          },
          "paper_bgcolor": "white",
          "plot_bgcolor": "white",
          "polar": {
           "angularaxis": {
            "gridcolor": "rgb(232,232,232)",
            "linecolor": "rgb(36,36,36)",
            "showgrid": false,
            "showline": true,
            "ticks": "outside"
           },
           "bgcolor": "white",
           "radialaxis": {
            "gridcolor": "rgb(232,232,232)",
            "linecolor": "rgb(36,36,36)",
            "showgrid": false,
            "showline": true,
            "ticks": "outside"
           }
          },
          "scene": {
           "xaxis": {
            "backgroundcolor": "white",
            "gridcolor": "rgb(232,232,232)",
            "gridwidth": 2,
            "linecolor": "rgb(36,36,36)",
            "showbackground": true,
            "showgrid": false,
            "showline": true,
            "ticks": "outside",
            "zeroline": false,
            "zerolinecolor": "rgb(36,36,36)"
           },
           "yaxis": {
            "backgroundcolor": "white",
            "gridcolor": "rgb(232,232,232)",
            "gridwidth": 2,
            "linecolor": "rgb(36,36,36)",
            "showbackground": true,
            "showgrid": false,
            "showline": true,
            "ticks": "outside",
            "zeroline": false,
            "zerolinecolor": "rgb(36,36,36)"
           },
           "zaxis": {
            "backgroundcolor": "white",
            "gridcolor": "rgb(232,232,232)",
            "gridwidth": 2,
            "linecolor": "rgb(36,36,36)",
            "showbackground": true,
            "showgrid": false,
            "showline": true,
            "ticks": "outside",
            "zeroline": false,
            "zerolinecolor": "rgb(36,36,36)"
           }
          },
          "shapedefaults": {
           "fillcolor": "black",
           "line": {
            "width": 0
           },
           "opacity": 0.3
          },
          "ternary": {
           "aaxis": {
            "gridcolor": "rgb(232,232,232)",
            "linecolor": "rgb(36,36,36)",
            "showgrid": false,
            "showline": true,
            "ticks": "outside"
           },
           "baxis": {
            "gridcolor": "rgb(232,232,232)",
            "linecolor": "rgb(36,36,36)",
            "showgrid": false,
            "showline": true,
            "ticks": "outside"
           },
           "bgcolor": "white",
           "caxis": {
            "gridcolor": "rgb(232,232,232)",
            "linecolor": "rgb(36,36,36)",
            "showgrid": false,
            "showline": true,
            "ticks": "outside"
           }
          },
          "title": {
           "x": 0.05
          },
          "xaxis": {
           "automargin": true,
           "gridcolor": "rgb(232,232,232)",
           "linecolor": "rgb(36,36,36)",
           "showgrid": false,
           "showline": true,
           "ticks": "outside",
           "title": {
            "standoff": 15
           },
           "zeroline": false,
           "zerolinecolor": "rgb(36,36,36)"
          },
          "yaxis": {
           "automargin": true,
           "gridcolor": "rgb(232,232,232)",
           "linecolor": "rgb(36,36,36)",
           "showgrid": false,
           "showline": true,
           "ticks": "outside",
           "title": {
            "standoff": 15
           },
           "zeroline": false,
           "zerolinecolor": "rgb(36,36,36)"
          }
         }
        },
        "width": 800,
        "xaxis": {
         "anchor": "y",
         "domain": [
          0,
          0.49
         ],
         "range": [
          0.1,
          1.1
         ],
         "tickvals": [
          0.2,
          0.30000000000000004,
          0.4000000000000001,
          0.5000000000000001,
          0.6000000000000001,
          0.7000000000000002,
          0.8000000000000003,
          0.9000000000000001,
          1.0000000000000002
         ],
         "title": {
          "text": "DSC (↑)"
         }
        },
        "xaxis2": {
         "anchor": "y2",
         "domain": [
          0.51,
          1
         ],
         "range": [
          0,
          15
         ],
         "tickvals": [
          0,
          2.5,
          5,
          7.5,
          10,
          12.5
         ],
         "title": {
          "text": "HD-95 [mm] (↓)"
         }
        },
        "yaxis": {
         "anchor": "x",
         "domain": [
          0,
          1
         ],
         "title": {
          "text": "Weight of Shape Distance Loss (Gamma)"
         }
        },
        "yaxis2": {
         "anchor": "x2",
         "domain": [
          0,
          1
         ],
         "matches": "y",
         "showticklabels": false
        }
       }
      },
      "text/html": [
       "<div>                            <div id=\"2bac71aa-e948-43f3-b914-4ab90a6d6d2c\" class=\"plotly-graph-div\" style=\"height:493.82716049382714px; width:800px;\"></div>            <script type=\"text/javascript\">                require([\"plotly\"], function(Plotly) {                    window.PLOTLYENV=window.PLOTLYENV || {};                                    if (document.getElementById(\"2bac71aa-e948-43f3-b914-4ab90a6d6d2c\")) {                    Plotly.newPlot(                        \"2bac71aa-e948-43f3-b914-4ab90a6d6d2c\",                        [{\"line\":{\"color\":\"rgb(25.0, 114.0, 120.0)\"},\"name\":\"0.0\",\"x\":[0.6532515797388339,0.7637126111284337,0.7813818558269939,0.8266597425494385,0.821100492384838,0.8347276518663361,0.8236010617684694,0.8097052411512735,0.8122973586582253,0.8082392145146307,0.8383036585226579,0.8204239950994509,0.8162778575866471,0.8314227878808967,0.8228309072161437,0.8208385047564659,0.8088509945644984,0.8099907544886605,0.8097994176776022,0.8038464395496606,0.7799088266154005,0.7653216180648604,0.7720215145015037,0.7648220838031733,0.7440555799602151,0.5703969068834105,0.6225129089142843,0.6775976936321811,0.7605170197315143,0.7926500318302755,0.7752478484739471,0.7486342584571457,0.6359203372994169,0.4506598286232937,0.36480959431225324,0.2915340170979824,0.3110993503537532,0.6872081070406397,0.624236979978345,0.6502098060042699,0.6896955548690681,0.6732321498347392,0.6996237564853363,0.6667386192330118,0.5816982538952562,0.552187146258534,0.5661384011206688,0.5069609499890281,0.4414658012896539,0.5325139248027697,0.8286957349884568,0.7981123963755594,0.85026539816871,0.865278513944521,0.8235350524018475,0.7784774406875408,0.7725508468362726,0.7712910414760361,0.723626026444173,0.6952612425902353,0.6854133263397758,0.6628524291070172,0.646472579592283,0.729853547914171,0.7725463882053816,0.8439887228102951,0.8510365748688694,0.8612355586890094,0.8829858916622119,0.8841989611666382,0.8794786286150628,0.8723998710314519,0.8669887770088339,0.8494065102541867,0.8359706973022227,0.7256772765407072,0.8027475446396919,0.7346913132811551,0.6949804314801764,0.8142009744977833,0.8229558235919828,0.7936557815278908,0.795976525718079,0.8000179176167526,0.770990252224501,0.8207188739178897,0.7233539502710852,0.7461252007911956,0.7985205173500838,0.8145570802168555,0.8082653741910382,0.833572422340165,0.7925513061460757,0.7481384212689307,0.7473642913257685,0.7231245689067303,0.7210880305916771,0.7178723895338072,0.7626940599084817,0.762750714041532,0.8065553892679509,0.836472992614119,0.8691294224121693,0.8835067118168758,0.8584815302617089,0.8224027101567745,0.7520125016011046,0.7617278837687803,0.7732695326477663,0.7684463693902501,0.7558458757396905,0.7536529098481946,0.715073289017671,0.7079729839530766,0.7090932854073289,0.7299349032305259,0.7433523205663608,0.7068126600469276,0.7310821908879894,0.7357755794592442,0.7459389832135226,0.7050965528479276,0.6389148690930785,0.5820840500485386,0.584874726946427,0.8387842035015907,0.8189678651408265,0.8256493829937157,0.829227287052214,0.8471047794727781,0.8482475660758454,0.832357094235965,0.8272946341811074,0.8235989903096925,0.8229598667842692,0.7964703492011252,0.8131923120002637,0.8103446723688488,0.7971452566056122,0.7740355214505112,0.8009910695434705,0.808065665169754,0.8162529439357735,0.8354533853754875,0.8414627053189805,0.8473057874353767,0.8444591792109071,0.8485799389192787,0.850518849321495,0.8615725357800931,0.7448627507105114,0.6615469146594419,0.6616568957364936,0.6953521425628414,0.7164623524889188,0.7209678208319885,0.7057357156434408,0.6947966274423523,0.7079203222884534,0.7200773493080519,0.7188599503154052,0.7194500372625711,0.7149628518401716,0.7050015427242707,0.7005275193163767,0.6630172919762474,0.6362767176910802,0.6421983932235455,0.6359516539334165,0.6687462048836603,0.6797214807337593,0.6919192566563597,0.7115712987447883,0.7471987186057886,0.7564556463730496,0.8532995360141321,0.8596090737396986,0.8496877081563897,0.8809433105787183,0.8939788059870019,0.8986837866258074,0.9049930349427799,0.9061805030126946,0.8845272697611025,0.8763267327728278,0.8757527269013827,0.8656095280357503,0.841674256414304,0.8433376167136021,0.8472461655801492,0.8586106552536921,0.8413118832402667,0.8268618206490229,0.82836592374282,0.8206665266481066,0.8024942200010442,0.7919795469448329,0.7987092002896912,0.8387659194662601,0.8405938227319234,0.8027872532108337,0.8549701118151913,0.8590355604157639,0.8487932840575363,0.8054913165226808,0.7649482000735401,0.7983403759404343,0.8034760770957099,0.7955881920197474,0.7702589035893385,0.7442995444084123,0.7254066416023,0.7434007468199806,0.7881861441991103,0.7944581952546671,0.8203749067466988,0.8151203232283817,0.853284816705256,0.8569433454733909,0.86169699128276,0.8651803308742757,0.8665533855169597,0.8221774109954723,0.8124614046312809,0.8079029982098543,0.7486406581617422,0.7592488189752273,0.7879650624995638,0.8332888266826295,0.8455763938256664,0.8438796000671096,0.8384926233952975,0.8022227141713207,0.7901458670863023,0.680600352280314,0.7071102888003128,0.7261243810503722,0.753053850617393,0.7378050994932903,0.7934211020059329,0.8053546137473885,0.7930451913228633,0.79637682671642,0.8021549148440948,0.8045278358829899,0.8132950766341227,0.8073226506489333,0.7826095379025056,0.7780352214539141,0.7506470808179978],\"type\":\"violin\",\"xaxis\":\"x\",\"yaxis\":\"y\",\"meanline\":{\"visible\":false},\"box\":{\"visible\":true},\"orientation\":\"h\",\"points\":false,\"side\":\"positive\",\"width\":3},{\"line\":{\"color\":\"rgb(27.5, 105.16666666666667, 109.83333333333333)\"},\"name\":\"0.001\",\"x\":[0.6481574693364601,0.6831790607230755,0.7250010646954475,0.7812838973927516,0.8080994965937344,0.8175660649765417,0.812241145503114,0.8261120811924472,0.8206583214558065,0.8158431395052766,0.8071913886365807,0.8007937046204511,0.7961014779883399,0.8073430302644061,0.7967161714612857,0.7775999283353096,0.7633870090511403,0.7674954794237095,0.7781932886866854,0.7819814534554249,0.7659839310494764,0.7553859964608429,0.7599701132869361,0.7600456021829943,0.747589652538179,0.64585115811987,0.6822496595123162,0.740723872890397,0.8263499621339755,0.8210689540310083,0.8274224939797258,0.809135386829797,0.7984507961918853,0.7978511208551016,0.7975368698072687,0.7589529568701732,0.790817139957683,0.8046737362409939,0.7204502472685579,0.749613202452785,0.781939923585331,0.7817077182817601,0.7829325397903623,0.7498642744948757,0.7324602557213029,0.7303192801611668,0.7417640246572765,0.6803405480792252,0.7050346682417821,0.7063348672366563,0.8287290475597611,0.8062710130672401,0.8224009512658507,0.8289355088736265,0.8010106801201422,0.7780551345116291,0.7818075261174073,0.7924363718824183,0.7759684757850743,0.7422911946429315,0.7591920478401598,0.7488210856027301,0.7258095647263011,0.8106240889599768,0.8360760654695698,0.823987812343316,0.8150757403917935,0.8220256080923091,0.8300998264146024,0.8327259822698357,0.8408007486301026,0.8305508742089327,0.8210802738792499,0.8064658012547208,0.8135389933272511,0.6978260583069509,0.5420250048609266,0.5557359422842589,0.7372147716994174,0.7594953553745895,0.7805578127741564,0.7755422844874122,0.7453332665973771,0.7221775320966665,0.6850642064564336,0.74403340006556,0.7433113955224473,0.7072250737828829,0.7605708760232669,0.8025510203964111,0.782659867560919,0.7912523563751933,0.7729958436976513,0.781712428172128,0.7858481482813848,0.7880473111661492,0.7776934261396458,0.7599241262080757,0.7904345988762056,0.824824028522818,0.7715359867402382,0.7476592086836219,0.8069975141879101,0.8241897516551213,0.8147958410332108,0.8053163036507796,0.7655698990876632,0.7462946870814248,0.7517021122334075,0.7290801977544353,0.7118890273416821,0.7110338260919719,0.7044531818378875,0.7339610305287491,0.7213932889523869,0.7466303077039634,0.7495694307125886,0.7227006305059303,0.7181981862573231,0.7379161484722173,0.7548463936448521,0.7543608884089633,0.7628624538691803,0.7593509573228908,0.7725866937644961,0.7861972296557924,0.7485125054603454,0.7428673967278542,0.7584883584057815,0.784644368546313,0.7918843876455505,0.7800007991863941,0.7867559650927703,0.781029571460727,0.789128763748659,0.7794446218782797,0.8196258923206372,0.8007455610136194,0.7833849219077946,0.7815748805641738,0.7959997978025365,0.7832275219322442,0.7687333702397156,0.7680545207188629,0.7784617573124385,0.774993342617528,0.7679236358136242,0.7726571536239162,0.778008302238732,0.8005346981995339,0.7316073524922624,0.7330977088617119,0.7591374604899512,0.7770323713980533,0.7845685687280604,0.7659596867943775,0.7524876349751468,0.7503955550942623,0.7650078298778661,0.774113903278635,0.7697920619280196,0.7589635718908084,0.7595945849753917,0.7441442546519357,0.7325772290701997,0.706974625020977,0.6881303018007747,0.7021511816007608,0.6916492023181964,0.7010862675320537,0.7078029020492088,0.700467522291012,0.6963663743228734,0.7350084447849522,0.7598208010798239,0.8142327600566927,0.8062687560414017,0.781480808051196,0.7667235278470234,0.786887262783841,0.8153296275830533,0.8416487698911093,0.8495576019155725,0.8503056371718363,0.8550838879123454,0.836725613932292,0.8036247871296206,0.7863758692849038,0.7966157942375136,0.7960812531671949,0.7961680973110867,0.7912877608667219,0.7759293587467273,0.7901580238170303,0.7996504646390639,0.7860887339917284,0.7962701141847431,0.7998559734774014,0.793603330315027,0.7912462974154395,0.7907013648542633,0.8319231040543553,0.835887067656609,0.8245053431495957,0.8119975368486199,0.7942212759596124,0.800305306705422,0.7991107153190958,0.7832788621181797,0.7687135119394777,0.7639198545522546,0.7456777902396398,0.751698369111958,0.7731784933620447,0.7657073450156746,0.7843443173230171,0.7865088927883992,0.827168487487034,0.825735013325911,0.8177805499468852,0.8124312398718683,0.8287032051114722,0.8288556520538832,0.8347156282621032,0.8244069930667727,0.7290217044329784,0.7324190468864422,0.7557505646567083,0.7835156040379134,0.7926319657885199,0.8134318640641873,0.7937723447646826,0.7643983432210877,0.731524271312622,0.7252746002003319,0.7341626545209574,0.7029985231811952,0.6475242857916735,0.6445348784769844,0.7475298619795495,0.7650443643036297,0.7813430213891516,0.768226140111401,0.7791780351063734,0.7694642581677937,0.7734245199239075,0.7771401955212279,0.7610226119204231,0.7813857096381664,0.7831258362857874],\"type\":\"violin\",\"xaxis\":\"x\",\"yaxis\":\"y\",\"meanline\":{\"visible\":false},\"box\":{\"visible\":true},\"orientation\":\"h\",\"points\":false,\"side\":\"positive\",\"width\":3},{\"line\":{\"color\":\"rgb(30.0, 96.33333333333333, 99.66666666666667)\"},\"name\":\"0.005\",\"x\":[0.7562109632547652,0.7471046018544721,0.7916976419089722,0.8109108296699412,0.8544680548510273,0.8599337033204949,0.8773035401963001,0.8779984158304746,0.8838169943778601,0.8805634411672044,0.8636411458308393,0.8464379251554419,0.8395342050924972,0.8668767956837147,0.858474738534886,0.8597126003120007,0.8424288308920788,0.8413742081630536,0.8464031102599274,0.8394780729200255,0.8265708174068493,0.815892088834328,0.8199473886901741,0.8312181372822505,0.8223031015785897,0.6745600185093222,0.6970336535345905,0.7488387331798226,0.8304913343324866,0.844709055916288,0.8367823050072778,0.7948692629914204,0.6699105624279914,0.5542538980917288,0.5917799101282827,0.6174178418744154,0.6701344155248794,0.7009990832717689,0.6942569980566751,0.720791572208189,0.7026352404588289,0.6957630579946674,0.727875100468906,0.7027099602336622,0.6730683382457743,0.6897847464931987,0.7036966374019752,0.6565032382127393,0.6579064807310102,0.684623580679299,0.8675508319586182,0.7508267145813009,0.7903164700773831,0.8226641119150219,0.8005895687550774,0.7650060807517993,0.7418352387175836,0.7452209766135075,0.5852526556495337,0.5209129037767342,0.3385584536082715,0.2251318410136801,0.2643239571302554,0.3535574161900741,0.4755599827410857,0.7854119323570922,0.8462299178309355,0.8495519217254245,0.8658405027681446,0.8597176376491898,0.8705812871014337,0.8624600988141633,0.8600930654512494,0.8506875236115634,0.8613552835208154,0.6152454774971046,0.5875054253136262,0.4933250695103199,0.6235716330195077,0.6980946630739153,0.6980775169000936,0.6827856232205023,0.736558626993954,0.7761105005960807,0.7860634198010319,0.795940661661945,0.5222455224654637,0.416734068369656,0.765122507479518,0.7792978186569822,0.7857965940709265,0.7226937058990442,0.6702081632471201,0.6512688710741682,0.6880969052418328,0.7389873459466336,0.729890372582926,0.7263263608649694,0.7607716677322933,0.809977973889455,0.6943859160335109,0.7718807735650058,0.8410225995291121,0.8357498356902396,0.8602339015326416,0.8183058074475777,0.7347108413474118,0.7314376979423608,0.7176830948437412,0.6915916626750394,0.6797729727480349,0.6709140882885155,0.6437789835341275,0.6688041660043509,0.6682373361010309,0.6602764775674183,0.6841759976370037,0.6835515257746844,0.6933989127629783,0.7140131981853007,0.7071316763416243,0.6684484260199876,0.6340928875744949,0.6547726616476622,0.6701024198325897,0.8252536086639418,0.8141716797424557,0.8126643234771146,0.8004205005328602,0.8214264975843868,0.8086742341260262,0.7839192717485644,0.7836693768324013,0.7830847760266714,0.7865253427454275,0.7769396230173234,0.8236076658474536,0.8193410064398939,0.7982764532843123,0.8007510040105552,0.8321610574246789,0.8157245706355767,0.8202481772509799,0.8192487481855063,0.8249086606666856,0.8313509108642647,0.8342118691468788,0.8409767529009669,0.8413598858724314,0.86214097153627,0.7622917655910254,0.7441167631601175,0.7704942443805812,0.7923097481980425,0.8032111340486666,0.7904848041132059,0.7695851222526637,0.7552842400130897,0.7698659255856745,0.790719750440329,0.791359242493657,0.7745483611123186,0.7630754029470929,0.7586930411067491,0.7684357871161459,0.7505370285700156,0.7219601254555783,0.739183243925263,0.7245829025515426,0.7310207239825673,0.7403835221498355,0.7563626844430583,0.7770351342698795,0.7911310972658655,0.7792531473237303,0.8460993966022813,0.8515392101301255,0.8324513577768168,0.8347862678072197,0.8467133120129541,0.8635552726381859,0.8863371758872596,0.8946858452721576,0.8589602033173352,0.8465399536542274,0.8441469028080232,0.8530887881776845,0.8434668192379547,0.8152680482114338,0.8051175932534894,0.8259397825077731,0.822495549967389,0.8136795462573116,0.8186586597148003,0.824318499810908,0.8129234911830611,0.8121324554268696,0.8254230806853822,0.8266086800706467,0.8343185053328072,0.8450027316997567,0.8870133090840626,0.8971871974024913,0.880264132639475,0.8645529534971101,0.8401309482671919,0.8384553320914326,0.8420310133774416,0.8472278653105153,0.8419312062456333,0.8471129493902947,0.826904618659128,0.8367874631920605,0.8557417729537635,0.8460495360337823,0.8588131132040977,0.8646896057957072,0.8751549934272328,0.8812437525635414,0.8900903416458168,0.8978107288389304,0.8955772980493363,0.8809175739074794,0.8690492794736062,0.8651789710706956,0.7295535004714496,0.7307766907517431,0.7605675962567543,0.7880941197772575,0.7956172081193605,0.8230272320843116,0.8407791597442101,0.8313821115319626,0.8265346134262233,0.8252459971109565,0.8199097934499843,0.7884179957659093,0.7521028691782717,0.6873408502499103,0.7223137504861122,0.7661238308653285,0.7737810484396861,0.7584151363085956,0.7638977608131909,0.7628530224712902,0.7728932606471445,0.7638636146663644,0.7332570992300482,0.7406604834721917,0.732702602035438],\"type\":\"violin\",\"xaxis\":\"x\",\"yaxis\":\"y\",\"meanline\":{\"visible\":false},\"box\":{\"visible\":true},\"orientation\":\"h\",\"points\":false,\"side\":\"positive\",\"width\":3},{\"line\":{\"color\":\"rgb(32.5, 87.5, 89.5)\"},\"name\":\"0.05\",\"x\":[0.6373326727743432,0.6467241436564569,0.7549017193740173,0.7855531972879567,0.8140051222920224,0.8273353374293085,0.8233030588788229,0.8169746086693666,0.8203089080913214,0.8154614300565931,0.7956511429817187,0.7597324165084867,0.7641869369101459,0.8250796446761095,0.811204081319683,0.8033292255855821,0.7938251518067727,0.8052409349359686,0.8102403876564989,0.8032325402560332,0.8039486924594521,0.8058949832651686,0.8130514737755912,0.792871316119166,0.7615233573422393,0.647806724693561,0.7608962635740463,0.7503683092263972,0.8428757143598078,0.8488667000163082,0.8293083861890728,0.800546917842178,0.7945000075588796,0.7697511556571714,0.7251838369499146,0.724293070277024,0.7107100758348044,0.7138124494385581,0.6978735832220622,0.7258182613611904,0.7395970775727262,0.7198140662227812,0.7623499844919575,0.7601680569044393,0.7041144090237108,0.6564397205481676,0.6925623209950758,0.6852978641029799,0.696075649488544,0.709210837563265,0.8871730910594128,0.8682468603124092,0.8897011763715469,0.8878371615019767,0.8439715416313072,0.8229090857226589,0.8230289255763892,0.8243782821004207,0.7697123669843497,0.7033745223397128,0.6654112086554832,0.6030739089460736,0.6099168834109602,0.6969170487618236,0.763896106370866,0.8421460202283853,0.8583303963883328,0.8619820946158863,0.8847827266736977,0.8779365377273272,0.8796943886983773,0.8713131408191295,0.8695498731297528,0.8617578437128065,0.8577669773500115,0.872066066005552,0.7376268249679249,0.7437437022692838,0.7744823174592058,0.8087334549937318,0.8265084771910061,0.8093801871382755,0.8382517465470751,0.8388275957269937,0.8452434512759888,0.820103673771781,0.8028138860681918,0.8462130576916539,0.8476073977014219,0.853302359664972,0.8435414408451616,0.8549966940403717,0.8657300734612703,0.8444436272522643,0.8420837282476022,0.8278880423711842,0.8256341494364191,0.8166019852461661,0.8164486620289052,0.8401209504240494,0.7326833972829144,0.686999553758556,0.7768886690059097,0.834088596608525,0.8499362913526934,0.8516360998049847,0.8009849327637011,0.7984278730678774,0.8036586903995461,0.7734149712913486,0.7656024075082778,0.761789457945306,0.7361923503065138,0.7093233592925025,0.6893908649557569,0.735741143377665,0.7835852006228075,0.7792529017778292,0.7769838219470326,0.7810347128634251,0.7910251896102711,0.7608838327798159,0.7076974912442686,0.6856774403550265,0.6770345970269843,0.8549732679259764,0.8333036914505869,0.8465406114591322,0.8320853445647782,0.8762515885277671,0.8751921785344959,0.8600107996668087,0.8579368945242702,0.8577125880529669,0.8637243250301336,0.8525108269429952,0.8716096810069233,0.8657121664385349,0.8411513322094013,0.8342557451396563,0.8558340982522564,0.8535905109113476,0.8547000743299759,0.8527784174217311,0.8612303199726136,0.8613438640673678,0.8548999604496489,0.8519938536431385,0.8574099999762564,0.8686591924368228,0.7053294457934735,0.6994558133020071,0.699616234506741,0.7195555372651221,0.7348956770246805,0.7505084569599102,0.7338870701420893,0.7239152108647144,0.7310789723995194,0.7465858987951303,0.744314545857873,0.7386628378863354,0.7504539716065983,0.7520430145036913,0.7571425779459566,0.725894709124847,0.7068920540944826,0.7078618784344793,0.7002823761427782,0.7036317516645102,0.6982184429832936,0.6957838218483632,0.6929924980675343,0.7055724875339715,0.7024368127701872,0.8537024510296358,0.8639547255372706,0.8407095363865076,0.8628308463478644,0.8609932504659008,0.8703787437855396,0.891728994535407,0.9069396519975124,0.9021678212934704,0.896705904059143,0.8716405450349005,0.8407747076779901,0.8215933861507795,0.8087027690813015,0.790663262344655,0.8095580222613858,0.796029794088457,0.7847592879205406,0.7897018610737786,0.7824187209276169,0.7800893425751907,0.7637346532881244,0.7650967976422455,0.7684518403363783,0.7960660779410444,0.8730408260022631,0.897422457079582,0.8954920316814627,0.8875822279432145,0.8764438719304346,0.8570404814836313,0.8631696830079773,0.8450640267586229,0.8399081080368468,0.8146059482172139,0.8175821164113163,0.8077965125642045,0.8127105272714983,0.8245460817970296,0.8295978676585704,0.8773930736901582,0.8675525109063971,0.9070812037093291,0.9035137088790322,0.9009868697529262,0.9035779356189326,0.8913343784837361,0.8985113895412719,0.9051114250918966,0.8935084060273306,0.7818946222864052,0.7894955134548853,0.7955822369196466,0.8278261362323808,0.8439980017886703,0.857907756837054,0.8506005640518329,0.8300520633214138,0.8433414490418506,0.8473639274821798,0.831960155085422,0.7983802783287404,0.7475851124618204,0.7157094025445307,0.7894695058068715,0.8370408795514427,0.8371291267296596,0.8126081794187603,0.8060977345733329,0.8026585512248082,0.7949632447112462,0.7826108673328321,0.764675916353171,0.7893317034092328,0.8047688817753266],\"type\":\"violin\",\"xaxis\":\"x\",\"yaxis\":\"y\",\"meanline\":{\"visible\":false},\"box\":{\"visible\":true},\"orientation\":\"h\",\"points\":false,\"side\":\"positive\",\"width\":3},{\"line\":{\"color\":\"rgb(35.0, 78.66666666666666, 79.33333333333334)\"},\"name\":\"0.1\",\"x\":[0.7396684839818917,0.7264292695675968,0.7976516311785449,0.8187902712477689,0.8436421658139341,0.8504641560057351,0.8544445674624271,0.8499726596166532,0.8622162092506241,0.8767933652744064,0.8734997413297702,0.8609144456742834,0.8539728868303035,0.8378366521846131,0.8195447785837038,0.8275088924833508,0.8124450209367815,0.8159071484707996,0.8200315884123756,0.8108700056169243,0.7922294367971542,0.7850356955948846,0.7577786036561047,0.7916520700350247,0.7866201451332284,0.7751940367804149,0.792624216225228,0.8103591904330081,0.8920221562497302,0.8639460409827197,0.8738356460401593,0.8628801418055114,0.8492266308406082,0.8175943608498782,0.8253960563623662,0.8312680408236496,0.8191263947736105,0.8286999084854638,0.7623788018105047,0.7736404893898172,0.8207158346556889,0.8092533612436043,0.8098833665437517,0.7752096013293507,0.7720996093884559,0.7449339767645454,0.748982707217849,0.7017812232904188,0.7133525241944455,0.7351218071365861,0.8413189749394473,0.8276967917494233,0.8599126662882572,0.8684779533161064,0.8692643103954156,0.8484998665627671,0.8295241666158336,0.8274836563621591,0.7652306200450755,0.6427822750045331,0.32554423700206464,0.20079659778804043,0.29266255839036387,0.5119052600613192,0.7218819418753479,0.8585780276119245,0.8617303223618736,0.8441660680090259,0.8593806834096661,0.8459758769920597,0.8433413877819949,0.8333065904668852,0.8034245678663133,0.7854237915950115,0.8009421812432447,0.8765506727458484,0.7242802791970899,0.7347630974886247,0.8432849394860978,0.8676888100404929,0.8903213387913237,0.8449731727571802,0.8307235678324417,0.8177419461824093,0.7884955354483957,0.8000160619159677,0.8192273680824154,0.8579122655371642,0.8383367976167571,0.8605976170868114,0.890500395125835,0.8797604847308887,0.8371693193953997,0.7912002425858463,0.7711009021255328,0.7474238936227385,0.7536161343726557,0.7587606097801723,0.7616087934287792,0.7735946291160444,0.803827503817672,0.8371431123845026,0.9104425854365364,0.8938382508304517,0.8808689291169903,0.8628914408487868,0.8293835303308122,0.8539900425210722,0.8734909307455151,0.8572163068512071,0.8444224546592983,0.8292284799532189,0.7953301115788057,0.7911055123154991,0.7594646663823248,0.7243095368989382,0.7446224618432243,0.7164430865603859,0.7092518967987075,0.7131445558100443,0.7019280645171818,0.6712280797254289,0.6495509929233573,0.6433880331175491,0.6332690338343829,0.8402304055997492,0.7947928189301221,0.80215986781629,0.8177184485865405,0.870248274753215,0.8618698066316058,0.836433813480508,0.8442236982640694,0.8471342101169788,0.8410578430897137,0.8306237842677482,0.8688577223851673,0.8762211935761173,0.8702598752850293,0.8590114906972405,0.8721014764939075,0.8547059823591735,0.838638111834326,0.8300222884264643,0.8227499936937719,0.8294162739224746,0.8226702185751582,0.8141152497743687,0.8201445429823163,0.8376145860373773,0.776714510776645,0.747270490439751,0.7544694607100927,0.7722888947478562,0.7751328101491546,0.777239610187725,0.7591191109799204,0.76249418488292,0.7821571335565953,0.8005293707905952,0.7974263946707492,0.7798411654817933,0.7694685274266906,0.7637740622627508,0.7754907650048227,0.758900114345805,0.7279135612974726,0.7299271596097914,0.7245406752208059,0.7320680413894576,0.7386808968579195,0.7453893423350226,0.7516070654397313,0.7614277679373305,0.7755667832665558,0.7860111016555164,0.8186794325376533,0.8118411272102104,0.8171068562782987,0.8262388063498537,0.8444976963791945,0.8635820711472735,0.8794165828865504,0.8470072557442265,0.8143448894531126,0.8135650897167038,0.8442552744010678,0.8333322813931973,0.8261343122418167,0.8049759438414154,0.7697443761034932,0.7358386617759864,0.7251668026756939,0.730670894495838,0.7291216872769815,0.7203520230394908,0.7003902003376973,0.7143893273233046,0.7484319754865133,0.7601477663745739,0.867525700405234,0.8863664111363306,0.8745956529268757,0.8684337678448455,0.8644177325287514,0.8484273330449356,0.8431001248829154,0.8434340585329911,0.8332532491761898,0.8166196633388777,0.8128295536810441,0.8013668857223611,0.8023412965165136,0.8146201306650813,0.8244800883562566,0.8379845569860607,0.8517021945088833,0.8993976856161101,0.8917733610362037,0.898548476668541,0.8932989237595671,0.9006890621319746,0.8969641372842886,0.8935920898389972,0.8929963824537436,0.7585798116467246,0.7388705725505769,0.766503810347402,0.7900346553223181,0.8140274184073155,0.8568620520093578,0.8518111816909366,0.8356635539813447,0.8215411591774959,0.8008145315322691,0.7977626683491915,0.7770062505448283,0.7444233024248169,0.7282600823736156,0.7748952752171911,0.8044022986755817,0.8016894634935309,0.7648942912869322,0.7435368738758227,0.7364102437114114,0.7368835997310139,0.7115818885818089,0.6792668418066204,0.7090963281352346,0.742348779424445],\"type\":\"violin\",\"xaxis\":\"x\",\"yaxis\":\"y\",\"meanline\":{\"visible\":false},\"box\":{\"visible\":true},\"orientation\":\"h\",\"points\":false,\"side\":\"positive\",\"width\":3},{\"line\":{\"color\":\"rgb(37.5, 69.83333333333333, 69.16666666666667)\"},\"name\":\"0.5\",\"x\":[0.5987313814481774,0.6016588986357306,0.6781673362919574,0.745197100971077,0.7630798463984587,0.7963315777212355,0.7876016916995545,0.7919470201678499,0.7797805560086181,0.7611840467328324,0.765393646435975,0.7694564646811275,0.7780763086154122,0.7859513091102192,0.7726544962087005,0.7492382471379208,0.7408187157147017,0.7449198511504361,0.7501978704516014,0.7548764012463173,0.7500090146297389,0.747538136730353,0.7331174779044927,0.7122181395419416,0.7080980027752294,0.6960103505446299,0.6958054358690824,0.6863117581467277,0.7255106325262188,0.7424832951245962,0.7429732298781287,0.7352830778513019,0.7170165941238797,0.6105657043350998,0.5573500576318035,0.6408711561323177,0.6587678343581717,0.658524022018703,0.6397847557253493,0.6712422314836181,0.6891795092393772,0.6774188056058053,0.6752015108475213,0.6710130198987128,0.6557643087636442,0.6420313019379538,0.6555506783596123,0.6545961242298761,0.6469540368410102,0.651283239820689,0.8065830882907113,0.7701693459933654,0.7897689698710993,0.7995994495091701,0.7724058033362676,0.7466169001334104,0.7391297911489948,0.7407886764462298,0.7139779248359719,0.6723013329200123,0.6490342799166872,0.6466099966837924,0.6255051024590873,0.7268187249512377,0.7811627915256382,0.7797282676773667,0.7886373572911721,0.7836734370573079,0.7940271591114402,0.7870922273925539,0.7917775655235253,0.7952653604784354,0.7856750883205789,0.7794082035217307,0.7826366824148802,0.8032714408861156,0.618685812886008,0.6921480304193732,0.7447581661109003,0.7648240963704693,0.7693930753516247,0.7315020239535301,0.7136123405417141,0.7042418795170684,0.6989021405621728,0.746596254647577,0.7449359706128893,0.7502351406148406,0.767645715795834,0.780668200512067,0.7719038654275151,0.7888374492932045,0.7865638958922611,0.7799968071282579,0.7663268687172875,0.7549688188768783,0.7469330714941858,0.7357264548351427,0.7534825396706542,0.7695842648805955,0.7526853680867696,0.6921160831726183,0.7552423800277079,0.7878781757298299,0.7972165223029044,0.7891960636949326,0.745757441855856,0.7385069210317816,0.7381140971526546,0.7223031662846608,0.716048086809613,0.7123921859945117,0.6805946705345626,0.6751498122067855,0.658840841653468,0.6819820547231445,0.7412316501572104,0.7322395280507435,0.7447974829739643,0.762093587935041,0.7645205338312225,0.7433622008931601,0.6927944706598849,0.6690750319260418,0.6581319409251005,0.7518440816686298,0.7512994424682173,0.7403927293546996,0.7430687171680747,0.7747092784598122,0.7790069470249469,0.7605864463174653,0.754680241974668,0.7404996439072616,0.7393626343575588,0.7294376636127985,0.7587774532851435,0.748399856862452,0.7207268365735432,0.7095216749797975,0.7422460594912594,0.7501887337058702,0.7518845868270487,0.7582751829789888,0.7557485460469668,0.7567932797968024,0.7511026068537825,0.7559684081915553,0.7586514768322766,0.7681667397581887,0.6873974801700183,0.6502407536421078,0.6294992892814357,0.671662096780603,0.6810558841237524,0.6828124136137469,0.6745381866051054,0.6610859006111162,0.6709074179237712,0.69098271058103,0.6942950096552457,0.678536516844418,0.6560053136249792,0.6558344717685856,0.6633071482858878,0.654219483155147,0.6347002377623119,0.6474647410221137,0.6473612390749082,0.6620314726986763,0.6643475607422186,0.6746322217649643,0.6736702380412171,0.6920294094973147,0.7018996210648605,0.7732492993416946,0.7695328682417663,0.7830226741167041,0.7937540374377795,0.7906336879286362,0.7947669640391911,0.8121836987774578,0.8205937446047163,0.8061105508324856,0.7883091035494039,0.7836631830984742,0.7800258067596756,0.7736699719993755,0.7746220737168793,0.7597456961273807,0.7622593719239126,0.7551568666746596,0.7530747598273096,0.7615434460768743,0.7614732940896353,0.7521100822556546,0.7538881787347324,0.7476876062772335,0.7517273700791552,0.7481398888797159,0.7676788557936522,0.7924073486384489,0.776426635702528,0.7608863277621075,0.7715750039360693,0.7604371477051162,0.7570938216276697,0.745818702307093,0.7438169992805991,0.7328650716157273,0.725331541093453,0.7118519073711875,0.7114219513534985,0.7236379652843746,0.7407250763684674,0.7568278808825207,0.757068279778586,0.7955755292045342,0.7932552109234309,0.789662773542825,0.7873075945907917,0.7944784600375722,0.7972565949539893,0.7982382292551261,0.7868494894694675,0.7010885054628065,0.7314943391392928,0.7514229249443053,0.7840506978008072,0.7983111121120549,0.8043192658440325,0.8014433063937979,0.7839220717047054,0.7795832020741967,0.763420426019816,0.7540245421235297,0.7321246566548901,0.7182773292071205,0.7088036810234636,0.7568978437947675,0.7694135269337834,0.7638655067605168,0.7542415654555554,0.7593448182037199,0.7544741037695186,0.7601284110703012,0.7545474013088077,0.7466377554098308,0.7555444177999869,0.7620253400567628],\"type\":\"violin\",\"xaxis\":\"x\",\"yaxis\":\"y\",\"meanline\":{\"visible\":false},\"box\":{\"visible\":true},\"orientation\":\"h\",\"points\":false,\"side\":\"positive\",\"width\":3},{\"line\":{\"color\":\"rgb(40.0, 61.0, 59.0)\"},\"name\":\"1.0\",\"x\":[0.44313354257446247,0.44646650850252617,0.5198316763455666,0.5636048258203866,0.5959654985311217,0.609563611614241,0.6174256118876863,0.6164934789555493,0.6151482089675153,0.618299957044931,0.6144763192396646,0.5861789629854408,0.5972526364272142,0.5964181833850809,0.5553769436584044,0.5499294546499792,0.5354341589778754,0.5389753157050732,0.5438293709636042,0.5433223768527417,0.5385076126880611,0.537563227403607,0.5284195656158693,0.5258018315760727,0.5218302971963628,0.45230581496698247,0.46623057978145993,0.47909939327488854,0.5243400462466852,0.5250847809897019,0.5562001357604089,0.5478097533167964,0.48747347991342327,0.41644891715971616,0.47803117723691835,0.5137230120293552,0.5324220144771701,0.5184996753261017,0.46301072433306817,0.4773792517805681,0.4913077448256531,0.4857000196783536,0.49956251786745237,0.46978254497732197,0.43725910502765597,0.42461687809064197,0.4396328925648455,0.4633389252490455,0.4619492665691127,0.47156298257248874,0.5741158644290204,0.5544051739715062,0.5806913762725177,0.5665972050278678,0.5503118123095394,0.5438665528962668,0.5541722974248434,0.5581703822635504,0.5383516196685472,0.5264877811675718,0.5403666117434598,0.49760666892166244,0.5253892255767791,0.57362056436012,0.5746038729457987,0.5937027813088408,0.5985116214992118,0.5893782764541289,0.5950284603613776,0.5918287532406399,0.5944407513791863,0.589534424249869,0.5818670701333614,0.5780767745461782,0.5826316740774181,0.5482034763588177,0.5090880924699857,0.5198918432920931,0.5445348927697922,0.579849603434005,0.5655136773034164,0.5487048450865116,0.5660541875946958,0.5707355261254066,0.5883538375545472,0.5786095218607267,0.5731576357223904,0.561091062154574,0.5700219385228645,0.5964485619592864,0.6045164239151728,0.6129892417881867,0.6061054498552957,0.5966288064275616,0.5855529016836057,0.580287470836328,0.580952464454992,0.5776657280852027,0.5801129376360484,0.5859721052502455,0.5145316585767052,0.5151499293766338,0.5387854170370698,0.5514270168410229,0.5686188474787665,0.56312421422131,0.5106592464897121,0.49949561992217983,0.5216272458677079,0.5129936866061411,0.5268807531097236,0.5390444666192014,0.5108034365147813,0.5233437760113996,0.5065691996367576,0.5255992820337121,0.5608105070780055,0.5565804185977373,0.5588173076150651,0.5661516280778113,0.5650568030796722,0.5211100463616483,0.4748102481497968,0.48485604776034574,0.47582082685094534,0.5829591999054454,0.5339459417491936,0.54590347813628,0.5536362475844884,0.5679630858149313,0.5716964058976007,0.5664849319407941,0.5654741019728544,0.5465849204639966,0.5319866563271155,0.5176437126792645,0.544518667931071,0.5745360015045068,0.5746783927166954,0.5771842174864273,0.6008043100638442,0.576269767788978,0.5556800192018969,0.5505533069409044,0.5591040235504819,0.5591958694641666,0.5491892554094139,0.5475627783482947,0.5553793638602319,0.5805579109721781,0.5771840553317774,0.5598738975329521,0.5750181994613132,0.5852261788114529,0.5915595885915776,0.586098042448387,0.5830817927875104,0.5783483229353884,0.5867080313803402,0.5896816947095628,0.5777473031261755,0.5724145487208416,0.5697490138183993,0.5686759302002502,0.5744890355240195,0.5628257746761228,0.5443290028480543,0.5432139416761883,0.5627300053597247,0.5632398338970954,0.5648944261333895,0.5615266743749938,0.5569556531447759,0.5701666826548941,0.5740105784040495,0.5817294449873479,0.5946137179938491,0.5876882675610166,0.6110084928500338,0.6115201678585646,0.6081003303998385,0.6190631035097625,0.6197844843491955,0.6083867327851015,0.5947311532292406,0.5878289944125954,0.5940163469161526,0.6052154992154737,0.5830165252820789,0.5542213187321181,0.566360164030079,0.5692181811465072,0.573242608385964,0.5850936011185964,0.580573899101494,0.5674280698481962,0.5713059079801835,0.5744811992984306,0.575853743230026,0.5728017746291779,0.5995606695171668,0.6138485787764425,0.6069526413813514,0.6051032768317439,0.5930230933021661,0.5806618616355521,0.583460083190398,0.5777817141113764,0.5722438752325762,0.5698210229109657,0.5676243060143175,0.5554857252309987,0.5560864262178593,0.5728999749879264,0.5632723991579714,0.5730378847872956,0.5766518216696571,0.6053523002172118,0.6087001987327963,0.6090970339559512,0.6121430066334151,0.6197828196828827,0.6123388602721916,0.6116035062322408,0.6067387701217231,0.49154551276610486,0.49676879938978913,0.5360494422388119,0.5625115248377339,0.5846172395522532,0.5907989593455553,0.5961710709181969,0.5835990556776611,0.5753403087623303,0.5683030358782482,0.5650451731657218,0.5456088740719224,0.5456064359409146,0.515557468954855,0.5529353679218283,0.5596354410087384,0.564760927081435,0.5519594998216183,0.5406022124741647,0.5357663252506634,0.5308533530314439,0.5139787139246444,0.4934928087978995,0.4895194826566521,0.4928615805377702],\"type\":\"violin\",\"xaxis\":\"x\",\"yaxis\":\"y\",\"meanline\":{\"visible\":false},\"box\":{\"visible\":true},\"orientation\":\"h\",\"points\":false,\"side\":\"positive\",\"width\":3},{\"line\":{\"color\":\"rgb(25.0, 114.0, 120.0)\"},\"name\":\"0.0\",\"x\":[8.32993147695132,5.7142858505248,4.517539622232711,4.224438359556306,4.517539622232711,4.770838837012164,5.15078765918138,5.15078765918138,5.15078765918138,5.89015103417155,4.517539622232711,4.517539622232711,5.15078765918138,4.040610274544425,4.517539622232711,4.517539622232711,5.15078765918138,4.517539622232711,4.517539622232711,5.15078765918138,5.15078765918138,5.15078765918138,5.696864310762528,5.89015103417155,6.208448087542844,27.41181075505779,11.4285717010496,10.0000002384184,7.693092765038203,7.529581164830228,9.035079244465422,10.0000002384184,26.609839293247024,35.9190227948738,36.58928222911493,42.70137568588855,38.06701374152937,9.583148703478992,10.0000002384184,10.0000002384184,8.5714287757872,10.879676124911361,9.645676433719894,11.401126922242682,14.708043409219668,14.568627529036549,13.170778110148273,15.7142860889432,17.231886519687635,14.811383674486027,4.2857143878936,5.15078765918138,4.2857143878936,4.040610274544425,4.517539622232711,5.15078765918138,5.15078765918138,5.15078765918138,5.89015103417155,7.142857313156,7.468264314752237,7.142857313156,7.220658361405248,5.7142858505248,5.7142858505248,3.194382901159664,3.321317007167359,4.040610274544425,4.040610274544425,3.194382901159664,3.194382901159664,3.194382901159664,3.194382901159664,4.040610274544425,4.040610274544425,11.517511343596583,4.2857143878936,7.638069219849985,6.388765802319328,5.15078765918138,4.2857143878936,4.517539622232711,4.549202024080134,5.15078765918138,5.15078765918138,4.2857143878936,6.208448087542844,6.388765802319328,5.7142858505248,4.2857143878936,4.517539622232711,4.040610274544425,4.2857143878936,5.7142858505248,5.7142858505248,6.388765802319328,7.142857313156,7.142857313156,7.142857313156,5.872564515806876,5.7142858505248,2.8571429252624,4.175417536886466,2.8571429252624,3.194382901159664,4.320488173044468,5.15078765918138,5.15078765918138,5.15078765918138,5.055800453639075,5.7142858505248,5.488886573987429,6.388765802319328,7.142857313156,6.91662985990499,7.142857313156,7.693092765038203,8.5714287757872,7.6726538150122,7.142857313156,8.202563734568685,9.803449347367591,12.528224220564768,14.285714626312,15.370588520971193,4.040610274544425,4.517539622232711,4.1141415085491735,4.517539622232711,5.15078765918138,5.460711664420251,5.15078765918138,5.15078765918138,5.7142858505248,5.7142858505248,5.898689253053802,5.89015103417155,6.388765802319328,6.043838974052129,6.331400887151478,5.758252146436488,5.7142858505248,5.7142858505248,4.517539622232711,4.320488173044468,4.2857143878936,4.040610274544425,4.040610274544425,4.040610274544425,4.089631097214257,8.5714287757872,8.689660964746386,9.614031840837203,8.948724674535663,10.0000002384184,10.0000002384184,10.0000002384184,10.0000002384184,10.0000002384184,8.5714287757872,8.5714287757872,7.884144378612127,8.378230936718492,8.5714287757872,8.39030580166029,9.583148703478992,10.0000002384184,10.0000002384184,10.0000002384184,8.689660964746386,8.5714287757872,8.438605261427464,8.40238066660208,7.693092765038203,7.820460507420819,4.273459182226139,4.040610274544425,4.040610274544425,3.194382901159664,3.0594869108007567,2.8571429252624,2.8571429252624,2.9583149180315735,3.490562481844325,3.194382901159664,3.194382901159664,3.194382901159664,4.040610274544425,4.2857143878936,4.2857143878936,4.040610274544425,4.390035743346198,4.517539622232711,4.3436706964783784,4.517539622232711,5.15078765918138,5.15078765918138,4.517539622232711,4.517539622232711,4.517539622232711,5.793425183165836,4.040610274544425,4.040610274544425,4.2857143878936,4.2857143878936,6.060915411816636,5.89015103417155,5.15078765918138,5.89015103417155,6.388765802319328,6.388765802319328,6.5018795289448335,7.142857313156,5.740665628071814,5.15078765918138,4.517539622232711,4.2857143878936,3.194382901159664,3.194382901159664,4.2857143878936,4.2857143878936,4.2857143878936,5.15078765918138,5.15078765918138,5.15078765918138,7.570459064882219,7.142857313156,5.7142858505248,4.517539622232711,4.040610274544425,3.9982989058751772,4.2857143878936,5.15078765918138,5.7142858505248,75.81063254516141,74.85767082722667,21.90341797032156,6.501879528944811,7.142857313156,5.7142858505248,5.15078765918138,5.15078765918138,5.7142858505248,5.657936031390445,5.7142858505248,5.629761121823284,5.15078765918138,5.7142858505248,5.7142858505248,70.56622474087699],\"type\":\"violin\",\"xaxis\":\"x2\",\"yaxis\":\"y2\",\"meanline\":{\"visible\":false},\"box\":{\"visible\":true},\"orientation\":\"h\",\"points\":false,\"side\":\"positive\",\"width\":3},{\"line\":{\"color\":\"rgb(27.5, 105.16666666666667, 109.83333333333333)\"},\"name\":\"0.001\",\"x\":[6.577288680028496,6.060915411816636,5.15078765918138,4.2857143878936,4.2857143878936,3.194382901159664,3.194382901159664,3.194382901159664,3.194382901159664,4.05286548021188,4.040610274544425,4.040610274544425,4.040610274544425,3.194382901159664,3.194382901159664,4.2857143878936,4.675851631469878,4.2857143878936,4.273459182226139,4.2857143878936,4.2857143878936,4.517539622232711,4.401627005063156,4.2857143878936,4.517539622232711,10.101525686361061,7.2843137645182745,5.89015103417155,3.321317007167359,3.194382901159664,4.040610274544425,4.2857143878936,4.401627005063156,4.517539622232711,5.15078765918138,94.76601711100233,6.060915411816636,5.89015103417155,7.270168119382044,7.142857313156,5.7142858505248,4.517539622232711,4.2857143878936,5.119125257333939,6.388765802319328,6.060915411816636,5.7142858505248,7.2843137645182745,7.693092765038203,7.693092765038203,3.194382901159664,4.3436706964783784,3.194382901159664,3.194382901159664,4.040610274544425,4.2857143878936,4.101886302881719,4.040610274544425,4.517539622232711,5.15078765918138,5.89015103417155,5.15078765918138,5.802218442348176,3.194382901159664,2.8571429252624,4.040610274544425,4.040610274544425,3.913676168536706,3.194382901159664,3.575185219182797,3.194382901159664,3.194382901159664,2.8571429252624,3.194382901159664,3.194382901159664,8.40238066660208,12.460009714322997,12.825298540063942,7.142857313156,4.739176435164741,4.2857143878936,5.7142858505248,6.060915411816636,5.89015103417155,7.142857313156,4.517539622232711,4.517539622232711,5.15078765918138,4.2857143878936,3.2790056384981354,4.2857143878936,4.2857143878936,5.15078765918138,4.2857143878936,4.065120685879341,4.2857143878936,4.2857143878936,4.2857143878936,4.2857143878936,2.8571429252624,4.040610274544425,4.2857143878936,3.194382901159664,2.8571429252624,2.8571429252624,3.194382901159664,4.040610274544425,4.834163640707045,5.9915894995582635,5.629761121823284,6.388765802319328,7.142857313156,6.388765802319328,5.15078765918138,5.15078765918138,4.040610274544425,4.2857143878936,5.7142858505248,5.828598219895189,5.7142858505248,4.413218266780107,4.2857143878936,4.2857143878936,4.2857143878936,4.2857143878936,4.040610274544425,5.749458887254148,7.142857313156,5.15078765918138,4.2857143878936,3.2366942698288876,4.101886302881719,4.040610274544425,4.040610274544425,4.040610274544425,4.517539622232711,3.194382901159664,4.05286548021188,7.142857313156,7.142857313156,6.208448087542844,5.7142858505248,5.15078765918138,5.15078765918138,4.517539622232711,5.15078765918138,5.15078765918138,4.517539622232711,4.517539622232711,4.517539622232711,8.5714287757872,7.2843137645182745,5.872564515806876,5.7142858505248,5.863771256624537,7.142857313156,7.2843137645182745,8.5714287757872,7.225392630938334,7.142857313156,7.406947464674246,8.5714287757872,8.5714287757872,8.583251994683119,8.5714287757872,9.391324392824247,10.060915507183996,10.0000002384184,10.0000002384184,9.172096609218814,8.595075213579037,8.5714287757872,8.5714287757872,8.5714287757872,8.32993147695132,3.194382901159664,2.8571429252624,4.2857143878936,5.15078765918138,4.517539622232711,4.2857143878936,2.8571429252624,2.8571429252624,2.8571429252624,2.8571429252624,3.194382901159664,4.2857143878936,4.2857143878936,4.163162331219012,3.194382901159664,2.8571429252624,3.194382901159664,4.2857143878936,4.2857143878936,4.126396714216635,4.2857143878936,4.2857143878936,4.2857143878936,4.2857143878936,4.2857143878936,4.2857143878936,3.194382901159664,2.8571429252624,3.194382901159664,4.2857143878936,4.517539622232711,5.15078765918138,5.15078765918138,5.7142858505248,5.723079109707134,5.915765690818315,6.110092970392042,5.89015103417155,5.15078765918138,5.15078765918138,4.2857143878936,4.040610274544425,2.8571429252624,2.8571429252624,4.067448090546795,4.2857143878936,3.194382901159664,4.040610274544425,3.194382901159664,4.2857143878936,4.517539622232711,5.15078765918138,4.2857143878936,4.040610274544425,4.040610274544425,3.194382901159664,4.2857143878936,4.2857143878936,4.517539622232711,4.2857143878936,4.2857143878936,5.793425183165836,8.5714287757872,7.590898014908221,4.2857143878936,4.2857143878936,4.2857143878936,4.040610274544425,4.261203976558677,4.2857143878936,4.2857143878936,4.2857143878936,4.2857143878936,4.236693565223761,4.224438359556306],\"type\":\"violin\",\"xaxis\":\"x2\",\"yaxis\":\"y2\",\"meanline\":{\"visible\":false},\"box\":{\"visible\":true},\"orientation\":\"h\",\"points\":false,\"side\":\"positive\",\"width\":3},{\"line\":{\"color\":\"rgb(30.0, 96.33333333333333, 99.66666666666667)\"},\"name\":\"0.005\",\"x\":[5.15078765918138,5.89015103417155,5.15078765918138,4.2857143878936,4.517539622232711,4.040610274544425,3.194382901159664,3.194382901159664,3.829053431198235,4.040610274544425,3.194382901159664,4.2857143878936,4.2857143878936,3.194382901159664,3.194382901159664,3.194382901159664,4.040610274544425,4.040610274544425,3.194382901159664,3.194382901159664,4.366853219912287,4.517539622232711,4.517539622232711,3.490562481844325,4.040610274544425,10.71184451261824,10.36565356264643,7.142857313156,5.15078765918138,4.517539622232711,5.15078765918138,9.035079244465422,85.15504062538582,101.02636743091996,28.03727955597214,27.93092811533133,18.952536724110363,14.285714626312,10.30157531836276,9.035079244465422,7.693092765038203,8.5714287757872,7.142857313156,8.061814159886314,10.759796401844854,9.113648163434737,8.5714287757872,10.663892623391641,10.101525686361061,9.365234630378861,4.517539622232711,10.151538094361486,7.142857313156,5.7142858505248,5.7142858505248,6.060915411816636,7.105152737614158,7.142857313156,13.552618866698133,24.98547029796045,40.45143247772324,43.55937578296758,40.632751406839226,28.344803838760694,17.88274748127834,9.08558783523141,5.15078765918138,5.15078765918138,4.517539622232711,5.15078765918138,4.517539622232711,4.517539622232711,4.517539622232711,5.15078765918138,4.517539622232711,11.263903028208121,12.691759853019061,21.34602980919376,8.5714287757872,5.89015103417155,6.388765802319328,7.142857313156,9.040691310106086,10.101525686361061,6.077307931341766,5.686110940957622,16.455459740051325,17.285060113528978,6.388765802319328,4.517539622232711,4.2857143878936,5.7142858505248,7.142857313156,7.142857313156,5.89015103417155,5.15078765918138,4.517539622232711,5.15078765918138,4.707514033317301,4.101886302881719,6.08959694143065,5.15078765918138,4.2857143878936,4.3436706964783784,3.617496587852044,4.2857143878936,7.213585538837138,7.24187682910959,7.6726538150122,8.5714287757872,8.5714287757872,8.143398281054466,8.595075213579037,9.035079244465422,8.093656095481968,7.142857313156,5.89015103417155,5.89015103417155,5.7142858505248,5.7142858505248,5.89015103417155,7.029743586530495,9.786830318133482,9.113648163434737,9.744196334076491,4.517539622232711,4.2857143878936,4.517539622232711,5.15078765918138,5.404361845285913,5.15078765918138,5.15078765918138,5.7142858505248,5.7142858505248,5.7142858505248,5.749458887254148,5.749458887254148,6.388765802319328,5.89015103417155,6.388765802319328,5.723079109707134,5.15078765918138,5.15078765918138,5.15078765918138,4.580864425927574,4.517539622232711,5.15078765918138,5.15078765918138,4.739176435164741,5.15078765918138,7.693092765038203,8.32993147695132,6.388765802319328,5.7142858505248,5.7142858505248,6.289042848689764,6.464174953402991,7.142857313156,5.89015103417155,6.114527679838044,6.690402406654001,7.142857313156,7.171148603428453,7.2843137645182745,7.142857313156,7.345630614596265,9.089886190366776,10.0000002384184,10.0000002384184,9.035079244465422,8.5714287757872,8.5714287757872,8.5714287757872,7.693092765038203,7.75677663622951,4.2857143878936,4.2857143878936,4.040610274544425,4.2857143878936,4.517539622232711,4.2857143878936,3.194382901159664,3.194382901159664,4.040610274544425,4.040610274544425,4.2857143878936,4.040610274544425,4.2857143878936,4.2857143878936,4.297305649610552,4.2857143878936,4.2857143878936,4.2857143878936,4.2857143878936,4.2857143878936,4.517539622232711,4.517539622232711,4.2857143878936,4.2857143878936,4.2857143878936,4.2857143878936,3.194382901159664,3.194382901159664,4.040610274544425,4.163162331219012,5.15078765918138,5.15078765918138,5.15078765918138,5.15078765918138,5.7142858505248,5.7142858505248,5.949918566347329,5.15078765918138,5.15078765918138,5.15078765918138,4.2857143878936,3.194382901159664,4.040610274544425,3.194382901159664,2.8571429252624,2.8571429252624,2.8571429252624,3.194382901159664,3.194382901159664,4.040610274544425,6.91662985990499,5.863771256624537,5.89015103417155,5.15078765918138,4.517539622232711,4.2857143878936,4.2857143878936,4.2857143878936,4.2857143878936,5.115912736378756,4.2857143878936,5.7142858505248,7.142857313156,7.248949651677705,6.039735464615875,5.7142858505248,5.7142858505248,6.388765802319328,7.067448162072316,7.142857313156,7.142857313156,7.142857313156,7.256022474245817,7.142857313156,7.142857313156],\"type\":\"violin\",\"xaxis\":\"x2\",\"yaxis\":\"y2\",\"meanline\":{\"visible\":false},\"box\":{\"visible\":true},\"orientation\":\"h\",\"points\":false,\"side\":\"positive\",\"width\":3},{\"line\":{\"color\":\"rgb(32.5, 87.5, 89.5)\"},\"name\":\"0.05\",\"x\":[9.102424032153406,8.724202792718287,5.15078765918138,4.2857143878936,4.517539622232711,4.37844448162924,4.517539622232711,5.15078765918138,5.15078765918138,5.89015103417155,5.573411302688945,5.9840714418763445,5.15078765918138,4.224438359556306,4.2857143878936,4.2857143878936,5.15078765918138,4.2857143878936,4.2857143878936,4.2857143878936,4.2857143878936,4.2857143878936,4.040610274544425,5.15078765918138,5.7142858505248,11.4285717010496,7.945375824671115,7.693092765038203,4.517539622232711,4.2857143878936,5.15078765918138,5.89015103417155,7.142857313156,7.142857313156,8.498979586136432,8.5714287757872,8.46275499131105,8.5714287757872,11.373682143435765,10.0000002384184,8.107037927781715,8.5714287757872,7.142857313156,7.142857313156,10.0000002384184,10.310567768760048,10.964105595908583,10.663892623391641,10.0000002384184,10.0000002384184,3.194382901159664,3.194382901159664,2.8571429252624,3.617496587852044,4.517539622232711,5.15078765918138,5.15078765918138,5.15078765918138,6.388765802319328,7.142857313156,7.555533902067651,12.777531604638655,10.935240860534051,6.388765802319328,5.7142858505248,4.040610274544425,5.15078765918138,4.517539622232711,4.040610274544425,4.390035743346198,4.37844448162924,4.040610274544425,3.194382901159664,4.040610274544425,4.040610274544425,3.194382901159664,10.44610051999991,10.265653987618563,7.142857313156,5.7142858505248,5.376186935718751,6.388765802319328,7.142857313156,7.142857313156,6.060915411816636,4.2857143878936,4.1509071255515515,3.194382901159664,4.040610274544425,3.194382901159664,4.040610274544425,4.040610274544425,4.040610274544425,3.194382901159664,3.194382901159664,4.040610274544425,4.040610274544425,4.040610274544425,4.2857143878936,4.040610274544425,5.89015103417155,5.966995004111837,5.460711664420251,4.2857143878936,4.2857143878936,4.320488173044468,4.2857143878936,4.401627005063156,4.517539622232711,4.4827658370818435,5.15078765918138,5.7142858505248,6.388765802319328,7.142857313156,7.142857313156,6.039735464615875,5.7142858505248,5.178962568748541,5.686110940957622,5.15078765918138,5.601586212256106,6.388765802319328,8.32993147695132,8.5714287757872,8.654191308058628,4.040610274544425,4.248948770891222,4.040610274544425,4.2857143878936,4.248948770891222,3.194382901159664,4.040610274544425,4.2857143878936,4.517539622232711,5.7142858505248,5.7142858505248,5.7142858505248,5.881357774989211,5.89015103417155,6.323195724218784,5.15078765918138,5.15078765918138,5.15078765918138,4.517539622232711,4.355261958195329,4.413218266780107,4.517539622232711,4.517539622232711,4.366853219912287,4.126396714216635,7.142857313156,7.142857313156,7.142857313156,7.142857313156,7.142857313156,7.142857313156,7.3047527145442634,8.366156071776702,7.498979562294576,7.73639439505366,7.795748103243405,7.500510356879435,7.417975039097102,8.088343969875242,7.178221425996569,8.595075213579037,9.979157661671426,8.648279698610672,8.630544870266792,8.176177570950136,8.5714287757872,8.5714287757872,8.5714287757872,8.378230936718492,7.206512716269022,4.040610274544425,3.194382901159664,3.194382901159664,4.040610274544425,4.040610274544425,4.187672742553929,3.194382901159664,2.8571429252624,2.8571429252624,2.8571429252624,4.040610274544425,4.517539622232711,4.2857143878936,4.517539622232711,4.517539622232711,4.2857143878936,5.15078765918138,5.348012026151573,4.770838837012164,5.348012026151573,5.15078765918138,5.7142858505248,5.723079109707134,5.7142858505248,5.7142858505248,4.040610274544425,2.8571429252624,2.8571429252624,3.194382901159664,3.194382901159664,4.040610274544425,4.040610274544425,4.308896911327509,5.15078765918138,5.89015103417155,5.89015103417155,6.060915411816636,5.15078765918138,4.739176435164741,4.517539622232711,3.194382901159664,4.261203976558684,2.8571429252624,3.913676168536706,3.1437969047750727,2.8571429252624,2.8571429252624,3.194382901159664,2.8571429252624,3.532873850513573,6.186421816780962,5.629761121823284,5.7142858505248,5.7142858505248,4.401627005063156,4.505948360515752,4.2857143878936,4.517539622232711,4.390035743346198,4.2857143878936,4.2857143878936,5.7142858505248,7.142857313156,8.511054451078229,6.614993255570317,4.517539622232711,4.505948360515752,5.657936031390445,5.7142858505248,5.7142858505248,6.287593809550145,7.142857313156,7.142857313156,5.89015103417155,5.7142858505248],\"type\":\"violin\",\"xaxis\":\"x2\",\"yaxis\":\"y2\",\"meanline\":{\"visible\":false},\"box\":{\"visible\":true},\"orientation\":\"h\",\"points\":false,\"side\":\"positive\",\"width\":3},{\"line\":{\"color\":\"rgb(35.0, 78.66666666666666, 79.33333333333334)\"},\"name\":\"0.1\",\"x\":[5.15078765918138,5.89015103417155,5.15078765918138,4.040610274544425,4.040610274544425,3.532873850513549,4.040610274544425,3.194382901159664,3.194382901159664,3.194382901159664,3.194382901159664,3.194382901159664,3.194382901159664,3.194382901159664,3.194382901159664,3.194382901159664,4.040610274544425,3.9982989058751772,3.194382901159664,3.194382901159664,4.2857143878936,4.2857143878936,4.865826042554468,4.2857143878936,4.897488444401908,7.142857313156,6.388765802319328,7.142857313156,4.37844448162924,4.517539622232711,4.517539622232711,5.15078765918138,5.7142858505248,7.693092765038203,6.1643891566528195,5.7142858505248,7.142857313156,7.142857313156,8.5714287757872,9.035079244465422,5.7142858505248,5.7142858505248,7.142857313156,7.142857313156,8.267753744985702,7.964782213873651,8.5714287757872,11.4285717010496,10.639916678778347,8.5714287757872,4.2857143878936,4.517539622232711,4.040610274544425,4.718251023537491,4.224438359556306,5.15078765918138,5.15078765918138,5.15078765918138,6.060915411816636,28.75886556600483,43.384836573634075,46.6761107541477,40.312872370642374,16.086230461225945,6.8035161332794845,4.040610274544425,4.2857143878936,4.2857143878936,4.040610274544425,5.15078765918138,5.15078765918138,4.675851631469878,5.15078765918138,6.060915411816636,5.15078765918138,3.2366942698288876,17.15657549819038,35.015296315790664,6.077307931341766,4.040610274544425,3.194382901159664,4.040610274544425,4.517539622232711,4.517539622232711,5.7142858505248,4.2857143878936,5.828598219895189,4.2857143878936,4.040610274544425,3.194382901159664,3.194382901159664,3.490562481844325,3.194382901159664,4.040610274544425,4.2857143878936,5.15078765918138,5.15078765918138,5.15078765918138,5.657936031390461,5.15078765918138,5.7142858505248,2.8571429252624,2.8571429252624,3.194382901159664,4.2857143878936,4.2857143878936,4.770838837012183,4.401627005063156,4.040610274544425,4.040610274544425,4.040610274544425,4.040610274544425,4.517539622232711,4.517539622232711,5.7142858505248,7.406947464674246,8.32993147695132,10.111528167961142,11.114703578791712,11.37435732144464,13.123875446414175,14.324741082163186,15.33611988547762,16.453478419471335,17.039553752056854,4.2857143878936,5.15078765918138,5.15078765918138,5.15078765918138,4.2857143878936,5.15078765918138,4.992475649944213,4.517539622232711,4.517539622232711,4.549202024080134,5.15078765918138,5.15078765918138,5.207137478315719,4.517539622232711,5.15078765918138,4.517539622232711,5.15078765918138,4.517539622232711,5.15078765918138,4.517539622232711,5.119125257333939,5.15078765918138,5.119125257333939,4.739176435164741,5.15078765918138,7.142857313156,7.693092765038203,7.142857313156,7.142857313156,7.2843137645182745,7.142857313156,8.07519599218607,8.5714287757872,7.142857313156,5.96494324939372,6.388765802319328,7.142857313156,7.142857313156,7.142857313156,7.142857313156,7.157002958292226,8.5714287757872,8.5714287757872,8.5714287757872,7.2843137645182745,7.142857313156,7.142857313156,7.142857313156,7.142857313156,7.142857313156,5.15078765918138,4.517539622232711,4.2857143878936,4.2857143878936,4.2857143878936,5.7142858505248,4.2857143878936,4.040610274544425,3.194382901159664,4.2857143878936,4.2857143878936,4.2857143878936,5.235587359207957,4.517539622232711,4.2857143878936,4.517539622232711,5.7142858505248,7.142857313156,5.89015103417155,5.7142858505248,5.89015103417155,6.060915411816636,5.89015103417155,5.7142858505248,5.7142858505248,3.490562481844325,3.194382901159664,3.194382901159664,3.194382901159664,3.194382901159664,4.494357098798801,5.15078765918138,4.517539622232711,5.7142858505248,5.941380347465074,6.060915411816636,6.060915411816636,5.7142858505248,5.775838664801162,5.15078765918138,4.19992794822139,3.194382901159664,3.194382901159664,3.194382901159664,4.040610274544425,4.077375891546803,4.065120685879341,3.194382901159664,2.8571429252624,2.8571429252624,7.142857313156,7.142857313156,7.142857313156,5.7142858505248,5.7142858505248,4.505948360515752,4.2857143878936,5.15078765918138,5.7142858505248,6.516504173663776,6.70441011551145,7.863515519589276,8.5714287757872,7.2843137645182745,7.142857313156,5.7142858505248,5.881357774989211,7.142857313156,8.547279045903608,8.32993147695132,8.5714287757872,9.785714519023712,10.340430923388475,9.404451155732456,8.5714287757872],\"type\":\"violin\",\"xaxis\":\"x2\",\"yaxis\":\"y2\",\"meanline\":{\"visible\":false},\"box\":{\"visible\":true},\"orientation\":\"h\",\"points\":false,\"side\":\"positive\",\"width\":3},{\"line\":{\"color\":\"rgb(37.5, 69.83333333333333, 69.16666666666667)\"},\"name\":\"0.5\",\"x\":[8.08122054908885,8.08122054908885,5.8725645158068716,5.15078765918138,4.517539622232711,4.040610274544425,4.040610274544425,4.040610274544425,4.040610274544425,5.15078765918138,5.15078765918138,4.2857143878936,4.644189229622437,3.194382901159664,3.194382901159664,4.2857143878936,4.2857143878936,4.2857143878936,4.2857143878936,4.2857143878936,4.2857143878936,4.517539622232711,5.15078765918138,4.517539622232711,5.15078765918138,7.142857313156,7.142857313156,7.142857313156,5.15078765918138,4.2857143878936,4.517539622232711,4.517539622232711,5.7142858505248,101.14901292666262,102.00490371223098,98.99495172633841,7.142857313156,7.142857313156,8.32993147695132,7.263095296813933,6.035300755169872,6.323195724218784,5.89015103417155,7.142857313156,8.66010291750659,8.32993147695132,7.2843137645182745,8.32993147695132,8.45068012636926,8.32993147695132,2.8571429252624,4.040610274544425,3.194382901159664,4.040610274544425,4.2857143878936,5.15078765918138,5.15078765918138,5.15078765918138,5.7142858505248,6.321317807139879,7.142857313156,5.740665628071814,7.142857313156,4.2857143878936,4.040610274544425,4.2857143878936,4.0773758915467955,4.040610274544425,4.040610274544425,4.040610274544425,4.040610274544425,3.194382901159664,3.2790056384981354,4.040610274544425,4.040610274544425,2.8571429252624,11.157499803024825,9.136096425997401,5.723079109707134,4.2857143878936,4.2857143878936,5.15078765918138,5.15078765918138,5.15078765918138,5.15078765918138,4.2857143878936,5.15078765918138,5.89015103417155,4.2857143878936,3.194382901159664,3.194382901159664,3.194382901159664,3.194382901159664,3.194382901159664,4.040610274544425,4.2857143878936,4.320488173044468,4.517539622232711,4.2857143878936,4.040610274544425,4.2857143878936,5.15078765918138,4.2857143878936,2.8571429252624,2.8571429252624,2.8571429252624,3.2790056384981354,4.040610274544425,4.471174575364885,4.248948770891222,5.15078765918138,5.15078765918138,5.7142858505248,5.7142858505248,5.758252146436488,5.119125257333939,4.2857143878936,4.2857143878936,4.2857143878936,4.040610274544425,3.194382901159664,4.2857143878936,5.7142858505248,8.08122054908885,8.5714287757872,4.297305649610552,4.2857143878936,4.517539622232711,4.401627005063156,3.913676168536706,3.194382901159664,4.040610274544425,4.2857143878936,5.15078765918138,5.7142858505248,5.7142858505248,5.915765690818315,6.388765802319328,7.142857313156,7.142857313156,5.9243039097005665,5.15078765918138,4.2857143878936,4.517539622232711,4.517539622232711,4.2857143878936,4.2857143878936,4.040610274544425,4.040610274544425,4.040610274544425,8.5714287757872,8.176177570950136,7.631775914960211,8.5714287757872,9.662277890534863,8.896911932577805,9.017808330479467,9.583148703478992,8.5714287757872,8.366156071776702,7.2843137645182745,8.5714287757872,9.958315084924461,10.0000002384184,8.666014526954546,9.00053741649352,10.0000002384184,10.0000002384184,10.0000002384184,8.689660964746386,8.5714287757872,8.5714287757872,8.5714287757872,8.5714287757872,8.5714287757872,4.040610274544425,2.992038915621298,4.2857143878936,4.2857143878936,4.126396714216635,4.1509071255515515,3.194382901159664,2.8571429252624,2.8908669228521244,3.194382901159664,4.040610274544425,4.2857143878936,4.2857143878936,4.2857143878936,4.2857143878936,4.2857143878936,4.2857143878936,4.2857143878936,4.2857143878936,4.040610274544425,4.2857143878936,4.2857143878936,4.05286548021188,4.2857143878936,4.2857143878936,4.1509071255515515,2.8571429252624,3.194382901159664,4.040610274544425,3.194382901159664,3.194382901159664,4.040610274544425,4.366853219912287,5.15078765918138,5.949918566347329,5.89015103417155,5.89015103417155,6.388765802319328,5.915765690818315,5.15078765918138,3.194382901159664,3.194382901159664,2.8571429252624,2.8571429252624,2.8571429252624,3.194382901159664,2.9920389156213076,2.8571429252624,2.8571429252624,3.194382901159664,42.01554720130719,4.2857143878936,4.517539622232711,4.2857143878936,4.2857143878936,4.040610274544425,4.040610274544425,4.040610274544425,4.2857143878936,4.2857143878936,4.2857143878936,5.404361845285913,5.7142858505248,6.018224317405364,4.355261958195329,4.2857143878936,4.2857143878936,4.2857143878936,4.2857143878936,4.2857143878936,4.2857143878936,4.2857143878936,4.471174575364885,4.2857143878936,4.2857143878936],\"type\":\"violin\",\"xaxis\":\"x2\",\"yaxis\":\"y2\",\"meanline\":{\"visible\":false},\"box\":{\"visible\":true},\"orientation\":\"h\",\"points\":false,\"side\":\"positive\",\"width\":3},{\"line\":{\"color\":\"rgb(40.0, 61.0, 59.0)\"},\"name\":\"1.0\",\"x\":[8.08122054908885,9.035079244465422,6.001147879640852,4.2857143878936,4.2857143878936,4.040610274544425,4.2857143878936,4.517539622232711,4.2857143878936,4.2857143878936,4.517539622232711,5.7142858505248,5.15078765918138,4.040610274544425,4.2857143878936,4.517539622232711,5.7142858505248,5.7142858505248,5.7142858505248,5.601586212256106,5.15078765918138,5.15078765918138,5.898689253053802,5.863771256624537,5.7142858505248,12.259875627210617,9.035079244465422,8.5714287757872,6.69040240665398,5.89015103417155,5.15078765918138,5.7142858505248,8.5714287757872,12.936264791477802,9.035079244465422,7.142857313156,5.89015103417155,7.213585538837138,10.0000002384184,8.5714287757872,7.234804006541475,7.693092765038203,7.142857313156,8.5714287757872,11.517511343596583,11.517511343596583,10.23155794716216,9.035079244465422,9.583148703478992,9.035079244465422,4.517539622232711,5.291662207017235,4.517539622232711,5.15078765918138,5.15078765918138,5.7142858505248,5.7142858505248,5.7142858505248,7.142857313156,7.142857313156,7.751311932645801,9.583148703478992,7.142857313156,4.2857143878936,5.15078765918138,4.040610274544425,4.0773758915467955,4.2857143878936,4.040610274544425,4.1509071255515515,4.517539622232711,4.517539622232711,4.2857143878936,4.2857143878936,4.2857143878936,5.15078765918138,15.185922951681265,10.821866044256504,5.846184738259862,4.2857143878936,5.15078765918138,6.1920555680177145,5.15078765918138,4.517539622232711,5.15078765918138,5.15078765918138,4.2857143878936,5.7142858505248,4.2857143878936,3.0763489095956236,3.194382901159664,2.8571429252624,3.194382901159664,4.19992794822139,4.065120685879341,4.517539622232711,5.15078765918138,5.15078765918138,5.15078765918138,5.15078765918138,5.7142858505248,5.15078765918138,4.2857143878936,4.2857143878936,4.2857143878936,4.2857143878936,5.15078765918138,5.235312387882896,4.2857143878936,4.517539622232711,4.2857143878936,4.834163640707045,5.89015103417155,7.142857313156,7.142857313156,5.7142858505248,4.2857143878936,5.15078765918138,5.573411302688945,4.459583313647933,4.2857143878936,6.388765802319328,10.94351868185931,8.974553022831266,10.900722457626195,4.040610274544425,5.15078765918138,4.517539622232711,5.15078765918138,4.366853219912287,4.517539622232711,4.897488444401908,5.15078765918138,5.89015103417155,5.89015103417155,6.388765802319328,6.388765802319328,5.7142858505248,5.15078765918138,5.15078765918138,4.040610274544425,4.517539622232711,5.89015103417155,5.819804960712849,5.15078765918138,5.15078765918138,5.15078765918138,4.517539622232711,4.517539622232711,4.040610274544425,7.142857313156,7.199439893700907,7.142857313156,7.142857313156,7.142857313156,7.220658361405248,8.5714287757872,8.5714287757872,7.724934700633847,7.2843137645182745,7.2843137645182745,7.2843137645182745,7.142857313156,7.157002958292226,7.142857313156,7.693092765038203,8.5714287757872,8.5714287757872,8.498979586136432,7.2843137645182745,7.142857313156,7.142857313156,7.2843137645182745,7.142857313156,7.142857313156,4.2857143878936,3.194382901159664,5.15078765918138,4.101886302881719,4.2857143878936,4.2857143878936,4.2857143878936,3.194382901159664,3.194382901159664,3.194382901159664,4.2857143878936,4.2857143878936,5.415099293451778,5.7142858505248,6.08959694143065,5.7142858505248,4.517539622232711,4.2857143878936,4.2857143878936,4.2857143878936,4.2857143878936,4.2857143878936,4.517539622232711,4.2857143878936,4.2857143878936,3.194382901159664,2.8571429252624,2.8571429252624,2.8571429252624,3.194382901159664,4.2857143878936,5.15078765918138,5.7142858505248,5.7142858505248,5.723079109707134,5.740665628071814,5.7142858505248,5.7142858505248,5.15078765918138,5.142857265472312,4.517539622232711,3.744430693859764,3.194382901159664,2.8571429252624,2.8571429252624,2.8571429252624,2.8571429252624,2.8571429252624,2.8571429252624,3.194382901159664,8.5714287757872,7.142857313156,5.7142858505248,5.7142858505248,4.2857143878936,3.9982989058751772,4.040610274544425,4.2857143878936,4.390035743346198,5.15078765918138,4.92915084624935,5.7142858505248,5.89015103417155,7.142857313156,5.7142858505248,5.7142858505248,5.7142858505248,5.7142858505248,5.7142858505248,5.811011701530509,6.035300755169872,7.029743586530495,7.583045674661753,8.52312931602002,8.5714287757872],\"type\":\"violin\",\"xaxis\":\"x2\",\"yaxis\":\"y2\",\"meanline\":{\"visible\":false},\"box\":{\"visible\":true},\"orientation\":\"h\",\"points\":false,\"side\":\"positive\",\"width\":3}],                        {\"template\":{\"data\":{\"histogram2dcontour\":[{\"type\":\"histogram2dcontour\",\"colorbar\":{\"outlinewidth\":1,\"tickcolor\":\"rgb(36,36,36)\",\"ticks\":\"outside\"},\"colorscale\":[[0.0,\"#440154\"],[0.1111111111111111,\"#482878\"],[0.2222222222222222,\"#3e4989\"],[0.3333333333333333,\"#31688e\"],[0.4444444444444444,\"#26828e\"],[0.5555555555555556,\"#1f9e89\"],[0.6666666666666666,\"#35b779\"],[0.7777777777777778,\"#6ece58\"],[0.8888888888888888,\"#b5de2b\"],[1.0,\"#fde725\"]]}],\"choropleth\":[{\"type\":\"choropleth\",\"colorbar\":{\"outlinewidth\":1,\"tickcolor\":\"rgb(36,36,36)\",\"ticks\":\"outside\"}}],\"histogram2d\":[{\"type\":\"histogram2d\",\"colorbar\":{\"outlinewidth\":1,\"tickcolor\":\"rgb(36,36,36)\",\"ticks\":\"outside\"},\"colorscale\":[[0.0,\"#440154\"],[0.1111111111111111,\"#482878\"],[0.2222222222222222,\"#3e4989\"],[0.3333333333333333,\"#31688e\"],[0.4444444444444444,\"#26828e\"],[0.5555555555555556,\"#1f9e89\"],[0.6666666666666666,\"#35b779\"],[0.7777777777777778,\"#6ece58\"],[0.8888888888888888,\"#b5de2b\"],[1.0,\"#fde725\"]]}],\"heatmap\":[{\"type\":\"heatmap\",\"colorbar\":{\"outlinewidth\":1,\"tickcolor\":\"rgb(36,36,36)\",\"ticks\":\"outside\"},\"colorscale\":[[0.0,\"#440154\"],[0.1111111111111111,\"#482878\"],[0.2222222222222222,\"#3e4989\"],[0.3333333333333333,\"#31688e\"],[0.4444444444444444,\"#26828e\"],[0.5555555555555556,\"#1f9e89\"],[0.6666666666666666,\"#35b779\"],[0.7777777777777778,\"#6ece58\"],[0.8888888888888888,\"#b5de2b\"],[1.0,\"#fde725\"]]}],\"heatmapgl\":[{\"type\":\"heatmapgl\",\"colorbar\":{\"outlinewidth\":1,\"tickcolor\":\"rgb(36,36,36)\",\"ticks\":\"outside\"},\"colorscale\":[[0.0,\"#440154\"],[0.1111111111111111,\"#482878\"],[0.2222222222222222,\"#3e4989\"],[0.3333333333333333,\"#31688e\"],[0.4444444444444444,\"#26828e\"],[0.5555555555555556,\"#1f9e89\"],[0.6666666666666666,\"#35b779\"],[0.7777777777777778,\"#6ece58\"],[0.8888888888888888,\"#b5de2b\"],[1.0,\"#fde725\"]]}],\"contourcarpet\":[{\"type\":\"contourcarpet\",\"colorbar\":{\"outlinewidth\":1,\"tickcolor\":\"rgb(36,36,36)\",\"ticks\":\"outside\"}}],\"contour\":[{\"type\":\"contour\",\"colorbar\":{\"outlinewidth\":1,\"tickcolor\":\"rgb(36,36,36)\",\"ticks\":\"outside\"},\"colorscale\":[[0.0,\"#440154\"],[0.1111111111111111,\"#482878\"],[0.2222222222222222,\"#3e4989\"],[0.3333333333333333,\"#31688e\"],[0.4444444444444444,\"#26828e\"],[0.5555555555555556,\"#1f9e89\"],[0.6666666666666666,\"#35b779\"],[0.7777777777777778,\"#6ece58\"],[0.8888888888888888,\"#b5de2b\"],[1.0,\"#fde725\"]]}],\"surface\":[{\"type\":\"surface\",\"colorbar\":{\"outlinewidth\":1,\"tickcolor\":\"rgb(36,36,36)\",\"ticks\":\"outside\"},\"colorscale\":[[0.0,\"#440154\"],[0.1111111111111111,\"#482878\"],[0.2222222222222222,\"#3e4989\"],[0.3333333333333333,\"#31688e\"],[0.4444444444444444,\"#26828e\"],[0.5555555555555556,\"#1f9e89\"],[0.6666666666666666,\"#35b779\"],[0.7777777777777778,\"#6ece58\"],[0.8888888888888888,\"#b5de2b\"],[1.0,\"#fde725\"]]}],\"mesh3d\":[{\"type\":\"mesh3d\",\"colorbar\":{\"outlinewidth\":1,\"tickcolor\":\"rgb(36,36,36)\",\"ticks\":\"outside\"}}],\"scatter\":[{\"fillpattern\":{\"fillmode\":\"overlay\",\"size\":10,\"solidity\":0.2},\"type\":\"scatter\"}],\"parcoords\":[{\"type\":\"parcoords\",\"line\":{\"colorbar\":{\"outlinewidth\":1,\"tickcolor\":\"rgb(36,36,36)\",\"ticks\":\"outside\"}}}],\"scatterpolargl\":[{\"type\":\"scatterpolargl\",\"marker\":{\"colorbar\":{\"outlinewidth\":1,\"tickcolor\":\"rgb(36,36,36)\",\"ticks\":\"outside\"}}}],\"bar\":[{\"error_x\":{\"color\":\"rgb(36,36,36)\"},\"error_y\":{\"color\":\"rgb(36,36,36)\"},\"marker\":{\"line\":{\"color\":\"white\",\"width\":0.5},\"pattern\":{\"fillmode\":\"overlay\",\"size\":10,\"solidity\":0.2}},\"type\":\"bar\"}],\"scattergeo\":[{\"type\":\"scattergeo\",\"marker\":{\"colorbar\":{\"outlinewidth\":1,\"tickcolor\":\"rgb(36,36,36)\",\"ticks\":\"outside\"}}}],\"scatterpolar\":[{\"type\":\"scatterpolar\",\"marker\":{\"colorbar\":{\"outlinewidth\":1,\"tickcolor\":\"rgb(36,36,36)\",\"ticks\":\"outside\"}}}],\"histogram\":[{\"marker\":{\"line\":{\"color\":\"white\",\"width\":0.6}},\"type\":\"histogram\"}],\"scattergl\":[{\"type\":\"scattergl\",\"marker\":{\"colorbar\":{\"outlinewidth\":1,\"tickcolor\":\"rgb(36,36,36)\",\"ticks\":\"outside\"}}}],\"scatter3d\":[{\"type\":\"scatter3d\",\"line\":{\"colorbar\":{\"outlinewidth\":1,\"tickcolor\":\"rgb(36,36,36)\",\"ticks\":\"outside\"}},\"marker\":{\"colorbar\":{\"outlinewidth\":1,\"tickcolor\":\"rgb(36,36,36)\",\"ticks\":\"outside\"}}}],\"scattermapbox\":[{\"type\":\"scattermapbox\",\"marker\":{\"colorbar\":{\"outlinewidth\":1,\"tickcolor\":\"rgb(36,36,36)\",\"ticks\":\"outside\"}}}],\"scatterternary\":[{\"type\":\"scatterternary\",\"marker\":{\"colorbar\":{\"outlinewidth\":1,\"tickcolor\":\"rgb(36,36,36)\",\"ticks\":\"outside\"}}}],\"scattercarpet\":[{\"type\":\"scattercarpet\",\"marker\":{\"colorbar\":{\"outlinewidth\":1,\"tickcolor\":\"rgb(36,36,36)\",\"ticks\":\"outside\"}}}],\"carpet\":[{\"aaxis\":{\"endlinecolor\":\"rgb(36,36,36)\",\"gridcolor\":\"white\",\"linecolor\":\"white\",\"minorgridcolor\":\"white\",\"startlinecolor\":\"rgb(36,36,36)\"},\"baxis\":{\"endlinecolor\":\"rgb(36,36,36)\",\"gridcolor\":\"white\",\"linecolor\":\"white\",\"minorgridcolor\":\"white\",\"startlinecolor\":\"rgb(36,36,36)\"},\"type\":\"carpet\"}],\"table\":[{\"cells\":{\"fill\":{\"color\":\"rgb(237,237,237)\"},\"line\":{\"color\":\"white\"}},\"header\":{\"fill\":{\"color\":\"rgb(217,217,217)\"},\"line\":{\"color\":\"white\"}},\"type\":\"table\"}],\"barpolar\":[{\"marker\":{\"line\":{\"color\":\"white\",\"width\":0.5},\"pattern\":{\"fillmode\":\"overlay\",\"size\":10,\"solidity\":0.2}},\"type\":\"barpolar\"}],\"pie\":[{\"automargin\":true,\"type\":\"pie\"}]},\"layout\":{\"autotypenumbers\":\"strict\",\"colorway\":[\"#1F77B4\",\"#FF7F0E\",\"#2CA02C\",\"#D62728\",\"#9467BD\",\"#8C564B\",\"#E377C2\",\"#7F7F7F\",\"#BCBD22\",\"#17BECF\"],\"font\":{\"color\":\"rgb(36,36,36)\"},\"hovermode\":\"closest\",\"hoverlabel\":{\"align\":\"left\"},\"paper_bgcolor\":\"white\",\"plot_bgcolor\":\"white\",\"polar\":{\"bgcolor\":\"white\",\"angularaxis\":{\"gridcolor\":\"rgb(232,232,232)\",\"linecolor\":\"rgb(36,36,36)\",\"showgrid\":false,\"showline\":true,\"ticks\":\"outside\"},\"radialaxis\":{\"gridcolor\":\"rgb(232,232,232)\",\"linecolor\":\"rgb(36,36,36)\",\"showgrid\":false,\"showline\":true,\"ticks\":\"outside\"}},\"ternary\":{\"bgcolor\":\"white\",\"aaxis\":{\"gridcolor\":\"rgb(232,232,232)\",\"linecolor\":\"rgb(36,36,36)\",\"showgrid\":false,\"showline\":true,\"ticks\":\"outside\"},\"baxis\":{\"gridcolor\":\"rgb(232,232,232)\",\"linecolor\":\"rgb(36,36,36)\",\"showgrid\":false,\"showline\":true,\"ticks\":\"outside\"},\"caxis\":{\"gridcolor\":\"rgb(232,232,232)\",\"linecolor\":\"rgb(36,36,36)\",\"showgrid\":false,\"showline\":true,\"ticks\":\"outside\"}},\"coloraxis\":{\"colorbar\":{\"outlinewidth\":1,\"tickcolor\":\"rgb(36,36,36)\",\"ticks\":\"outside\"}},\"colorscale\":{\"sequential\":[[0.0,\"#440154\"],[0.1111111111111111,\"#482878\"],[0.2222222222222222,\"#3e4989\"],[0.3333333333333333,\"#31688e\"],[0.4444444444444444,\"#26828e\"],[0.5555555555555556,\"#1f9e89\"],[0.6666666666666666,\"#35b779\"],[0.7777777777777778,\"#6ece58\"],[0.8888888888888888,\"#b5de2b\"],[1.0,\"#fde725\"]],\"sequentialminus\":[[0.0,\"#440154\"],[0.1111111111111111,\"#482878\"],[0.2222222222222222,\"#3e4989\"],[0.3333333333333333,\"#31688e\"],[0.4444444444444444,\"#26828e\"],[0.5555555555555556,\"#1f9e89\"],[0.6666666666666666,\"#35b779\"],[0.7777777777777778,\"#6ece58\"],[0.8888888888888888,\"#b5de2b\"],[1.0,\"#fde725\"]],\"diverging\":[[0.0,\"rgb(103,0,31)\"],[0.1,\"rgb(178,24,43)\"],[0.2,\"rgb(214,96,77)\"],[0.3,\"rgb(244,165,130)\"],[0.4,\"rgb(253,219,199)\"],[0.5,\"rgb(247,247,247)\"],[0.6,\"rgb(209,229,240)\"],[0.7,\"rgb(146,197,222)\"],[0.8,\"rgb(67,147,195)\"],[0.9,\"rgb(33,102,172)\"],[1.0,\"rgb(5,48,97)\"]]},\"xaxis\":{\"gridcolor\":\"rgb(232,232,232)\",\"linecolor\":\"rgb(36,36,36)\",\"showgrid\":false,\"showline\":true,\"ticks\":\"outside\",\"title\":{\"standoff\":15},\"zerolinecolor\":\"rgb(36,36,36)\",\"automargin\":true,\"zeroline\":false},\"yaxis\":{\"gridcolor\":\"rgb(232,232,232)\",\"linecolor\":\"rgb(36,36,36)\",\"showgrid\":false,\"showline\":true,\"ticks\":\"outside\",\"title\":{\"standoff\":15},\"zerolinecolor\":\"rgb(36,36,36)\",\"automargin\":true,\"zeroline\":false},\"scene\":{\"xaxis\":{\"backgroundcolor\":\"white\",\"gridcolor\":\"rgb(232,232,232)\",\"linecolor\":\"rgb(36,36,36)\",\"showbackground\":true,\"showgrid\":false,\"showline\":true,\"ticks\":\"outside\",\"zerolinecolor\":\"rgb(36,36,36)\",\"gridwidth\":2,\"zeroline\":false},\"yaxis\":{\"backgroundcolor\":\"white\",\"gridcolor\":\"rgb(232,232,232)\",\"linecolor\":\"rgb(36,36,36)\",\"showbackground\":true,\"showgrid\":false,\"showline\":true,\"ticks\":\"outside\",\"zerolinecolor\":\"rgb(36,36,36)\",\"gridwidth\":2,\"zeroline\":false},\"zaxis\":{\"backgroundcolor\":\"white\",\"gridcolor\":\"rgb(232,232,232)\",\"linecolor\":\"rgb(36,36,36)\",\"showbackground\":true,\"showgrid\":false,\"showline\":true,\"ticks\":\"outside\",\"zerolinecolor\":\"rgb(36,36,36)\",\"gridwidth\":2,\"zeroline\":false}},\"shapedefaults\":{\"fillcolor\":\"black\",\"line\":{\"width\":0},\"opacity\":0.3},\"annotationdefaults\":{\"arrowhead\":0,\"arrowwidth\":1},\"geo\":{\"bgcolor\":\"white\",\"landcolor\":\"white\",\"subunitcolor\":\"white\",\"showland\":true,\"showlakes\":true,\"lakecolor\":\"white\"},\"title\":{\"x\":0.05},\"mapbox\":{\"style\":\"light\"}}},\"xaxis\":{\"anchor\":\"y\",\"domain\":[0.0,0.49],\"title\":{\"text\":\"DSC (\\u2191)\"},\"range\":[0.1,1.1],\"tickvals\":[0.2,0.30000000000000004,0.4000000000000001,0.5000000000000001,0.6000000000000001,0.7000000000000002,0.8000000000000003,0.9000000000000001,1.0000000000000002]},\"yaxis\":{\"anchor\":\"x\",\"domain\":[0.0,1.0],\"title\":{\"text\":\"Weight of Shape Distance Loss (Gamma)\"}},\"xaxis2\":{\"anchor\":\"y2\",\"domain\":[0.51,1.0],\"title\":{\"text\":\"HD-95 [mm] (\\u2193)\"},\"range\":[0.0,15.0],\"tickvals\":[0.0,2.5,5.0,7.5,10.0,12.5]},\"yaxis2\":{\"anchor\":\"x2\",\"domain\":[0.0,1.0],\"matches\":\"y\",\"showticklabels\":false},\"shapes\":[{\"line\":{\"color\":\"rgb(40, 61, 59)\",\"dash\":\"dot\",\"width\":3},\"type\":\"line\",\"x0\":0.7427715325553672,\"x1\":0.7427715325553672,\"xref\":\"x\",\"y0\":0,\"y1\":1,\"yref\":\"y domain\"},{\"line\":{\"color\":\"rgb(40, 61, 59)\",\"dash\":\"dot\",\"width\":3},\"type\":\"line\",\"x0\":6.412826337914112,\"x1\":6.412826337914112,\"xref\":\"x2\",\"y0\":0,\"y1\":1,\"yref\":\"y2 domain\"}],\"annotations\":[{\"font\":{\"color\":\"rgb(40, 61, 59)\"},\"showarrow\":false,\"text\":\"    0.743\",\"x\":0.7427715325553672,\"xanchor\":\"left\",\"xref\":\"x\",\"y\":1,\"yanchor\":\"top\",\"yref\":\"y domain\"},{\"font\":{\"color\":\"rgb(40, 61, 59)\"},\"showarrow\":false,\"text\":\"    6.413\",\"x\":6.412826337914112,\"xanchor\":\"left\",\"xref\":\"x2\",\"y\":1,\"yanchor\":\"top\",\"yref\":\"y2 domain\"}],\"height\":493.82716049382714,\"width\":800,\"showlegend\":false},                        {\"responsive\": true}                    ).then(function(){\n",
       "                            \n",
       "var gd = document.getElementById('2bac71aa-e948-43f3-b914-4ab90a6d6d2c');\n",
       "var x = new MutationObserver(function (mutations, observer) {{\n",
       "        var display = window.getComputedStyle(gd).display;\n",
       "        if (!display || display === 'none') {{\n",
       "            console.log([gd, 'removed!']);\n",
       "            Plotly.purge(gd);\n",
       "            observer.disconnect();\n",
       "        }}\n",
       "}});\n",
       "\n",
       "// Listen for the removal of the full notebook cells\n",
       "var notebookContainer = gd.closest('#notebook-container');\n",
       "if (notebookContainer) {{\n",
       "    x.observe(notebookContainer, {childList: true});\n",
       "}}\n",
       "\n",
       "// Listen for the clearing of the current output cell\n",
       "var outputEl = gd.closest('.output');\n",
       "if (outputEl) {{\n",
       "    x.observe(outputEl, {childList: true});\n",
       "}}\n",
       "\n",
       "                        })                };                });            </script>        </div>"
      ]
     },
     "metadata": {},
     "output_type": "display_data"
    }
   ],
   "source": [
    "metrics = ['dice', 'hd95']\n",
    "gammas = sorted(df.gamma.unique())\n",
    "\n",
    "colors = n_colors('rgb(25, 114, 120)', 'rgb(40, 61, 59)', len(gammas), colortype='rgb')\n",
    "\n",
    "fig = make_subplots(\n",
    "    rows=1, cols=len(metrics), \n",
    "    shared_yaxes=True, shared_xaxes=False, \n",
    "    horizontal_spacing=0.02, vertical_spacing=0.0\n",
    ")\n",
    "\n",
    "for m, metric in enumerate(metrics):\n",
    "\n",
    "    data = np.array(list(map(\n",
    "        lambda g: np.array(df[(df.gamma == g) & (df.split == 'test')][metric]), gammas\n",
    "    )))\n",
    "\n",
    "    for g, (data_line, color) in enumerate(zip(data, colors)):\n",
    "        fig.add_trace(go.Violin(name=gammas[g], x=data_line, line_color=color), row=1, col=m + 1)\n",
    "\n",
    "    fig.add_vline(\n",
    "        x=data.mean(),\n",
    "        annotation_text=f\"    {data.mean():.3f}\", annotation_position=\"top right\", \n",
    "        annotation_font_color='rgb(40, 61, 59)',\n",
    "        line_width=3, line_dash=\"dot\", line_color='rgb(40, 61, 59)', row=1, col=m + 1)\n",
    "\n",
    "fig.update_xaxes(\n",
    "    title_text=r'DSC (↑)',\n",
    "    range=[0.1, 1.1], tickvals=np.arange(0.2, 1.1, 0.1,), row=1, col=1)\n",
    "fig.update_xaxes(\n",
    "    title_text=r'HD-95 [mm] (↓)',\n",
    "    range=[0., 15.], tickvals=np.arange(0., 15., 2.5,), row=1, col=2)\n",
    "\n",
    "fig.update_yaxes(\n",
    "    title_text='Weight of Shape Distance Loss (Gamma)', row=1, col=1)\n",
    "\n",
    "fig.update_layout(height=800 / 1.62, width=800, showlegend=False)\n",
    "fig.update_traces(\n",
    "    meanline_visible=False, \n",
    "    box_visible=True, orientation='h', side='positive', width=3, points=False)\n",
    "fig.show()"
   ]
  },
  {
   "cell_type": "code",
   "execution_count": 54,
   "metadata": {},
   "outputs": [],
   "source": [
    "fig.write_image(\"../../figures/sdl-perf-violin.pdf\")"
   ]
  },
  {
   "cell_type": "code",
   "execution_count": 27,
   "metadata": {},
   "outputs": [
    {
     "name": "stderr",
     "output_type": "stream",
     "text": [
      "/opt/conda/envs/tagseg/lib/python3.8/site-packages/matplotlib/backends/backend_pdf.py:1721: DeprecationWarning:\n",
      "\n",
      "NONE is deprecated and will be removed in Pillow 10 (2023-07-01). Use Resampling.NEAREST or Dither.NONE instead.\n",
      "\n",
      "/opt/conda/envs/tagseg/lib/python3.8/site-packages/matplotlib/backends/backend_pdf.py:1722: DeprecationWarning:\n",
      "\n",
      "ADAPTIVE is deprecated and will be removed in Pillow 10 (2023-07-01). Use Palette.ADAPTIVE instead.\n",
      "\n"
     ]
    },
    {
     "data": {
      "image/png": "[encoded data removed]",
      "text/plain": [
       "<Figure size 864x648 with 9 Axes>"
      ]
     },
     "metadata": {},
     "output_type": "display_data"
    }
   ],
   "source": [
    "gammas = [0.0, 0.05, 1.0]\n",
    "\n",
    "fig, ax = plt.subplots(3, len(gammas), figsize=(12, 9))\n",
    "\n",
    "padding = 50\n",
    "\n",
    "for m, gamma in enumerate(gammas):\n",
    "\n",
    "    subs = df[(df.gamma == gamma)].copy()\n",
    "\n",
    "    for i, (title, quantile) in enumerate(zip(['Q1', 'Median', 'Q3'], subs.dice.quantile([.25, .5, .75]))):\n",
    "\n",
    "        subs['diff'] = (subs.dice - quantile).abs()\n",
    "\n",
    "        subject = subs.sort_values('diff', ascending=True).iloc[0]\n",
    "\n",
    "        post_process = transforms.Resize(subject.raw_shape)\n",
    "\n",
    "        image = post_process(subject.image.data)[0, 0].numpy()\n",
    "        mask = subject['raw_mask'].data[0, 0].numpy()\n",
    "        pred = subject.pred.data[0, 0].numpy()\n",
    "\n",
    "        center = [list(map(lambda a: a.mean(), np.where(mask == 1))), list(map(lambda a: a.mean(), np.where(pred == 1)))]\n",
    "\n",
    "        ax[i, m].imshow(image, cmap='gray')\n",
    "\n",
    "        # Label only once\n",
    "        for j, contour in enumerate(skm.measure.find_contours(mask, level=.5)):\n",
    "            ax[i, m].plot(*contour[:, ::-1].T, c='b', label='Manual annotation' if j == 0 else None)\n",
    "        for j, contour in enumerate(skm.measure.find_contours(pred, level=.5)):\n",
    "            ax[i, m].plot(*contour[:, ::-1].T, c='r', label='Model prediction' if j == 0 else None)\n",
    "\n",
    "        ax[i, m].get_xaxis().set_ticks([])\n",
    "        ax[i, m].get_yaxis().set_ticks([])\n",
    "\n",
    "        center_y, center_x = np.array(center).mean(axis=0)\n",
    "        ax[i, m].set_xlim(center_x - padding, center_x + padding)\n",
    "        ax[i, m].set_ylim(center_y + padding, center_y - padding)\n",
    "        \n",
    "        ax[i, 0].set_ylabel(title)\n",
    "\n",
    "    ax[0, m].set_title(gamma)\n",
    "\n",
    "ax[0, 0].legend(loc='upper left')\n",
    "\n",
    "plt.tight_layout()\n",
    "plt.savefig('../../figures/qualitative-ShapeLoss.pdf', bbox_inches='tight')\n",
    "plt.show()"
   ]
  },
  {
   "cell_type": "code",
   "execution_count": null,
   "metadata": {},
   "outputs": [],
   "source": []
  }
 ],
 "metadata": {
  "kernelspec": {
   "display_name": "Python 3.8.13 ('tagseg')",
   "language": "python",
   "name": "python3"
  },
  "language_info": {
   "codemirror_mode": {
    "name": "ipython",
    "version": 3
   },
   "file_extension": ".py",
   "mimetype": "text/x-python",
   "name": "python",
   "nbconvert_exporter": "python",
   "pygments_lexer": "ipython3",
   "version": "3.8.13"
  },
  "orig_nbformat": 4,
  "vscode": {
   "interpreter": {
    "hash": "f96aa06bcc802279cb41a4fef15367898ee8a6505f496b2b6e706331145b8c4d"
   }
  }
 },
 "nbformat": 4,
 "nbformat_minor": 2
}
