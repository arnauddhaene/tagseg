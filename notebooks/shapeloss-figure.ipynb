{
 "cells": [
  {
   "cell_type": "code",
   "execution_count": null,
   "metadata": {},
   "outputs": [],
   "source": [
    "from typing import Tuple\n",
    "import itertools\n",
    "from pathlib import Path\n",
    "from tqdm.notebook import tqdm\n",
    "\n",
    "import numpy as np\n",
    "import pandas as pd\n",
    "import matplotlib.pyplot as plt\n",
    "\n",
    "from monai.networks import nets, one_hot\n",
    "from monai.metrics import compute_hausdorff_distance\n",
    "\n",
    "import plotly.express as px\n",
    "from plotly.colors import n_colors\n",
    "import plotly.graph_objects as go\n",
    "from plotly.subplots import make_subplots\n",
    "import plotly.io as pio\n",
    "\n",
    "pio.templates.default = \"simple_white\"\n",
    "\n",
    "import skimage as skm\n",
    "from scipy import interpolate\n",
    "\n",
    "import torch\n",
    "from torch import nn, optim\n",
    "import torch.nn.functional as F\n",
    "from torch.utils.data import Dataset, random_split, DataLoader\n",
    "from torchvision import transforms\n",
    "\n",
    "import torchio as tio\n",
    "\n",
    "from kedro.extras.datasets.pandas import CSVDataSet\n",
    "from kedro.extras.datasets.pickle import PickleDataSet"
   ]
  },
  {
   "cell_type": "code",
   "execution_count": null,
   "metadata": {},
   "outputs": [],
   "source": [
    "import os, sys\n",
    "sys.path.append(os.path.abspath('../src'))\n",
    "\n",
    "from tagseg.data import ScdEvaluator, MnmEvaluator\n",
    "from tagseg.data.dmd_dataset import DmdH5DataSet, DmdH5Evaluator\n",
    "from tagseg.models.trainer import Trainer\n",
    "from tagseg.models.segmenter import Net\n",
    "from tagseg.metrics.dice import DiceMetric\n",
    "from tagseg.pipelines.model_evaluation.nodes import tag_subjects\n",
    "from tagseg.data.dmd_dataset import DmdDataSet"
   ]
  },
  {
   "cell_type": "code",
   "execution_count": null,
   "metadata": {},
   "outputs": [],
   "source": [
    "top_h_legend = dict(orientation='h', yanchor=\"bottom\", y=1.1)"
   ]
  },
  {
   "cell_type": "code",
   "execution_count": null,
   "metadata": {},
   "outputs": [],
   "source": [
    "index = pd.read_csv('../data/07_model_output/index_gamma.csv')\n",
    "index"
   ]
  },
  {
   "cell_type": "code",
   "execution_count": null,
   "metadata": {},
   "outputs": [],
   "source": [
    "dfs = [] \n",
    "\n",
    "for _, row in index.iterrows():\n",
    "\n",
    "    for split in ['train', 'test']:\n",
    "\n",
    "        ext = '_train' if split == 'train' else ''\n",
    "\n",
    "        df = PickleDataSet(filepath=f'../data/07_model_output/{row.model}/dmd_results{ext}.pt').load()\n",
    "        df = pd.DataFrame(list(df))\n",
    "\n",
    "        df['gamma'] = row.gamma\n",
    "        df['split'] = split\n",
    "\n",
    "        dfs.append(df)"
   ]
  },
  {
   "cell_type": "code",
   "execution_count": null,
   "metadata": {},
   "outputs": [],
   "source": [
    "df = pd.concat(dfs)\n",
    "len(df)"
   ]
  },
  {
   "cell_type": "code",
   "execution_count": null,
   "metadata": {},
   "outputs": [],
   "source": [
    "results = df.pivot_table(index=['gamma'], values=['dice', 'hd95'], columns=['split'], aggfunc=['mean', 'median', 'std']) \\\n",
    "    .sort_index(level=[1, 2], ascending=[True, False], axis=1).reorder_levels([1, 2, 0], axis=1) \\\n",
    "\n",
    "results"
   ]
  },
  {
   "cell_type": "code",
   "execution_count": null,
   "metadata": {},
   "outputs": [],
   "source": [
    "dices = np.array(results[('dice', 'test', 'mean')].sort_values(ascending=False))\n",
    "hds = np.array(results[('hd95', 'test', 'mean')].sort_values(ascending=True))"
   ]
  },
  {
   "cell_type": "code",
   "execution_count": null,
   "metadata": {},
   "outputs": [],
   "source": [
    "results['dice_rank'] = results[('dice', 'test', 'mean')].apply(lambda d: np.where(np.isclose(dices, d))[0][0]) + 1\n",
    "results['hd_rank'] = results[('hd95', 'test', 'mean')].apply(lambda hd: np.where(np.isclose(hds, hd))[0][0]) + 1 \n",
    "\n",
    "results['rank'] = results['dice_rank'] + results['hd_rank']"
   ]
  },
  {
   "cell_type": "code",
   "execution_count": null,
   "metadata": {},
   "outputs": [],
   "source": [
    "results"
   ]
  },
  {
   "cell_type": "code",
   "execution_count": null,
   "metadata": {},
   "outputs": [],
   "source": [
    "print(results.to_latex(\n",
    "    float_format=\"%.3f\", bold_rows=True, column_format='llrrrrrrrr', multicolumn_format='c', multirow=True,\n",
    "    caption='Something retarded'\n",
    "))"
   ]
  },
  {
   "cell_type": "code",
   "execution_count": null,
   "metadata": {},
   "outputs": [],
   "source": [
    "res = results.reset_index().melt(id_vars=[('gamma',      '',     '')])\n",
    "res.columns = ['gamma', 'metric', 'split', 'statistic', 'value']\n",
    "res = res.pivot(index=['gamma', 'metric', 'split'], columns=['statistic']).reset_index()"
   ]
  },
  {
   "cell_type": "code",
   "execution_count": null,
   "metadata": {},
   "outputs": [],
   "source": [
    "res.columns = ['gamma', 'metric', 'split', 'bad', 'mean', 'median', 'std']\n",
    "res = res.sort_values(by=['gamma', 'split'], ascending=[True, False])"
   ]
  },
  {
   "cell_type": "code",
   "execution_count": null,
   "metadata": {},
   "outputs": [],
   "source": [
    "fig = px.scatter(res, x='gamma', y='mean', facet_col='metric', color='split', error_y='std')\n",
    "\n",
    "top_h_legend = dict(orientation='h', yanchor=\"bottom\", y=1.1)\n",
    "fig.update_layout(legend=top_h_legend)\n",
    "\n",
    "fig.update_yaxes(matches=None)\n",
    "fig.update_xaxes(type='log')\n",
    "\n",
    "fig.show()"
   ]
  },
  {
   "cell_type": "code",
   "execution_count": null,
   "metadata": {},
   "outputs": [],
   "source": [
    "df[(df.split == 'test')][['gamma', 'dice']]"
   ]
  },
  {
   "cell_type": "code",
   "execution_count": null,
   "metadata": {},
   "outputs": [],
   "source": [
    "df = df[(df.split == 'test')]"
   ]
  },
  {
   "cell_type": "code",
   "execution_count": null,
   "metadata": {},
   "outputs": [],
   "source": [
    "df[df.gamma.isin([0.05, 0.1])][['hd95', 'timeframe', 'disease', 'patient_id', 'slice', 'gamma']].groupby('gamma').median()"
   ]
  },
  {
   "cell_type": "code",
   "execution_count": null,
   "metadata": {},
   "outputs": [],
   "source": [
    "df[df.gamma == 0.05].sort_values('hd95').hd95"
   ]
  },
  {
   "cell_type": "code",
   "execution_count": null,
   "metadata": {},
   "outputs": [],
   "source": [
    "df[df.gamma == 0.1].sort_values('hd95').hd95"
   ]
  },
  {
   "cell_type": "code",
   "execution_count": null,
   "metadata": {},
   "outputs": [],
   "source": [
    "subject_1.hd95, subject_2.hd95"
   ]
  },
  {
   "cell_type": "code",
   "execution_count": null,
   "metadata": {},
   "outputs": [],
   "source": [
    "from skimage import measure\n",
    "\n",
    "subject_1 = df[df.gamma == 0.05].iloc[184]\n",
    "subject_2 = df[df.gamma == 0.1].iloc[101]\n",
    "\n",
    "plt.figure(figsize=(10, 5))\n",
    "\n",
    "plt.subplot(1, 2, 1)\n",
    "raw_shape = subject_1.raw_mask.data[0, 0].shape\n",
    "postprocess = transforms.Resize(raw_shape, interpolation=transforms.InterpolationMode.NEAREST)\n",
    "plt.imshow(postprocess(subject_1.image.data)[0, 0], cmap='gray')\n",
    "mask = subject_1.raw_mask.data[0, 0].numpy()\n",
    "pred = subject_1.pred.data[0, 0].numpy()\n",
    "for i, (contour_m, contour_p) in enumerate(zip(measure.find_contours(mask), measure.find_contours(pred))):\n",
    "    plt.plot(*contour_m[:, ::-1].T, c='b')\n",
    "    plt.plot(*contour_p[:, ::-1].T, c='r')\n",
    "plt.xlim(70, 140)\n",
    "plt.ylim(150, 75)\n",
    "\n",
    "plt.subplot(1, 2, 2)\n",
    "raw_shape = subject_2.raw_mask.data[0, 0].shape\n",
    "postprocess = transforms.Resize(raw_shape, interpolation=transforms.InterpolationMode.NEAREST)\n",
    "plt.imshow(postprocess(subject_2.image.data)[0, 0], cmap='gray')\n",
    "mask = subject_2.raw_mask.data[0, 0].numpy()\n",
    "pred = subject_2.pred.data[0, 0].numpy()\n",
    "for i, (contour_m, contour_p) in enumerate(zip(measure.find_contours(mask), measure.find_contours(pred))):\n",
    "    plt.plot(*contour_m[:, ::-1].T, c='b')\n",
    "    plt.plot(*contour_p[:, ::-1].T, c='r')\n",
    "plt.xlim(40, 100)\n",
    "plt.ylim(140, 70)"
   ]
  },
  {
   "cell_type": "code",
   "execution_count": null,
   "metadata": {},
   "outputs": [],
   "source": [
    "metrics = ['dice', 'hd95']\n",
    "gammas = sorted(df.gamma.unique())\n",
    "\n",
    "colors = n_colors('rgb(25, 114, 120)', 'rgb(40, 61, 59)', len(gammas), colortype='rgb')\n",
    "\n",
    "fig = make_subplots(\n",
    "    rows=1, cols=len(metrics), \n",
    "    shared_yaxes=True, shared_xaxes=False, \n",
    "    horizontal_spacing=0.02, vertical_spacing=0.0\n",
    ")\n",
    "\n",
    "for m, metric in enumerate(metrics):\n",
    "\n",
    "    data = np.array(list(map(\n",
    "        lambda g: np.array(df[(df.gamma == g) & (df.split == 'test')][metric]), gammas\n",
    "    )))\n",
    "\n",
    "    for g, (data_line, color) in enumerate(zip(data, colors)):\n",
    "        fig.add_trace(go.Violin(name=gammas[g], x=data_line, line_color=color), row=1, col=m + 1)\n",
    "\n",
    "    fig.add_vline(\n",
    "        x=data.mean(),\n",
    "        annotation_text=f\"    {data.mean():.3f}\", annotation_position=\"top right\", \n",
    "        annotation_font_color='rgb(40, 61, 59)',\n",
    "        line_width=3, line_dash=\"dot\", line_color='rgb(40, 61, 59)', row=1, col=m + 1)\n",
    "\n",
    "fig.update_xaxes(\n",
    "    title_text=r'DSC (↑)',\n",
    "    range=[0.1, 1.1], tickvals=np.arange(0.2, 1.1, 0.1,), row=1, col=1)\n",
    "fig.update_xaxes(\n",
    "    title_text=r'HD-95 [mm] (↓)',\n",
    "    range=[0., 15.], tickvals=np.arange(0., 15., 2.5,), row=1, col=2)\n",
    "\n",
    "fig.update_yaxes(\n",
    "    title_text='Weight of Shape Distance Loss (Gamma)', row=1, col=1)\n",
    "\n",
    "fig.update_layout(height=800 / 1.62, width=800, showlegend=False)\n",
    "fig.update_traces(\n",
    "    meanline_visible=False, \n",
    "    box_visible=True, orientation='h', side='positive', width=3, points=False)\n",
    "fig.show()"
   ]
  },
  {
   "cell_type": "code",
   "execution_count": null,
   "metadata": {},
   "outputs": [],
   "source": [
    "fig.write_image(\"../../figures/sdl-perf-violin.pdf\")"
   ]
  },
  {
   "cell_type": "code",
   "execution_count": null,
   "metadata": {},
   "outputs": [],
   "source": [
    "gammas = [0.0, 0.05, 1.0]\n",
    "\n",
    "fig, ax = plt.subplots(3, len(gammas), figsize=(12, 9))\n",
    "\n",
    "padding = 50\n",
    "\n",
    "for m, gamma in enumerate(gammas):\n",
    "\n",
    "    subs = df[(df.gamma == gamma)].copy()\n",
    "\n",
    "    for i, (title, quantile) in enumerate(zip(['Q1', 'Median', 'Q3'], subs.dice.quantile([.25, .5, .75]))):\n",
    "\n",
    "        subs['diff'] = (subs.dice - quantile).abs()\n",
    "\n",
    "        subject = subs.sort_values('diff', ascending=True).iloc[0]\n",
    "\n",
    "        post_process = transforms.Resize(subject.raw_shape)\n",
    "\n",
    "        image = post_process(subject.image.data)[0, 0].numpy()\n",
    "        mask = subject['raw_mask'].data[0, 0].numpy()\n",
    "        pred = subject.pred.data[0, 0].numpy()\n",
    "\n",
    "        center = [list(map(lambda a: a.mean(), np.where(mask == 1))), list(map(lambda a: a.mean(), np.where(pred == 1)))]\n",
    "\n",
    "        ax[i, m].imshow(image, cmap='gray')\n",
    "\n",
    "        # Label only once\n",
    "        for j, contour in enumerate(skm.measure.find_contours(mask, level=.5)):\n",
    "            ax[i, m].plot(*contour[:, ::-1].T, c='b', label='Manual annotation' if j == 0 else None)\n",
    "        for j, contour in enumerate(skm.measure.find_contours(pred, level=.5)):\n",
    "            ax[i, m].plot(*contour[:, ::-1].T, c='r', label='Model prediction' if j == 0 else None)\n",
    "\n",
    "        ax[i, m].get_xaxis().set_ticks([])\n",
    "        ax[i, m].get_yaxis().set_ticks([])\n",
    "\n",
    "        center_y, center_x = np.array(center).mean(axis=0)\n",
    "        ax[i, m].set_xlim(center_x - padding, center_x + padding)\n",
    "        ax[i, m].set_ylim(center_y + padding, center_y - padding)\n",
    "        \n",
    "        ax[i, 0].set_ylabel(title)\n",
    "\n",
    "    ax[0, m].set_title(gamma)\n",
    "\n",
    "ax[0, 0].legend(loc='upper left')\n",
    "\n",
    "plt.tight_layout()\n",
    "plt.savefig('../../figures/qualitative-ShapeLoss.pdf', bbox_inches='tight')\n",
    "plt.show()"
   ]
  },
  {
   "cell_type": "code",
   "execution_count": null,
   "metadata": {},
   "outputs": [],
   "source": []
  }
 ],
 "metadata": {
  "kernelspec": {
   "display_name": "Python 3.8.13 ('tagseg')",
   "language": "python",
   "name": "python3"
  },
  "language_info": {
   "codemirror_mode": {
    "name": "ipython",
    "version": 3
   },
   "file_extension": ".py",
   "mimetype": "text/x-python",
   "name": "python",
   "nbconvert_exporter": "python",
   "pygments_lexer": "ipython3",
   "version": "3.8.13"
  },
  "vscode": {
   "interpreter": {
    "hash": "f96aa06bcc802279cb41a4fef15367898ee8a6505f496b2b6e706331145b8c4d"
   }
  }
 },
 "nbformat": 4,
 "nbformat_minor": 2
}
